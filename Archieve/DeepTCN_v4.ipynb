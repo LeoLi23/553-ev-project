{
  "cells": [
    {
      "cell_type": "code",
      "execution_count": 8,
      "metadata": {
        "id": "aBtOWWkJf9Nl"
      },
      "outputs": [],
      "source": [
        "import torch\n",
        "import torch.nn as nn\n",
        "import torch.nn.functional as F\n",
        "import pandas as pd\n",
        "from data_process import get_data_loaders\n",
        "import torch.optim as optim\n",
        "from tqdm import tqdm\n",
        "from utils import plot_output"
      ]
    },
    {
      "cell_type": "code",
      "execution_count": 7,
      "metadata": {
        "id": "it72UMI4T9aR"
      },
      "outputs": [],
      "source": [
        "class ResidualBlock(nn.Module):\n",
        "    def __init__(self, in_channels, out_channels, kernel_size, dilation):\n",
        "        super(ResidualBlock, self).__init__()\n",
        "        self.dilated_conv1 = nn.Conv1d(in_channels, out_channels, kernel_size, padding=dilation, dilation=dilation)\n",
        "        self.batch_norm1 = nn.BatchNorm1d(out_channels)\n",
        "        self.relu = nn.ReLU()\n",
        "        self.dilated_conv2 = nn.Conv1d(out_channels, out_channels, kernel_size, padding=dilation, dilation=dilation)\n",
        "        self.batch_norm2 = nn.BatchNorm1d(out_channels)\n",
        "\n",
        "        self.downsample = nn.Conv1d(in_channels, out_channels, 1) if in_channels != out_channels else None\n",
        "\n",
        "    def forward(self, x):\n",
        "        residual = x\n",
        "        out = self.dilated_conv1(x)\n",
        "        out = self.batch_norm1(out)\n",
        "        out = self.relu(out)\n",
        "        out = self.dilated_conv2(out)\n",
        "        out = self.batch_norm2(out)\n",
        "\n",
        "        if self.downsample is not None:\n",
        "            residual = self.downsample(x)\n",
        "\n",
        "        return self.relu(out + residual)\n",
        "\n",
        "class Decoder(nn.Module):\n",
        "    def __init__(self, in_channels, out_channels):\n",
        "        super(Decoder, self).__init__()\n",
        "        self.dense1 = nn.Linear(in_channels, out_channels)\n",
        "        self.batch_norm1 = nn.BatchNorm1d(out_channels)\n",
        "        self.dense2 = nn.Linear(out_channels, out_channels)\n",
        "        self.batch_norm2 = nn.BatchNorm1d(out_channels)\n",
        "        self.relu = nn.ReLU()\n",
        "\n",
        "    def forward(self, x):\n",
        "        out = self.dense1(x)\n",
        "        out = self.batch_norm1(out)\n",
        "        out = self.relu(out)\n",
        "        out = self.dense2(out)\n",
        "        out = self.batch_norm2(out)\n",
        "        return out\n",
        "\n",
        "class DeepTCN(nn.Module):\n",
        "    def __init__(self, num_series, num_outputs, num_blocks, kernel_size, hidden_channels, num_covariates):\n",
        "        super(DeepTCN, self).__init__()\n",
        "        self.num_covariates = num_covariates\n",
        "        layers = []\n",
        "        for i in range(num_blocks):\n",
        "            dilation_size = 2 ** i\n",
        "            in_channels = num_series if i == 0 else hidden_channels\n",
        "            layers += [ResidualBlock(in_channels, hidden_channels, kernel_size, dilation_size)]\n",
        "\n",
        "        self.encoder = nn.Sequential(*layers)\n",
        "        self.decoder = Decoder(hidden_channels + num_covariates, hidden_channels)\n",
        "        self.output_layer = nn.Linear(hidden_channels, 1)\n",
        "\n",
        "    def forward(self, x, covariates):\n",
        "        # Encoder\n",
        "        x = x.permute(0, 2, 1)  # Assuming input of shape [batch, seq_len, features]\n",
        "        x = self.encoder(x)\n",
        "\n",
        "        # Decoder\n",
        "        x = x.mean(dim=2)  # Global average pooling\n",
        "        #x = x.unsqueeze(1)\n",
        "\n",
        "        outputs = []\n",
        "\n",
        "        for seq_len_idx in range(covariates.shape[1]):\n",
        "            current_covariate = covariates[:, seq_len_idx, :]\n",
        "            combined = torch.cat((x, current_covariate), dim=1)\n",
        "            decoded = self.decoder(combined)\n",
        "            outputs.append(decoded)\n",
        "\n",
        "        outputs = torch.stack(outputs, dim=1)\n",
        "        outputs = self.output_layer(outputs)\n",
        "        outputs = outputs.squeeze(-1)\n",
        "        return outputs"
      ]
    },
    {
      "cell_type": "code",
      "execution_count": 247,
      "metadata": {
        "id": "DzV0O8uFUOk4"
      },
      "outputs": [],
      "source": [
        "# Load the data\n",
        "flights = pd.read_csv(\"flights.csv\")\n",
        "#selected_features = ['payload', 'wind_speed', 'wind_angle', 'linear_acceleration_x', 'linear_acceleration_y', 'linear_acceleration_z', 'power']\n",
        "data, train_loader, val_loader, test_loader, d_split = get_data_loaders(data=flights, input_seq_len=20, output_seq_len=10, covariates=True)"
      ]
    },
    {
      "cell_type": "code",
      "execution_count": 249,
      "metadata": {
        "colab": {
          "base_uri": "https://localhost:8080/"
        },
        "id": "mqsbEjNUUOnC",
        "outputId": "026eba59-deeb-401d-ca62-5f5140b91bd9"
      },
      "outputs": [
        {
          "name": "stderr",
          "output_type": "stream",
          "text": [
            "Epoch 1/20 Training: 100%|██████████| 2078/2078 [00:37<00:00, 54.94it/s, Train Loss=0.00308]\n"
          ]
        },
        {
          "name": "stdout",
          "output_type": "stream",
          "text": [
            "Epoch 1/20, Loss: 0.00917403666130908\n"
          ]
        },
        {
          "name": "stderr",
          "output_type": "stream",
          "text": [
            "Epoch 1/20 Validation: 100%|██████████| 961/961 [00:08<00:00, 115.73it/s, Val MAPE=34.2]\n"
          ]
        },
        {
          "name": "stdout",
          "output_type": "stream",
          "text": [
            "Validation MAPE: 48.92554575694835\n"
          ]
        },
        {
          "name": "stderr",
          "output_type": "stream",
          "text": [
            "Epoch 2/20 Training: 100%|██████████| 2078/2078 [00:35<00:00, 57.83it/s, Train Loss=0.00396]\n"
          ]
        },
        {
          "name": "stdout",
          "output_type": "stream",
          "text": [
            "Epoch 2/20, Loss: 0.00469586471016353\n"
          ]
        },
        {
          "name": "stderr",
          "output_type": "stream",
          "text": [
            "Epoch 2/20 Validation: 100%|██████████| 961/961 [00:08<00:00, 110.24it/s, Val MAPE=107]\n"
          ]
        },
        {
          "name": "stdout",
          "output_type": "stream",
          "text": [
            "Validation MAPE: 107.02691286783684\n"
          ]
        },
        {
          "name": "stderr",
          "output_type": "stream",
          "text": [
            "Epoch 3/20 Training: 100%|██████████| 2078/2078 [00:35<00:00, 57.97it/s, Train Loss=0.00371]\n"
          ]
        },
        {
          "name": "stdout",
          "output_type": "stream",
          "text": [
            "Epoch 3/20, Loss: 0.004355376633993395\n"
          ]
        },
        {
          "name": "stderr",
          "output_type": "stream",
          "text": [
            "Epoch 3/20 Validation: 100%|██████████| 961/961 [00:08<00:00, 109.60it/s, Val MAPE=156]\n"
          ]
        },
        {
          "name": "stdout",
          "output_type": "stream",
          "text": [
            "Validation MAPE: 175.04931214299833\n"
          ]
        },
        {
          "name": "stderr",
          "output_type": "stream",
          "text": [
            "Epoch 4/20 Training: 100%|██████████| 2078/2078 [00:35<00:00, 59.01it/s, Train Loss=0.00587]\n"
          ]
        },
        {
          "name": "stdout",
          "output_type": "stream",
          "text": [
            "Epoch 4/20, Loss: 0.00411621338170859\n"
          ]
        },
        {
          "name": "stderr",
          "output_type": "stream",
          "text": [
            "Epoch 4/20 Validation: 100%|██████████| 961/961 [00:08<00:00, 111.96it/s, Val MAPE=45.3]\n"
          ]
        },
        {
          "name": "stdout",
          "output_type": "stream",
          "text": [
            "Validation MAPE: 33.0280954884937\n"
          ]
        },
        {
          "name": "stderr",
          "output_type": "stream",
          "text": [
            "Epoch 5/20 Training: 100%|██████████| 2078/2078 [00:36<00:00, 56.54it/s, Train Loss=0.00439]\n"
          ]
        },
        {
          "name": "stdout",
          "output_type": "stream",
          "text": [
            "Epoch 5/20, Loss: 0.003953670220271639\n"
          ]
        },
        {
          "name": "stderr",
          "output_type": "stream",
          "text": [
            "Epoch 5/20 Validation: 100%|██████████| 961/961 [00:08<00:00, 115.83it/s, Val MAPE=51.9]\n"
          ]
        },
        {
          "name": "stdout",
          "output_type": "stream",
          "text": [
            "Validation MAPE: 42.86114809391526\n"
          ]
        },
        {
          "name": "stderr",
          "output_type": "stream",
          "text": [
            "Epoch 6/20 Training: 100%|██████████| 2078/2078 [00:36<00:00, 57.26it/s, Train Loss=0.00367]\n"
          ]
        },
        {
          "name": "stdout",
          "output_type": "stream",
          "text": [
            "Epoch 6/20, Loss: 0.003849735230136182\n"
          ]
        },
        {
          "name": "stderr",
          "output_type": "stream",
          "text": [
            "Epoch 6/20 Validation: 100%|██████████| 961/961 [00:07<00:00, 120.62it/s, Val MAPE=79.2]\n"
          ]
        },
        {
          "name": "stdout",
          "output_type": "stream",
          "text": [
            "Validation MAPE: 83.89584470663557\n"
          ]
        },
        {
          "name": "stderr",
          "output_type": "stream",
          "text": [
            "Epoch 7/20 Training: 100%|██████████| 2078/2078 [00:35<00:00, 57.74it/s, Train Loss=0.0051]\n"
          ]
        },
        {
          "name": "stdout",
          "output_type": "stream",
          "text": [
            "Epoch 7/20, Loss: 0.003793459855720555\n"
          ]
        },
        {
          "name": "stderr",
          "output_type": "stream",
          "text": [
            "Epoch 7/20 Validation: 100%|██████████| 961/961 [00:09<00:00, 105.46it/s, Val MAPE=70.4]\n"
          ]
        },
        {
          "name": "stdout",
          "output_type": "stream",
          "text": [
            "Validation MAPE: 55.78750088262012\n",
            "Early stopping triggered. Loading best model from epoch 4\n",
            "Best Validation MAPE: 33.0280954884937 at Epoch: 4\n"
          ]
        }
      ],
      "source": [
        "#num_series = 7  # Historical features\n",
        "num_series = 32\n",
        "num_covariates = 6  # Future covariates\n",
        "num_outputs = 10  # Output sequence length\n",
        "num_blocks = 3  # Number of residual blocks\n",
        "kernel_size = 3  # Kernel size\n",
        "hidden_channels = 64  # Number of filters in convolutional layers\n",
        "\n",
        "model = DeepTCN(num_series=num_series, num_outputs=num_outputs, num_blocks=num_blocks,\n",
        "                kernel_size=kernel_size, hidden_channels=hidden_channels, num_covariates=num_covariates)\n",
        "\n",
        "criterion = torch.nn.MSELoss()\n",
        "optimizer = optim.Adam(model.parameters(), lr=0.001)\n",
        "device = torch.device(\"cuda:0\" if torch.cuda.is_available() else \"cpu\")\n",
        "model.to(device)\n",
        "\n",
        "best_val_mape = float('inf')\n",
        "best_epoch = 0\n",
        "patience = 3  # Number of epochs to wait for improvement before stopping\n",
        "epochs_no_improve = 0\n",
        "\n",
        "# Training loop\n",
        "num_epochs = 20\n",
        "for epoch in range(num_epochs):\n",
        "    model.train()  # Set the model to training mode\n",
        "    total_loss = 0\n",
        "    train_loader_with_progress = tqdm(train_loader, desc=f\"Epoch {epoch+1}/{num_epochs} Training\")\n",
        "\n",
        "    for batch_idx, (features, targets) in enumerate(train_loader_with_progress):\n",
        "        #print(features.shape)\n",
        "        # Separate historical features and covariates and move to device\n",
        "        historical_features = features[:, :, :-6].to(device)\n",
        "        covariates = features[:, :num_outputs, -6:].to(device)\n",
        "\n",
        "        targets = targets.to(device)\n",
        "\n",
        "        # Forward pass\n",
        "        outputs = model(historical_features, covariates)\n",
        "\n",
        "        #print(\"Outputs shape:\", outputs.shape)\n",
        "        #print(\"Targets shape:\", targets.shape)\n",
        "\n",
        "        loss = criterion(outputs, targets)\n",
        "\n",
        "        # Backward pass and optimization\n",
        "        optimizer.zero_grad()\n",
        "        loss.backward()\n",
        "        optimizer.step()\n",
        "\n",
        "        total_loss += loss.item()\n",
        "        train_loader_with_progress.set_postfix({'Train Loss': loss.item()})\n",
        "\n",
        "    print(f'Epoch {epoch+1}/{num_epochs}, Loss: {total_loss/len(train_loader)}')\n",
        "\n",
        "    # Validation loop\n",
        "    model.eval()  # Set the model to evaluation mode\n",
        "    val_mape = 0\n",
        "    val_loader_with_progress = tqdm(val_loader, desc=f\"Epoch {epoch+1}/{num_epochs} Validation\")\n",
        "    with torch.no_grad():  # Disable gradient calculation\n",
        "        for val_features, val_targets in val_loader_with_progress:\n",
        "            val_historical_features = val_features[:, :, :-6].to(device)\n",
        "            val_covariates = val_features[:, :num_outputs, -6:].to(device)\n",
        "            val_targets = val_targets.to(device)\n",
        "\n",
        "            val_outputs = model(val_historical_features, val_covariates)\n",
        "            mape = torch.mean(torch.abs((val_targets - val_outputs) / (val_targets + 1e-8))) * 100  # Adding a small term to avoid division by zero\n",
        "            val_mape += mape.item()\n",
        "            val_loader_with_progress.set_postfix({'Val MAPE': mape.item()})\n",
        "\n",
        "        val_mape /= len(val_loader)\n",
        "\n",
        "        print(f'Validation MAPE: {val_mape}')\n",
        "\n",
        "        # Check for improvement\n",
        "        if val_mape < best_val_mape:\n",
        "            best_val_mape = val_mape\n",
        "            best_epoch = epoch + 1\n",
        "            best_model_path = f'DeepTCN_selected_epoch_{best_epoch}_val_mape_{best_val_mape:.4f}.pt'\n",
        "            torch.save(model.state_dict(), best_model_path)\n",
        "            epochs_no_improve = 0\n",
        "        else:\n",
        "            epochs_no_improve += 1\n",
        "\n",
        "        # Early stopping check\n",
        "        if epochs_no_improve >= patience:\n",
        "            print(f\"Early stopping triggered. Loading best model from epoch {best_epoch}\")\n",
        "            model.load_state_dict(torch.load(best_model_path))\n",
        "            break\n",
        "    # Save the model with the lowest validation MAPE\n",
        "\n",
        "# After training\n",
        "if best_epoch > 0:\n",
        "    print(f'Best Validation MAPE: {best_val_mape} at Epoch: {best_epoch}')\n",
        "else:\n",
        "    print(\"Early stopping was triggered but no improvement was observed.\")"
      ]
    },
    {
      "cell_type": "code",
      "execution_count": 243,
      "metadata": {
        "colab": {
          "base_uri": "https://localhost:8080/",
          "height": 362
        },
        "id": "9nFEenEtUOrR",
        "outputId": "49a28b46-287a-4e97-edc1-d85c8c34a23c"
      },
      "outputs": [
        {
          "name": "stdout",
          "output_type": "stream",
          "text": [
            "features length =  38\n",
            "flight_num =  100\n",
            "Test loss: 0.004286833107471466\n",
            "MAPE: 9.320413589477539\n"
          ]
        },
        {
          "data": {
            "image/png": "[encoded data removed]",
            "text/plain": [
              "<Figure size 2000x500 with 1 Axes>"
            ]
          },
          "metadata": {},
          "output_type": "display_data"
        }
      ],
      "source": [
        "import random\n",
        "import numpy as np\n",
        "import matplotlib.pyplot as plt\n",
        "\n",
        "#model.load_state_dict(torch.load('/content/TCN_model_epoch_13_val_loss_0.0017.pt', map_location=torch.device('cpu')))\n",
        "model.eval()\n",
        "\n",
        "features = getFeatures(covariates=True)\n",
        "print(\"features length = \", len(features))\n",
        "\n",
        "flights_nums = d_split['test']\n",
        "flight_num = random.choice(flights_nums)\n",
        "\n",
        "\n",
        "print(\"flight_num = \", flight_num)\n",
        "test_data = data[(data['flight'] == flight_num) & (data['power'] > 0.05)]\n",
        "\n",
        "\n",
        "# Generate sequences\n",
        "input_seq, output_seq = create_sequences(input_data=test_data[features].values, output_data=test_data['power'].values, input_seq_len=20, output_seq_len=10)\n",
        "\n",
        "# Convert sequences to tensors and move to device\n",
        "input_seq = torch.tensor(input_seq, dtype=torch.float32).to('cuda')  # Replace 'cpu' with 'cuda' if using GPU\n",
        "output_seq = torch.tensor(output_seq, dtype=torch.float32).to('cuda')\n",
        "\n",
        "mape_list = []\n",
        "\n",
        "# Make predictions\n",
        "with torch.no_grad():\n",
        "    historical_features = input_seq[:, :, :-6]  # All but the last 6 columns\n",
        "    covariates = input_seq[:, :num_outputs, -6:]          # Only the last 6 columns\n",
        "\n",
        "    outputs = model(historical_features, covariates)\n",
        "\n",
        "    targets = output_seq\n",
        "\n",
        "    # Calculate error metrics\n",
        "    error = nn.MSELoss()(outputs, targets)\n",
        "    print(f\"Test loss: {error}\")\n",
        "\n",
        "    mape = torch.mean(torch.abs((targets - outputs) / (targets + 1e-8))) * 100\n",
        "    print(f\"MAPE: {mape.item()}\")\n",
        "    mape_list.append(mape)\n",
        "\n",
        "    # Call the function with the outputs and targets\n",
        "    #plot_output(outputs, targets, seq_len=2, focus_length=100)\n",
        "    plot_output_old(outputs.cpu(), targets.cpu(), num_outputs)\n"
      ]
    },
    {
      "cell_type": "code",
      "execution_count": 267,
      "metadata": {
        "colab": {
          "base_uri": "https://localhost:8080/",
          "height": 362
        },
        "id": "YlgOb_rPyogj",
        "outputId": "894fb8b1-589e-4f4e-b6ef-4fee085a5d1c"
      },
      "outputs": [
        {
          "name": "stdout",
          "output_type": "stream",
          "text": [
            "features length =  13\n",
            "flight_num =  201\n",
            "Test loss: 0.0035091624595224857\n",
            "MAPE: 9.57310676574707\n"
          ]
        },
        {
          "data": {
            "image/png": "[encoded data removed]",
            "text/plain": [
              "<Figure size 2000x500 with 1 Axes>"
            ]
          },
          "metadata": {},
          "output_type": "display_data"
        }
      ],
      "source": [
        "# Predict Test with selected features model\n",
        "\n",
        "import random\n",
        "import numpy as np\n",
        "import matplotlib.pyplot as plt\n",
        "\n",
        "model.load_state_dict(torch.load('/content/DeepTCN_selected_epoch_4_val_mape_33.0281.pt', map_location=torch.device('cpu')))\n",
        "model.eval()\n",
        "\n",
        "selected_features = ['payload', 'wind_speed', 'wind_angle', 'linear_acceleration_x', 'linear_acceleration_y', 'linear_acceleration_z', 'power']\n",
        "selected_features += ['x_future', 'y_future', 'z_future' ,'x_change', 'y_change', 'z_change']\n",
        "\n",
        "print(\"features length = \", len(selected_features))\n",
        "\n",
        "flights_nums = d_split['test']\n",
        "flight_num = random.choice(flights_nums)\n",
        "\n",
        "\n",
        "print(\"flight_num = \", flight_num)\n",
        "test_data = data[(data['flight'] == flight_num) & (data['power'] > 0.05)]\n",
        "\n",
        "\n",
        "# Generate sequences\n",
        "input_seq, output_seq = create_sequences(input_data=test_data[selected_features].values, output_data=test_data['power'].values, input_seq_len=20, output_seq_len=10)\n",
        "\n",
        "# Convert sequences to tensors and move to device\n",
        "input_seq = torch.tensor(input_seq, dtype=torch.float32).to('cuda')  # Replace 'cpu' with 'cuda' if using GPU\n",
        "output_seq = torch.tensor(output_seq, dtype=torch.float32).to('cuda')\n",
        "\n",
        "mape_list = []\n",
        "\n",
        "# Make predictions\n",
        "with torch.no_grad():\n",
        "    historical_features = input_seq[:, :, :-6]  # All but the last 6 columns\n",
        "    covariates = input_seq[:, :num_outputs, -6:]          # Only the last 6 columns\n",
        "\n",
        "    outputs = model(historical_features, covariates)\n",
        "\n",
        "    targets = output_seq\n",
        "\n",
        "    # Calculate error metrics\n",
        "    error = nn.MSELoss()(outputs, targets)\n",
        "    print(f\"Test loss: {error}\")\n",
        "\n",
        "    mape = torch.mean(torch.abs((targets - outputs) / (targets + 1e-8))) * 100\n",
        "    print(f\"MAPE: {mape.item()}\")\n",
        "    mape_list.append(mape)\n",
        "\n",
        "    # Call the function with the outputs and targets\n",
        "    #plot_output(outputs, targets, seq_len=2, focus_length=100)\n",
        "    plot_output_old(outputs.cpu(), targets.cpu(), num_outputs)\n"
      ]
    },
    {
      "cell_type": "code",
      "execution_count": 259,
      "metadata": {
        "colab": {
          "base_uri": "https://localhost:8080/",
          "height": 471
        },
        "id": "oC4o0fTujUaG",
        "outputId": "2a47b1cc-0b3f-4dfe-b15f-69c51d22500e"
      },
      "outputs": [
        {
          "ename": "RuntimeError",
          "evalue": "ignored",
          "output_type": "error",
          "traceback": [
            "\u001b[0;31m---------------------------------------------------------------------------\u001b[0m",
            "\u001b[0;31mRuntimeError\u001b[0m                              Traceback (most recent call last)",
            "\u001b[0;32m<ipython-input-259-5b38a069b757>\u001b[0m in \u001b[0;36m<cell line: 5>\u001b[0;34m()\u001b[0m\n\u001b[1;32m      3\u001b[0m \u001b[0;32mimport\u001b[0m \u001b[0mmatplotlib\u001b[0m\u001b[0;34m.\u001b[0m\u001b[0mpyplot\u001b[0m \u001b[0;32mas\u001b[0m \u001b[0mplt\u001b[0m\u001b[0;34m\u001b[0m\u001b[0;34m\u001b[0m\u001b[0m\n\u001b[1;32m      4\u001b[0m \u001b[0;34m\u001b[0m\u001b[0m\n\u001b[0;32m----> 5\u001b[0;31m \u001b[0mmodel\u001b[0m\u001b[0;34m.\u001b[0m\u001b[0mload_state_dict\u001b[0m\u001b[0;34m(\u001b[0m\u001b[0mtorch\u001b[0m\u001b[0;34m.\u001b[0m\u001b[0mload\u001b[0m\u001b[0;34m(\u001b[0m\u001b[0;34m'/content/DeepTCN_epoch_4_val_mape_21.7186.pt'\u001b[0m\u001b[0;34m,\u001b[0m \u001b[0mmap_location\u001b[0m\u001b[0;34m=\u001b[0m\u001b[0mtorch\u001b[0m\u001b[0;34m.\u001b[0m\u001b[0mdevice\u001b[0m\u001b[0;34m(\u001b[0m\u001b[0;34m'cpu'\u001b[0m\u001b[0;34m)\u001b[0m\u001b[0;34m)\u001b[0m\u001b[0;34m)\u001b[0m\u001b[0;34m\u001b[0m\u001b[0;34m\u001b[0m\u001b[0m\n\u001b[0m\u001b[1;32m      6\u001b[0m \u001b[0mmodel\u001b[0m\u001b[0;34m.\u001b[0m\u001b[0meval\u001b[0m\u001b[0;34m(\u001b[0m\u001b[0;34m)\u001b[0m\u001b[0;34m\u001b[0m\u001b[0;34m\u001b[0m\u001b[0m\n\u001b[1;32m      7\u001b[0m \u001b[0mmape_list\u001b[0m \u001b[0;34m=\u001b[0m \u001b[0;34m[\u001b[0m\u001b[0;34m]\u001b[0m\u001b[0;34m\u001b[0m\u001b[0;34m\u001b[0m\u001b[0m\n",
            "\u001b[0;32m/usr/local/lib/python3.10/dist-packages/torch/nn/modules/module.py\u001b[0m in \u001b[0;36mload_state_dict\u001b[0;34m(self, state_dict, strict, assign)\u001b[0m\n\u001b[1;32m   2150\u001b[0m \u001b[0;34m\u001b[0m\u001b[0m\n\u001b[1;32m   2151\u001b[0m         \u001b[0;32mif\u001b[0m \u001b[0mlen\u001b[0m\u001b[0;34m(\u001b[0m\u001b[0merror_msgs\u001b[0m\u001b[0;34m)\u001b[0m \u001b[0;34m>\u001b[0m \u001b[0;36m0\u001b[0m\u001b[0;34m:\u001b[0m\u001b[0;34m\u001b[0m\u001b[0;34m\u001b[0m\u001b[0m\n\u001b[0;32m-> 2152\u001b[0;31m             raise RuntimeError('Error(s) in loading state_dict for {}:\\n\\t{}'.format(\n\u001b[0m\u001b[1;32m   2153\u001b[0m                                self.__class__.__name__, \"\\n\\t\".join(error_msgs)))\n\u001b[1;32m   2154\u001b[0m         \u001b[0;32mreturn\u001b[0m \u001b[0m_IncompatibleKeys\u001b[0m\u001b[0;34m(\u001b[0m\u001b[0mmissing_keys\u001b[0m\u001b[0;34m,\u001b[0m \u001b[0munexpected_keys\u001b[0m\u001b[0;34m)\u001b[0m\u001b[0;34m\u001b[0m\u001b[0;34m\u001b[0m\u001b[0m\n",
            "\u001b[0;31mRuntimeError\u001b[0m: Error(s) in loading state_dict for DeepTCN:\n\tsize mismatch for encoder.0.dilated_conv1.weight: copying a param with shape torch.Size([64, 32, 3]) from checkpoint, the shape in current model is torch.Size([64, 7, 3]).\n\tsize mismatch for encoder.0.downsample.weight: copying a param with shape torch.Size([64, 32, 1]) from checkpoint, the shape in current model is torch.Size([64, 7, 1])."
          ]
        }
      ],
      "source": [
        "import random\n",
        "import numpy as np\n",
        "import matplotlib.pyplot as plt\n",
        "\n",
        "model.load_state_dict(torch.load('/content/DeepTCN_epoch_4_val_mape_21.7186.pt', map_location=torch.device('cpu')))\n",
        "model.eval()\n",
        "mape_list = []\n",
        "\n",
        "features = getFeatures(covariates=True)\n",
        "\n",
        "print(\"features length = \", len(features))\n",
        "\n",
        "for flight_num in d_split['test']:\n",
        "    test_data = data[(data['flight'] == flight_num) & (data['power'] > 0.05)]\n",
        "\n",
        "    # Generate sequences\n",
        "    input_seq, output_seq = create_sequences(input_data=test_data[features].values, output_data=test_data['power'].values, input_seq_len=20, output_seq_len=10)\n",
        "\n",
        "    # Convert sequences to tensors and move to device\n",
        "    input_seq = torch.tensor(input_seq, dtype=torch.float32).to('cuda')  # Replace 'cpu' with 'cuda' if using GPU\n",
        "    output_seq = torch.tensor(output_seq, dtype=torch.float32).to('cuda')\n",
        "\n",
        "    # Make predictions\n",
        "    with torch.no_grad():\n",
        "        #print(input_seq.shape)\n",
        "\n",
        "        if input_seq.nelement() == 0:\n",
        "            continue\n",
        "        historical_features = input_seq[:, :, :-6]  # All but the last 6 columns\n",
        "        covariates = input_seq[:, :num_outputs, -6:]          # Only the last 6 columns\n",
        "\n",
        "        outputs = model(historical_features, covariates)\n",
        "        targets = output_seq\n",
        "\n",
        "        # Calculate error metrics\n",
        "        error = nn.MSELoss()(outputs, targets)\n",
        "        #print(f\"Test loss: {error}\")\n",
        "\n",
        "        mape = torch.mean(torch.abs((targets - outputs) / (targets + 1e-8))) * 100\n",
        "        #print(f\"MAPE: {mape.item()}\")\n",
        "        mape_list.append(mape.item())\n",
        "\n",
        "print(\"avg mape = \", sum(mape_list) / len(mape_list))"
      ]
    },
    {
      "cell_type": "code",
      "execution_count": 261,
      "metadata": {
        "colab": {
          "base_uri": "https://localhost:8080/"
        },
        "id": "RBoYZfTexgdC",
        "outputId": "5c483b32-6e08-454e-98ed-c7f15ae6c2b9"
      },
      "outputs": [
        {
          "name": "stdout",
          "output_type": "stream",
          "text": [
            "features length =  38\n",
            "avg mape =  11.396394044925005\n"
          ]
        }
      ],
      "source": [
        "import random\n",
        "import numpy as np\n",
        "import matplotlib.pyplot as plt\n",
        "\n",
        "model.load_state_dict(torch.load('/content/DeepTCN_selected_epoch_4_val_mape_33.0281.pt', map_location=torch.device('cpu')))\n",
        "model.eval()\n",
        "mape_list = []\n",
        "selected_features = ['payload', 'wind_speed', 'wind_angle', 'linear_acceleration_x', 'linear_acceleration_y', 'linear_acceleration_z', 'power']\n",
        "selected_features += ['x_future', 'y_future', 'z_future' ,'x_change', 'y_change', 'z_change']\n",
        "\n",
        "print(\"features length = \", len(features))\n",
        "\n",
        "for flight_num in d_split['test']:\n",
        "    test_data = data[(data['flight'] == flight_num) & (data['power'] > 0.05)]\n",
        "\n",
        "    # Generate sequences\n",
        "    input_seq, output_seq = create_sequences(input_data=test_data[selected_features].values, output_data=test_data['power'].values, input_seq_len=20, output_seq_len=10)\n",
        "\n",
        "    # Convert sequences to tensors and move to device\n",
        "    input_seq = torch.tensor(input_seq, dtype=torch.float32).to('cuda')  # Replace 'cpu' with 'cuda' if using GPU\n",
        "    output_seq = torch.tensor(output_seq, dtype=torch.float32).to('cuda')\n",
        "\n",
        "    # Make predictions\n",
        "    with torch.no_grad():\n",
        "        #print(input_seq.shape)\n",
        "\n",
        "        if input_seq.nelement() == 0:\n",
        "            continue\n",
        "        historical_features = input_seq[:, :, :-6]  # All but the last 6 columns\n",
        "        covariates = input_seq[:, :num_outputs, -6:]          # Only the last 6 columns\n",
        "\n",
        "        outputs = model(historical_features, covariates)\n",
        "        targets = output_seq\n",
        "\n",
        "        # Calculate error metrics\n",
        "        error = nn.MSELoss()(outputs, targets)\n",
        "        #print(f\"Test loss: {error}\")\n",
        "\n",
        "        mape = torch.mean(torch.abs((targets - outputs) / (targets + 1e-8))) * 100\n",
        "        #print(f\"MAPE: {mape.item()}\")\n",
        "        mape_list.append(mape.item())\n",
        "\n",
        "print(\"avg mape = \", sum(mape_list) / len(mape_list))"
      ]
    },
    {
      "cell_type": "code",
      "execution_count": 199,
      "metadata": {
        "colab": {
          "base_uri": "https://localhost:8080/",
          "height": 669
        },
        "id": "UKCAkpcC9uv0",
        "outputId": "f04395da-a36a-4292-d101-79d75549f6b3"
      },
      "outputs": [
        {
          "name": "stderr",
          "output_type": "stream",
          "text": [
            "Epoch 1/10 Training: 100%|██████████| 2078/2078 [00:43<00:00, 47.32it/s]\n"
          ]
        },
        {
          "name": "stdout",
          "output_type": "stream",
          "text": [
            "Epoch 1/10, Loss: 0.009126945542166219\n"
          ]
        },
        {
          "name": "stderr",
          "output_type": "stream",
          "text": [
            "Epoch 2/10 Training: 100%|██████████| 2078/2078 [00:37<00:00, 55.20it/s]\n"
          ]
        },
        {
          "name": "stdout",
          "output_type": "stream",
          "text": [
            "Epoch 2/10, Loss: 0.004135466863939501\n"
          ]
        },
        {
          "name": "stderr",
          "output_type": "stream",
          "text": [
            "Epoch 3/10 Training: 100%|██████████| 2078/2078 [00:36<00:00, 57.09it/s]\n"
          ]
        },
        {
          "name": "stdout",
          "output_type": "stream",
          "text": [
            "Epoch 3/10, Loss: 0.00389433654246599\n"
          ]
        },
        {
          "name": "stderr",
          "output_type": "stream",
          "text": [
            "Epoch 4/10 Training: 100%|██████████| 2078/2078 [00:33<00:00, 62.43it/s]\n"
          ]
        },
        {
          "name": "stdout",
          "output_type": "stream",
          "text": [
            "Epoch 4/10, Loss: 0.00380565293148497\n"
          ]
        },
        {
          "name": "stderr",
          "output_type": "stream",
          "text": [
            "Epoch 5/10 Training: 100%|██████████| 2078/2078 [00:31<00:00, 65.84it/s]\n"
          ]
        },
        {
          "name": "stdout",
          "output_type": "stream",
          "text": [
            "Epoch 5/10, Loss: 0.0037514192362103514\n"
          ]
        },
        {
          "name": "stderr",
          "output_type": "stream",
          "text": [
            "Epoch 6/10 Training: 100%|██████████| 2078/2078 [00:33<00:00, 61.46it/s]\n"
          ]
        },
        {
          "name": "stdout",
          "output_type": "stream",
          "text": [
            "Epoch 6/10, Loss: 0.0036546228033010027\n"
          ]
        },
        {
          "name": "stderr",
          "output_type": "stream",
          "text": [
            "Epoch 7/10 Training: 100%|██████████| 2078/2078 [00:32<00:00, 63.45it/s]\n"
          ]
        },
        {
          "name": "stdout",
          "output_type": "stream",
          "text": [
            "Epoch 7/10, Loss: 0.003611970572311994\n"
          ]
        },
        {
          "name": "stderr",
          "output_type": "stream",
          "text": [
            "Epoch 8/10 Training:  68%|██████▊   | 1407/2078 [00:21<00:10, 65.13it/s]\n"
          ]
        },
        {
          "ename": "KeyboardInterrupt",
          "evalue": "ignored",
          "output_type": "error",
          "traceback": [
            "\u001b[0;31m---------------------------------------------------------------------------\u001b[0m",
            "\u001b[0;31mKeyboardInterrupt\u001b[0m                         Traceback (most recent call last)",
            "\u001b[0;32m<ipython-input-199-2edc43656ac2>\u001b[0m in \u001b[0;36m<cell line: 64>\u001b[0;34m()\u001b[0m\n\u001b[1;32m     77\u001b[0m \u001b[0;34m\u001b[0m\u001b[0m\n\u001b[1;32m     78\u001b[0m     \u001b[0;31m# Train the model\u001b[0m\u001b[0;34m\u001b[0m\u001b[0;34m\u001b[0m\u001b[0m\n\u001b[0;32m---> 79\u001b[0;31m     \u001b[0mtrain_model\u001b[0m\u001b[0;34m(\u001b[0m\u001b[0mmodel\u001b[0m\u001b[0;34m,\u001b[0m \u001b[0mtrain_loader\u001b[0m\u001b[0;34m,\u001b[0m \u001b[0mcriterion\u001b[0m\u001b[0;34m,\u001b[0m \u001b[0moptimizer\u001b[0m\u001b[0;34m,\u001b[0m \u001b[0mdevice\u001b[0m\u001b[0;34m,\u001b[0m \u001b[0mnum_epochs\u001b[0m\u001b[0;34m=\u001b[0m\u001b[0;36m10\u001b[0m\u001b[0;34m,\u001b[0m \u001b[0mnum_outputs\u001b[0m\u001b[0;34m=\u001b[0m\u001b[0;36m10\u001b[0m\u001b[0;34m)\u001b[0m\u001b[0;34m\u001b[0m\u001b[0;34m\u001b[0m\u001b[0m\n\u001b[0m\u001b[1;32m     80\u001b[0m \u001b[0;34m\u001b[0m\u001b[0m\n\u001b[1;32m     81\u001b[0m     \u001b[0;31m# Validate the model\u001b[0m\u001b[0;34m\u001b[0m\u001b[0;34m\u001b[0m\u001b[0m\n",
            "\u001b[0;32m<ipython-input-199-2edc43656ac2>\u001b[0m in \u001b[0;36mtrain_model\u001b[0;34m(model, train_loader, criterion, optimizer, device, num_epochs, num_outputs)\u001b[0m\n\u001b[1;32m     26\u001b[0m             \u001b[0;31m# Backward pass and optimization\u001b[0m\u001b[0;34m\u001b[0m\u001b[0;34m\u001b[0m\u001b[0m\n\u001b[1;32m     27\u001b[0m             \u001b[0moptimizer\u001b[0m\u001b[0;34m.\u001b[0m\u001b[0mzero_grad\u001b[0m\u001b[0;34m(\u001b[0m\u001b[0;34m)\u001b[0m\u001b[0;34m\u001b[0m\u001b[0;34m\u001b[0m\u001b[0m\n\u001b[0;32m---> 28\u001b[0;31m             \u001b[0mloss\u001b[0m\u001b[0;34m.\u001b[0m\u001b[0mbackward\u001b[0m\u001b[0;34m(\u001b[0m\u001b[0;34m)\u001b[0m\u001b[0;34m\u001b[0m\u001b[0;34m\u001b[0m\u001b[0m\n\u001b[0m\u001b[1;32m     29\u001b[0m             \u001b[0moptimizer\u001b[0m\u001b[0;34m.\u001b[0m\u001b[0mstep\u001b[0m\u001b[0;34m(\u001b[0m\u001b[0;34m)\u001b[0m\u001b[0;34m\u001b[0m\u001b[0;34m\u001b[0m\u001b[0m\n\u001b[1;32m     30\u001b[0m \u001b[0;34m\u001b[0m\u001b[0m\n",
            "\u001b[0;32m/usr/local/lib/python3.10/dist-packages/torch/_tensor.py\u001b[0m in \u001b[0;36mbackward\u001b[0;34m(self, gradient, retain_graph, create_graph, inputs)\u001b[0m\n\u001b[1;32m    490\u001b[0m                 \u001b[0minputs\u001b[0m\u001b[0;34m=\u001b[0m\u001b[0minputs\u001b[0m\u001b[0;34m,\u001b[0m\u001b[0;34m\u001b[0m\u001b[0;34m\u001b[0m\u001b[0m\n\u001b[1;32m    491\u001b[0m             )\n\u001b[0;32m--> 492\u001b[0;31m         torch.autograd.backward(\n\u001b[0m\u001b[1;32m    493\u001b[0m             \u001b[0mself\u001b[0m\u001b[0;34m,\u001b[0m \u001b[0mgradient\u001b[0m\u001b[0;34m,\u001b[0m \u001b[0mretain_graph\u001b[0m\u001b[0;34m,\u001b[0m \u001b[0mcreate_graph\u001b[0m\u001b[0;34m,\u001b[0m \u001b[0minputs\u001b[0m\u001b[0;34m=\u001b[0m\u001b[0minputs\u001b[0m\u001b[0;34m\u001b[0m\u001b[0;34m\u001b[0m\u001b[0m\n\u001b[1;32m    494\u001b[0m         )\n",
            "\u001b[0;32m/usr/local/lib/python3.10/dist-packages/torch/autograd/__init__.py\u001b[0m in \u001b[0;36mbackward\u001b[0;34m(tensors, grad_tensors, retain_graph, create_graph, grad_variables, inputs)\u001b[0m\n\u001b[1;32m    249\u001b[0m     \u001b[0;31m# some Python versions print out the first line of a multi-line function\u001b[0m\u001b[0;34m\u001b[0m\u001b[0;34m\u001b[0m\u001b[0m\n\u001b[1;32m    250\u001b[0m     \u001b[0;31m# calls in the traceback and some print out the last line\u001b[0m\u001b[0;34m\u001b[0m\u001b[0;34m\u001b[0m\u001b[0m\n\u001b[0;32m--> 251\u001b[0;31m     Variable._execution_engine.run_backward(  # Calls into the C++ engine to run the backward pass\n\u001b[0m\u001b[1;32m    252\u001b[0m         \u001b[0mtensors\u001b[0m\u001b[0;34m,\u001b[0m\u001b[0;34m\u001b[0m\u001b[0;34m\u001b[0m\u001b[0m\n\u001b[1;32m    253\u001b[0m         \u001b[0mgrad_tensors_\u001b[0m\u001b[0;34m,\u001b[0m\u001b[0;34m\u001b[0m\u001b[0;34m\u001b[0m\u001b[0m\n",
            "\u001b[0;31mKeyboardInterrupt\u001b[0m: "
          ]
        }
      ],
      "source": [
        "import torch\n",
        "import torch.optim as optim\n",
        "from torch.utils.data import DataLoader\n",
        "from tqdm import tqdm\n",
        "import random\n",
        "\n",
        "# Define your model, ResidualBlock, Decoder, and DeepTCN (omitted for brevity)\n",
        "\n",
        "def train_model(model, train_loader, criterion, optimizer, device, num_epochs, num_outputs):\n",
        "    model.to(device)\n",
        "    model.train()  # Set the model to training mode\n",
        "\n",
        "    for epoch in range(num_epochs):\n",
        "        total_loss = 0\n",
        "        train_loader_with_progress = tqdm(train_loader, desc=f\"Epoch {epoch+1}/{num_epochs} Training\")\n",
        "        for features, targets in train_loader_with_progress:\n",
        "            historical_features = features[:, :, :-6].to(device)\n",
        "            covariates = features[:, :num_outputs, -6:].to(device)\n",
        "            targets = targets.to(device)\n",
        "\n",
        "            # Forward pass\n",
        "            outputs = model(historical_features, covariates)\n",
        "            loss = criterion(outputs, targets)\n",
        "\n",
        "            # Backward pass and optimization\n",
        "            optimizer.zero_grad()\n",
        "            loss.backward()\n",
        "            optimizer.step()\n",
        "\n",
        "            total_loss += loss.item()\n",
        "\n",
        "        avg_loss = total_loss / len(train_loader)\n",
        "        print(f'Epoch {epoch + 1}/{num_epochs}, Loss: {avg_loss}')\n",
        "\n",
        "def validate_model(model, val_loader, device, num_outputs):\n",
        "    model.eval()  # Set the model to evaluation mode\n",
        "    val_mape = 0\n",
        "    val_loader_with_progress = tqdm(val_loader, desc=f\"Epoch {epoch+1}/{num_epochs} Validation\")\n",
        "    with torch.no_grad():  # Disable gradient calculation\n",
        "        for val_features, val_targets in val_loader_with_progress:\n",
        "            val_historical_features = val_features[:, :, :-6].to(device)\n",
        "            val_covariates = val_features[:, :num_outputs, -6:].to(device)\n",
        "            val_targets = val_targets.to(device)\n",
        "\n",
        "            val_outputs = model(val_historical_features, val_covariates)\n",
        "            mape = torch.mean(torch.abs((val_targets - val_outputs) / (val_targets + 1e-8))) * 100\n",
        "            val_mape += mape.item()\n",
        "\n",
        "    avg_mape = val_mape / len(val_loader)\n",
        "    return avg_mape\n",
        "\n",
        "# Define hyperparameter search space\n",
        "num_blocks_options = [2, 3, 4, 5, 6]\n",
        "hidden_channels_options = [32, 64, 128, 256]\n",
        "\n",
        "# Random Search Implementation\n",
        "best_val_mape = float('inf')\n",
        "best_hyperparams = {}\n",
        "num_iterations = 5\n",
        "\n",
        "for iteration in range(num_iterations):\n",
        "    # Randomly sample hyperparameters\n",
        "    num_blocks = random.choice(num_blocks_options)\n",
        "    hidden_channels = random.choice(hidden_channels_options)\n",
        "\n",
        "    # Instantiate the model with the selected hyperparameters\n",
        "    model = DeepTCN(num_series=32, num_outputs=10, num_blocks=num_blocks,\n",
        "                    kernel_size=3, hidden_channels=hidden_channels, num_covariates=6)\n",
        "\n",
        "    # Define loss function and optimizer\n",
        "    criterion = torch.nn.MSELoss()\n",
        "    optimizer = optim.Adam(model.parameters(), lr=0.001)\n",
        "    device = torch.device(\"cuda:0\" if torch.cuda.is_available() else \"cpu\")\n",
        "\n",
        "    # Train the model\n",
        "    train_model(model, train_loader, criterion, optimizer, device, num_epochs=10, num_outputs=10)\n",
        "\n",
        "    # Validate the model\n",
        "    val_mape = validate_model(model, val_loader, device, num_outputs=10)\n",
        "    print(f'Validation MAPE: {val_mape}')\n",
        "\n",
        "    # Update best MAPE and hyperparameters if current model is better\n",
        "    if val_mape < best_val_mape:\n",
        "        best_val_mape = val_mape\n",
        "        best_hyperparams = {\n",
        "            'num_blocks': num_blocks,\n",
        "            'kernel_size': kernel_size,\n",
        "            'hidden_channels': hidden_channels\n",
        "        }\n",
        "        print(f\"New best MAPE: {best_val_mape:.4f} with hyperparameters: {best_hyperparams}\")\n",
        "\n",
        "print(f\"Best MAPE: {best_val_mape:.4f} with hyperparameters: {best_hyperparams}\")"
      ]
    },
    {
      "cell_type": "code",
      "execution_count": 200,
      "metadata": {
        "colab": {
          "base_uri": "https://localhost:8080/"
        },
        "id": "y93fRqVPPu-s",
        "outputId": "35dc7fcc-4deb-4bb2-d4d9-950bed3e97e5"
      },
      "outputs": [
        {
          "name": "stderr",
          "output_type": "stream",
          "text": [
            "[I 2023-12-10 05:46:05,499] A new study created in memory with name: no-name-90061ccb-3202-4bec-8e28-4271cb2a0aa8\n",
            "Epoch 1/10 Training: 100%|██████████| 2078/2078 [00:38<00:00, 53.35it/s]\n"
          ]
        },
        {
          "name": "stdout",
          "output_type": "stream",
          "text": [
            "Epoch 1/10, Loss: 0.011518778279871895\n"
          ]
        },
        {
          "name": "stderr",
          "output_type": "stream",
          "text": [
            "Epoch 2/10 Training: 100%|██████████| 2078/2078 [00:38<00:00, 54.49it/s]\n"
          ]
        },
        {
          "name": "stdout",
          "output_type": "stream",
          "text": [
            "Epoch 2/10, Loss: 0.004360614325205819\n"
          ]
        },
        {
          "name": "stderr",
          "output_type": "stream",
          "text": [
            "Epoch 3/10 Training: 100%|██████████| 2078/2078 [00:38<00:00, 54.64it/s]\n"
          ]
        },
        {
          "name": "stdout",
          "output_type": "stream",
          "text": [
            "Epoch 3/10, Loss: 0.004193609925946068\n"
          ]
        },
        {
          "name": "stderr",
          "output_type": "stream",
          "text": [
            "Epoch 4/10 Training: 100%|██████████| 2078/2078 [00:37<00:00, 54.85it/s]\n"
          ]
        },
        {
          "name": "stdout",
          "output_type": "stream",
          "text": [
            "Epoch 4/10, Loss: 0.004050912073384468\n"
          ]
        },
        {
          "name": "stderr",
          "output_type": "stream",
          "text": [
            "Epoch 5/10 Training: 100%|██████████| 2078/2078 [00:37<00:00, 54.95it/s]\n"
          ]
        },
        {
          "name": "stdout",
          "output_type": "stream",
          "text": [
            "Epoch 5/10, Loss: 0.003935876514131151\n"
          ]
        },
        {
          "name": "stderr",
          "output_type": "stream",
          "text": [
            "Epoch 6/10 Training: 100%|██████████| 2078/2078 [00:36<00:00, 56.85it/s]\n"
          ]
        },
        {
          "name": "stdout",
          "output_type": "stream",
          "text": [
            "Epoch 6/10, Loss: 0.003781961446260017\n"
          ]
        },
        {
          "name": "stderr",
          "output_type": "stream",
          "text": [
            "Epoch 7/10 Training: 100%|██████████| 2078/2078 [00:38<00:00, 54.60it/s]\n"
          ]
        },
        {
          "name": "stdout",
          "output_type": "stream",
          "text": [
            "Epoch 7/10, Loss: 0.0037152788027470236\n"
          ]
        },
        {
          "name": "stderr",
          "output_type": "stream",
          "text": [
            "Epoch 8/10 Training: 100%|██████████| 2078/2078 [00:37<00:00, 54.90it/s]\n"
          ]
        },
        {
          "name": "stdout",
          "output_type": "stream",
          "text": [
            "Epoch 8/10, Loss: 0.003695110569421661\n"
          ]
        },
        {
          "name": "stderr",
          "output_type": "stream",
          "text": [
            "Epoch 9/10 Training: 100%|██████████| 2078/2078 [00:37<00:00, 55.98it/s]\n"
          ]
        },
        {
          "name": "stdout",
          "output_type": "stream",
          "text": [
            "Epoch 9/10, Loss: 0.0035229391926299885\n"
          ]
        },
        {
          "name": "stderr",
          "output_type": "stream",
          "text": [
            "Epoch 10/10 Training: 100%|██████████| 2078/2078 [00:37<00:00, 55.44it/s]\n"
          ]
        },
        {
          "name": "stdout",
          "output_type": "stream",
          "text": [
            "Epoch 10/10, Loss: 0.003486805576633902\n"
          ]
        },
        {
          "name": "stderr",
          "output_type": "stream",
          "text": [
            "Epoch 20/20 Validation: 100%|██████████| 961/961 [00:07<00:00, 122.95it/s]\n"
          ]
        },
        {
          "name": "stdout",
          "output_type": "stream",
          "text": [
            "Validation MAPE: 50.69277047068966\n"
          ]
        },
        {
          "name": "stderr",
          "output_type": "stream",
          "text": [
            "Epoch 20/20 Validation: 100%|██████████| 961/961 [00:06<00:00, 142.04it/s]\n",
            "[I 2023-12-10 05:52:38,098] Trial 0 finished with value: 50.69277047068966 and parameters: {'num_blocks': 5, 'hidden_channels': 256}. Best is trial 0 with value: 50.69277047068966.\n",
            "Epoch 1/10 Training: 100%|██████████| 2078/2078 [00:26<00:00, 78.65it/s]\n"
          ]
        },
        {
          "name": "stdout",
          "output_type": "stream",
          "text": [
            "Epoch 1/10, Loss: 0.007705370109172894\n"
          ]
        },
        {
          "name": "stderr",
          "output_type": "stream",
          "text": [
            "Epoch 2/10 Training: 100%|██████████| 2078/2078 [00:26<00:00, 78.72it/s]\n"
          ]
        },
        {
          "name": "stdout",
          "output_type": "stream",
          "text": [
            "Epoch 2/10, Loss: 0.0041157783970910845\n"
          ]
        },
        {
          "name": "stderr",
          "output_type": "stream",
          "text": [
            "Epoch 3/10 Training: 100%|██████████| 2078/2078 [00:26<00:00, 78.58it/s]\n"
          ]
        },
        {
          "name": "stdout",
          "output_type": "stream",
          "text": [
            "Epoch 3/10, Loss: 0.0038328757163928685\n"
          ]
        },
        {
          "name": "stderr",
          "output_type": "stream",
          "text": [
            "Epoch 4/10 Training: 100%|██████████| 2078/2078 [00:26<00:00, 78.64it/s]\n"
          ]
        },
        {
          "name": "stdout",
          "output_type": "stream",
          "text": [
            "Epoch 4/10, Loss: 0.0037196430861026666\n"
          ]
        },
        {
          "name": "stderr",
          "output_type": "stream",
          "text": [
            "Epoch 5/10 Training: 100%|██████████| 2078/2078 [00:26<00:00, 78.92it/s]\n"
          ]
        },
        {
          "name": "stdout",
          "output_type": "stream",
          "text": [
            "Epoch 5/10, Loss: 0.003671330954548764\n"
          ]
        },
        {
          "name": "stderr",
          "output_type": "stream",
          "text": [
            "Epoch 6/10 Training: 100%|██████████| 2078/2078 [00:26<00:00, 79.52it/s]\n"
          ]
        },
        {
          "name": "stdout",
          "output_type": "stream",
          "text": [
            "Epoch 6/10, Loss: 0.003612385655007539\n"
          ]
        },
        {
          "name": "stderr",
          "output_type": "stream",
          "text": [
            "Epoch 7/10 Training: 100%|██████████| 2078/2078 [00:26<00:00, 78.69it/s]\n"
          ]
        },
        {
          "name": "stdout",
          "output_type": "stream",
          "text": [
            "Epoch 7/10, Loss: 0.0035336343425324255\n"
          ]
        },
        {
          "name": "stderr",
          "output_type": "stream",
          "text": [
            "Epoch 8/10 Training: 100%|██████████| 2078/2078 [00:26<00:00, 78.49it/s]\n"
          ]
        },
        {
          "name": "stdout",
          "output_type": "stream",
          "text": [
            "Epoch 8/10, Loss: 0.003427696772781582\n"
          ]
        },
        {
          "name": "stderr",
          "output_type": "stream",
          "text": [
            "Epoch 9/10 Training: 100%|██████████| 2078/2078 [00:26<00:00, 78.46it/s]\n"
          ]
        },
        {
          "name": "stdout",
          "output_type": "stream",
          "text": [
            "Epoch 9/10, Loss: 0.00349800653620762\n"
          ]
        },
        {
          "name": "stderr",
          "output_type": "stream",
          "text": [
            "Epoch 10/10 Training: 100%|██████████| 2078/2078 [00:26<00:00, 78.87it/s]\n"
          ]
        },
        {
          "name": "stdout",
          "output_type": "stream",
          "text": [
            "Epoch 10/10, Loss: 0.0033557749880747593\n"
          ]
        },
        {
          "name": "stderr",
          "output_type": "stream",
          "text": [
            "Epoch 20/20 Validation: 100%|██████████| 961/961 [00:04<00:00, 213.23it/s]\n"
          ]
        },
        {
          "name": "stdout",
          "output_type": "stream",
          "text": [
            "Validation MAPE: 81.02305243985337\n"
          ]
        },
        {
          "name": "stderr",
          "output_type": "stream",
          "text": [
            "Epoch 20/20 Validation: 100%|██████████| 961/961 [00:04<00:00, 214.11it/s]\n",
            "[I 2023-12-10 05:57:11,072] Trial 1 finished with value: 81.02305243985337 and parameters: {'num_blocks': 2, 'hidden_channels': 64}. Best is trial 0 with value: 50.69277047068966.\n",
            "Epoch 1/10 Training: 100%|██████████| 2078/2078 [00:33<00:00, 62.23it/s]\n"
          ]
        },
        {
          "name": "stdout",
          "output_type": "stream",
          "text": [
            "Epoch 1/10, Loss: 0.010901735132908371\n"
          ]
        },
        {
          "name": "stderr",
          "output_type": "stream",
          "text": [
            "Epoch 2/10 Training: 100%|██████████| 2078/2078 [00:32<00:00, 63.86it/s]\n"
          ]
        },
        {
          "name": "stdout",
          "output_type": "stream",
          "text": [
            "Epoch 2/10, Loss: 0.004065369742062423\n"
          ]
        },
        {
          "name": "stderr",
          "output_type": "stream",
          "text": [
            "Epoch 3/10 Training: 100%|██████████| 2078/2078 [00:33<00:00, 62.20it/s]\n"
          ]
        },
        {
          "name": "stdout",
          "output_type": "stream",
          "text": [
            "Epoch 3/10, Loss: 0.003841125926216195\n"
          ]
        },
        {
          "name": "stderr",
          "output_type": "stream",
          "text": [
            "Epoch 4/10 Training: 100%|██████████| 2078/2078 [00:32<00:00, 63.98it/s]\n"
          ]
        },
        {
          "name": "stdout",
          "output_type": "stream",
          "text": [
            "Epoch 4/10, Loss: 0.003769762288943503\n"
          ]
        },
        {
          "name": "stderr",
          "output_type": "stream",
          "text": [
            "Epoch 5/10 Training: 100%|██████████| 2078/2078 [00:32<00:00, 63.96it/s]\n"
          ]
        },
        {
          "name": "stdout",
          "output_type": "stream",
          "text": [
            "Epoch 5/10, Loss: 0.0037617068209450538\n"
          ]
        },
        {
          "name": "stderr",
          "output_type": "stream",
          "text": [
            "Epoch 6/10 Training: 100%|██████████| 2078/2078 [00:33<00:00, 62.65it/s]\n"
          ]
        },
        {
          "name": "stdout",
          "output_type": "stream",
          "text": [
            "Epoch 6/10, Loss: 0.0036404703717873295\n"
          ]
        },
        {
          "name": "stderr",
          "output_type": "stream",
          "text": [
            "Epoch 7/10 Training: 100%|██████████| 2078/2078 [00:32<00:00, 64.93it/s]\n"
          ]
        },
        {
          "name": "stdout",
          "output_type": "stream",
          "text": [
            "Epoch 7/10, Loss: 0.003567974156963606\n"
          ]
        },
        {
          "name": "stderr",
          "output_type": "stream",
          "text": [
            "Epoch 8/10 Training: 100%|██████████| 2078/2078 [00:33<00:00, 62.12it/s]\n"
          ]
        },
        {
          "name": "stdout",
          "output_type": "stream",
          "text": [
            "Epoch 8/10, Loss: 0.0035628658529219537\n"
          ]
        },
        {
          "name": "stderr",
          "output_type": "stream",
          "text": [
            "Epoch 9/10 Training: 100%|██████████| 2078/2078 [00:32<00:00, 64.50it/s]\n"
          ]
        },
        {
          "name": "stdout",
          "output_type": "stream",
          "text": [
            "Epoch 9/10, Loss: 0.003454750740234637\n"
          ]
        },
        {
          "name": "stderr",
          "output_type": "stream",
          "text": [
            "Epoch 10/10 Training: 100%|██████████| 2078/2078 [00:32<00:00, 63.63it/s]\n"
          ]
        },
        {
          "name": "stdout",
          "output_type": "stream",
          "text": [
            "Epoch 10/10, Loss: 0.003437493153990276\n"
          ]
        },
        {
          "name": "stderr",
          "output_type": "stream",
          "text": [
            "Epoch 20/20 Validation: 100%|██████████| 961/961 [00:05<00:00, 162.41it/s]\n"
          ]
        },
        {
          "name": "stdout",
          "output_type": "stream",
          "text": [
            "Validation MAPE: 29.522367561769038\n"
          ]
        },
        {
          "name": "stderr",
          "output_type": "stream",
          "text": [
            "Epoch 20/20 Validation: 100%|██████████| 961/961 [00:05<00:00, 179.51it/s]\n",
            "[I 2023-12-10 06:02:50,270] Trial 2 finished with value: 29.522367561769038 and parameters: {'num_blocks': 5, 'hidden_channels': 32}. Best is trial 2 with value: 29.522367561769038.\n",
            "Epoch 1/10 Training: 100%|██████████| 2078/2078 [00:33<00:00, 61.25it/s]\n"
          ]
        },
        {
          "name": "stdout",
          "output_type": "stream",
          "text": [
            "Epoch 1/10, Loss: 0.010045661375025616\n"
          ]
        },
        {
          "name": "stderr",
          "output_type": "stream",
          "text": [
            "Epoch 2/10 Training: 100%|██████████| 2078/2078 [00:32<00:00, 63.63it/s]\n"
          ]
        },
        {
          "name": "stdout",
          "output_type": "stream",
          "text": [
            "Epoch 2/10, Loss: 0.004137139445557541\n"
          ]
        },
        {
          "name": "stderr",
          "output_type": "stream",
          "text": [
            "Epoch 3/10 Training: 100%|██████████| 2078/2078 [00:33<00:00, 61.52it/s]\n"
          ]
        },
        {
          "name": "stdout",
          "output_type": "stream",
          "text": [
            "Epoch 3/10, Loss: 0.003917388771942981\n"
          ]
        },
        {
          "name": "stderr",
          "output_type": "stream",
          "text": [
            "Epoch 4/10 Training: 100%|██████████| 2078/2078 [00:32<00:00, 63.32it/s]\n"
          ]
        },
        {
          "name": "stdout",
          "output_type": "stream",
          "text": [
            "Epoch 4/10, Loss: 0.003852181941543323\n"
          ]
        },
        {
          "name": "stderr",
          "output_type": "stream",
          "text": [
            "Epoch 5/10 Training: 100%|██████████| 2078/2078 [00:33<00:00, 61.42it/s]\n"
          ]
        },
        {
          "name": "stdout",
          "output_type": "stream",
          "text": [
            "Epoch 5/10, Loss: 0.003731159495007824\n"
          ]
        },
        {
          "name": "stderr",
          "output_type": "stream",
          "text": [
            "Epoch 6/10 Training: 100%|██████████| 2078/2078 [00:32<00:00, 63.27it/s]\n"
          ]
        },
        {
          "name": "stdout",
          "output_type": "stream",
          "text": [
            "Epoch 6/10, Loss: 0.0036209558726793033\n"
          ]
        },
        {
          "name": "stderr",
          "output_type": "stream",
          "text": [
            "Epoch 7/10 Training: 100%|██████████| 2078/2078 [00:33<00:00, 62.44it/s]\n"
          ]
        },
        {
          "name": "stdout",
          "output_type": "stream",
          "text": [
            "Epoch 7/10, Loss: 0.0035706287567235737\n"
          ]
        },
        {
          "name": "stderr",
          "output_type": "stream",
          "text": [
            "Epoch 8/10 Training: 100%|██████████| 2078/2078 [00:33<00:00, 62.84it/s]\n"
          ]
        },
        {
          "name": "stdout",
          "output_type": "stream",
          "text": [
            "Epoch 8/10, Loss: 0.00351580462377712\n"
          ]
        },
        {
          "name": "stderr",
          "output_type": "stream",
          "text": [
            "Epoch 9/10 Training: 100%|██████████| 2078/2078 [00:32<00:00, 63.64it/s]\n"
          ]
        },
        {
          "name": "stdout",
          "output_type": "stream",
          "text": [
            "Epoch 9/10, Loss: 0.0034672185650661846\n"
          ]
        },
        {
          "name": "stderr",
          "output_type": "stream",
          "text": [
            "Epoch 10/10 Training: 100%|██████████| 2078/2078 [00:33<00:00, 61.31it/s]\n"
          ]
        },
        {
          "name": "stdout",
          "output_type": "stream",
          "text": [
            "Epoch 10/10, Loss: 0.003415800976762826\n"
          ]
        },
        {
          "name": "stderr",
          "output_type": "stream",
          "text": [
            "Epoch 20/20 Validation: 100%|██████████| 961/961 [00:05<00:00, 173.34it/s]\n"
          ]
        },
        {
          "name": "stdout",
          "output_type": "stream",
          "text": [
            "Validation MAPE: 48.12987640769871\n"
          ]
        },
        {
          "name": "stderr",
          "output_type": "stream",
          "text": [
            "Epoch 20/20 Validation: 100%|██████████| 961/961 [00:06<00:00, 150.32it/s]\n",
            "[I 2023-12-10 06:08:35,071] Trial 3 finished with value: 48.12987640769871 and parameters: {'num_blocks': 5, 'hidden_channels': 64}. Best is trial 2 with value: 29.522367561769038.\n",
            "Epoch 1/10 Training: 100%|██████████| 2078/2078 [00:32<00:00, 63.36it/s]\n"
          ]
        },
        {
          "name": "stdout",
          "output_type": "stream",
          "text": [
            "Epoch 1/10, Loss: 0.007923239634212742\n"
          ]
        },
        {
          "name": "stderr",
          "output_type": "stream",
          "text": [
            "Epoch 2/10 Training: 100%|██████████| 2078/2078 [00:33<00:00, 61.84it/s]\n"
          ]
        },
        {
          "name": "stdout",
          "output_type": "stream",
          "text": [
            "Epoch 2/10, Loss: 0.0040115077891458755\n"
          ]
        },
        {
          "name": "stderr",
          "output_type": "stream",
          "text": [
            "Epoch 3/10 Training: 100%|██████████| 2078/2078 [00:32<00:00, 63.53it/s]\n"
          ]
        },
        {
          "name": "stdout",
          "output_type": "stream",
          "text": [
            "Epoch 3/10, Loss: 0.0038590756231736073\n"
          ]
        },
        {
          "name": "stderr",
          "output_type": "stream",
          "text": [
            "Epoch 4/10 Training: 100%|██████████| 2078/2078 [00:33<00:00, 61.95it/s]\n"
          ]
        },
        {
          "name": "stdout",
          "output_type": "stream",
          "text": [
            "Epoch 4/10, Loss: 0.00373734325544525\n"
          ]
        },
        {
          "name": "stderr",
          "output_type": "stream",
          "text": [
            "Epoch 5/10 Training: 100%|██████████| 2078/2078 [00:32<00:00, 63.13it/s]\n"
          ]
        },
        {
          "name": "stdout",
          "output_type": "stream",
          "text": [
            "Epoch 5/10, Loss: 0.0036259877121907814\n"
          ]
        },
        {
          "name": "stderr",
          "output_type": "stream",
          "text": [
            "Epoch 6/10 Training: 100%|██████████| 2078/2078 [00:32<00:00, 63.55it/s]\n"
          ]
        },
        {
          "name": "stdout",
          "output_type": "stream",
          "text": [
            "Epoch 6/10, Loss: 0.0036804769660997868\n"
          ]
        },
        {
          "name": "stderr",
          "output_type": "stream",
          "text": [
            "Epoch 7/10 Training: 100%|██████████| 2078/2078 [00:33<00:00, 62.18it/s]\n"
          ]
        },
        {
          "name": "stdout",
          "output_type": "stream",
          "text": [
            "Epoch 7/10, Loss: 0.0035409653825771432\n"
          ]
        },
        {
          "name": "stderr",
          "output_type": "stream",
          "text": [
            "Epoch 8/10 Training: 100%|██████████| 2078/2078 [00:32<00:00, 64.12it/s]\n"
          ]
        },
        {
          "name": "stdout",
          "output_type": "stream",
          "text": [
            "Epoch 8/10, Loss: 0.0034503725777972664\n"
          ]
        },
        {
          "name": "stderr",
          "output_type": "stream",
          "text": [
            "Epoch 9/10 Training: 100%|██████████| 2078/2078 [00:34<00:00, 61.08it/s]\n"
          ]
        },
        {
          "name": "stdout",
          "output_type": "stream",
          "text": [
            "Epoch 9/10, Loss: 0.0033978775440095866\n"
          ]
        },
        {
          "name": "stderr",
          "output_type": "stream",
          "text": [
            "Epoch 10/10 Training: 100%|██████████| 2078/2078 [00:33<00:00, 62.86it/s]\n"
          ]
        },
        {
          "name": "stdout",
          "output_type": "stream",
          "text": [
            "Epoch 10/10, Loss: 0.0033461644333389277\n"
          ]
        },
        {
          "name": "stderr",
          "output_type": "stream",
          "text": [
            "Epoch 20/20 Validation: 100%|██████████| 961/961 [00:06<00:00, 147.72it/s]\n"
          ]
        },
        {
          "name": "stdout",
          "output_type": "stream",
          "text": [
            "Validation MAPE: 94.42865295688021\n"
          ]
        },
        {
          "name": "stderr",
          "output_type": "stream",
          "text": [
            "Epoch 20/20 Validation: 100%|██████████| 961/961 [00:05<00:00, 174.48it/s]\n",
            "[I 2023-12-10 06:14:18,380] Trial 4 finished with value: 94.42865295688021 and parameters: {'num_blocks': 5, 'hidden_channels': 64}. Best is trial 2 with value: 29.522367561769038.\n",
            "Epoch 1/10 Training: 100%|██████████| 2078/2078 [00:29<00:00, 70.95it/s]\n"
          ]
        },
        {
          "name": "stdout",
          "output_type": "stream",
          "text": [
            "Epoch 1/10, Loss: 0.007526977681729645\n"
          ]
        },
        {
          "name": "stderr",
          "output_type": "stream",
          "text": [
            "Epoch 2/10 Training: 100%|██████████| 2078/2078 [00:29<00:00, 71.15it/s]\n"
          ]
        },
        {
          "name": "stdout",
          "output_type": "stream",
          "text": [
            "Epoch 2/10, Loss: 0.004122798465536522\n"
          ]
        },
        {
          "name": "stderr",
          "output_type": "stream",
          "text": [
            "Epoch 3/10 Training: 100%|██████████| 2078/2078 [00:28<00:00, 71.72it/s]\n"
          ]
        },
        {
          "name": "stdout",
          "output_type": "stream",
          "text": [
            "Epoch 3/10, Loss: 0.003918583815109749\n"
          ]
        },
        {
          "name": "stderr",
          "output_type": "stream",
          "text": [
            "Epoch 4/10 Training: 100%|██████████| 2078/2078 [00:28<00:00, 71.70it/s]\n"
          ]
        },
        {
          "name": "stdout",
          "output_type": "stream",
          "text": [
            "Epoch 4/10, Loss: 0.003750797568923947\n"
          ]
        },
        {
          "name": "stderr",
          "output_type": "stream",
          "text": [
            "Epoch 5/10 Training: 100%|██████████| 2078/2078 [00:28<00:00, 72.71it/s]\n"
          ]
        },
        {
          "name": "stdout",
          "output_type": "stream",
          "text": [
            "Epoch 5/10, Loss: 0.003667844534092838\n"
          ]
        },
        {
          "name": "stderr",
          "output_type": "stream",
          "text": [
            "Epoch 6/10 Training: 100%|██████████| 2078/2078 [00:28<00:00, 72.27it/s]\n"
          ]
        },
        {
          "name": "stdout",
          "output_type": "stream",
          "text": [
            "Epoch 6/10, Loss: 0.0036055014615060978\n"
          ]
        },
        {
          "name": "stderr",
          "output_type": "stream",
          "text": [
            "Epoch 7/10 Training: 100%|██████████| 2078/2078 [00:28<00:00, 72.79it/s]\n"
          ]
        },
        {
          "name": "stdout",
          "output_type": "stream",
          "text": [
            "Epoch 7/10, Loss: 0.0035421674032682145\n"
          ]
        },
        {
          "name": "stderr",
          "output_type": "stream",
          "text": [
            "Epoch 8/10 Training: 100%|██████████| 2078/2078 [00:28<00:00, 72.82it/s]\n"
          ]
        },
        {
          "name": "stdout",
          "output_type": "stream",
          "text": [
            "Epoch 8/10, Loss: 0.0035203580020862356\n"
          ]
        },
        {
          "name": "stderr",
          "output_type": "stream",
          "text": [
            "Epoch 9/10 Training: 100%|██████████| 2078/2078 [00:28<00:00, 73.24it/s]\n"
          ]
        },
        {
          "name": "stdout",
          "output_type": "stream",
          "text": [
            "Epoch 9/10, Loss: 0.0034547643577460384\n"
          ]
        },
        {
          "name": "stderr",
          "output_type": "stream",
          "text": [
            "Epoch 10/10 Training: 100%|██████████| 2078/2078 [00:28<00:00, 73.03it/s]\n"
          ]
        },
        {
          "name": "stdout",
          "output_type": "stream",
          "text": [
            "Epoch 10/10, Loss: 0.003335833254371545\n"
          ]
        },
        {
          "name": "stderr",
          "output_type": "stream",
          "text": [
            "Epoch 20/20 Validation: 100%|██████████| 961/961 [00:05<00:00, 164.94it/s]\n"
          ]
        },
        {
          "name": "stdout",
          "output_type": "stream",
          "text": [
            "Validation MAPE: 21.910679850940525\n"
          ]
        },
        {
          "name": "stderr",
          "output_type": "stream",
          "text": [
            "Epoch 20/20 Validation: 100%|██████████| 961/961 [00:04<00:00, 198.15it/s]\n",
            "[I 2023-12-10 06:19:16,866] Trial 5 finished with value: 21.910679850940525 and parameters: {'num_blocks': 3, 'hidden_channels': 64}. Best is trial 5 with value: 21.910679850940525.\n",
            "Epoch 1/10 Training: 100%|██████████| 2078/2078 [00:27<00:00, 75.04it/s]\n"
          ]
        },
        {
          "name": "stdout",
          "output_type": "stream",
          "text": [
            "Epoch 1/10, Loss: 0.014413808423154508\n"
          ]
        },
        {
          "name": "stderr",
          "output_type": "stream",
          "text": [
            "Epoch 2/10 Training: 100%|██████████| 2078/2078 [00:27<00:00, 74.32it/s]\n"
          ]
        },
        {
          "name": "stdout",
          "output_type": "stream",
          "text": [
            "Epoch 2/10, Loss: 0.004101119146207697\n"
          ]
        },
        {
          "name": "stderr",
          "output_type": "stream",
          "text": [
            "Epoch 3/10 Training: 100%|██████████| 2078/2078 [00:28<00:00, 74.14it/s]\n"
          ]
        },
        {
          "name": "stdout",
          "output_type": "stream",
          "text": [
            "Epoch 3/10, Loss: 0.003944930945199496\n"
          ]
        },
        {
          "name": "stderr",
          "output_type": "stream",
          "text": [
            "Epoch 4/10 Training: 100%|██████████| 2078/2078 [00:27<00:00, 74.36it/s]\n"
          ]
        },
        {
          "name": "stdout",
          "output_type": "stream",
          "text": [
            "Epoch 4/10, Loss: 0.003798391875816299\n"
          ]
        },
        {
          "name": "stderr",
          "output_type": "stream",
          "text": [
            "Epoch 5/10 Training: 100%|██████████| 2078/2078 [00:28<00:00, 74.10it/s]\n"
          ]
        },
        {
          "name": "stdout",
          "output_type": "stream",
          "text": [
            "Epoch 5/10, Loss: 0.003766714965848878\n"
          ]
        },
        {
          "name": "stderr",
          "output_type": "stream",
          "text": [
            "Epoch 6/10 Training: 100%|██████████| 2078/2078 [00:28<00:00, 74.00it/s]\n"
          ]
        },
        {
          "name": "stdout",
          "output_type": "stream",
          "text": [
            "Epoch 6/10, Loss: 0.003642499168659807\n"
          ]
        },
        {
          "name": "stderr",
          "output_type": "stream",
          "text": [
            "Epoch 7/10 Training: 100%|██████████| 2078/2078 [00:28<00:00, 73.87it/s]\n"
          ]
        },
        {
          "name": "stdout",
          "output_type": "stream",
          "text": [
            "Epoch 7/10, Loss: 0.0035515316398218237\n"
          ]
        },
        {
          "name": "stderr",
          "output_type": "stream",
          "text": [
            "Epoch 8/10 Training: 100%|██████████| 2078/2078 [00:28<00:00, 73.46it/s]\n"
          ]
        },
        {
          "name": "stdout",
          "output_type": "stream",
          "text": [
            "Epoch 8/10, Loss: 0.0034870499327305537\n"
          ]
        },
        {
          "name": "stderr",
          "output_type": "stream",
          "text": [
            "Epoch 9/10 Training: 100%|██████████| 2078/2078 [00:28<00:00, 73.76it/s]\n"
          ]
        },
        {
          "name": "stdout",
          "output_type": "stream",
          "text": [
            "Epoch 9/10, Loss: 0.0034937401887820897\n"
          ]
        },
        {
          "name": "stderr",
          "output_type": "stream",
          "text": [
            "Epoch 10/10 Training: 100%|██████████| 2078/2078 [00:27<00:00, 74.48it/s]\n"
          ]
        },
        {
          "name": "stdout",
          "output_type": "stream",
          "text": [
            "Epoch 10/10, Loss: 0.00348504038180939\n"
          ]
        },
        {
          "name": "stderr",
          "output_type": "stream",
          "text": [
            "Epoch 20/20 Validation: 100%|██████████| 961/961 [00:04<00:00, 201.18it/s]\n"
          ]
        },
        {
          "name": "stdout",
          "output_type": "stream",
          "text": [
            "Validation MAPE: 104.16888992198425\n"
          ]
        },
        {
          "name": "stderr",
          "output_type": "stream",
          "text": [
            "Epoch 20/20 Validation: 100%|██████████| 961/961 [00:05<00:00, 180.98it/s]\n",
            "[I 2023-12-10 06:24:07,327] Trial 6 finished with value: 104.16888992198425 and parameters: {'num_blocks': 3, 'hidden_channels': 32}. Best is trial 5 with value: 21.910679850940525.\n",
            "Epoch 1/10 Training: 100%|██████████| 2078/2078 [00:29<00:00, 70.15it/s]\n"
          ]
        },
        {
          "name": "stdout",
          "output_type": "stream",
          "text": [
            "Epoch 1/10, Loss: 0.00899828891059217\n"
          ]
        },
        {
          "name": "stderr",
          "output_type": "stream",
          "text": [
            "Epoch 2/10 Training: 100%|██████████| 2078/2078 [00:29<00:00, 70.60it/s]\n"
          ]
        },
        {
          "name": "stdout",
          "output_type": "stream",
          "text": [
            "Epoch 2/10, Loss: 0.004347709403081983\n"
          ]
        },
        {
          "name": "stderr",
          "output_type": "stream",
          "text": [
            "Epoch 3/10 Training: 100%|██████████| 2078/2078 [00:29<00:00, 70.86it/s]\n"
          ]
        },
        {
          "name": "stdout",
          "output_type": "stream",
          "text": [
            "Epoch 3/10, Loss: 0.004081142645836131\n"
          ]
        },
        {
          "name": "stderr",
          "output_type": "stream",
          "text": [
            "Epoch 4/10 Training: 100%|██████████| 2078/2078 [00:29<00:00, 71.59it/s]\n"
          ]
        },
        {
          "name": "stdout",
          "output_type": "stream",
          "text": [
            "Epoch 4/10, Loss: 0.0039181383733935225\n"
          ]
        },
        {
          "name": "stderr",
          "output_type": "stream",
          "text": [
            "Epoch 5/10 Training: 100%|██████████| 2078/2078 [00:28<00:00, 72.18it/s]\n"
          ]
        },
        {
          "name": "stdout",
          "output_type": "stream",
          "text": [
            "Epoch 5/10, Loss: 0.0037401550319121975\n"
          ]
        },
        {
          "name": "stderr",
          "output_type": "stream",
          "text": [
            "Epoch 6/10 Training: 100%|██████████| 2078/2078 [00:29<00:00, 71.07it/s]\n"
          ]
        },
        {
          "name": "stdout",
          "output_type": "stream",
          "text": [
            "Epoch 6/10, Loss: 0.0036066553817167375\n"
          ]
        },
        {
          "name": "stderr",
          "output_type": "stream",
          "text": [
            "Epoch 7/10 Training: 100%|██████████| 2078/2078 [00:30<00:00, 69.20it/s]\n"
          ]
        },
        {
          "name": "stdout",
          "output_type": "stream",
          "text": [
            "Epoch 7/10, Loss: 0.003640041371970594\n"
          ]
        },
        {
          "name": "stderr",
          "output_type": "stream",
          "text": [
            "Epoch 8/10 Training: 100%|██████████| 2078/2078 [00:28<00:00, 71.67it/s]\n"
          ]
        },
        {
          "name": "stdout",
          "output_type": "stream",
          "text": [
            "Epoch 8/10, Loss: 0.0035350446610467705\n"
          ]
        },
        {
          "name": "stderr",
          "output_type": "stream",
          "text": [
            "Epoch 9/10 Training: 100%|██████████| 2078/2078 [00:29<00:00, 71.64it/s]\n"
          ]
        },
        {
          "name": "stdout",
          "output_type": "stream",
          "text": [
            "Epoch 9/10, Loss: 0.003413144494077465\n"
          ]
        },
        {
          "name": "stderr",
          "output_type": "stream",
          "text": [
            "Epoch 10/10 Training: 100%|██████████| 2078/2078 [00:29<00:00, 71.53it/s]\n"
          ]
        },
        {
          "name": "stdout",
          "output_type": "stream",
          "text": [
            "Epoch 10/10, Loss: 0.0033936735743560842\n"
          ]
        },
        {
          "name": "stderr",
          "output_type": "stream",
          "text": [
            "Epoch 20/20 Validation: 100%|██████████| 961/961 [00:05<00:00, 186.15it/s]\n"
          ]
        },
        {
          "name": "stdout",
          "output_type": "stream",
          "text": [
            "Validation MAPE: 38.22028945363151\n"
          ]
        },
        {
          "name": "stderr",
          "output_type": "stream",
          "text": [
            "Epoch 20/20 Validation: 100%|██████████| 961/961 [00:05<00:00, 174.97it/s]\n",
            "[I 2023-12-10 06:29:10,619] Trial 7 finished with value: 38.22028945363151 and parameters: {'num_blocks': 3, 'hidden_channels': 128}. Best is trial 5 with value: 21.910679850940525.\n",
            "Epoch 1/10 Training: 100%|██████████| 2078/2078 [00:35<00:00, 58.56it/s]\n"
          ]
        },
        {
          "name": "stdout",
          "output_type": "stream",
          "text": [
            "Epoch 1/10, Loss: 0.01123836001838872\n"
          ]
        },
        {
          "name": "stderr",
          "output_type": "stream",
          "text": [
            "Epoch 2/10 Training: 100%|██████████| 2078/2078 [00:35<00:00, 57.89it/s]\n"
          ]
        },
        {
          "name": "stdout",
          "output_type": "stream",
          "text": [
            "Epoch 2/10, Loss: 0.0040573757253313854\n"
          ]
        },
        {
          "name": "stderr",
          "output_type": "stream",
          "text": [
            "Epoch 3/10 Training: 100%|██████████| 2078/2078 [00:36<00:00, 57.59it/s]\n"
          ]
        },
        {
          "name": "stdout",
          "output_type": "stream",
          "text": [
            "Epoch 3/10, Loss: 0.003968190669973539\n"
          ]
        },
        {
          "name": "stderr",
          "output_type": "stream",
          "text": [
            "Epoch 4/10 Training: 100%|██████████| 2078/2078 [00:34<00:00, 59.81it/s]\n"
          ]
        },
        {
          "name": "stdout",
          "output_type": "stream",
          "text": [
            "Epoch 4/10, Loss: 0.0038203690198242942\n"
          ]
        },
        {
          "name": "stderr",
          "output_type": "stream",
          "text": [
            "Epoch 5/10 Training: 100%|██████████| 2078/2078 [00:35<00:00, 58.17it/s]\n"
          ]
        },
        {
          "name": "stdout",
          "output_type": "stream",
          "text": [
            "Epoch 5/10, Loss: 0.003685778104727039\n"
          ]
        },
        {
          "name": "stderr",
          "output_type": "stream",
          "text": [
            "Epoch 6/10 Training: 100%|██████████| 2078/2078 [00:36<00:00, 57.33it/s]\n"
          ]
        },
        {
          "name": "stdout",
          "output_type": "stream",
          "text": [
            "Epoch 6/10, Loss: 0.003590609415665563\n"
          ]
        },
        {
          "name": "stderr",
          "output_type": "stream",
          "text": [
            "Epoch 7/10 Training: 100%|██████████| 2078/2078 [00:35<00:00, 59.04it/s]\n"
          ]
        },
        {
          "name": "stdout",
          "output_type": "stream",
          "text": [
            "Epoch 7/10, Loss: 0.003602157829148306\n"
          ]
        },
        {
          "name": "stderr",
          "output_type": "stream",
          "text": [
            "Epoch 8/10 Training: 100%|██████████| 2078/2078 [00:36<00:00, 57.60it/s]\n"
          ]
        },
        {
          "name": "stdout",
          "output_type": "stream",
          "text": [
            "Epoch 8/10, Loss: 0.0035588892397589093\n"
          ]
        },
        {
          "name": "stderr",
          "output_type": "stream",
          "text": [
            "Epoch 9/10 Training: 100%|██████████| 2078/2078 [00:35<00:00, 58.23it/s]\n"
          ]
        },
        {
          "name": "stdout",
          "output_type": "stream",
          "text": [
            "Epoch 9/10, Loss: 0.0034661464640983633\n"
          ]
        },
        {
          "name": "stderr",
          "output_type": "stream",
          "text": [
            "Epoch 10/10 Training: 100%|██████████| 2078/2078 [00:35<00:00, 58.81it/s]\n"
          ]
        },
        {
          "name": "stdout",
          "output_type": "stream",
          "text": [
            "Epoch 10/10, Loss: 0.003452831405081407\n"
          ]
        },
        {
          "name": "stderr",
          "output_type": "stream",
          "text": [
            "Epoch 20/20 Validation: 100%|██████████| 961/961 [00:06<00:00, 144.27it/s]\n"
          ]
        },
        {
          "name": "stdout",
          "output_type": "stream",
          "text": [
            "Validation MAPE: 65.5462934353101\n"
          ]
        },
        {
          "name": "stderr",
          "output_type": "stream",
          "text": [
            "Epoch 20/20 Validation: 100%|██████████| 961/961 [00:05<00:00, 163.92it/s]\n",
            "[I 2023-12-10 06:35:19,734] Trial 8 finished with value: 65.5462934353101 and parameters: {'num_blocks': 6, 'hidden_channels': 64}. Best is trial 5 with value: 21.910679850940525.\n",
            "Epoch 1/10 Training: 100%|██████████| 2078/2078 [00:30<00:00, 68.79it/s]\n"
          ]
        },
        {
          "name": "stdout",
          "output_type": "stream",
          "text": [
            "Epoch 1/10, Loss: 0.007630928365972621\n"
          ]
        },
        {
          "name": "stderr",
          "output_type": "stream",
          "text": [
            "Epoch 2/10 Training: 100%|██████████| 2078/2078 [00:30<00:00, 67.13it/s]\n"
          ]
        },
        {
          "name": "stdout",
          "output_type": "stream",
          "text": [
            "Epoch 2/10, Loss: 0.004065458225045995\n"
          ]
        },
        {
          "name": "stderr",
          "output_type": "stream",
          "text": [
            "Epoch 3/10 Training: 100%|██████████| 2078/2078 [00:29<00:00, 69.46it/s]\n"
          ]
        },
        {
          "name": "stdout",
          "output_type": "stream",
          "text": [
            "Epoch 3/10, Loss: 0.0038734861281839368\n"
          ]
        },
        {
          "name": "stderr",
          "output_type": "stream",
          "text": [
            "Epoch 4/10 Training: 100%|██████████| 2078/2078 [00:30<00:00, 68.98it/s]\n"
          ]
        },
        {
          "name": "stdout",
          "output_type": "stream",
          "text": [
            "Epoch 4/10, Loss: 0.0037804765281015586\n"
          ]
        },
        {
          "name": "stderr",
          "output_type": "stream",
          "text": [
            "Epoch 5/10 Training: 100%|██████████| 2078/2078 [00:30<00:00, 68.84it/s]\n"
          ]
        },
        {
          "name": "stdout",
          "output_type": "stream",
          "text": [
            "Epoch 5/10, Loss: 0.0037223705561397753\n"
          ]
        },
        {
          "name": "stderr",
          "output_type": "stream",
          "text": [
            "Epoch 6/10 Training: 100%|██████████| 2078/2078 [00:30<00:00, 67.62it/s]\n"
          ]
        },
        {
          "name": "stdout",
          "output_type": "stream",
          "text": [
            "Epoch 6/10, Loss: 0.0036359321574422356\n"
          ]
        },
        {
          "name": "stderr",
          "output_type": "stream",
          "text": [
            "Epoch 7/10 Training: 100%|██████████| 2078/2078 [00:30<00:00, 68.28it/s]\n"
          ]
        },
        {
          "name": "stdout",
          "output_type": "stream",
          "text": [
            "Epoch 7/10, Loss: 0.003593674471648455\n"
          ]
        },
        {
          "name": "stderr",
          "output_type": "stream",
          "text": [
            "Epoch 8/10 Training: 100%|██████████| 2078/2078 [00:30<00:00, 68.84it/s]\n"
          ]
        },
        {
          "name": "stdout",
          "output_type": "stream",
          "text": [
            "Epoch 8/10, Loss: 0.0034986041259146955\n"
          ]
        },
        {
          "name": "stderr",
          "output_type": "stream",
          "text": [
            "Epoch 9/10 Training: 100%|██████████| 2078/2078 [00:29<00:00, 69.75it/s]\n"
          ]
        },
        {
          "name": "stdout",
          "output_type": "stream",
          "text": [
            "Epoch 9/10, Loss: 0.003452181864728841\n"
          ]
        },
        {
          "name": "stderr",
          "output_type": "stream",
          "text": [
            "Epoch 10/10 Training: 100%|██████████| 2078/2078 [00:30<00:00, 67.41it/s]\n"
          ]
        },
        {
          "name": "stdout",
          "output_type": "stream",
          "text": [
            "Epoch 10/10, Loss: 0.0034428728169369886\n"
          ]
        },
        {
          "name": "stderr",
          "output_type": "stream",
          "text": [
            "Epoch 20/20 Validation: 100%|██████████| 961/961 [00:05<00:00, 169.97it/s]\n"
          ]
        },
        {
          "name": "stdout",
          "output_type": "stream",
          "text": [
            "Validation MAPE: 28.374560223161616\n"
          ]
        },
        {
          "name": "stderr",
          "output_type": "stream",
          "text": [
            "Epoch 20/20 Validation: 100%|██████████| 961/961 [00:05<00:00, 189.30it/s]\n",
            "[I 2023-12-10 06:40:33,944] Trial 9 finished with value: 28.374560223161616 and parameters: {'num_blocks': 4, 'hidden_channels': 32}. Best is trial 5 with value: 21.910679850940525.\n"
          ]
        },
        {
          "name": "stdout",
          "output_type": "stream",
          "text": [
            "Best trial: {'num_blocks': 3, 'hidden_channels': 64}\n"
          ]
        }
      ],
      "source": [
        "import optuna\n",
        "\n",
        "def objective(trial):\n",
        "    # Define hyperparameter search space\n",
        "    num_blocks_options = [2, 3, 4, 5, 6]\n",
        "    hidden_channels_options = [32, 64, 128, 256]\n",
        "\n",
        "    # Define hyperparameters using trial object\n",
        "    num_blocks = trial.suggest_categorical('num_blocks', [2, 3, 4, 5, 6])\n",
        "    hidden_channels = trial.suggest_categorical('hidden_channels', [32, 64, 128, 256])\n",
        "\n",
        "    model = DeepTCN(num_series=32, num_outputs=10, num_blocks=num_blocks,\n",
        "                    kernel_size=3, hidden_channels=hidden_channels, num_covariates=6)\n",
        "\n",
        "    # Define loss function and optimizer\n",
        "    criterion = torch.nn.MSELoss()\n",
        "    optimizer = optim.Adam(model.parameters(), lr=0.001)\n",
        "    device = torch.device(\"cuda:0\" if torch.cuda.is_available() else \"cpu\")\n",
        "\n",
        "    # Train the model\n",
        "    train_model(model, train_loader, criterion, optimizer, device, num_epochs=10, num_outputs=10)\n",
        "\n",
        "    # Validate the model\n",
        "    val_mape = validate_model(model, val_loader, device, num_outputs=10)\n",
        "    print(f'Validation MAPE: {val_mape}')\n",
        "\n",
        "    val_mape = validate_model(model, val_loader, device, num_outputs=10)\n",
        "    return val_mape\n",
        "\n",
        "study = optuna.create_study(direction='minimize')\n",
        "study.optimize(objective, n_trials=10)\n",
        "\n",
        "print('Best trial:', study.best_trial.params)\n",
        "\n"
      ]
    }
  ],
  "metadata": {
    "accelerator": "GPU",
    "colab": {
      "gpuType": "V100",
      "provenance": []
    },
    "kernelspec": {
      "display_name": "Python 3",
      "name": "python3"
    },
    "language_info": {
      "codemirror_mode": {
        "name": "ipython",
        "version": 3
      },
      "file_extension": ".py",
      "mimetype": "text/x-python",
      "name": "python",
      "nbconvert_exporter": "python",
      "pygments_lexer": "ipython3",
      "version": "3.10.1"
    }
  },
  "nbformat": 4,
  "nbformat_minor": 0
}
