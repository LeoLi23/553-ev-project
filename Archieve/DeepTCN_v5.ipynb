{
  "nbformat": 4,
  "nbformat_minor": 0,
  "metadata": {
    "colab": {
      "provenance": [],
      "gpuType": "V100"
    },
    "kernelspec": {
      "name": "python3",
      "display_name": "Python 3"
    },
    "language_info": {
      "name": "python"
    },
    "accelerator": "GPU"
  },
  "cells": [
    {
      "cell_type": "code",
      "execution_count": 20,
      "metadata": {
        "id": "aBtOWWkJf9Nl"
      },
      "outputs": [],
      "source": [
        "import torch\n",
        "import torch.nn as nn\n",
        "import torch.nn.functional as F\n",
        "import pandas as pd\n",
        "import torch.optim as optim\n",
        "from tqdm import tqdm"
      ]
    },
    {
      "cell_type": "code",
      "source": [
        "class ResidualBlock(nn.Module):\n",
        "    def __init__(self, in_channels, out_channels, kernel_size, dilation):\n",
        "        super(ResidualBlock, self).__init__()\n",
        "        self.dilated_conv1 = nn.Conv1d(in_channels, out_channels, kernel_size, padding=dilation, dilation=dilation)\n",
        "        self.batch_norm1 = nn.BatchNorm1d(out_channels)\n",
        "        self.relu = nn.ReLU()\n",
        "        self.dilated_conv2 = nn.Conv1d(out_channels, out_channels, kernel_size, padding=dilation, dilation=dilation)\n",
        "        self.batch_norm2 = nn.BatchNorm1d(out_channels)\n",
        "\n",
        "        self.downsample = nn.Conv1d(in_channels, out_channels, 1) if in_channels != out_channels else None\n",
        "\n",
        "    def forward(self, x):\n",
        "        residual = x\n",
        "        out = self.dilated_conv1(x)\n",
        "        out = self.batch_norm1(out)\n",
        "        out = self.relu(out)\n",
        "        out = self.dilated_conv2(out)\n",
        "        out = self.batch_norm2(out)\n",
        "\n",
        "        if self.downsample is not None:\n",
        "            residual = self.downsample(x)\n",
        "\n",
        "        return self.relu(out + residual)\n",
        "\n",
        "class Decoder(nn.Module):\n",
        "    def __init__(self, in_channels, out_channels):\n",
        "        super(Decoder, self).__init__()\n",
        "        self.dense1 = nn.Linear(in_channels, out_channels)\n",
        "        self.batch_norm1 = nn.BatchNorm1d(out_channels)\n",
        "        self.dense2 = nn.Linear(out_channels, out_channels)\n",
        "        self.batch_norm2 = nn.BatchNorm1d(out_channels)\n",
        "        self.relu = nn.ReLU()\n",
        "\n",
        "    def forward(self, x):\n",
        "        out = self.dense1(x)\n",
        "        out = self.batch_norm1(out)\n",
        "        out = self.relu(out)\n",
        "        out = self.dense2(out)\n",
        "        out = self.batch_norm2(out)\n",
        "        return out\n",
        "\n",
        "class DeepTCN(nn.Module):\n",
        "    def __init__(self, num_series, num_outputs, num_blocks, kernel_size, hidden_channels, num_covariates):\n",
        "        super(DeepTCN, self).__init__()\n",
        "        self.num_covariates = num_covariates\n",
        "        layers = []\n",
        "        for i in range(num_blocks):\n",
        "            dilation_size = 2 ** i\n",
        "            in_channels = num_series if i == 0 else hidden_channels\n",
        "            layers += [ResidualBlock(in_channels, hidden_channels, kernel_size, dilation_size)]\n",
        "\n",
        "        self.encoder = nn.Sequential(*layers)\n",
        "        self.decoder = Decoder(hidden_channels + num_covariates, hidden_channels)\n",
        "        self.output_layer = nn.Linear(hidden_channels, 1)\n",
        "\n",
        "    def forward(self, x, covariates):\n",
        "        # Encoder\n",
        "        x = x.permute(0, 2, 1)  # Assuming input of shape [batch, seq_len, features]\n",
        "        x = self.encoder(x)\n",
        "\n",
        "        # Decoder\n",
        "        x = x.mean(dim=2)  # Global average pooling\n",
        "\n",
        "        outputs = []\n",
        "\n",
        "        for seq_len_idx in range(covariates.shape[1]):\n",
        "            current_covariate = covariates[:, seq_len_idx, :]\n",
        "            combined = torch.cat((x, current_covariate), dim=1)\n",
        "            decoded = self.decoder(combined)\n",
        "            outputs.append(decoded)\n",
        "\n",
        "        outputs = torch.stack(outputs, dim=1)\n",
        "        outputs = self.output_layer(outputs)\n",
        "        outputs = outputs.squeeze(-1)\n",
        "        return outputs"
      ],
      "metadata": {
        "id": "it72UMI4T9aR"
      },
      "execution_count": 21,
      "outputs": []
    },
    {
      "cell_type": "code",
      "source": [
        "import torch\n",
        "import random\n",
        "import pandas as pd\n",
        "import numpy as np\n",
        "import matplotlib.pyplot as plt\n",
        "import random\n",
        "from torch.utils.data import Dataset, DataLoader\n",
        "from sklearn.preprocessing import MinMaxScaler\n",
        "from sklearn.model_selection import train_test_split\n",
        "from torch.utils.data import TensorDataset, DataLoader\n",
        "# import metarhandler\n",
        "\n",
        "# Ignore warnings\n",
        "import warnings\n",
        "warnings.filterwarnings(\"ignore\")\n",
        "\n",
        "plt.ion()   # interactive mode\n",
        "\n",
        "\n",
        "# Function to create sequences\n",
        "# output_seq_len <= input_seq_len\n",
        "def create_sequences_new(data, features, target, input_seq_len, output_seq_len, shuffle=True, rand_state=42):\n",
        "    input_seq = []\n",
        "    output_seq = []\n",
        "    flight_ids = data['flight'].unique()\n",
        "\n",
        "    for id in flight_ids:\n",
        "        flight_input_data = data[data['flight'] == id][features].values\n",
        "        flight_output_data = data[data['flight'] == id][target].values\n",
        "        for i in range(len(flight_input_data) - input_seq_len - output_seq_len):\n",
        "            input_seq.append(flight_input_data[i:i+input_seq_len])\n",
        "            output_seq.append(flight_output_data[i+input_seq_len : i+input_seq_len+output_seq_len])\n",
        "\n",
        "    if shuffle:\n",
        "        combined = list(zip(input_seq, output_seq))\n",
        "        random.Random(rand_state).shuffle(combined)\n",
        "        input_seq, output_seq = zip(*combined)\n",
        "        input_seq = list(input_seq)\n",
        "        output_seq = list(output_seq)\n",
        "\n",
        "    return np.array(input_seq), np.array(output_seq)\n",
        "\n",
        "def create_sequences(input_data, output_data, input_seq_len, output_seq_len):\n",
        "    input_seq = []\n",
        "    output_seq = []\n",
        "    for i in range(len(input_data) - input_seq_len - output_seq_len):\n",
        "        input_seq.append(input_data[i:i+input_seq_len])\n",
        "        output_seq.append(output_data[i+input_seq_len : i+input_seq_len+output_seq_len])\n",
        "    return np.array(input_seq), np.array(output_seq)\n",
        "\n",
        "def create_dataloaders(data, input_seq_len, output_seq_len, test_size, val_size, batch_size, rand_state,\n",
        "                       target:str, features:list=None, covariates:bool=False):\n",
        "    # Generate Input and Output Sequences\n",
        "    if features is None:\n",
        "        features = getFeatures()\n",
        "    if covariates:\n",
        "        features = features + ['x_future','y_future','z_future']\n",
        "    assert target in features, \"Target must be in features\"\n",
        "    input_seq, output_seq = create_sequences(data[features].values,data[target].values, input_seq_len, output_seq_len)\n",
        "\n",
        "    # print(data[\"energy_consumed\"].values)\n",
        "\n",
        "    # Split the data into training, validation, and test sets\n",
        "    X_train, X_test, y_train, y_test = train_test_split(input_seq, output_seq, test_size=test_size, random_state=rand_state)\n",
        "    X_train, X_val, y_train, y_val = train_test_split(X_train, y_train, test_size=val_size, random_state=rand_state)  # 0.25 x 0.8 = 0.2\n",
        "\n",
        "    # Convert to PyTorch tensors\n",
        "    X_train = torch.tensor(X_train, dtype=torch.float32)\n",
        "    y_train = torch.tensor(y_train, dtype=torch.float32)\n",
        "    X_val = torch.tensor(X_val, dtype=torch.float32)\n",
        "    y_val = torch.tensor(y_val, dtype=torch.float32)\n",
        "    X_test = torch.tensor(X_test, dtype=torch.float32)\n",
        "    y_test = torch.tensor(y_test, dtype=torch.float32)\n",
        "\n",
        "    # create dataloader\n",
        "    train_data = TensorDataset(X_train, y_train)\n",
        "    train_loader = DataLoader(train_data, shuffle=True, batch_size=batch_size)\n",
        "\n",
        "    val_data = TensorDataset(X_val, y_val)\n",
        "    val_loader = DataLoader(val_data, batch_size=batch_size)\n",
        "\n",
        "    test_data = TensorDataset(X_test, y_test)\n",
        "    test_loader = DataLoader(test_data, batch_size=batch_size)\n",
        "\n",
        "    return train_loader, val_loader, test_loader\n",
        "\n",
        "def create_dataloaders_by_flights(data, input_seq_len, output_seq_len, test_size, val_size, batch_size, rand_state,\n",
        "                                  target: str, features: list=None, covariates: bool=False):\n",
        "    ##\n",
        "    # Getting data sets by unique flights\n",
        "    uniq_flights = data['flight'].unique().tolist()\n",
        "    num_flights = len(uniq_flights)\n",
        "\n",
        "    # By paper, [268, 269, 270, 271, 272, 273, 276, 277, 278, 279] are random flights and included in test set\n",
        "    force_test_flights = [268, 269, 270, 271, 272, 275, 276, 277, 278, 279]\n",
        "    uniq_flights = list(set(uniq_flights) - set(force_test_flights))\n",
        "\n",
        "    # Split the flights into training, validation, and test sets\n",
        "    random.Random(rand_state).shuffle(uniq_flights)\n",
        "    num_other_tests = max(0, round(num_flights * test_size) - 10)\n",
        "    test_flights = uniq_flights[:num_other_tests] + [268, 269, 270, 271, 272, 275, 276, 277, 278, 279]\n",
        "\n",
        "    num_val_flights = round(num_flights * val_size)\n",
        "    val_flights = uniq_flights[num_other_tests:num_other_tests + num_val_flights]\n",
        "\n",
        "    train_flights = uniq_flights[num_other_tests + num_val_flights:]\n",
        "\n",
        "    d_split = {'train': train_flights, 'val': val_flights, 'test': test_flights}\n",
        "\n",
        "    # # Split the data into training, validation, and test sets\n",
        "    # train_flights, test_flights = train_test_split(uniq_flights, test_size= test_size, random_state=rand_state)\n",
        "    # train_flights, val_flights = train_test_split(train_flights, test_size = val_size, random_state=rand_state)\n",
        "\n",
        "    train_data = data[data['flight'].isin(train_flights)]\n",
        "    val_data = data[data['flight'].isin(val_flights)]\n",
        "    test_data = data[data['flight'].isin(test_flights)]\n",
        "    # print(\"TRAIN DATA\")\n",
        "    # print(train_data)\n",
        "\n",
        "    # print(\"VAL DATA\")\n",
        "    # print(val_data)\n",
        "\n",
        "    # print(\"TEST DATA\")\n",
        "    # print(test_data)\n",
        "    # Generate Input and Output Sequences\n",
        "\n",
        "    assert target in features, \"Target must be in features\"\n",
        "\n",
        "    train_input_seq, train_output_seq = create_sequences_new(train_data, features, target, input_seq_len, output_seq_len, shuffle=True, rand_state=rand_state)\n",
        "    val_input_seq, val_output_seq = create_sequences_new(val_data, features, target, input_seq_len, output_seq_len, shuffle=True, rand_state=rand_state)\n",
        "    test_input_seq, test_output_seq = create_sequences_new(test_data, features, target, input_seq_len, output_seq_len, shuffle=True, rand_state=rand_state)\n",
        "\n",
        "    # Convert to PyTorch tensors\n",
        "    X_train = torch.tensor(train_input_seq, dtype=torch.float32)\n",
        "    y_train = torch.tensor(train_output_seq, dtype=torch.float32)\n",
        "    X_val = torch.tensor(val_input_seq, dtype=torch.float32)\n",
        "    y_val = torch.tensor(val_output_seq, dtype=torch.float32)\n",
        "    X_test = torch.tensor(test_input_seq, dtype=torch.float32)\n",
        "    y_test = torch.tensor(test_output_seq, dtype=torch.float32)\n",
        "\n",
        "    # create dataloader\n",
        "    train_data = TensorDataset(X_train, y_train)\n",
        "    train_loader = DataLoader(train_data, shuffle=True, batch_size=batch_size)\n",
        "\n",
        "    val_data = TensorDataset(X_val, y_val)\n",
        "    val_loader = DataLoader(val_data, batch_size=batch_size)\n",
        "\n",
        "    test_data = TensorDataset(X_test, y_test)\n",
        "    test_loader = DataLoader(test_data, batch_size=batch_size)\n",
        "    return train_loader, val_loader, test_loader, d_split\n",
        "    ##\n",
        "\n",
        "\n",
        "\n",
        "def parse_altitude(altitude_str):\n",
        "    altitude_str = str(altitude_str)\n",
        "    altitudes = [int(alt) for alt in altitude_str.split('-')]\n",
        "    max_altitude = max(altitudes)\n",
        "    min_altitude = min(altitudes)\n",
        "    mean_altitude = sum(altitudes) / len(altitudes)\n",
        "    return pd.Series([max_altitude, min_altitude, mean_altitude], index=['max_altitude', 'min_altitude', 'mean_altitude'])\n",
        "\n",
        "\n",
        "def calculate_consumptions(dataset):\n",
        "\n",
        "    # Calculate the time difference between each measurement\n",
        "    dataset['time_diff'] = dataset.groupby('flight')['time'].diff().fillna(0)\n",
        "\n",
        "    # Calculate current consumed in each interval (Coulombs = Amperes * Seconds)\n",
        "    dataset['current_atm'] = dataset['battery_current'] * dataset['time_diff']\n",
        "\n",
        "    # Calculate energy consumed in each interval (Coulombs = Amperes * Seconds)\n",
        "    dataset['energy_atm'] = dataset['battery_current'] *dataset['battery_voltage']* dataset['time_diff']\n",
        "\n",
        "    # Calculate the cumulative current consumption\n",
        "    dataset['current_consumed'] = dataset.groupby('flight')['current_atm'].cumsum()\n",
        "\n",
        "    # Calculate the cumulative energy consumption\n",
        "    dataset['energy_consumed'] = dataset.groupby('flight')['energy_atm'].cumsum()\n",
        "    return dataset\n",
        "\n",
        "def calculate_diff(group, step_into_future):\n",
        "    group['x_change'] = group['position_x'].shift(-step_into_future) - group['position_x'].shift(-step_into_future+1)\n",
        "    group['y_change'] = group['position_y'].shift(-step_into_future) - group['position_y'].shift(-step_into_future+1)\n",
        "    group['z_change'] = group['position_z'].shift(-step_into_future) - group['position_z'].shift(-step_into_future+1)\n",
        "    return group\n",
        "\n",
        "def calculate_futures(dataset, step_into_future = 12):\n",
        "    dataset['x_future'] = dataset.groupby('flight')['position_x'].shift(-step_into_future)\n",
        "    dataset['y_future'] = dataset.groupby('flight')['position_y'].shift(-step_into_future)\n",
        "    dataset['z_future'] = dataset.groupby('flight')['position_z'].shift(-step_into_future)\n",
        "    dataset = dataset.groupby('flight').apply(lambda group: calculate_diff(group, step_into_future))\n",
        "\n",
        "    dataset = dataset.dropna()\n",
        "    return dataset\n",
        "\n",
        "\n",
        "def get_data_loaders(data, input_seq_len = 10, output_seq_len = 2,\n",
        "    test_size = 0.2,\n",
        "    val_size = 0.25,\n",
        "    batch_size = 64,\n",
        "    rand_state = 42,\n",
        "    target = 'power',\n",
        "    trim:float=None,\n",
        "    features:list=None,\n",
        "    covariates:bool=False,\n",
        "    scale:bool=True):\n",
        "    # Read the data from the CSV file\n",
        "    # data = pd.read_csv('flights.csv')\n",
        "\n",
        "    #Drop broken data records for flight 211 -219\n",
        "    flights_to_remove = [211,212,213,214,215,216,217,218,219]\n",
        "    data = data[~data['flight'].isin(flights_to_remove)]\n",
        "\n",
        "    # Apply the function to the altitude column and join with the original dataframe\n",
        "    altitude_features = data['altitude'].apply(parse_altitude)\n",
        "    data = data.join(altitude_features)\n",
        "    # Now remove the original 'altitude' column as it's been replaced with numeric features\n",
        "    data.drop('altitude', axis=1, inplace=True)\n",
        "\n",
        "    #Convert Route ID to number 0-10\n",
        "    data['route'] = data['route'].replace(['R1','R2','R3','R4','R5','R6','R7','A1','A2','A3','H'],[0,1,2,3,4,5,6,7,8,9,10])\n",
        "    #Remove 'date' and 'time-day' from the dataset\n",
        "    data.drop(['date','time_day'], axis = 1, inplace = True)\n",
        "    #calculating power consumption (W)\n",
        "    data['power'] = data['battery_voltage'] * data['battery_current']\n",
        "\n",
        "    #calculation current consumption (Amp * s)\n",
        "    data = calculate_consumptions(data)\n",
        "    if covariates:\n",
        "        data = calculate_futures(data, input_seq_len)\n",
        "\n",
        "    # TODO: add air density as a feature (refer to paper code)\n",
        "\n",
        "    if features is None:\n",
        "        features = getFeatures()\n",
        "\n",
        "    if covariates:\n",
        "        features = features + ['x_future','y_future','z_future'] + ['x_change', 'y_change', 'z_change']\n",
        "\n",
        "    print(features)\n",
        "    # Apply MinMaxScaler to the features except time & flight\n",
        "    if scale:\n",
        "        scaler = MinMaxScaler()\n",
        "        data[features] = scaler.fit_transform(data[features])\n",
        "\n",
        "    #Create Data loaders\n",
        "\n",
        "    train_loader, val_loader, test_loader, d_split = create_dataloaders_by_flights(data, input_seq_len, output_seq_len, test_size, val_size, batch_size, rand_state, target,\n",
        "                                                                           features)\n",
        "    return data, train_loader, val_loader, test_loader, d_split\n",
        "\n",
        "def getFeatures(covariates = False):\n",
        "    if covariates:\n",
        "        return ['wind_speed','wind_angle','battery_voltage', 'battery_current', 'position_x', 'position_y', 'position_z',\n",
        "                                    'orientation_x', 'orientation_y', 'orientation_z', 'orientation_w', 'velocity_x', 'velocity_y', 'velocity_z',\n",
        "                                    'angular_x', 'angular_y', 'angular_z','linear_acceleration_x', 'linear_acceleration_y', 'linear_acceleration_z',\n",
        "                                    'speed', 'payload', 'max_altitude', 'min_altitude', 'mean_altitude','route','power','time_diff','current_atm',\n",
        "                                    'energy_atm','current_consumed','energy_consumed', 'x_future', 'y_future', 'z_future'\n",
        "                                    ,'x_change', 'y_change', 'z_change']\n",
        "    else:\n",
        "        return ['wind_speed','wind_angle','battery_voltage', 'battery_current', 'position_x', 'position_y', 'position_z',\n",
        "                                    'orientation_x', 'orientation_y', 'orientation_z', 'orientation_w', 'velocity_x', 'velocity_y', 'velocity_z',\n",
        "                                    'angular_x', 'angular_y', 'angular_z','linear_acceleration_x', 'linear_acceleration_y', 'linear_acceleration_z',\n",
        "                                    'speed', 'payload', 'max_altitude', 'min_altitude', 'mean_altitude','route','power','time_diff','current_atm',\n",
        "                                    'energy_atm','current_consumed','energy_consumed']\n",
        "\n",
        "\n",
        "if __name__ == \"__main__\":\n",
        "    data = pd.read_csv('flights.csv')\n",
        "    # data, train_loader, val_loader, test_loader = get_data_loaders(data, 24, 10)\n",
        "    features = getFeatures()\n",
        "    data = data.groupby('flight').apply(lambda group: calculate_diff(group, 2))\n",
        "    print(data)\n",
        "    print(data['position_z'])\n",
        "\n",
        "    print(len(getFeatures()))\n",
        "\n",
        "    # data, train_loader, val_loader, test_loader, d_split = get_data_loaders(data, 24,10, covariates=True)\n",
        "    # flight = random.choice(test_flights)\n",
        "    # print(flight)\n",
        "\n",
        "    print(data)\n",
        "\n",
        "    # #testing create_sequences_new()\n",
        "    # input1,output1 = create_sequences(data[features].values, data['power'].values, 24,10)\n",
        "    # print(\"Sequences dimension not separated by flight\")\n",
        "    # print(input1.shape)\n",
        "    # print(output1.shape)\n",
        "\n",
        "    # input2,output2 = create_sequences_new(data, 'power', 24,10)\n",
        "    # print(\"Sequences dimensions separated by flights\")\n",
        "    # print(input2.shape)\n",
        "    # print(output2.shape)\n",
        "\n",
        "\n",
        "\"\"\"\"\n",
        "TODO:\n",
        "1) add air density\n",
        "2) add location difference -- Done\n",
        "3) create seq strictly based on flight class -- DONE, create_sequences_new()\n",
        "4) create function to create seq based on flights -- Done, created unique lists for test/train flights\n",
        "5)\n",
        "\"\"\""
      ],
      "metadata": {
        "id": "5QdOTPyWz6xO"
      },
      "execution_count": null,
      "outputs": []
    },
    {
      "cell_type": "code",
      "source": [
        "# Load the data\n",
        "flights = pd.read_csv(\"flights.csv\")\n",
        "selected_features = ['payload', 'wind_speed', 'wind_angle', 'linear_acceleration_x', 'linear_acceleration_y', 'linear_acceleration_z', 'power']\n",
        "data, train_loader, val_loader, test_loader, d_split = get_data_loaders(data=flights,\n",
        "                                                                        features=selected_features,\n",
        "                                                                        input_seq_len=40,\n",
        "                                                                        output_seq_len=20,\n",
        "                                                                        covariates=True)"
      ],
      "metadata": {
        "id": "DzV0O8uFUOk4",
        "colab": {
          "base_uri": "https://localhost:8080/"
        },
        "outputId": "2efa3f82-4daa-4b66-a94d-8ddb644d9279"
      },
      "execution_count": 23,
      "outputs": [
        {
          "output_type": "stream",
          "name": "stdout",
          "text": [
            "['payload', 'wind_speed', 'wind_angle', 'linear_acceleration_x', 'linear_acceleration_y', 'linear_acceleration_z', 'power', 'x_future', 'y_future', 'z_future', 'x_change', 'y_change', 'z_change']\n"
          ]
        }
      ]
    },
    {
      "cell_type": "code",
      "source": [
        "for a,b in train_loader:\n",
        "    print(a.shape)\n",
        "    print(b.shape)\n",
        "    break"
      ],
      "metadata": {
        "colab": {
          "base_uri": "https://localhost:8080/"
        },
        "id": "94W57gcBoQE6",
        "outputId": "23ab02df-aba5-4ea1-f38a-3953c297c184"
      },
      "execution_count": 24,
      "outputs": [
        {
          "output_type": "stream",
          "name": "stdout",
          "text": [
            "torch.Size([64, 40, 13])\n",
            "torch.Size([64, 20])\n"
          ]
        }
      ]
    },
    {
      "cell_type": "code",
      "source": [
        "num_series = 7  # Historical features\n",
        "num_covariates = 6  # Future covariates\n",
        "num_outputs = 20  # Output sequence length\n",
        "num_blocks = 3  # Number of residual blocks\n",
        "kernel_size = 3  # Kernel size\n",
        "hidden_channels = 64  # Number of filters in convolutional layers\n",
        "\n",
        "model = DeepTCN(num_series=num_series, num_outputs=num_outputs, num_blocks=num_blocks,\n",
        "                kernel_size=kernel_size, hidden_channels=hidden_channels, num_covariates=num_covariates)\n",
        "\n",
        "criterion = torch.nn.MSELoss()\n",
        "optimizer = optim.Adam(model.parameters(), lr=0.001)\n",
        "device = torch.device(\"cuda:0\" if torch.cuda.is_available() else \"cpu\")\n",
        "model.to(device)\n",
        "\n",
        "best_val_mape = float('inf')\n",
        "best_epoch = 0\n",
        "patience = 3  # Number of epochs to wait for improvement before stopping\n",
        "epochs_no_improve = 0\n",
        "\n",
        "# Training loop\n",
        "num_epochs = 20\n",
        "for epoch in range(num_epochs):\n",
        "    model.train()  # Set the model to training mode\n",
        "    total_loss = 0\n",
        "    train_loader_with_progress = tqdm(train_loader, desc=f\"Epoch {epoch+1}/{num_epochs} Training\")\n",
        "\n",
        "    for batch_idx, (features, targets) in enumerate(train_loader_with_progress):\n",
        "        #print(features.shape)\n",
        "        # Separate historical features and covariates and move to device\n",
        "        historical_features = features[:, :, :-6].to(device)\n",
        "        covariates = features[:, :num_outputs, -6:].to(device)\n",
        "\n",
        "        targets = targets.to(device)\n",
        "\n",
        "        #print(\"historical_features shape = \", historical_features.shape)\n",
        "\n",
        "        # Forward pass\n",
        "        outputs = model(historical_features, covariates)\n",
        "\n",
        "        #print(\"Outputs shape:\", outputs.shape)\n",
        "        #print(\"Targets shape:\", targets.shape)\n",
        "\n",
        "        loss = criterion(outputs, targets)\n",
        "\n",
        "        # Backward pass and optimization\n",
        "        optimizer.zero_grad()\n",
        "        loss.backward()\n",
        "        optimizer.step()\n",
        "\n",
        "        total_loss += loss.item()\n",
        "        train_loader_with_progress.set_postfix({'Train Loss': loss.item()})\n",
        "\n",
        "    print(f'Epoch {epoch+1}/{num_epochs}, Loss: {total_loss/len(train_loader)}')\n",
        "\n",
        "    # Validation loop\n",
        "    model.eval()  # Set the model to evaluation mode\n",
        "    val_mape = 0\n",
        "    val_loader_with_progress = tqdm(val_loader, desc=f\"Epoch {epoch+1}/{num_epochs} Validation\")\n",
        "    with torch.no_grad():  # Disable gradient calculation\n",
        "        for val_features, val_targets in val_loader_with_progress:\n",
        "            val_historical_features = val_features[:, :, :-6].to(device)\n",
        "            val_covariates = val_features[:, :num_outputs, -6:].to(device)\n",
        "            val_targets = val_targets.to(device)\n",
        "\n",
        "            val_outputs = model(val_historical_features, val_covariates)\n",
        "            mape = torch.mean(torch.abs((val_targets - val_outputs) / (val_targets + 1e-8))) * 100  # Adding a small term to avoid division by zero\n",
        "            val_mape += mape.item()\n",
        "            val_loader_with_progress.set_postfix({'Val MAPE': mape.item()})\n",
        "\n",
        "        val_mape /= len(val_loader)\n",
        "\n",
        "        print(f'Validation MAPE: {val_mape}')\n",
        "\n",
        "        # Check for improvement\n",
        "        if val_mape < best_val_mape:\n",
        "            best_val_mape = val_mape\n",
        "            best_epoch = epoch + 1\n",
        "            best_model_path = f'DeepTCN_all_epoch_{best_epoch}_val_mape_{best_val_mape:.4f}.pt'\n",
        "            torch.save(model.state_dict(), best_model_path)\n",
        "            epochs_no_improve = 0\n",
        "        else:\n",
        "            epochs_no_improve += 1\n",
        "\n",
        "        # Early stopping check\n",
        "        if epochs_no_improve >= patience:\n",
        "            print(f\"Early stopping triggered. Loading best model from epoch {best_epoch}\")\n",
        "            model.load_state_dict(torch.load(best_model_path))\n",
        "            break\n",
        "    # Save the model with the lowest validation MAPE\n",
        "\n",
        "# After training\n",
        "if best_epoch > 0:\n",
        "    print(f'Best Validation MAPE: {best_val_mape} at Epoch: {best_epoch}')\n",
        "else:\n",
        "    print(\"Early stopping was triggered but no improvement was observed.\")"
      ],
      "metadata": {
        "colab": {
          "base_uri": "https://localhost:8080/"
        },
        "id": "mqsbEjNUUOnC",
        "outputId": "f6a37e90-be12-47d0-83bb-acc517681b4b"
      },
      "execution_count": 25,
      "outputs": [
        {
          "output_type": "stream",
          "name": "stderr",
          "text": [
            "Epoch 1/20 Training: 100%|██████████| 1975/1975 [00:52<00:00, 37.31it/s, Train Loss=0.00989]\n"
          ]
        },
        {
          "output_type": "stream",
          "name": "stdout",
          "text": [
            "Epoch 1/20, Loss: 0.011124403915026143\n"
          ]
        },
        {
          "output_type": "stream",
          "name": "stderr",
          "text": [
            "Epoch 1/20 Validation: 100%|██████████| 914/914 [00:11<00:00, 79.41it/s, Val MAPE=17]\n"
          ]
        },
        {
          "output_type": "stream",
          "name": "stdout",
          "text": [
            "Validation MAPE: 54.97222016207238\n"
          ]
        },
        {
          "output_type": "stream",
          "name": "stderr",
          "text": [
            "Epoch 2/20 Training: 100%|██████████| 1975/1975 [00:54<00:00, 35.93it/s, Train Loss=0.00769]\n"
          ]
        },
        {
          "output_type": "stream",
          "name": "stdout",
          "text": [
            "Epoch 2/20, Loss: 0.006191087843425855\n"
          ]
        },
        {
          "output_type": "stream",
          "name": "stderr",
          "text": [
            "Epoch 2/20 Validation: 100%|██████████| 914/914 [00:11<00:00, 78.19it/s, Val MAPE=119]\n"
          ]
        },
        {
          "output_type": "stream",
          "name": "stdout",
          "text": [
            "Validation MAPE: 231.10925522309685\n"
          ]
        },
        {
          "output_type": "stream",
          "name": "stderr",
          "text": [
            "Epoch 3/20 Training: 100%|██████████| 1975/1975 [00:54<00:00, 36.07it/s, Train Loss=0.00646]\n"
          ]
        },
        {
          "output_type": "stream",
          "name": "stdout",
          "text": [
            "Epoch 3/20, Loss: 0.00575651906796177\n"
          ]
        },
        {
          "output_type": "stream",
          "name": "stderr",
          "text": [
            "Epoch 3/20 Validation: 100%|██████████| 914/914 [00:11<00:00, 77.05it/s, Val MAPE=35]\n"
          ]
        },
        {
          "output_type": "stream",
          "name": "stdout",
          "text": [
            "Validation MAPE: 72.16948643815857\n"
          ]
        },
        {
          "output_type": "stream",
          "name": "stderr",
          "text": [
            "Epoch 4/20 Training: 100%|██████████| 1975/1975 [00:53<00:00, 37.14it/s, Train Loss=0.00714]\n"
          ]
        },
        {
          "output_type": "stream",
          "name": "stdout",
          "text": [
            "Epoch 4/20, Loss: 0.005460167040199607\n"
          ]
        },
        {
          "output_type": "stream",
          "name": "stderr",
          "text": [
            "Epoch 4/20 Validation: 100%|██████████| 914/914 [00:12<00:00, 75.86it/s, Val MAPE=20.6]\n"
          ]
        },
        {
          "output_type": "stream",
          "name": "stdout",
          "text": [
            "Validation MAPE: 42.95115445531432\n"
          ]
        },
        {
          "output_type": "stream",
          "name": "stderr",
          "text": [
            "Epoch 5/20 Training: 100%|██████████| 1975/1975 [00:53<00:00, 36.94it/s, Train Loss=0.0082]\n"
          ]
        },
        {
          "output_type": "stream",
          "name": "stdout",
          "text": [
            "Epoch 5/20, Loss: 0.005193352684897335\n"
          ]
        },
        {
          "output_type": "stream",
          "name": "stderr",
          "text": [
            "Epoch 5/20 Validation: 100%|██████████| 914/914 [00:11<00:00, 79.63it/s, Val MAPE=26.6]\n"
          ]
        },
        {
          "output_type": "stream",
          "name": "stdout",
          "text": [
            "Validation MAPE: 63.70933726058225\n"
          ]
        },
        {
          "output_type": "stream",
          "name": "stderr",
          "text": [
            "Epoch 6/20 Training: 100%|██████████| 1975/1975 [00:52<00:00, 37.28it/s, Train Loss=0.00356]\n"
          ]
        },
        {
          "output_type": "stream",
          "name": "stdout",
          "text": [
            "Epoch 6/20, Loss: 0.005007044888702752\n"
          ]
        },
        {
          "output_type": "stream",
          "name": "stderr",
          "text": [
            "Epoch 6/20 Validation: 100%|██████████| 914/914 [00:12<00:00, 74.69it/s, Val MAPE=42.3]\n"
          ]
        },
        {
          "output_type": "stream",
          "name": "stdout",
          "text": [
            "Validation MAPE: 78.0401601394887\n"
          ]
        },
        {
          "output_type": "stream",
          "name": "stderr",
          "text": [
            "Epoch 7/20 Training: 100%|██████████| 1975/1975 [00:54<00:00, 36.24it/s, Train Loss=0.00797]\n"
          ]
        },
        {
          "output_type": "stream",
          "name": "stdout",
          "text": [
            "Epoch 7/20, Loss: 0.004877816101748355\n"
          ]
        },
        {
          "output_type": "stream",
          "name": "stderr",
          "text": [
            "Epoch 7/20 Validation: 100%|██████████| 914/914 [00:11<00:00, 77.56it/s, Val MAPE=57.3]\n"
          ]
        },
        {
          "output_type": "stream",
          "name": "stdout",
          "text": [
            "Validation MAPE: 87.41724253013828\n",
            "Early stopping triggered. Loading best model from epoch 4\n",
            "Best Validation MAPE: 42.95115445531432 at Epoch: 4\n"
          ]
        }
      ]
    },
    {
      "cell_type": "code",
      "source": [
        "model.load_state_dict(torch.load('/content/DeepTCN_best_model.pt', map_location=torch.device('cpu')))"
      ],
      "metadata": {
        "colab": {
          "base_uri": "https://localhost:8080/"
        },
        "id": "mpd4wH30SD5p",
        "outputId": "17339472-f3db-4378-a4b3-2a09144bb7cf"
      },
      "execution_count": null,
      "outputs": [
        {
          "output_type": "execute_result",
          "data": {
            "text/plain": [
              "<All keys matched successfully>"
            ]
          },
          "metadata": {},
          "execution_count": 37
        }
      ]
    },
    {
      "cell_type": "code",
      "source": [
        "total_params = sum(p.numel() for p in model.parameters())\n",
        "trainable_params = sum(p.numel() for p in model.parameters() if p.requires_grad)\n",
        "\n",
        "print(f\"Total Parameters: {total_params}\")\n",
        "print(f\"Trainable Parameters: {trainable_params}\")"
      ],
      "metadata": {
        "colab": {
          "base_uri": "https://localhost:8080/"
        },
        "id": "5JHhkqb0L6D0",
        "outputId": "5d248c52-bbe1-49e8-d6ab-22d972b15b39"
      },
      "execution_count": 26,
      "outputs": [
        {
          "output_type": "stream",
          "name": "stdout",
          "text": [
            "Total Parameters: 73473\n",
            "Trainable Parameters: 73473\n"
          ]
        }
      ]
    },
    {
      "cell_type": "code",
      "source": [
        "# Assuming 'data' is your dataset, 'features' is the list of feature names, and 'create_sequences_new' is your sequence creation function\n",
        "# Modify 'create_sequences_new' as necessary to handle your data correctly\n",
        "def create_sequences_new(data, features, target, input_seq_len, output_seq_len, shuffle=True, rand_state=42):\n",
        "    input_seq = []\n",
        "    output_seq = []\n",
        "    flight_ids = data['flight'].unique()\n",
        "\n",
        "    for id in flight_ids:\n",
        "        flight_input_data = data[data['flight'] == id][features].values\n",
        "        flight_output_data = data[data['flight'] == id][target].values\n",
        "        for i in range(len(flight_input_data) - input_seq_len - output_seq_len):\n",
        "            input_seq.append(flight_input_data[i:i+input_seq_len])\n",
        "            output_seq.append(flight_output_data[i+input_seq_len : i+input_seq_len+output_seq_len])\n",
        "\n",
        "    if shuffle:\n",
        "        random.Random(rand_state).shuffle(input_seq)\n",
        "        random.Random(rand_state).shuffle(output_seq)\n",
        "\n",
        "    return np.array(input_seq), np.array(output_seq)\n",
        "\n",
        "def getFeatures(covariates=False):\n",
        "    features = ['wind_speed','wind_angle','battery_voltage', 'battery_current', 'position_x', 'position_y', 'position_z',\n",
        "                                    'orientation_x', 'orientation_y', 'orientation_z', 'orientation_w', 'velocity_x', 'velocity_y', 'velocity_z',\n",
        "                                    'angular_x', 'angular_y', 'angular_z','linear_acceleration_x', 'linear_acceleration_y', 'linear_acceleration_z',\n",
        "                                    'speed', 'payload', 'max_altitude', 'min_altitude', 'mean_altitude','route','power','time_diff','current_atm',\n",
        "                                    'energy_atm','current_consumed','energy_consumed']\n",
        "    if covariates:\n",
        "        features += ['x_future','y_future','z_future'] + ['x_change', 'y_change','z_change']\n",
        "    return features\n",
        "\n",
        "def plot_output(y_pred_seq, y_true_seq, seq_len, focus_length=100):\n",
        "    pred_arr = y_pred_seq[:focus_length].cpu().numpy().flatten()\n",
        "    true_arr = y_true_seq[:focus_length].cpu().numpy().flatten()\n",
        "\n",
        "    # Set up subplots\n",
        "    fig, axs = plt.subplots(2, 1, figsize=(15, 10), sharex=True)\n",
        "\n",
        "    # Plot predictions and actual values\n",
        "    axs[0].plot(pred_arr, 'r-', label='Predicted', linewidth=2.0)\n",
        "    axs[0].plot(true_arr, 'b-', label='Actual', linewidth=2.0)\n",
        "    axs[0].set_title('Predicted vs Actual Power Consumption')\n",
        "    axs[0].set_ylabel('Power Consumption')\n",
        "    axs[0].legend()\n",
        "    axs[0].grid(True)\n",
        "\n",
        "    # Plot the difference\n",
        "    difference = np.abs(pred_arr - true_arr)\n",
        "    axs[1].plot(difference, 'k--', label='Difference', linewidth=2.0)\n",
        "    axs[1].set_title('Difference in Power Consumption')\n",
        "    axs[1].set_ylabel('Absolute Difference')\n",
        "    axs[1].set_xlabel('Sequence Index')\n",
        "    axs[1].legend()\n",
        "    axs[1].grid(True)\n",
        "\n",
        "    # Show the plot\n",
        "    plt.show()\n",
        "\n",
        "def plot_output_old(y_pred_seq, y_true_seq, seq_len):\n",
        "    pred_arr = []\n",
        "    true_arr = []\n",
        "    for i in range(0,len(y_pred_seq),seq_len):\n",
        "        for j in range(seq_len):\n",
        "            if y_true_seq[i][j].detach().numpy() >0 :\n",
        "                pred_arr.append(y_pred_seq[i][j].detach().numpy())\n",
        "                true_arr.append(y_true_seq[i][j].detach().numpy())\n",
        "\n",
        "\n",
        "    plt.figure(figsize=(20, 5))\n",
        "    plt.plot(pred_arr, label='prediction_seq')\n",
        "    plt.plot(true_arr, label='GndTruth_seq', linewidth=1.0)\n",
        "    plt.title('pred vs groundtruth')\n",
        "    plt.xlabel('Seq index')\n",
        "    plt.ylabel('Energy Consumed')\n",
        "    plt.legend()\n",
        "    plt.grid(True)\n",
        "    plt.show()"
      ],
      "metadata": {
        "id": "OlZqGu26Kb3_"
      },
      "execution_count": 27,
      "outputs": []
    },
    {
      "cell_type": "code",
      "source": [
        "import random\n",
        "import numpy as np\n",
        "import matplotlib.pyplot as plt\n",
        "\n",
        "#model.load_state_dict(torch.load('/content/TCN_model_epoch_13_val_loss_0.0017.pt', map_location=torch.device('cpu')))\n",
        "model.eval()\n",
        "\n",
        "features = getFeatures(covariates=True)\n",
        "print(\"features length = \", len(features))\n",
        "\n",
        "flights_nums = d_split['test']\n",
        "flight_num = random.choice(flights_nums)\n",
        "\n",
        "\n",
        "print(\"flight_num = \", flight_num)\n",
        "test_data = data[(data['flight'] == flight_num) & (data['power'] > 0.05)]\n",
        "\n",
        "\n",
        "# Generate sequences\n",
        "input_seq, output_seq = create_sequences(input_data=test_data[features].values, output_data=test_data['power'].values, input_seq_len=20, output_seq_len=10)\n",
        "\n",
        "# Convert sequences to tensors and move to device\n",
        "input_seq = torch.tensor(input_seq, dtype=torch.float32).to('cuda')  # Replace 'cpu' with 'cuda' if using GPU\n",
        "output_seq = torch.tensor(output_seq, dtype=torch.float32).to('cuda')\n",
        "\n",
        "mape_list = []\n",
        "\n",
        "# Make predictions\n",
        "with torch.no_grad():\n",
        "    historical_features = input_seq[:, :, :-6]  # All but the last 6 columns\n",
        "    covariates = input_seq[:, :num_outputs, -6:]          # Only the last 6 columns\n",
        "\n",
        "    outputs = model(historical_features, covariates)\n",
        "\n",
        "    targets = output_seq\n",
        "\n",
        "    # Calculate error metrics\n",
        "    error = nn.MSELoss()(outputs, targets)\n",
        "    print(f\"Test loss: {error}\")\n",
        "\n",
        "    mape = torch.mean(torch.abs((targets - outputs) / (targets + 1e-8))) * 100\n",
        "    print(f\"MAPE: {mape.item()}\")\n",
        "    mape_list.append(mape)\n",
        "\n",
        "    # Call the function with the outputs and targets\n",
        "    #plot_output(outputs, targets, seq_len=2, focus_length=100)\n",
        "    plot_output_old(outputs.cpu(), targets.cpu(), num_outputs)\n"
      ],
      "metadata": {
        "colab": {
          "base_uri": "https://localhost:8080/",
          "height": 269
        },
        "id": "9nFEenEtUOrR",
        "outputId": "d7c59b8e-bd83-4f04-ef4e-59b195abe959"
      },
      "execution_count": null,
      "outputs": [
        {
          "output_type": "stream",
          "name": "stdout",
          "text": [
            "features length =  38\n",
            "flight_num =  267\n",
            "Test loss: 0.00341510190628469\n",
            "MAPE: 9.820266723632812\n"
          ]
        },
        {
          "output_type": "display_data",
          "data": {
            "text/plain": [
              "<Figure size 2000x500 with 1 Axes>"
            ],
            "image/png": "[encoded data removed]"
          },
          "metadata": {}
        }
      ]
    },
    {
      "cell_type": "code",
      "source": [
        "# Predict Test with selected features model\n",
        "\n",
        "import random\n",
        "import numpy as np\n",
        "import matplotlib.pyplot as plt\n",
        "\n",
        "#model.load_state_dict(torch.load('/content/DeepTCN_selected_epoch_4_val_mape_33.0281.pt', map_location=torch.device('cpu')))\n",
        "model.eval()\n",
        "\n",
        "selected_features = ['payload', 'wind_speed', 'wind_angle', 'linear_acceleration_x', 'linear_acceleration_y', 'linear_acceleration_z', 'power']\n",
        "selected_features += ['x_future', 'y_future', 'z_future' ,'x_change', 'y_change', 'z_change']\n",
        "\n",
        "print(\"features length = \", len(selected_features))\n",
        "\n",
        "flights_nums = d_split['test']\n",
        "flight_num = random.choice(flights_nums)\n",
        "\n",
        "print(\"flight_num = \", flight_num)\n",
        "test_data = data[(data['flight'] == flight_num) & (data['power'] > 0.05)]\n",
        "\n",
        "\n",
        "# Generate sequences\n",
        "input_seq, output_seq = create_sequences(input_data=test_data[selected_features].values, output_data=test_data['power'].values, input_seq_len=20, output_seq_len=10)\n",
        "\n",
        "# Convert sequences to tensors and move to device\n",
        "input_seq = torch.tensor(input_seq, dtype=torch.float32).to('cuda')  # Replace 'cpu' with 'cuda' if using GPU\n",
        "output_seq = torch.tensor(output_seq, dtype=torch.float32).to('cuda')\n",
        "\n",
        "mape_list = []\n",
        "\n",
        "# Make predictions\n",
        "with torch.no_grad():\n",
        "    historical_features = input_seq[:, :, :-6]  # All but the last 6 columns\n",
        "    covariates = input_seq[:, :num_outputs, -6:]          # Only the last 6 columns\n",
        "\n",
        "    outputs = model(historical_features, covariates)\n",
        "\n",
        "    targets = output_seq\n",
        "\n",
        "    # Calculate error metrics\n",
        "    error = nn.MSELoss()(outputs, targets)\n",
        "    print(f\"Test loss: {error}\")\n",
        "\n",
        "    mape = torch.mean(torch.abs((targets - outputs) / (targets + 1e-8))) * 100\n",
        "    print(f\"MAPE: {mape.item()}\")\n",
        "    mape_list.append(mape)\n",
        "\n",
        "    # Call the function with the outputs and targets\n",
        "    #plot_output(outputs, targets, seq_len=2, focus_length=100)\n",
        "    plot_output_old(outputs.cpu(), targets.cpu(), num_outputs)\n"
      ],
      "metadata": {
        "colab": {
          "base_uri": "https://localhost:8080/",
          "height": 362
        },
        "id": "YlgOb_rPyogj",
        "outputId": "894fb8b1-589e-4f4e-b6ef-4fee085a5d1c"
      },
      "execution_count": null,
      "outputs": [
        {
          "output_type": "stream",
          "name": "stdout",
          "text": [
            "features length =  13\n",
            "flight_num =  201\n",
            "Test loss: 0.0035091624595224857\n",
            "MAPE: 9.57310676574707\n"
          ]
        },
        {
          "output_type": "display_data",
          "data": {
            "text/plain": [
              "<Figure size 2000x500 with 1 Axes>"
            ],
            "image/png": "[encoded data removed]"
          },
          "metadata": {}
        }
      ]
    },
    {
      "cell_type": "code",
      "source": [
        "import random\n",
        "import numpy as np\n",
        "import matplotlib.pyplot as plt\n",
        "from sklearn.metrics import r2_score\n",
        "\n",
        "# Define loss functions\n",
        "huber_loss_function = nn.SmoothL1Loss()\n",
        "mae_loss_function = nn.L1Loss()\n",
        "\n",
        "# Lists to store metrics\n",
        "huber_loss_list = []\n",
        "mae_list = []\n",
        "r2_score_list = []\n",
        "\n",
        "#model.load_state_dict(torch.load('/content/DeepTCN_epoch_4_val_mape_21.7186.pt', map_location=torch.device('cpu')))\n",
        "model.eval()\n",
        "mape_list = []\n",
        "\n",
        "selected_features = ['payload', 'wind_speed', 'wind_angle', 'linear_acceleration_x', 'linear_acceleration_y', 'linear_acceleration_z', 'power'] + ['x_future', 'y_future', 'z_future' ,'x_change', 'y_change', 'z_change']\n",
        "\n",
        "print(\"features length = \", len(selected_features))\n",
        "\n",
        "for flight_num in d_split['test']:\n",
        "    test_data = data[(data['flight'] == flight_num) & (data['power'] > 0.05)]\n",
        "\n",
        "    # Generate sequences\n",
        "    input_seq, output_seq = create_sequences(input_data=test_data[selected_features].values, output_data=test_data['power'].values, input_seq_len=40, output_seq_len=20)\n",
        "\n",
        "    # Convert sequences to tensors and move to device\n",
        "    input_seq = torch.tensor(input_seq, dtype=torch.float32).to('cuda')  # Replace 'cpu' with 'cuda' if using GPU\n",
        "    output_seq = torch.tensor(output_seq, dtype=torch.float32).to('cuda')\n",
        "\n",
        "    # Make predictions\n",
        "    with torch.no_grad():\n",
        "        #print(input_seq.shape)\n",
        "\n",
        "        if input_seq.nelement() == 0:\n",
        "            continue\n",
        "        historical_features = input_seq[:, :, :-6]  # All but the last 6 columns\n",
        "        covariates = input_seq[:, :num_outputs, -6:]          # Only the last 6 columns\n",
        "\n",
        "        outputs = model(historical_features, covariates)\n",
        "        targets = output_seq\n",
        "\n",
        "        mape = torch.mean(torch.abs((targets - outputs) / (targets + 1e-8)))\n",
        "        #print(f\"MAPE: {mape.item()}\")\n",
        "        mape_list.append(mape.item())\n",
        "\n",
        "        # Calculate Huber loss\n",
        "        huber_loss = huber_loss_function(outputs, targets)\n",
        "        huber_loss_list.append(huber_loss.item())\n",
        "\n",
        "        # Calculate MAE\n",
        "        mae = mae_loss_function(outputs, targets)\n",
        "        mae_list.append(mae.item())\n",
        "\n",
        "        # Calculate R2 Score\n",
        "        # Note: Convert tensors to numpy arrays for sklearn metrics\n",
        "        outputs_np = outputs.cpu().detach().numpy()\n",
        "        targets_np = targets.cpu().detach().numpy()\n",
        "        r2 = r2_score(targets_np, outputs_np)\n",
        "        r2_score_list.append(r2)\n",
        "\n",
        "avg_huber_loss = sum(huber_loss_list) / len(huber_loss_list)\n",
        "avg_mae = sum(mae_list) / len(mae_list)\n",
        "avg_r2_score = sum(r2_score_list) / len(r2_score_list)\n",
        "\n",
        "print(\"Average Huber Loss = \", avg_huber_loss)\n",
        "print(\"Average MAE = \", avg_mae)\n",
        "print(\"Average R2 Score = \", avg_r2_score)\n",
        "print(\"avg mape = \", sum(mape_list) / len(mape_list))"
      ],
      "metadata": {
        "colab": {
          "base_uri": "https://localhost:8080/"
        },
        "id": "oC4o0fTujUaG",
        "outputId": "12c11c83-8544-4963-aa07-8c9041b6a55b"
      },
      "execution_count": 29,
      "outputs": [
        {
          "output_type": "stream",
          "name": "stdout",
          "text": [
            "features length =  13\n",
            "Average Huber Loss =  0.002156037688837387\n",
            "Average MAE =  0.04679777454584837\n",
            "Average R2 Score =  0.11806041837228713\n",
            "avg mape =  0.10451956912875175\n"
          ]
        }
      ]
    },
    {
      "cell_type": "code",
      "source": [
        "import random\n",
        "import numpy as np\n",
        "import matplotlib.pyplot as plt\n",
        "from sklearn.metrics import r2_score\n",
        "\n",
        "# Define loss functions\n",
        "huber_loss_function = nn.SmoothL1Loss()\n",
        "mae_loss_function = nn.L1Loss()\n",
        "\n",
        "# Lists to store metrics\n",
        "huber_loss_list = []\n",
        "mae_list = []\n",
        "r2_score_list = []\n",
        "\n",
        "#model.load_state_dict(torch.load('/content/DeepTCN_epoch_4_val_mape_21.7186.pt', map_location=torch.device('cpu')))\n",
        "model.eval()\n",
        "mape_list = []\n",
        "\n",
        "features = getFeatures(covariates=True)\n",
        "\n",
        "print(\"features length = \", len(features))\n",
        "\n",
        "for flight_num in d_split['test']:\n",
        "    test_data = data[(data['flight'] == flight_num) & (data['power'] > 0.05)]\n",
        "\n",
        "    # Generate sequences\n",
        "    input_seq, output_seq = create_sequences(input_data=test_data[features].values, output_data=test_data['power'].values, input_seq_len=40, output_seq_len=20)\n",
        "\n",
        "    # Convert sequences to tensors and move to device\n",
        "    input_seq = torch.tensor(input_seq, dtype=torch.float32).to('cuda')  # Replace 'cpu' with 'cuda' if using GPU\n",
        "    output_seq = torch.tensor(output_seq, dtype=torch.float32).to('cuda')\n",
        "\n",
        "    # Make predictions\n",
        "    with torch.no_grad():\n",
        "        #print(input_seq.shape)\n",
        "\n",
        "        if input_seq.nelement() == 0:\n",
        "            continue\n",
        "        historical_features = input_seq[:, :, :-6]  # All but the last 6 columns\n",
        "        covariates = input_seq[:, :num_outputs, -6:]          # Only the last 6 columns\n",
        "\n",
        "        outputs = model(historical_features, covariates)\n",
        "        targets = output_seq\n",
        "\n",
        "        #print(outputs.shape)\n",
        "        #print(targets.shape)\n",
        "\n",
        "        mape = torch.mean(torch.abs((targets - outputs) / (targets + 1e-8)))\n",
        "        #print(f\"MAPE: {mape.item()}\")\n",
        "        mape_list.append(mape.item())\n",
        "\n",
        "        # Calculate Huber loss\n",
        "        huber_loss = huber_loss_function(outputs, targets)\n",
        "        huber_loss_list.append(huber_loss.item())\n",
        "\n",
        "        # Calculate MAE\n",
        "        mae = mae_loss_function(outputs, targets)\n",
        "        mae_list.append(mae.item())\n",
        "\n",
        "        # Calculate R2 Score\n",
        "        # Note: Convert tensors to numpy arrays for sklearn metrics\n",
        "        outputs_np = outputs.cpu().detach().numpy()\n",
        "        targets_np = targets.cpu().detach().numpy()\n",
        "        r2 = r2_score(targets_np, outputs_np)\n",
        "        r2_score_list.append(r2)\n",
        "\n",
        "avg_huber_loss = sum(huber_loss_list) / len(huber_loss_list)\n",
        "avg_mae = sum(mae_list) / len(mae_list)\n",
        "avg_r2_score = sum(r2_score_list) / len(r2_score_list)\n",
        "\n",
        "print(\"Average Huber Loss = \", avg_huber_loss)\n",
        "print(\"Average MAE = \", avg_mae)\n",
        "print(\"Average R2 Score = \", avg_r2_score)\n",
        "print(\"avg mape = \", sum(mape_list) / len(mape_list))"
      ],
      "metadata": {
        "colab": {
          "base_uri": "https://localhost:8080/"
        },
        "id": "RBoYZfTexgdC",
        "outputId": "79225e91-3b36-4aa9-f4fa-fcbc3c2bbc27"
      },
      "execution_count": 13,
      "outputs": [
        {
          "output_type": "stream",
          "name": "stdout",
          "text": [
            "features length =  38\n",
            "Average Huber Loss =  0.0026156989770242944\n",
            "Average MAE =  0.04840259323827922\n",
            "Average R2 Score =  0.017167996193725187\n",
            "avg mape =  0.09897792227566242\n"
          ]
        }
      ]
    },
    {
      "cell_type": "code",
      "source": [
        "import torch\n",
        "import torch.optim as optim\n",
        "from torch.utils.data import DataLoader\n",
        "from tqdm import tqdm\n",
        "import random\n",
        "\n",
        "# Define your model, ResidualBlock, Decoder, and DeepTCN (omitted for brevity)\n",
        "\n",
        "def train_model(model, train_loader, criterion, optimizer, device, num_epochs, num_outputs):\n",
        "    model.to(device)\n",
        "    model.train()  # Set the model to training mode\n",
        "\n",
        "    for epoch in range(num_epochs):\n",
        "        total_loss = 0\n",
        "        train_loader_with_progress = tqdm(train_loader, desc=f\"Epoch {epoch+1}/{num_epochs} Training\")\n",
        "        for features, targets in train_loader_with_progress:\n",
        "            historical_features = features[:, :, :-6].to(device)\n",
        "            covariates = features[:, :num_outputs, -6:].to(device)\n",
        "            targets = targets.to(device)\n",
        "\n",
        "            # Forward pass\n",
        "            outputs = model(historical_features, covariates)\n",
        "            loss = criterion(outputs, targets)\n",
        "\n",
        "            # Backward pass and optimization\n",
        "            optimizer.zero_grad()\n",
        "            loss.backward()\n",
        "            optimizer.step()\n",
        "\n",
        "            total_loss += loss.item()\n",
        "\n",
        "        avg_loss = total_loss / len(train_loader)\n",
        "        print(f'Epoch {epoch + 1}/{num_epochs}, Loss: {avg_loss}')\n",
        "\n",
        "def validate_model(model, val_loader, device, num_outputs):\n",
        "    model.eval()  # Set the model to evaluation mode\n",
        "    val_mape = 0\n",
        "    val_loader_with_progress = tqdm(val_loader, desc=f\"Epoch {epoch+1}/{num_epochs} Validation\")\n",
        "    with torch.no_grad():  # Disable gradient calculation\n",
        "        for val_features, val_targets in val_loader_with_progress:\n",
        "            val_historical_features = val_features[:, :, :-6].to(device)\n",
        "            val_covariates = val_features[:, :num_outputs, -6:].to(device)\n",
        "            val_targets = val_targets.to(device)\n",
        "\n",
        "            val_outputs = model(val_historical_features, val_covariates)\n",
        "            mape = torch.mean(torch.abs((val_targets - val_outputs) / (val_targets + 1e-8))) * 100\n",
        "            val_mape += mape.item()\n",
        "\n",
        "    avg_mape = val_mape / len(val_loader)\n",
        "    return avg_mape\n",
        "\n",
        "# Define hyperparameter search space\n",
        "num_blocks_options = [2, 3, 4, 5, 6]\n",
        "hidden_channels_options = [32, 64, 128, 256]\n",
        "\n",
        "# Random Search Implementation\n",
        "best_val_mape = float('inf')\n",
        "best_hyperparams = {}\n",
        "num_iterations = 5\n",
        "\n",
        "for iteration in range(num_iterations):\n",
        "    # Randomly sample hyperparameters\n",
        "    num_blocks = random.choice(num_blocks_options)\n",
        "    hidden_channels = random.choice(hidden_channels_options)\n",
        "\n",
        "    # Instantiate the model with the selected hyperparameters\n",
        "    model = DeepTCN(num_series=32, num_outputs=10, num_blocks=num_blocks,\n",
        "                    kernel_size=3, hidden_channels=hidden_channels, num_covariates=6)\n",
        "\n",
        "    # Define loss function and optimizer\n",
        "    criterion = torch.nn.MSELoss()\n",
        "    optimizer = optim.Adam(model.parameters(), lr=0.001)\n",
        "    device = torch.device(\"cuda:0\" if torch.cuda.is_available() else \"cpu\")\n",
        "\n",
        "    # Train the model\n",
        "    train_model(model, train_loader, criterion, optimizer, device, num_epochs=10, num_outputs=10)\n",
        "\n",
        "    # Validate the model\n",
        "    val_mape = validate_model(model, val_loader, device, num_outputs=10)\n",
        "    print(f'Validation MAPE: {val_mape}')\n",
        "\n",
        "    # Update best MAPE and hyperparameters if current model is better\n",
        "    if val_mape < best_val_mape:\n",
        "        best_val_mape = val_mape\n",
        "        best_hyperparams = {\n",
        "            'num_blocks': num_blocks,\n",
        "            'kernel_size': kernel_size,\n",
        "            'hidden_channels': hidden_channels\n",
        "        }\n",
        "        print(f\"New best MAPE: {best_val_mape:.4f} with hyperparameters: {best_hyperparams}\")\n",
        "\n",
        "print(f\"Best MAPE: {best_val_mape:.4f} with hyperparameters: {best_hyperparams}\")"
      ],
      "metadata": {
        "colab": {
          "base_uri": "https://localhost:8080/",
          "height": 669
        },
        "id": "UKCAkpcC9uv0",
        "outputId": "f04395da-a36a-4292-d101-79d75549f6b3"
      },
      "execution_count": null,
      "outputs": [
        {
          "output_type": "stream",
          "name": "stderr",
          "text": [
            "Epoch 1/10 Training: 100%|██████████| 2078/2078 [00:43<00:00, 47.32it/s]\n"
          ]
        },
        {
          "output_type": "stream",
          "name": "stdout",
          "text": [
            "Epoch 1/10, Loss: 0.009126945542166219\n"
          ]
        },
        {
          "output_type": "stream",
          "name": "stderr",
          "text": [
            "Epoch 2/10 Training: 100%|██████████| 2078/2078 [00:37<00:00, 55.20it/s]\n"
          ]
        },
        {
          "output_type": "stream",
          "name": "stdout",
          "text": [
            "Epoch 2/10, Loss: 0.004135466863939501\n"
          ]
        },
        {
          "output_type": "stream",
          "name": "stderr",
          "text": [
            "Epoch 3/10 Training: 100%|██████████| 2078/2078 [00:36<00:00, 57.09it/s]\n"
          ]
        },
        {
          "output_type": "stream",
          "name": "stdout",
          "text": [
            "Epoch 3/10, Loss: 0.00389433654246599\n"
          ]
        },
        {
          "output_type": "stream",
          "name": "stderr",
          "text": [
            "Epoch 4/10 Training: 100%|██████████| 2078/2078 [00:33<00:00, 62.43it/s]\n"
          ]
        },
        {
          "output_type": "stream",
          "name": "stdout",
          "text": [
            "Epoch 4/10, Loss: 0.00380565293148497\n"
          ]
        },
        {
          "output_type": "stream",
          "name": "stderr",
          "text": [
            "Epoch 5/10 Training: 100%|██████████| 2078/2078 [00:31<00:00, 65.84it/s]\n"
          ]
        },
        {
          "output_type": "stream",
          "name": "stdout",
          "text": [
            "Epoch 5/10, Loss: 0.0037514192362103514\n"
          ]
        },
        {
          "output_type": "stream",
          "name": "stderr",
          "text": [
            "Epoch 6/10 Training: 100%|██████████| 2078/2078 [00:33<00:00, 61.46it/s]\n"
          ]
        },
        {
          "output_type": "stream",
          "name": "stdout",
          "text": [
            "Epoch 6/10, Loss: 0.0036546228033010027\n"
          ]
        },
        {
          "output_type": "stream",
          "name": "stderr",
          "text": [
            "Epoch 7/10 Training: 100%|██████████| 2078/2078 [00:32<00:00, 63.45it/s]\n"
          ]
        },
        {
          "output_type": "stream",
          "name": "stdout",
          "text": [
            "Epoch 7/10, Loss: 0.003611970572311994\n"
          ]
        },
        {
          "output_type": "stream",
          "name": "stderr",
          "text": [
            "Epoch 8/10 Training:  68%|██████▊   | 1407/2078 [00:21<00:10, 65.13it/s]\n"
          ]
        },
        {
          "output_type": "error",
          "ename": "KeyboardInterrupt",
          "evalue": "ignored",
          "traceback": [
            "\u001b[0;31m---------------------------------------------------------------------------\u001b[0m",
            "\u001b[0;31mKeyboardInterrupt\u001b[0m                         Traceback (most recent call last)",
            "\u001b[0;32m<ipython-input-199-2edc43656ac2>\u001b[0m in \u001b[0;36m<cell line: 64>\u001b[0;34m()\u001b[0m\n\u001b[1;32m     77\u001b[0m \u001b[0;34m\u001b[0m\u001b[0m\n\u001b[1;32m     78\u001b[0m     \u001b[0;31m# Train the model\u001b[0m\u001b[0;34m\u001b[0m\u001b[0;34m\u001b[0m\u001b[0m\n\u001b[0;32m---> 79\u001b[0;31m     \u001b[0mtrain_model\u001b[0m\u001b[0;34m(\u001b[0m\u001b[0mmodel\u001b[0m\u001b[0;34m,\u001b[0m \u001b[0mtrain_loader\u001b[0m\u001b[0;34m,\u001b[0m \u001b[0mcriterion\u001b[0m\u001b[0;34m,\u001b[0m \u001b[0moptimizer\u001b[0m\u001b[0;34m,\u001b[0m \u001b[0mdevice\u001b[0m\u001b[0;34m,\u001b[0m \u001b[0mnum_epochs\u001b[0m\u001b[0;34m=\u001b[0m\u001b[0;36m10\u001b[0m\u001b[0;34m,\u001b[0m \u001b[0mnum_outputs\u001b[0m\u001b[0;34m=\u001b[0m\u001b[0;36m10\u001b[0m\u001b[0;34m)\u001b[0m\u001b[0;34m\u001b[0m\u001b[0;34m\u001b[0m\u001b[0m\n\u001b[0m\u001b[1;32m     80\u001b[0m \u001b[0;34m\u001b[0m\u001b[0m\n\u001b[1;32m     81\u001b[0m     \u001b[0;31m# Validate the model\u001b[0m\u001b[0;34m\u001b[0m\u001b[0;34m\u001b[0m\u001b[0m\n",
            "\u001b[0;32m<ipython-input-199-2edc43656ac2>\u001b[0m in \u001b[0;36mtrain_model\u001b[0;34m(model, train_loader, criterion, optimizer, device, num_epochs, num_outputs)\u001b[0m\n\u001b[1;32m     26\u001b[0m             \u001b[0;31m# Backward pass and optimization\u001b[0m\u001b[0;34m\u001b[0m\u001b[0;34m\u001b[0m\u001b[0m\n\u001b[1;32m     27\u001b[0m             \u001b[0moptimizer\u001b[0m\u001b[0;34m.\u001b[0m\u001b[0mzero_grad\u001b[0m\u001b[0;34m(\u001b[0m\u001b[0;34m)\u001b[0m\u001b[0;34m\u001b[0m\u001b[0;34m\u001b[0m\u001b[0m\n\u001b[0;32m---> 28\u001b[0;31m             \u001b[0mloss\u001b[0m\u001b[0;34m.\u001b[0m\u001b[0mbackward\u001b[0m\u001b[0;34m(\u001b[0m\u001b[0;34m)\u001b[0m\u001b[0;34m\u001b[0m\u001b[0;34m\u001b[0m\u001b[0m\n\u001b[0m\u001b[1;32m     29\u001b[0m             \u001b[0moptimizer\u001b[0m\u001b[0;34m.\u001b[0m\u001b[0mstep\u001b[0m\u001b[0;34m(\u001b[0m\u001b[0;34m)\u001b[0m\u001b[0;34m\u001b[0m\u001b[0;34m\u001b[0m\u001b[0m\n\u001b[1;32m     30\u001b[0m \u001b[0;34m\u001b[0m\u001b[0m\n",
            "\u001b[0;32m/usr/local/lib/python3.10/dist-packages/torch/_tensor.py\u001b[0m in \u001b[0;36mbackward\u001b[0;34m(self, gradient, retain_graph, create_graph, inputs)\u001b[0m\n\u001b[1;32m    490\u001b[0m                 \u001b[0minputs\u001b[0m\u001b[0;34m=\u001b[0m\u001b[0minputs\u001b[0m\u001b[0;34m,\u001b[0m\u001b[0;34m\u001b[0m\u001b[0;34m\u001b[0m\u001b[0m\n\u001b[1;32m    491\u001b[0m             )\n\u001b[0;32m--> 492\u001b[0;31m         torch.autograd.backward(\n\u001b[0m\u001b[1;32m    493\u001b[0m             \u001b[0mself\u001b[0m\u001b[0;34m,\u001b[0m \u001b[0mgradient\u001b[0m\u001b[0;34m,\u001b[0m \u001b[0mretain_graph\u001b[0m\u001b[0;34m,\u001b[0m \u001b[0mcreate_graph\u001b[0m\u001b[0;34m,\u001b[0m \u001b[0minputs\u001b[0m\u001b[0;34m=\u001b[0m\u001b[0minputs\u001b[0m\u001b[0;34m\u001b[0m\u001b[0;34m\u001b[0m\u001b[0m\n\u001b[1;32m    494\u001b[0m         )\n",
            "\u001b[0;32m/usr/local/lib/python3.10/dist-packages/torch/autograd/__init__.py\u001b[0m in \u001b[0;36mbackward\u001b[0;34m(tensors, grad_tensors, retain_graph, create_graph, grad_variables, inputs)\u001b[0m\n\u001b[1;32m    249\u001b[0m     \u001b[0;31m# some Python versions print out the first line of a multi-line function\u001b[0m\u001b[0;34m\u001b[0m\u001b[0;34m\u001b[0m\u001b[0m\n\u001b[1;32m    250\u001b[0m     \u001b[0;31m# calls in the traceback and some print out the last line\u001b[0m\u001b[0;34m\u001b[0m\u001b[0;34m\u001b[0m\u001b[0m\n\u001b[0;32m--> 251\u001b[0;31m     Variable._execution_engine.run_backward(  # Calls into the C++ engine to run the backward pass\n\u001b[0m\u001b[1;32m    252\u001b[0m         \u001b[0mtensors\u001b[0m\u001b[0;34m,\u001b[0m\u001b[0;34m\u001b[0m\u001b[0;34m\u001b[0m\u001b[0m\n\u001b[1;32m    253\u001b[0m         \u001b[0mgrad_tensors_\u001b[0m\u001b[0;34m,\u001b[0m\u001b[0;34m\u001b[0m\u001b[0;34m\u001b[0m\u001b[0m\n",
            "\u001b[0;31mKeyboardInterrupt\u001b[0m: "
          ]
        }
      ]
    },
    {
      "cell_type": "code",
      "source": [
        "import optuna\n",
        "\n",
        "def objective(trial):\n",
        "    # Define hyperparameter search space\n",
        "    num_blocks_options = [2, 3, 4, 5, 6]\n",
        "    hidden_channels_options = [32, 64, 128, 256]\n",
        "\n",
        "    # Define hyperparameters using trial object\n",
        "    num_blocks = trial.suggest_categorical('num_blocks', [2, 3, 4, 5, 6])\n",
        "    hidden_channels = trial.suggest_categorical('hidden_channels', [32, 64, 128, 256])\n",
        "\n",
        "    model = DeepTCN(num_series=32, num_outputs=10, num_blocks=num_blocks,\n",
        "                    kernel_size=3, hidden_channels=hidden_channels, num_covariates=6)\n",
        "\n",
        "    # Define loss function and optimizer\n",
        "    criterion = torch.nn.MSELoss()\n",
        "    optimizer = optim.Adam(model.parameters(), lr=0.001)\n",
        "    device = torch.device(\"cuda:0\" if torch.cuda.is_available() else \"cpu\")\n",
        "\n",
        "    # Train the model\n",
        "    train_model(model, train_loader, criterion, optimizer, device, num_epochs=10, num_outputs=10)\n",
        "\n",
        "    # Validate the model\n",
        "    val_mape = validate_model(model, val_loader, device, num_outputs=10)\n",
        "    print(f'Validation MAPE: {val_mape}')\n",
        "\n",
        "    val_mape = validate_model(model, val_loader, device, num_outputs=10)\n",
        "    return val_mape\n",
        "\n",
        "study = optuna.create_study(direction='minimize')\n",
        "study.optimize(objective, n_trials=10)\n",
        "\n",
        "print('Best trial:', study.best_trial.params)\n",
        "\n"
      ],
      "metadata": {
        "colab": {
          "base_uri": "https://localhost:8080/"
        },
        "id": "y93fRqVPPu-s",
        "outputId": "35dc7fcc-4deb-4bb2-d4d9-950bed3e97e5"
      },
      "execution_count": null,
      "outputs": [
        {
          "output_type": "stream",
          "name": "stderr",
          "text": [
            "[I 2023-12-10 05:46:05,499] A new study created in memory with name: no-name-90061ccb-3202-4bec-8e28-4271cb2a0aa8\n",
            "Epoch 1/10 Training: 100%|██████████| 2078/2078 [00:38<00:00, 53.35it/s]\n"
          ]
        },
        {
          "output_type": "stream",
          "name": "stdout",
          "text": [
            "Epoch 1/10, Loss: 0.011518778279871895\n"
          ]
        },
        {
          "output_type": "stream",
          "name": "stderr",
          "text": [
            "Epoch 2/10 Training: 100%|██████████| 2078/2078 [00:38<00:00, 54.49it/s]\n"
          ]
        },
        {
          "output_type": "stream",
          "name": "stdout",
          "text": [
            "Epoch 2/10, Loss: 0.004360614325205819\n"
          ]
        },
        {
          "output_type": "stream",
          "name": "stderr",
          "text": [
            "Epoch 3/10 Training: 100%|██████████| 2078/2078 [00:38<00:00, 54.64it/s]\n"
          ]
        },
        {
          "output_type": "stream",
          "name": "stdout",
          "text": [
            "Epoch 3/10, Loss: 0.004193609925946068\n"
          ]
        },
        {
          "output_type": "stream",
          "name": "stderr",
          "text": [
            "Epoch 4/10 Training: 100%|██████████| 2078/2078 [00:37<00:00, 54.85it/s]\n"
          ]
        },
        {
          "output_type": "stream",
          "name": "stdout",
          "text": [
            "Epoch 4/10, Loss: 0.004050912073384468\n"
          ]
        },
        {
          "output_type": "stream",
          "name": "stderr",
          "text": [
            "Epoch 5/10 Training: 100%|██████████| 2078/2078 [00:37<00:00, 54.95it/s]\n"
          ]
        },
        {
          "output_type": "stream",
          "name": "stdout",
          "text": [
            "Epoch 5/10, Loss: 0.003935876514131151\n"
          ]
        },
        {
          "output_type": "stream",
          "name": "stderr",
          "text": [
            "Epoch 6/10 Training: 100%|██████████| 2078/2078 [00:36<00:00, 56.85it/s]\n"
          ]
        },
        {
          "output_type": "stream",
          "name": "stdout",
          "text": [
            "Epoch 6/10, Loss: 0.003781961446260017\n"
          ]
        },
        {
          "output_type": "stream",
          "name": "stderr",
          "text": [
            "Epoch 7/10 Training: 100%|██████████| 2078/2078 [00:38<00:00, 54.60it/s]\n"
          ]
        },
        {
          "output_type": "stream",
          "name": "stdout",
          "text": [
            "Epoch 7/10, Loss: 0.0037152788027470236\n"
          ]
        },
        {
          "output_type": "stream",
          "name": "stderr",
          "text": [
            "Epoch 8/10 Training: 100%|██████████| 2078/2078 [00:37<00:00, 54.90it/s]\n"
          ]
        },
        {
          "output_type": "stream",
          "name": "stdout",
          "text": [
            "Epoch 8/10, Loss: 0.003695110569421661\n"
          ]
        },
        {
          "output_type": "stream",
          "name": "stderr",
          "text": [
            "Epoch 9/10 Training: 100%|██████████| 2078/2078 [00:37<00:00, 55.98it/s]\n"
          ]
        },
        {
          "output_type": "stream",
          "name": "stdout",
          "text": [
            "Epoch 9/10, Loss: 0.0035229391926299885\n"
          ]
        },
        {
          "output_type": "stream",
          "name": "stderr",
          "text": [
            "Epoch 10/10 Training: 100%|██████████| 2078/2078 [00:37<00:00, 55.44it/s]\n"
          ]
        },
        {
          "output_type": "stream",
          "name": "stdout",
          "text": [
            "Epoch 10/10, Loss: 0.003486805576633902\n"
          ]
        },
        {
          "output_type": "stream",
          "name": "stderr",
          "text": [
            "Epoch 20/20 Validation: 100%|██████████| 961/961 [00:07<00:00, 122.95it/s]\n"
          ]
        },
        {
          "output_type": "stream",
          "name": "stdout",
          "text": [
            "Validation MAPE: 50.69277047068966\n"
          ]
        },
        {
          "output_type": "stream",
          "name": "stderr",
          "text": [
            "Epoch 20/20 Validation: 100%|██████████| 961/961 [00:06<00:00, 142.04it/s]\n",
            "[I 2023-12-10 05:52:38,098] Trial 0 finished with value: 50.69277047068966 and parameters: {'num_blocks': 5, 'hidden_channels': 256}. Best is trial 0 with value: 50.69277047068966.\n",
            "Epoch 1/10 Training: 100%|██████████| 2078/2078 [00:26<00:00, 78.65it/s]\n"
          ]
        },
        {
          "output_type": "stream",
          "name": "stdout",
          "text": [
            "Epoch 1/10, Loss: 0.007705370109172894\n"
          ]
        },
        {
          "output_type": "stream",
          "name": "stderr",
          "text": [
            "Epoch 2/10 Training: 100%|██████████| 2078/2078 [00:26<00:00, 78.72it/s]\n"
          ]
        },
        {
          "output_type": "stream",
          "name": "stdout",
          "text": [
            "Epoch 2/10, Loss: 0.0041157783970910845\n"
          ]
        },
        {
          "output_type": "stream",
          "name": "stderr",
          "text": [
            "Epoch 3/10 Training: 100%|██████████| 2078/2078 [00:26<00:00, 78.58it/s]\n"
          ]
        },
        {
          "output_type": "stream",
          "name": "stdout",
          "text": [
            "Epoch 3/10, Loss: 0.0038328757163928685\n"
          ]
        },
        {
          "output_type": "stream",
          "name": "stderr",
          "text": [
            "Epoch 4/10 Training: 100%|██████████| 2078/2078 [00:26<00:00, 78.64it/s]\n"
          ]
        },
        {
          "output_type": "stream",
          "name": "stdout",
          "text": [
            "Epoch 4/10, Loss: 0.0037196430861026666\n"
          ]
        },
        {
          "output_type": "stream",
          "name": "stderr",
          "text": [
            "Epoch 5/10 Training: 100%|██████████| 2078/2078 [00:26<00:00, 78.92it/s]\n"
          ]
        },
        {
          "output_type": "stream",
          "name": "stdout",
          "text": [
            "Epoch 5/10, Loss: 0.003671330954548764\n"
          ]
        },
        {
          "output_type": "stream",
          "name": "stderr",
          "text": [
            "Epoch 6/10 Training: 100%|██████████| 2078/2078 [00:26<00:00, 79.52it/s]\n"
          ]
        },
        {
          "output_type": "stream",
          "name": "stdout",
          "text": [
            "Epoch 6/10, Loss: 0.003612385655007539\n"
          ]
        },
        {
          "output_type": "stream",
          "name": "stderr",
          "text": [
            "Epoch 7/10 Training: 100%|██████████| 2078/2078 [00:26<00:00, 78.69it/s]\n"
          ]
        },
        {
          "output_type": "stream",
          "name": "stdout",
          "text": [
            "Epoch 7/10, Loss: 0.0035336343425324255\n"
          ]
        },
        {
          "output_type": "stream",
          "name": "stderr",
          "text": [
            "Epoch 8/10 Training: 100%|██████████| 2078/2078 [00:26<00:00, 78.49it/s]\n"
          ]
        },
        {
          "output_type": "stream",
          "name": "stdout",
          "text": [
            "Epoch 8/10, Loss: 0.003427696772781582\n"
          ]
        },
        {
          "output_type": "stream",
          "name": "stderr",
          "text": [
            "Epoch 9/10 Training: 100%|██████████| 2078/2078 [00:26<00:00, 78.46it/s]\n"
          ]
        },
        {
          "output_type": "stream",
          "name": "stdout",
          "text": [
            "Epoch 9/10, Loss: 0.00349800653620762\n"
          ]
        },
        {
          "output_type": "stream",
          "name": "stderr",
          "text": [
            "Epoch 10/10 Training: 100%|██████████| 2078/2078 [00:26<00:00, 78.87it/s]\n"
          ]
        },
        {
          "output_type": "stream",
          "name": "stdout",
          "text": [
            "Epoch 10/10, Loss: 0.0033557749880747593\n"
          ]
        },
        {
          "output_type": "stream",
          "name": "stderr",
          "text": [
            "Epoch 20/20 Validation: 100%|██████████| 961/961 [00:04<00:00, 213.23it/s]\n"
          ]
        },
        {
          "output_type": "stream",
          "name": "stdout",
          "text": [
            "Validation MAPE: 81.02305243985337\n"
          ]
        },
        {
          "output_type": "stream",
          "name": "stderr",
          "text": [
            "Epoch 20/20 Validation: 100%|██████████| 961/961 [00:04<00:00, 214.11it/s]\n",
            "[I 2023-12-10 05:57:11,072] Trial 1 finished with value: 81.02305243985337 and parameters: {'num_blocks': 2, 'hidden_channels': 64}. Best is trial 0 with value: 50.69277047068966.\n",
            "Epoch 1/10 Training: 100%|██████████| 2078/2078 [00:33<00:00, 62.23it/s]\n"
          ]
        },
        {
          "output_type": "stream",
          "name": "stdout",
          "text": [
            "Epoch 1/10, Loss: 0.010901735132908371\n"
          ]
        },
        {
          "output_type": "stream",
          "name": "stderr",
          "text": [
            "Epoch 2/10 Training: 100%|██████████| 2078/2078 [00:32<00:00, 63.86it/s]\n"
          ]
        },
        {
          "output_type": "stream",
          "name": "stdout",
          "text": [
            "Epoch 2/10, Loss: 0.004065369742062423\n"
          ]
        },
        {
          "output_type": "stream",
          "name": "stderr",
          "text": [
            "Epoch 3/10 Training: 100%|██████████| 2078/2078 [00:33<00:00, 62.20it/s]\n"
          ]
        },
        {
          "output_type": "stream",
          "name": "stdout",
          "text": [
            "Epoch 3/10, Loss: 0.003841125926216195\n"
          ]
        },
        {
          "output_type": "stream",
          "name": "stderr",
          "text": [
            "Epoch 4/10 Training: 100%|██████████| 2078/2078 [00:32<00:00, 63.98it/s]\n"
          ]
        },
        {
          "output_type": "stream",
          "name": "stdout",
          "text": [
            "Epoch 4/10, Loss: 0.003769762288943503\n"
          ]
        },
        {
          "output_type": "stream",
          "name": "stderr",
          "text": [
            "Epoch 5/10 Training: 100%|██████████| 2078/2078 [00:32<00:00, 63.96it/s]\n"
          ]
        },
        {
          "output_type": "stream",
          "name": "stdout",
          "text": [
            "Epoch 5/10, Loss: 0.0037617068209450538\n"
          ]
        },
        {
          "output_type": "stream",
          "name": "stderr",
          "text": [
            "Epoch 6/10 Training: 100%|██████████| 2078/2078 [00:33<00:00, 62.65it/s]\n"
          ]
        },
        {
          "output_type": "stream",
          "name": "stdout",
          "text": [
            "Epoch 6/10, Loss: 0.0036404703717873295\n"
          ]
        },
        {
          "output_type": "stream",
          "name": "stderr",
          "text": [
            "Epoch 7/10 Training: 100%|██████████| 2078/2078 [00:32<00:00, 64.93it/s]\n"
          ]
        },
        {
          "output_type": "stream",
          "name": "stdout",
          "text": [
            "Epoch 7/10, Loss: 0.003567974156963606\n"
          ]
        },
        {
          "output_type": "stream",
          "name": "stderr",
          "text": [
            "Epoch 8/10 Training: 100%|██████████| 2078/2078 [00:33<00:00, 62.12it/s]\n"
          ]
        },
        {
          "output_type": "stream",
          "name": "stdout",
          "text": [
            "Epoch 8/10, Loss: 0.0035628658529219537\n"
          ]
        },
        {
          "output_type": "stream",
          "name": "stderr",
          "text": [
            "Epoch 9/10 Training: 100%|██████████| 2078/2078 [00:32<00:00, 64.50it/s]\n"
          ]
        },
        {
          "output_type": "stream",
          "name": "stdout",
          "text": [
            "Epoch 9/10, Loss: 0.003454750740234637\n"
          ]
        },
        {
          "output_type": "stream",
          "name": "stderr",
          "text": [
            "Epoch 10/10 Training: 100%|██████████| 2078/2078 [00:32<00:00, 63.63it/s]\n"
          ]
        },
        {
          "output_type": "stream",
          "name": "stdout",
          "text": [
            "Epoch 10/10, Loss: 0.003437493153990276\n"
          ]
        },
        {
          "output_type": "stream",
          "name": "stderr",
          "text": [
            "Epoch 20/20 Validation: 100%|██████████| 961/961 [00:05<00:00, 162.41it/s]\n"
          ]
        },
        {
          "output_type": "stream",
          "name": "stdout",
          "text": [
            "Validation MAPE: 29.522367561769038\n"
          ]
        },
        {
          "output_type": "stream",
          "name": "stderr",
          "text": [
            "Epoch 20/20 Validation: 100%|██████████| 961/961 [00:05<00:00, 179.51it/s]\n",
            "[I 2023-12-10 06:02:50,270] Trial 2 finished with value: 29.522367561769038 and parameters: {'num_blocks': 5, 'hidden_channels': 32}. Best is trial 2 with value: 29.522367561769038.\n",
            "Epoch 1/10 Training: 100%|██████████| 2078/2078 [00:33<00:00, 61.25it/s]\n"
          ]
        },
        {
          "output_type": "stream",
          "name": "stdout",
          "text": [
            "Epoch 1/10, Loss: 0.010045661375025616\n"
          ]
        },
        {
          "output_type": "stream",
          "name": "stderr",
          "text": [
            "Epoch 2/10 Training: 100%|██████████| 2078/2078 [00:32<00:00, 63.63it/s]\n"
          ]
        },
        {
          "output_type": "stream",
          "name": "stdout",
          "text": [
            "Epoch 2/10, Loss: 0.004137139445557541\n"
          ]
        },
        {
          "output_type": "stream",
          "name": "stderr",
          "text": [
            "Epoch 3/10 Training: 100%|██████████| 2078/2078 [00:33<00:00, 61.52it/s]\n"
          ]
        },
        {
          "output_type": "stream",
          "name": "stdout",
          "text": [
            "Epoch 3/10, Loss: 0.003917388771942981\n"
          ]
        },
        {
          "output_type": "stream",
          "name": "stderr",
          "text": [
            "Epoch 4/10 Training: 100%|██████████| 2078/2078 [00:32<00:00, 63.32it/s]\n"
          ]
        },
        {
          "output_type": "stream",
          "name": "stdout",
          "text": [
            "Epoch 4/10, Loss: 0.003852181941543323\n"
          ]
        },
        {
          "output_type": "stream",
          "name": "stderr",
          "text": [
            "Epoch 5/10 Training: 100%|██████████| 2078/2078 [00:33<00:00, 61.42it/s]\n"
          ]
        },
        {
          "output_type": "stream",
          "name": "stdout",
          "text": [
            "Epoch 5/10, Loss: 0.003731159495007824\n"
          ]
        },
        {
          "output_type": "stream",
          "name": "stderr",
          "text": [
            "Epoch 6/10 Training: 100%|██████████| 2078/2078 [00:32<00:00, 63.27it/s]\n"
          ]
        },
        {
          "output_type": "stream",
          "name": "stdout",
          "text": [
            "Epoch 6/10, Loss: 0.0036209558726793033\n"
          ]
        },
        {
          "output_type": "stream",
          "name": "stderr",
          "text": [
            "Epoch 7/10 Training: 100%|██████████| 2078/2078 [00:33<00:00, 62.44it/s]\n"
          ]
        },
        {
          "output_type": "stream",
          "name": "stdout",
          "text": [
            "Epoch 7/10, Loss: 0.0035706287567235737\n"
          ]
        },
        {
          "output_type": "stream",
          "name": "stderr",
          "text": [
            "Epoch 8/10 Training: 100%|██████████| 2078/2078 [00:33<00:00, 62.84it/s]\n"
          ]
        },
        {
          "output_type": "stream",
          "name": "stdout",
          "text": [
            "Epoch 8/10, Loss: 0.00351580462377712\n"
          ]
        },
        {
          "output_type": "stream",
          "name": "stderr",
          "text": [
            "Epoch 9/10 Training: 100%|██████████| 2078/2078 [00:32<00:00, 63.64it/s]\n"
          ]
        },
        {
          "output_type": "stream",
          "name": "stdout",
          "text": [
            "Epoch 9/10, Loss: 0.0034672185650661846\n"
          ]
        },
        {
          "output_type": "stream",
          "name": "stderr",
          "text": [
            "Epoch 10/10 Training: 100%|██████████| 2078/2078 [00:33<00:00, 61.31it/s]\n"
          ]
        },
        {
          "output_type": "stream",
          "name": "stdout",
          "text": [
            "Epoch 10/10, Loss: 0.003415800976762826\n"
          ]
        },
        {
          "output_type": "stream",
          "name": "stderr",
          "text": [
            "Epoch 20/20 Validation: 100%|██████████| 961/961 [00:05<00:00, 173.34it/s]\n"
          ]
        },
        {
          "output_type": "stream",
          "name": "stdout",
          "text": [
            "Validation MAPE: 48.12987640769871\n"
          ]
        },
        {
          "output_type": "stream",
          "name": "stderr",
          "text": [
            "Epoch 20/20 Validation: 100%|██████████| 961/961 [00:06<00:00, 150.32it/s]\n",
            "[I 2023-12-10 06:08:35,071] Trial 3 finished with value: 48.12987640769871 and parameters: {'num_blocks': 5, 'hidden_channels': 64}. Best is trial 2 with value: 29.522367561769038.\n",
            "Epoch 1/10 Training: 100%|██████████| 2078/2078 [00:32<00:00, 63.36it/s]\n"
          ]
        },
        {
          "output_type": "stream",
          "name": "stdout",
          "text": [
            "Epoch 1/10, Loss: 0.007923239634212742\n"
          ]
        },
        {
          "output_type": "stream",
          "name": "stderr",
          "text": [
            "Epoch 2/10 Training: 100%|██████████| 2078/2078 [00:33<00:00, 61.84it/s]\n"
          ]
        },
        {
          "output_type": "stream",
          "name": "stdout",
          "text": [
            "Epoch 2/10, Loss: 0.0040115077891458755\n"
          ]
        },
        {
          "output_type": "stream",
          "name": "stderr",
          "text": [
            "Epoch 3/10 Training: 100%|██████████| 2078/2078 [00:32<00:00, 63.53it/s]\n"
          ]
        },
        {
          "output_type": "stream",
          "name": "stdout",
          "text": [
            "Epoch 3/10, Loss: 0.0038590756231736073\n"
          ]
        },
        {
          "output_type": "stream",
          "name": "stderr",
          "text": [
            "Epoch 4/10 Training: 100%|██████████| 2078/2078 [00:33<00:00, 61.95it/s]\n"
          ]
        },
        {
          "output_type": "stream",
          "name": "stdout",
          "text": [
            "Epoch 4/10, Loss: 0.00373734325544525\n"
          ]
        },
        {
          "output_type": "stream",
          "name": "stderr",
          "text": [
            "Epoch 5/10 Training: 100%|██████████| 2078/2078 [00:32<00:00, 63.13it/s]\n"
          ]
        },
        {
          "output_type": "stream",
          "name": "stdout",
          "text": [
            "Epoch 5/10, Loss: 0.0036259877121907814\n"
          ]
        },
        {
          "output_type": "stream",
          "name": "stderr",
          "text": [
            "Epoch 6/10 Training: 100%|██████████| 2078/2078 [00:32<00:00, 63.55it/s]\n"
          ]
        },
        {
          "output_type": "stream",
          "name": "stdout",
          "text": [
            "Epoch 6/10, Loss: 0.0036804769660997868\n"
          ]
        },
        {
          "output_type": "stream",
          "name": "stderr",
          "text": [
            "Epoch 7/10 Training: 100%|██████████| 2078/2078 [00:33<00:00, 62.18it/s]\n"
          ]
        },
        {
          "output_type": "stream",
          "name": "stdout",
          "text": [
            "Epoch 7/10, Loss: 0.0035409653825771432\n"
          ]
        },
        {
          "output_type": "stream",
          "name": "stderr",
          "text": [
            "Epoch 8/10 Training: 100%|██████████| 2078/2078 [00:32<00:00, 64.12it/s]\n"
          ]
        },
        {
          "output_type": "stream",
          "name": "stdout",
          "text": [
            "Epoch 8/10, Loss: 0.0034503725777972664\n"
          ]
        },
        {
          "output_type": "stream",
          "name": "stderr",
          "text": [
            "Epoch 9/10 Training: 100%|██████████| 2078/2078 [00:34<00:00, 61.08it/s]\n"
          ]
        },
        {
          "output_type": "stream",
          "name": "stdout",
          "text": [
            "Epoch 9/10, Loss: 0.0033978775440095866\n"
          ]
        },
        {
          "output_type": "stream",
          "name": "stderr",
          "text": [
            "Epoch 10/10 Training: 100%|██████████| 2078/2078 [00:33<00:00, 62.86it/s]\n"
          ]
        },
        {
          "output_type": "stream",
          "name": "stdout",
          "text": [
            "Epoch 10/10, Loss: 0.0033461644333389277\n"
          ]
        },
        {
          "output_type": "stream",
          "name": "stderr",
          "text": [
            "Epoch 20/20 Validation: 100%|██████████| 961/961 [00:06<00:00, 147.72it/s]\n"
          ]
        },
        {
          "output_type": "stream",
          "name": "stdout",
          "text": [
            "Validation MAPE: 94.42865295688021\n"
          ]
        },
        {
          "output_type": "stream",
          "name": "stderr",
          "text": [
            "Epoch 20/20 Validation: 100%|██████████| 961/961 [00:05<00:00, 174.48it/s]\n",
            "[I 2023-12-10 06:14:18,380] Trial 4 finished with value: 94.42865295688021 and parameters: {'num_blocks': 5, 'hidden_channels': 64}. Best is trial 2 with value: 29.522367561769038.\n",
            "Epoch 1/10 Training: 100%|██████████| 2078/2078 [00:29<00:00, 70.95it/s]\n"
          ]
        },
        {
          "output_type": "stream",
          "name": "stdout",
          "text": [
            "Epoch 1/10, Loss: 0.007526977681729645\n"
          ]
        },
        {
          "output_type": "stream",
          "name": "stderr",
          "text": [
            "Epoch 2/10 Training: 100%|██████████| 2078/2078 [00:29<00:00, 71.15it/s]\n"
          ]
        },
        {
          "output_type": "stream",
          "name": "stdout",
          "text": [
            "Epoch 2/10, Loss: 0.004122798465536522\n"
          ]
        },
        {
          "output_type": "stream",
          "name": "stderr",
          "text": [
            "Epoch 3/10 Training: 100%|██████████| 2078/2078 [00:28<00:00, 71.72it/s]\n"
          ]
        },
        {
          "output_type": "stream",
          "name": "stdout",
          "text": [
            "Epoch 3/10, Loss: 0.003918583815109749\n"
          ]
        },
        {
          "output_type": "stream",
          "name": "stderr",
          "text": [
            "Epoch 4/10 Training: 100%|██████████| 2078/2078 [00:28<00:00, 71.70it/s]\n"
          ]
        },
        {
          "output_type": "stream",
          "name": "stdout",
          "text": [
            "Epoch 4/10, Loss: 0.003750797568923947\n"
          ]
        },
        {
          "output_type": "stream",
          "name": "stderr",
          "text": [
            "Epoch 5/10 Training: 100%|██████████| 2078/2078 [00:28<00:00, 72.71it/s]\n"
          ]
        },
        {
          "output_type": "stream",
          "name": "stdout",
          "text": [
            "Epoch 5/10, Loss: 0.003667844534092838\n"
          ]
        },
        {
          "output_type": "stream",
          "name": "stderr",
          "text": [
            "Epoch 6/10 Training: 100%|██████████| 2078/2078 [00:28<00:00, 72.27it/s]\n"
          ]
        },
        {
          "output_type": "stream",
          "name": "stdout",
          "text": [
            "Epoch 6/10, Loss: 0.0036055014615060978\n"
          ]
        },
        {
          "output_type": "stream",
          "name": "stderr",
          "text": [
            "Epoch 7/10 Training: 100%|██████████| 2078/2078 [00:28<00:00, 72.79it/s]\n"
          ]
        },
        {
          "output_type": "stream",
          "name": "stdout",
          "text": [
            "Epoch 7/10, Loss: 0.0035421674032682145\n"
          ]
        },
        {
          "output_type": "stream",
          "name": "stderr",
          "text": [
            "Epoch 8/10 Training: 100%|██████████| 2078/2078 [00:28<00:00, 72.82it/s]\n"
          ]
        },
        {
          "output_type": "stream",
          "name": "stdout",
          "text": [
            "Epoch 8/10, Loss: 0.0035203580020862356\n"
          ]
        },
        {
          "output_type": "stream",
          "name": "stderr",
          "text": [
            "Epoch 9/10 Training: 100%|██████████| 2078/2078 [00:28<00:00, 73.24it/s]\n"
          ]
        },
        {
          "output_type": "stream",
          "name": "stdout",
          "text": [
            "Epoch 9/10, Loss: 0.0034547643577460384\n"
          ]
        },
        {
          "output_type": "stream",
          "name": "stderr",
          "text": [
            "Epoch 10/10 Training: 100%|██████████| 2078/2078 [00:28<00:00, 73.03it/s]\n"
          ]
        },
        {
          "output_type": "stream",
          "name": "stdout",
          "text": [
            "Epoch 10/10, Loss: 0.003335833254371545\n"
          ]
        },
        {
          "output_type": "stream",
          "name": "stderr",
          "text": [
            "Epoch 20/20 Validation: 100%|██████████| 961/961 [00:05<00:00, 164.94it/s]\n"
          ]
        },
        {
          "output_type": "stream",
          "name": "stdout",
          "text": [
            "Validation MAPE: 21.910679850940525\n"
          ]
        },
        {
          "output_type": "stream",
          "name": "stderr",
          "text": [
            "Epoch 20/20 Validation: 100%|██████████| 961/961 [00:04<00:00, 198.15it/s]\n",
            "[I 2023-12-10 06:19:16,866] Trial 5 finished with value: 21.910679850940525 and parameters: {'num_blocks': 3, 'hidden_channels': 64}. Best is trial 5 with value: 21.910679850940525.\n",
            "Epoch 1/10 Training: 100%|██████████| 2078/2078 [00:27<00:00, 75.04it/s]\n"
          ]
        },
        {
          "output_type": "stream",
          "name": "stdout",
          "text": [
            "Epoch 1/10, Loss: 0.014413808423154508\n"
          ]
        },
        {
          "output_type": "stream",
          "name": "stderr",
          "text": [
            "Epoch 2/10 Training: 100%|██████████| 2078/2078 [00:27<00:00, 74.32it/s]\n"
          ]
        },
        {
          "output_type": "stream",
          "name": "stdout",
          "text": [
            "Epoch 2/10, Loss: 0.004101119146207697\n"
          ]
        },
        {
          "output_type": "stream",
          "name": "stderr",
          "text": [
            "Epoch 3/10 Training: 100%|██████████| 2078/2078 [00:28<00:00, 74.14it/s]\n"
          ]
        },
        {
          "output_type": "stream",
          "name": "stdout",
          "text": [
            "Epoch 3/10, Loss: 0.003944930945199496\n"
          ]
        },
        {
          "output_type": "stream",
          "name": "stderr",
          "text": [
            "Epoch 4/10 Training: 100%|██████████| 2078/2078 [00:27<00:00, 74.36it/s]\n"
          ]
        },
        {
          "output_type": "stream",
          "name": "stdout",
          "text": [
            "Epoch 4/10, Loss: 0.003798391875816299\n"
          ]
        },
        {
          "output_type": "stream",
          "name": "stderr",
          "text": [
            "Epoch 5/10 Training: 100%|██████████| 2078/2078 [00:28<00:00, 74.10it/s]\n"
          ]
        },
        {
          "output_type": "stream",
          "name": "stdout",
          "text": [
            "Epoch 5/10, Loss: 0.003766714965848878\n"
          ]
        },
        {
          "output_type": "stream",
          "name": "stderr",
          "text": [
            "Epoch 6/10 Training: 100%|██████████| 2078/2078 [00:28<00:00, 74.00it/s]\n"
          ]
        },
        {
          "output_type": "stream",
          "name": "stdout",
          "text": [
            "Epoch 6/10, Loss: 0.003642499168659807\n"
          ]
        },
        {
          "output_type": "stream",
          "name": "stderr",
          "text": [
            "Epoch 7/10 Training: 100%|██████████| 2078/2078 [00:28<00:00, 73.87it/s]\n"
          ]
        },
        {
          "output_type": "stream",
          "name": "stdout",
          "text": [
            "Epoch 7/10, Loss: 0.0035515316398218237\n"
          ]
        },
        {
          "output_type": "stream",
          "name": "stderr",
          "text": [
            "Epoch 8/10 Training: 100%|██████████| 2078/2078 [00:28<00:00, 73.46it/s]\n"
          ]
        },
        {
          "output_type": "stream",
          "name": "stdout",
          "text": [
            "Epoch 8/10, Loss: 0.0034870499327305537\n"
          ]
        },
        {
          "output_type": "stream",
          "name": "stderr",
          "text": [
            "Epoch 9/10 Training: 100%|██████████| 2078/2078 [00:28<00:00, 73.76it/s]\n"
          ]
        },
        {
          "output_type": "stream",
          "name": "stdout",
          "text": [
            "Epoch 9/10, Loss: 0.0034937401887820897\n"
          ]
        },
        {
          "output_type": "stream",
          "name": "stderr",
          "text": [
            "Epoch 10/10 Training: 100%|██████████| 2078/2078 [00:27<00:00, 74.48it/s]\n"
          ]
        },
        {
          "output_type": "stream",
          "name": "stdout",
          "text": [
            "Epoch 10/10, Loss: 0.00348504038180939\n"
          ]
        },
        {
          "output_type": "stream",
          "name": "stderr",
          "text": [
            "Epoch 20/20 Validation: 100%|██████████| 961/961 [00:04<00:00, 201.18it/s]\n"
          ]
        },
        {
          "output_type": "stream",
          "name": "stdout",
          "text": [
            "Validation MAPE: 104.16888992198425\n"
          ]
        },
        {
          "output_type": "stream",
          "name": "stderr",
          "text": [
            "Epoch 20/20 Validation: 100%|██████████| 961/961 [00:05<00:00, 180.98it/s]\n",
            "[I 2023-12-10 06:24:07,327] Trial 6 finished with value: 104.16888992198425 and parameters: {'num_blocks': 3, 'hidden_channels': 32}. Best is trial 5 with value: 21.910679850940525.\n",
            "Epoch 1/10 Training: 100%|██████████| 2078/2078 [00:29<00:00, 70.15it/s]\n"
          ]
        },
        {
          "output_type": "stream",
          "name": "stdout",
          "text": [
            "Epoch 1/10, Loss: 0.00899828891059217\n"
          ]
        },
        {
          "output_type": "stream",
          "name": "stderr",
          "text": [
            "Epoch 2/10 Training: 100%|██████████| 2078/2078 [00:29<00:00, 70.60it/s]\n"
          ]
        },
        {
          "output_type": "stream",
          "name": "stdout",
          "text": [
            "Epoch 2/10, Loss: 0.004347709403081983\n"
          ]
        },
        {
          "output_type": "stream",
          "name": "stderr",
          "text": [
            "Epoch 3/10 Training: 100%|██████████| 2078/2078 [00:29<00:00, 70.86it/s]\n"
          ]
        },
        {
          "output_type": "stream",
          "name": "stdout",
          "text": [
            "Epoch 3/10, Loss: 0.004081142645836131\n"
          ]
        },
        {
          "output_type": "stream",
          "name": "stderr",
          "text": [
            "Epoch 4/10 Training: 100%|██████████| 2078/2078 [00:29<00:00, 71.59it/s]\n"
          ]
        },
        {
          "output_type": "stream",
          "name": "stdout",
          "text": [
            "Epoch 4/10, Loss: 0.0039181383733935225\n"
          ]
        },
        {
          "output_type": "stream",
          "name": "stderr",
          "text": [
            "Epoch 5/10 Training: 100%|██████████| 2078/2078 [00:28<00:00, 72.18it/s]\n"
          ]
        },
        {
          "output_type": "stream",
          "name": "stdout",
          "text": [
            "Epoch 5/10, Loss: 0.0037401550319121975\n"
          ]
        },
        {
          "output_type": "stream",
          "name": "stderr",
          "text": [
            "Epoch 6/10 Training: 100%|██████████| 2078/2078 [00:29<00:00, 71.07it/s]\n"
          ]
        },
        {
          "output_type": "stream",
          "name": "stdout",
          "text": [
            "Epoch 6/10, Loss: 0.0036066553817167375\n"
          ]
        },
        {
          "output_type": "stream",
          "name": "stderr",
          "text": [
            "Epoch 7/10 Training: 100%|██████████| 2078/2078 [00:30<00:00, 69.20it/s]\n"
          ]
        },
        {
          "output_type": "stream",
          "name": "stdout",
          "text": [
            "Epoch 7/10, Loss: 0.003640041371970594\n"
          ]
        },
        {
          "output_type": "stream",
          "name": "stderr",
          "text": [
            "Epoch 8/10 Training: 100%|██████████| 2078/2078 [00:28<00:00, 71.67it/s]\n"
          ]
        },
        {
          "output_type": "stream",
          "name": "stdout",
          "text": [
            "Epoch 8/10, Loss: 0.0035350446610467705\n"
          ]
        },
        {
          "output_type": "stream",
          "name": "stderr",
          "text": [
            "Epoch 9/10 Training: 100%|██████████| 2078/2078 [00:29<00:00, 71.64it/s]\n"
          ]
        },
        {
          "output_type": "stream",
          "name": "stdout",
          "text": [
            "Epoch 9/10, Loss: 0.003413144494077465\n"
          ]
        },
        {
          "output_type": "stream",
          "name": "stderr",
          "text": [
            "Epoch 10/10 Training: 100%|██████████| 2078/2078 [00:29<00:00, 71.53it/s]\n"
          ]
        },
        {
          "output_type": "stream",
          "name": "stdout",
          "text": [
            "Epoch 10/10, Loss: 0.0033936735743560842\n"
          ]
        },
        {
          "output_type": "stream",
          "name": "stderr",
          "text": [
            "Epoch 20/20 Validation: 100%|██████████| 961/961 [00:05<00:00, 186.15it/s]\n"
          ]
        },
        {
          "output_type": "stream",
          "name": "stdout",
          "text": [
            "Validation MAPE: 38.22028945363151\n"
          ]
        },
        {
          "output_type": "stream",
          "name": "stderr",
          "text": [
            "Epoch 20/20 Validation: 100%|██████████| 961/961 [00:05<00:00, 174.97it/s]\n",
            "[I 2023-12-10 06:29:10,619] Trial 7 finished with value: 38.22028945363151 and parameters: {'num_blocks': 3, 'hidden_channels': 128}. Best is trial 5 with value: 21.910679850940525.\n",
            "Epoch 1/10 Training: 100%|██████████| 2078/2078 [00:35<00:00, 58.56it/s]\n"
          ]
        },
        {
          "output_type": "stream",
          "name": "stdout",
          "text": [
            "Epoch 1/10, Loss: 0.01123836001838872\n"
          ]
        },
        {
          "output_type": "stream",
          "name": "stderr",
          "text": [
            "Epoch 2/10 Training: 100%|██████████| 2078/2078 [00:35<00:00, 57.89it/s]\n"
          ]
        },
        {
          "output_type": "stream",
          "name": "stdout",
          "text": [
            "Epoch 2/10, Loss: 0.0040573757253313854\n"
          ]
        },
        {
          "output_type": "stream",
          "name": "stderr",
          "text": [
            "Epoch 3/10 Training: 100%|██████████| 2078/2078 [00:36<00:00, 57.59it/s]\n"
          ]
        },
        {
          "output_type": "stream",
          "name": "stdout",
          "text": [
            "Epoch 3/10, Loss: 0.003968190669973539\n"
          ]
        },
        {
          "output_type": "stream",
          "name": "stderr",
          "text": [
            "Epoch 4/10 Training: 100%|██████████| 2078/2078 [00:34<00:00, 59.81it/s]\n"
          ]
        },
        {
          "output_type": "stream",
          "name": "stdout",
          "text": [
            "Epoch 4/10, Loss: 0.0038203690198242942\n"
          ]
        },
        {
          "output_type": "stream",
          "name": "stderr",
          "text": [
            "Epoch 5/10 Training: 100%|██████████| 2078/2078 [00:35<00:00, 58.17it/s]\n"
          ]
        },
        {
          "output_type": "stream",
          "name": "stdout",
          "text": [
            "Epoch 5/10, Loss: 0.003685778104727039\n"
          ]
        },
        {
          "output_type": "stream",
          "name": "stderr",
          "text": [
            "Epoch 6/10 Training: 100%|██████████| 2078/2078 [00:36<00:00, 57.33it/s]\n"
          ]
        },
        {
          "output_type": "stream",
          "name": "stdout",
          "text": [
            "Epoch 6/10, Loss: 0.003590609415665563\n"
          ]
        },
        {
          "output_type": "stream",
          "name": "stderr",
          "text": [
            "Epoch 7/10 Training: 100%|██████████| 2078/2078 [00:35<00:00, 59.04it/s]\n"
          ]
        },
        {
          "output_type": "stream",
          "name": "stdout",
          "text": [
            "Epoch 7/10, Loss: 0.003602157829148306\n"
          ]
        },
        {
          "output_type": "stream",
          "name": "stderr",
          "text": [
            "Epoch 8/10 Training: 100%|██████████| 2078/2078 [00:36<00:00, 57.60it/s]\n"
          ]
        },
        {
          "output_type": "stream",
          "name": "stdout",
          "text": [
            "Epoch 8/10, Loss: 0.0035588892397589093\n"
          ]
        },
        {
          "output_type": "stream",
          "name": "stderr",
          "text": [
            "Epoch 9/10 Training: 100%|██████████| 2078/2078 [00:35<00:00, 58.23it/s]\n"
          ]
        },
        {
          "output_type": "stream",
          "name": "stdout",
          "text": [
            "Epoch 9/10, Loss: 0.0034661464640983633\n"
          ]
        },
        {
          "output_type": "stream",
          "name": "stderr",
          "text": [
            "Epoch 10/10 Training: 100%|██████████| 2078/2078 [00:35<00:00, 58.81it/s]\n"
          ]
        },
        {
          "output_type": "stream",
          "name": "stdout",
          "text": [
            "Epoch 10/10, Loss: 0.003452831405081407\n"
          ]
        },
        {
          "output_type": "stream",
          "name": "stderr",
          "text": [
            "Epoch 20/20 Validation: 100%|██████████| 961/961 [00:06<00:00, 144.27it/s]\n"
          ]
        },
        {
          "output_type": "stream",
          "name": "stdout",
          "text": [
            "Validation MAPE: 65.5462934353101\n"
          ]
        },
        {
          "output_type": "stream",
          "name": "stderr",
          "text": [
            "Epoch 20/20 Validation: 100%|██████████| 961/961 [00:05<00:00, 163.92it/s]\n",
            "[I 2023-12-10 06:35:19,734] Trial 8 finished with value: 65.5462934353101 and parameters: {'num_blocks': 6, 'hidden_channels': 64}. Best is trial 5 with value: 21.910679850940525.\n",
            "Epoch 1/10 Training: 100%|██████████| 2078/2078 [00:30<00:00, 68.79it/s]\n"
          ]
        },
        {
          "output_type": "stream",
          "name": "stdout",
          "text": [
            "Epoch 1/10, Loss: 0.007630928365972621\n"
          ]
        },
        {
          "output_type": "stream",
          "name": "stderr",
          "text": [
            "Epoch 2/10 Training: 100%|██████████| 2078/2078 [00:30<00:00, 67.13it/s]\n"
          ]
        },
        {
          "output_type": "stream",
          "name": "stdout",
          "text": [
            "Epoch 2/10, Loss: 0.004065458225045995\n"
          ]
        },
        {
          "output_type": "stream",
          "name": "stderr",
          "text": [
            "Epoch 3/10 Training: 100%|██████████| 2078/2078 [00:29<00:00, 69.46it/s]\n"
          ]
        },
        {
          "output_type": "stream",
          "name": "stdout",
          "text": [
            "Epoch 3/10, Loss: 0.0038734861281839368\n"
          ]
        },
        {
          "output_type": "stream",
          "name": "stderr",
          "text": [
            "Epoch 4/10 Training: 100%|██████████| 2078/2078 [00:30<00:00, 68.98it/s]\n"
          ]
        },
        {
          "output_type": "stream",
          "name": "stdout",
          "text": [
            "Epoch 4/10, Loss: 0.0037804765281015586\n"
          ]
        },
        {
          "output_type": "stream",
          "name": "stderr",
          "text": [
            "Epoch 5/10 Training: 100%|██████████| 2078/2078 [00:30<00:00, 68.84it/s]\n"
          ]
        },
        {
          "output_type": "stream",
          "name": "stdout",
          "text": [
            "Epoch 5/10, Loss: 0.0037223705561397753\n"
          ]
        },
        {
          "output_type": "stream",
          "name": "stderr",
          "text": [
            "Epoch 6/10 Training: 100%|██████████| 2078/2078 [00:30<00:00, 67.62it/s]\n"
          ]
        },
        {
          "output_type": "stream",
          "name": "stdout",
          "text": [
            "Epoch 6/10, Loss: 0.0036359321574422356\n"
          ]
        },
        {
          "output_type": "stream",
          "name": "stderr",
          "text": [
            "Epoch 7/10 Training: 100%|██████████| 2078/2078 [00:30<00:00, 68.28it/s]\n"
          ]
        },
        {
          "output_type": "stream",
          "name": "stdout",
          "text": [
            "Epoch 7/10, Loss: 0.003593674471648455\n"
          ]
        },
        {
          "output_type": "stream",
          "name": "stderr",
          "text": [
            "Epoch 8/10 Training: 100%|██████████| 2078/2078 [00:30<00:00, 68.84it/s]\n"
          ]
        },
        {
          "output_type": "stream",
          "name": "stdout",
          "text": [
            "Epoch 8/10, Loss: 0.0034986041259146955\n"
          ]
        },
        {
          "output_type": "stream",
          "name": "stderr",
          "text": [
            "Epoch 9/10 Training: 100%|██████████| 2078/2078 [00:29<00:00, 69.75it/s]\n"
          ]
        },
        {
          "output_type": "stream",
          "name": "stdout",
          "text": [
            "Epoch 9/10, Loss: 0.003452181864728841\n"
          ]
        },
        {
          "output_type": "stream",
          "name": "stderr",
          "text": [
            "Epoch 10/10 Training: 100%|██████████| 2078/2078 [00:30<00:00, 67.41it/s]\n"
          ]
        },
        {
          "output_type": "stream",
          "name": "stdout",
          "text": [
            "Epoch 10/10, Loss: 0.0034428728169369886\n"
          ]
        },
        {
          "output_type": "stream",
          "name": "stderr",
          "text": [
            "Epoch 20/20 Validation: 100%|██████████| 961/961 [00:05<00:00, 169.97it/s]\n"
          ]
        },
        {
          "output_type": "stream",
          "name": "stdout",
          "text": [
            "Validation MAPE: 28.374560223161616\n"
          ]
        },
        {
          "output_type": "stream",
          "name": "stderr",
          "text": [
            "Epoch 20/20 Validation: 100%|██████████| 961/961 [00:05<00:00, 189.30it/s]\n",
            "[I 2023-12-10 06:40:33,944] Trial 9 finished with value: 28.374560223161616 and parameters: {'num_blocks': 4, 'hidden_channels': 32}. Best is trial 5 with value: 21.910679850940525.\n"
          ]
        },
        {
          "output_type": "stream",
          "name": "stdout",
          "text": [
            "Best trial: {'num_blocks': 3, 'hidden_channels': 64}\n"
          ]
        }
      ]
    }
  ]
}