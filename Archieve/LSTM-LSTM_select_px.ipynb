{
 "cells": [
  {
   "cell_type": "code",
   "execution_count": 37,
   "metadata": {},
   "outputs": [],
   "source": [
    "import sys  \n",
    "sys.path.append(\"..\") \n",
    "import torch\n",
    "import torch.nn as nn\n",
    "from data_process import get_data_loaders, getFeatures\n",
    "from model.TCN import TemporalConvNet, TCN\n",
    "from tqdm import tqdm\n",
    "import pandas as pd\n",
    "import matplotlib.pyplot as plt"
   ]
  },
  {
   "cell_type": "code",
   "execution_count": 38,
   "metadata": {},
   "outputs": [],
   "source": [
    "data = pd.read_csv('../flights.csv') \n",
    "select_features = ['payload', 'wind_speed', 'wind_angle', 'linear_acceleration_x', 'linear_acceleration_y', 'linear_acceleration_z', 'power']\n",
    "data, train_loader, val_loader, test_loader, d_split = get_data_loaders(data, 20, 10, test_size=0.2, val_size=0.2, \n",
    "                                                                        features=select_features, covariates=False)\n",
    "# features = getFeatures()"
   ]
  },
  {
   "cell_type": "code",
   "execution_count": 39,
   "metadata": {},
   "outputs": [
    {
     "name": "stdout",
     "output_type": "stream",
     "text": [
      "torch.Size([64, 20, 7])\n",
      "torch.Size([64, 10])\n"
     ]
    }
   ],
   "source": [
    "for i, (x, y) in enumerate(train_loader):\n",
    "    print(x.shape)\n",
    "    print(y.shape)\n",
    "    break"
   ]
  },
  {
   "cell_type": "code",
   "execution_count": 44,
   "metadata": {},
   "outputs": [],
   "source": [
    "class LSTM_LSTM(nn.Module):\n",
    "    def __init__(self, encoder_input_size, decoder_input_size, input_len, output_len, lstm_num_hidden, num_layers=1, covariate_size=0, covariate=False):\n",
    "        super(LSTM_LSTM, self).__init__()\n",
    "        if covariate:\n",
    "            assert covariate_size > 0\n",
    "        self.encoder = nn.LSTM(encoder_input_size, lstm_num_hidden, num_layers, batch_first=True)\n",
    "        self.decoder = nn.LSTM(decoder_input_size, lstm_num_hidden, num_layers, batch_first=True)\n",
    "        if covariate:\n",
    "            self.fc = nn.Linear(lstm_num_hidden+covariate_size, decoder_input_size)\n",
    "        else:\n",
    "            self.fc = nn.Linear(lstm_num_hidden, decoder_input_size)\n",
    "        self.input_len = input_len\n",
    "        self.output_len = output_len\n",
    "        self.decoder_input_size = decoder_input_size\n",
    "        self.covariate = covariate\n",
    "\n",
    "    def forward(self, x, covariates=None):\n",
    "        \"\"\"\n",
    "        By default, the last feature of the encoder input is the target feature.\n",
    "        And the decoder_input = encoder_input[-decoder_input_size:]\n",
    "        \"\"\"\n",
    "        # x: (batch_size, input_len, input_size)\n",
    "        _, (h, c) = self.encoder(x)\n",
    "        xt = x[:, -1, -self.decoder_input_size:].unsqueeze(1)\n",
    "        if self.decoder_input_size == 1:\n",
    "            xt = xt.unsqueeze(2)\n",
    "        outputs = []\n",
    "        for t in range(self.output_len):\n",
    "            output, (h, c) = self.decoder(xt, (h, c))\n",
    "            if self.covariate:\n",
    "                output = torch.cat((output, covariates[:, t, :].unsqueeze(1)), dim=2)\n",
    "            output = self.fc(output)\n",
    "            outputs.append(output[:, :, -1].unsqueeze(2))\n",
    "            xt = output  # use the decoder output as the next input\n",
    "\n",
    "        outputs = torch.cat(outputs, dim=1)\n",
    "        return outputs"
   ]
  },
  {
   "cell_type": "code",
   "execution_count": 45,
   "metadata": {},
   "outputs": [
    {
     "name": "stdout",
     "output_type": "stream",
     "text": [
      "cuda\n"
     ]
    }
   ],
   "source": [
    "device = torch.device(\"cuda\" if torch.cuda.is_available() else \"cpu\")\n",
    "print(device)\n",
    "\n",
    "input_size = len(select_features)\n",
    "output_size = len(select_features)\n",
    "input_len = 20\n",
    "output_len = 10\n",
    "hidden_size = 32  \n",
    "num_layers = 1\n",
    "\n",
    "# encoder = Encoder(input_size, input_len, [64,64,64], hidden_size)\n",
    "# decoder = Decoder(hidden_size, output_len, hidden_size, num_layers=num_layers)\n",
    "seq2seq = LSTM_LSTM(input_size, output_size, input_len, output_len, hidden_size, num_layers=num_layers).to(device)"
   ]
  },
  {
   "cell_type": "code",
   "execution_count": 46,
   "metadata": {},
   "outputs": [
    {
     "name": "stdout",
     "output_type": "stream",
     "text": [
      "Total Parameters: 10727\n",
      "Trainable Parameters: 10727\n"
     ]
    }
   ],
   "source": [
    "total_params = sum(p.numel() for p in seq2seq.parameters())\n",
    "trainable_params = sum(p.numel() for p in seq2seq.parameters() if p.requires_grad)\n",
    "\n",
    "print(f\"Total Parameters: {total_params}\")\n",
    "print(f\"Trainable Parameters: {trainable_params}\")"
   ]
  },
  {
   "cell_type": "code",
   "execution_count": 47,
   "metadata": {},
   "outputs": [
    {
     "name": "stderr",
     "output_type": "stream",
     "text": [
      "Epoch 1/20 [TRAIN]: 100%|██████████| 2296/2296 [00:24<00:00, 95.23it/s, train_loss=0.173]   \n"
     ]
    },
    {
     "name": "stdout",
     "output_type": "stream",
     "text": [
      "Epoch 1/20, Average Training Loss: 0.005742\n"
     ]
    },
    {
     "name": "stderr",
     "output_type": "stream",
     "text": [
      "Epoch 1/20 [VAL]: 100%|██████████| 769/769 [00:03<00:00, 217.10it/s, val_loss=0.0321]\n"
     ]
    },
    {
     "name": "stdout",
     "output_type": "stream",
     "text": [
      "Epoch 1/20, Average Validation Loss: 0.035211\n"
     ]
    },
    {
     "name": "stderr",
     "output_type": "stream",
     "text": [
      "Epoch 2/20 [TRAIN]: 100%|██████████| 2296/2296 [00:22<00:00, 103.25it/s, train_loss=0.00115]\n"
     ]
    },
    {
     "name": "stdout",
     "output_type": "stream",
     "text": [
      "Epoch 2/20, Average Training Loss: 0.004295\n"
     ]
    },
    {
     "name": "stderr",
     "output_type": "stream",
     "text": [
      "Epoch 2/20 [VAL]: 100%|██████████| 769/769 [00:03<00:00, 216.51it/s, val_loss=0.0046] \n"
     ]
    },
    {
     "name": "stdout",
     "output_type": "stream",
     "text": [
      "Epoch 2/20, Average Validation Loss: 0.003867\n"
     ]
    },
    {
     "name": "stderr",
     "output_type": "stream",
     "text": [
      "Epoch 3/20 [TRAIN]: 100%|██████████| 2296/2296 [00:22<00:00, 103.08it/s, train_loss=0.0127] \n"
     ]
    },
    {
     "name": "stdout",
     "output_type": "stream",
     "text": [
      "Epoch 3/20, Average Training Loss: 0.003880\n"
     ]
    },
    {
     "name": "stderr",
     "output_type": "stream",
     "text": [
      "Epoch 3/20 [VAL]: 100%|██████████| 769/769 [00:03<00:00, 222.51it/s, val_loss=0.00533]\n"
     ]
    },
    {
     "name": "stdout",
     "output_type": "stream",
     "text": [
      "Epoch 3/20, Average Validation Loss: 0.003859\n"
     ]
    },
    {
     "name": "stderr",
     "output_type": "stream",
     "text": [
      "Epoch 4/20 [TRAIN]: 100%|██████████| 2296/2296 [00:22<00:00, 102.40it/s, train_loss=0.0182] \n"
     ]
    },
    {
     "name": "stdout",
     "output_type": "stream",
     "text": [
      "Epoch 4/20, Average Training Loss: 0.003713\n"
     ]
    },
    {
     "name": "stderr",
     "output_type": "stream",
     "text": [
      "Epoch 4/20 [VAL]: 100%|██████████| 769/769 [00:03<00:00, 209.95it/s, val_loss=0.00465]\n"
     ]
    },
    {
     "name": "stdout",
     "output_type": "stream",
     "text": [
      "Epoch 4/20, Average Validation Loss: 0.004424\n"
     ]
    },
    {
     "name": "stderr",
     "output_type": "stream",
     "text": [
      "Epoch 5/20 [TRAIN]: 100%|██████████| 2296/2296 [00:22<00:00, 102.96it/s, train_loss=0.00251]\n"
     ]
    },
    {
     "name": "stdout",
     "output_type": "stream",
     "text": [
      "Epoch 5/20, Average Training Loss: 0.003523\n"
     ]
    },
    {
     "name": "stderr",
     "output_type": "stream",
     "text": [
      "Epoch 5/20 [VAL]: 100%|██████████| 769/769 [00:03<00:00, 220.27it/s, val_loss=0.00493]\n"
     ]
    },
    {
     "name": "stdout",
     "output_type": "stream",
     "text": [
      "Epoch 5/20, Average Validation Loss: 0.003456\n"
     ]
    },
    {
     "name": "stderr",
     "output_type": "stream",
     "text": [
      "Epoch 6/20 [TRAIN]: 100%|██████████| 2296/2296 [00:22<00:00, 102.92it/s, train_loss=0.0285] \n"
     ]
    },
    {
     "name": "stdout",
     "output_type": "stream",
     "text": [
      "Epoch 6/20, Average Training Loss: 0.003483\n"
     ]
    },
    {
     "name": "stderr",
     "output_type": "stream",
     "text": [
      "Epoch 6/20 [VAL]: 100%|██████████| 769/769 [00:03<00:00, 220.36it/s, val_loss=0.0086] \n"
     ]
    },
    {
     "name": "stdout",
     "output_type": "stream",
     "text": [
      "Epoch 6/20, Average Validation Loss: 0.005664\n"
     ]
    },
    {
     "name": "stderr",
     "output_type": "stream",
     "text": [
      "Epoch 7/20 [TRAIN]: 100%|██████████| 2296/2296 [00:22<00:00, 103.34it/s, train_loss=0.000667]\n"
     ]
    },
    {
     "name": "stdout",
     "output_type": "stream",
     "text": [
      "Epoch 7/20, Average Training Loss: 0.003334\n"
     ]
    },
    {
     "name": "stderr",
     "output_type": "stream",
     "text": [
      "Epoch 7/20 [VAL]: 100%|██████████| 769/769 [00:03<00:00, 224.17it/s, val_loss=0.00474]\n"
     ]
    },
    {
     "name": "stdout",
     "output_type": "stream",
     "text": [
      "Epoch 7/20, Average Validation Loss: 0.003096\n"
     ]
    },
    {
     "name": "stderr",
     "output_type": "stream",
     "text": [
      "Epoch 8/20 [TRAIN]: 100%|██████████| 2296/2296 [00:21<00:00, 104.65it/s, train_loss=0.000352]\n"
     ]
    },
    {
     "name": "stdout",
     "output_type": "stream",
     "text": [
      "Epoch 8/20, Average Training Loss: 0.003212\n"
     ]
    },
    {
     "name": "stderr",
     "output_type": "stream",
     "text": [
      "Epoch 8/20 [VAL]: 100%|██████████| 769/769 [00:03<00:00, 217.61it/s, val_loss=0.00532]\n"
     ]
    },
    {
     "name": "stdout",
     "output_type": "stream",
     "text": [
      "Epoch 8/20, Average Validation Loss: 0.003414\n"
     ]
    },
    {
     "name": "stderr",
     "output_type": "stream",
     "text": [
      "Epoch 9/20 [TRAIN]: 100%|██████████| 2296/2296 [00:22<00:00, 103.75it/s, train_loss=0.000564]\n"
     ]
    },
    {
     "name": "stdout",
     "output_type": "stream",
     "text": [
      "Epoch 9/20, Average Training Loss: 0.003175\n"
     ]
    },
    {
     "name": "stderr",
     "output_type": "stream",
     "text": [
      "Epoch 9/20 [VAL]: 100%|██████████| 769/769 [00:03<00:00, 236.71it/s, val_loss=0.0044] \n"
     ]
    },
    {
     "name": "stdout",
     "output_type": "stream",
     "text": [
      "Epoch 9/20, Average Validation Loss: 0.003167\n"
     ]
    },
    {
     "name": "stderr",
     "output_type": "stream",
     "text": [
      "Epoch 10/20 [TRAIN]: 100%|██████████| 2296/2296 [00:24<00:00, 95.22it/s, train_loss=0.0013] \n"
     ]
    },
    {
     "name": "stdout",
     "output_type": "stream",
     "text": [
      "Epoch 10/20, Average Training Loss: 0.003098\n"
     ]
    },
    {
     "name": "stderr",
     "output_type": "stream",
     "text": [
      "Epoch 10/20 [VAL]: 100%|██████████| 769/769 [00:03<00:00, 197.41it/s, val_loss=0.00449]\n"
     ]
    },
    {
     "name": "stdout",
     "output_type": "stream",
     "text": [
      "Epoch 10/20, Average Validation Loss: 0.003016\n"
     ]
    },
    {
     "name": "stderr",
     "output_type": "stream",
     "text": [
      "Epoch 11/20 [TRAIN]: 100%|██████████| 2296/2296 [00:28<00:00, 81.61it/s, train_loss=0.000385]\n"
     ]
    },
    {
     "name": "stdout",
     "output_type": "stream",
     "text": [
      "Epoch 11/20, Average Training Loss: 0.003044\n"
     ]
    },
    {
     "name": "stderr",
     "output_type": "stream",
     "text": [
      "Epoch 11/20 [VAL]: 100%|██████████| 769/769 [00:05<00:00, 153.09it/s, val_loss=0.00562]\n"
     ]
    },
    {
     "name": "stdout",
     "output_type": "stream",
     "text": [
      "Epoch 11/20, Average Validation Loss: 0.003876\n"
     ]
    },
    {
     "name": "stderr",
     "output_type": "stream",
     "text": [
      "Epoch 12/20 [TRAIN]: 100%|██████████| 2296/2296 [00:31<00:00, 73.76it/s, train_loss=0.00695]\n"
     ]
    },
    {
     "name": "stdout",
     "output_type": "stream",
     "text": [
      "Epoch 12/20, Average Training Loss: 0.002987\n"
     ]
    },
    {
     "name": "stderr",
     "output_type": "stream",
     "text": [
      "Epoch 12/20 [VAL]: 100%|██████████| 769/769 [00:04<00:00, 171.92it/s, val_loss=0.00519]\n"
     ]
    },
    {
     "name": "stdout",
     "output_type": "stream",
     "text": [
      "Epoch 12/20, Average Validation Loss: 0.003256\n"
     ]
    },
    {
     "name": "stderr",
     "output_type": "stream",
     "text": [
      "Epoch 13/20 [TRAIN]: 100%|██████████| 2296/2296 [00:31<00:00, 73.56it/s, train_loss=0.00177]\n"
     ]
    },
    {
     "name": "stdout",
     "output_type": "stream",
     "text": [
      "Epoch 13/20, Average Training Loss: 0.002950\n"
     ]
    },
    {
     "name": "stderr",
     "output_type": "stream",
     "text": [
      "Epoch 13/20 [VAL]: 100%|██████████| 769/769 [00:06<00:00, 120.27it/s, val_loss=0.00413]\n"
     ]
    },
    {
     "name": "stdout",
     "output_type": "stream",
     "text": [
      "Epoch 13/20, Average Validation Loss: 0.002906\n"
     ]
    },
    {
     "name": "stderr",
     "output_type": "stream",
     "text": [
      "Epoch 14/20 [TRAIN]: 100%|██████████| 2296/2296 [00:31<00:00, 72.14it/s, train_loss=0.00261]\n"
     ]
    },
    {
     "name": "stdout",
     "output_type": "stream",
     "text": [
      "Epoch 14/20, Average Training Loss: 0.002901\n"
     ]
    },
    {
     "name": "stderr",
     "output_type": "stream",
     "text": [
      "Epoch 14/20 [VAL]: 100%|██████████| 769/769 [00:04<00:00, 170.55it/s, val_loss=0.00419]\n"
     ]
    },
    {
     "name": "stdout",
     "output_type": "stream",
     "text": [
      "Epoch 14/20, Average Validation Loss: 0.002922\n"
     ]
    },
    {
     "name": "stderr",
     "output_type": "stream",
     "text": [
      "Epoch 15/20 [TRAIN]: 100%|██████████| 2296/2296 [00:28<00:00, 81.75it/s, train_loss=0.000389]\n"
     ]
    },
    {
     "name": "stdout",
     "output_type": "stream",
     "text": [
      "Epoch 15/20, Average Training Loss: 0.002850\n"
     ]
    },
    {
     "name": "stderr",
     "output_type": "stream",
     "text": [
      "Epoch 15/20 [VAL]: 100%|██████████| 769/769 [00:05<00:00, 151.55it/s, val_loss=0.00435]\n"
     ]
    },
    {
     "name": "stdout",
     "output_type": "stream",
     "text": [
      "Epoch 15/20, Average Validation Loss: 0.002895\n"
     ]
    },
    {
     "name": "stderr",
     "output_type": "stream",
     "text": [
      "Epoch 16/20 [TRAIN]: 100%|██████████| 2296/2296 [00:28<00:00, 81.83it/s, train_loss=0.000696]\n"
     ]
    },
    {
     "name": "stdout",
     "output_type": "stream",
     "text": [
      "Epoch 16/20, Average Training Loss: 0.002857\n"
     ]
    },
    {
     "name": "stderr",
     "output_type": "stream",
     "text": [
      "Epoch 16/20 [VAL]: 100%|██████████| 769/769 [00:04<00:00, 189.46it/s, val_loss=0.00418]\n"
     ]
    },
    {
     "name": "stdout",
     "output_type": "stream",
     "text": [
      "Epoch 16/20, Average Validation Loss: 0.002898\n"
     ]
    },
    {
     "name": "stderr",
     "output_type": "stream",
     "text": [
      "Epoch 17/20 [TRAIN]: 100%|██████████| 2296/2296 [00:26<00:00, 87.97it/s, train_loss=0.00607]\n"
     ]
    },
    {
     "name": "stdout",
     "output_type": "stream",
     "text": [
      "Epoch 17/20, Average Training Loss: 0.002814\n"
     ]
    },
    {
     "name": "stderr",
     "output_type": "stream",
     "text": [
      "Epoch 17/20 [VAL]: 100%|██████████| 769/769 [00:04<00:00, 189.74it/s, val_loss=0.00416]\n"
     ]
    },
    {
     "name": "stdout",
     "output_type": "stream",
     "text": [
      "Epoch 17/20, Average Validation Loss: 0.002797\n"
     ]
    },
    {
     "name": "stderr",
     "output_type": "stream",
     "text": [
      "Epoch 18/20 [TRAIN]: 100%|██████████| 2296/2296 [00:28<00:00, 79.34it/s, train_loss=0.00199]\n"
     ]
    },
    {
     "name": "stdout",
     "output_type": "stream",
     "text": [
      "Epoch 18/20, Average Training Loss: 0.002789\n"
     ]
    },
    {
     "name": "stderr",
     "output_type": "stream",
     "text": [
      "Epoch 18/20 [VAL]: 100%|██████████| 769/769 [00:04<00:00, 183.23it/s, val_loss=0.00412]\n"
     ]
    },
    {
     "name": "stdout",
     "output_type": "stream",
     "text": [
      "Epoch 18/20, Average Validation Loss: 0.002920\n"
     ]
    },
    {
     "name": "stderr",
     "output_type": "stream",
     "text": [
      "Epoch 19/20 [TRAIN]: 100%|██████████| 2296/2296 [00:25<00:00, 88.44it/s, train_loss=0.0275] \n"
     ]
    },
    {
     "name": "stdout",
     "output_type": "stream",
     "text": [
      "Epoch 19/20, Average Training Loss: 0.002748\n"
     ]
    },
    {
     "name": "stderr",
     "output_type": "stream",
     "text": [
      "Epoch 19/20 [VAL]: 100%|██████████| 769/769 [00:04<00:00, 184.86it/s, val_loss=0.00479]\n"
     ]
    },
    {
     "name": "stdout",
     "output_type": "stream",
     "text": [
      "Epoch 19/20, Average Validation Loss: 0.003109\n"
     ]
    },
    {
     "name": "stderr",
     "output_type": "stream",
     "text": [
      "Epoch 20/20 [TRAIN]: 100%|██████████| 2296/2296 [00:26<00:00, 88.04it/s, train_loss=0.00201]\n"
     ]
    },
    {
     "name": "stdout",
     "output_type": "stream",
     "text": [
      "Epoch 20/20, Average Training Loss: 0.002760\n"
     ]
    },
    {
     "name": "stderr",
     "output_type": "stream",
     "text": [
      "Epoch 20/20 [VAL]: 100%|██████████| 769/769 [00:04<00:00, 188.35it/s, val_loss=0.00431]\n"
     ]
    },
    {
     "name": "stdout",
     "output_type": "stream",
     "text": [
      "Epoch 20/20, Average Validation Loss: 0.002745\n"
     ]
    }
   ],
   "source": [
    "# train the model\n",
    "# Loss and optimizer\n",
    "criterion = torch.nn.MSELoss()\n",
    "optimizer = torch.optim.Adam(seq2seq.parameters(), lr=0.002)\n",
    "\n",
    "# Training loop with validation and early stopping\n",
    "num_epochs = 20\n",
    "best_epoch = 0\n",
    "best_val_loss = float('inf')\n",
    "train_losses, val_losses = [], []\n",
    "\n",
    "for epoch in range(num_epochs):\n",
    "    # Training phase\n",
    "    seq2seq.train()\n",
    "    total_train_loss = 0\n",
    "    progress_bar = tqdm(train_loader, desc=f\"Epoch {epoch+1}/{num_epochs} [TRAIN]\")\n",
    "    for inputs, targets in progress_bar:\n",
    "        inputs, targets = inputs.to(device), targets.to(device)\n",
    "        optimizer.zero_grad()\n",
    "        outputs = seq2seq(inputs)  \n",
    "        outputs = outputs.squeeze(-1) # (batch_size, output_len)\n",
    "\n",
    "        loss = criterion(outputs, targets)\n",
    "        loss.backward()\n",
    "        optimizer.step()\n",
    "\n",
    "        total_train_loss += loss.item()\n",
    "        progress_bar.set_postfix({'train_loss': loss.item()})\n",
    "\n",
    "    average_train_loss = total_train_loss / len(train_loader)\n",
    "    train_losses.append(average_train_loss)\n",
    "    \n",
    "    print(f\"Epoch {epoch+1}/{num_epochs}, Average Training Loss: {average_train_loss:.6f}\")\n",
    "\n",
    "    # Validation phase\n",
    "    seq2seq.eval()\n",
    "    total_val_loss = 0\n",
    "    progress_bar = tqdm(val_loader, desc=f\"Epoch {epoch+1}/{num_epochs} [VAL]\")\n",
    "    for inputs, targets in progress_bar:\n",
    "        inputs, targets = inputs.to(device), targets.to(device)\n",
    "        outputs = seq2seq(inputs)  \n",
    "        outputs = outputs.squeeze(-1) # (batch_size, output_len)\n",
    "\n",
    "        loss = criterion(outputs, targets)\n",
    "\n",
    "        total_val_loss += loss.item()\n",
    "        progress_bar.set_postfix({'val_loss': loss.item()})\n",
    "    \n",
    "    average_val_loss = total_val_loss / len(val_loader)\n",
    "    val_losses.append(average_val_loss)\n",
    "    print(f\"Epoch {epoch+1}/{num_epochs}, Average Validation Loss: {average_val_loss:.6f}\")\n",
    "\n",
    "    # Save the model with least validation loss\n",
    "    if average_val_loss < best_val_loss:\n",
    "        best_epoch = epoch + 1\n",
    "        best_val_loss = average_val_loss\n",
    "        torch.save(seq2seq.state_dict(), f'LSTM_LSTM_select_best_model_{input_len}-{output_len}.pt')\n"
   ]
  },
  {
   "cell_type": "code",
   "execution_count": 53,
   "metadata": {},
   "outputs": [
    {
     "name": "stdout",
     "output_type": "stream",
     "text": [
      "Test loss: 0.0024508798960596323\n",
      "MAPE: 12.663681983947754\n"
     ]
    },
    {
     "data": {
      "image/png": "[encoded data removed]",
      "text/plain": [
       "<Figure size 2000x500 with 1 Axes>"
      ]
     },
     "metadata": {},
     "output_type": "display_data"
    }
   ],
   "source": [
    "from data_process import create_sequences\n",
    "from utils import plot_output\n",
    "import random\n",
    "# Load the best model\n",
    "seq2seq.load_state_dict(torch.load(f'LSTM_LSTM_select_best_model_{input_len}-{output_len}.pt'))\n",
    "\n",
    "# Test the model\n",
    "seq2seq.eval()\n",
    "flight_num = 276 #random.randint(0, 100)\n",
    "test_data = data[data['flight'] == flight_num]\n",
    "input_seq, output_seq = create_sequences(test_data[select_features].values, \n",
    "                                         test_data['power'].values, input_len, output_len)\n",
    "\n",
    "input_seq = torch.tensor(input_seq, dtype=torch.float32).to(device)\n",
    "output_seq = torch.tensor(output_seq, dtype=torch.float32).to(device)\n",
    "\n",
    "with torch.no_grad():\n",
    "    \n",
    "    outputs = seq2seq(input_seq)  # No need for target length\n",
    "    # Adjust the dimensions if necessary, based on your loss function requirements\n",
    "    # Example: If your outputs and targets are both [batch_size, 2, 1]\n",
    "    outputs = outputs.squeeze(-1)  # Now [batch_size, 2]\n",
    "    targets = output_seq\n",
    "\n",
    "    error = nn.MSELoss()(outputs, targets)\n",
    "    print(f\"Test loss: {error}\")\n",
    "\n",
    "    mape = torch.mean(torch.abs((outputs - targets) / targets)) * 100\n",
    "    print(f\"MAPE: {mape}\")\n",
    "    \n",
    "    plot_output(outputs.cpu(), targets.cpu(), output_len)\n"
   ]
  },
  {
   "cell_type": "code",
   "execution_count": 54,
   "metadata": {},
   "outputs": [
    {
     "name": "stdout",
     "output_type": "stream",
     "text": [
      "Test MAPE: 19.128232955932617\n",
      "Test R2 score: -37.05794702874461\n"
     ]
    }
   ],
   "source": [
    "from data_process import create_sequences\n",
    "from utils import plot_output\n",
    "from sklearn.metrics import r2_score\n",
    "import random\n",
    "import numpy as np\n",
    "# Load the best model\n",
    "seq2seq.load_state_dict(torch.load(f'LSTM_LSTM_select_best_model_{input_len}-{output_len}.pt'))\n",
    "\n",
    "# test the model\n",
    "seq2seq.eval()\n",
    "mape_list = []\n",
    "sum_mape = 0\n",
    "sum_size = 0\n",
    "r2_score_list = np.array([])\n",
    "for inputs, targets in test_loader:\n",
    "    inputs, targets = inputs.to(device), targets.to(device)\n",
    "    with torch.no_grad():\n",
    "        outputs = seq2seq(inputs)  \n",
    "        outputs = outputs.squeeze(-1)\n",
    "\n",
    "    # print(r2_score(targets.cpu().T, outputs.cpu().T, multioutput='raw_values').shape)\n",
    "    r2_score_list = np.append(r2_score_list, \n",
    "                              r2_score(targets.cpu().T, outputs.cpu().T, multioutput='raw_values'))\n",
    "    mape = torch.sum(torch.abs((outputs - targets) / targets)) * 100\n",
    "    sum_mape += mape\n",
    "    sum_size += targets.shape[0]*targets.shape[1]\n",
    "\n",
    "print(f\"Test MAPE: {sum_mape/sum_size}\")\n",
    "print(f\"Test R2 score: {np.mean(r2_score_list, axis=0)}\")\n"
   ]
  },
  {
   "cell_type": "code",
   "execution_count": 58,
   "metadata": {},
   "outputs": [
    {
     "name": "stdout",
     "output_type": "stream",
     "text": [
      "avg MAPE: 9.169939994812012\n"
     ]
    }
   ],
   "source": [
    "from data_process import create_sequences\n",
    "from utils import plot_output\n",
    "import random\n",
    "# Load the best model\n",
    "seq2seq.load_state_dict(torch.load(f'LSTM_LSTM_select_best_model_{input_len}-{output_len}.pt'))\n",
    "\n",
    "# Test the model\n",
    "seq2seq.eval()\n",
    "mape_list = []\n",
    "flights = d_split['test']\n",
    "sum_mape = 0\n",
    "sum_size = 0\n",
    "# flights.remove(273)\n",
    "for flight_num in flights:\n",
    "    # flight_num = 276 #random.randint(0, 100)\n",
    "    test_data = data[(data['flight'] == flight_num) & (data['power'] > 0.02)]\n",
    "    input_seq, output_seq = create_sequences(test_data[select_features].values, \n",
    "                                             test_data['power'].values, input_len, output_len)\n",
    "\n",
    "    input_seq = torch.tensor(input_seq, dtype=torch.float32).to(device)\n",
    "    output_seq = torch.tensor(output_seq, dtype=torch.float32).to(device)\n",
    "    \n",
    "\n",
    "    with torch.no_grad():\n",
    "        \n",
    "        outputs = seq2seq(input_seq)  # No need for target length\n",
    "        # Adjust the dimensions if necessary, based on your loss function requirements\n",
    "        # Example: If your outputs and targets are both [batch_size, 2, 1]\n",
    "        outputs = outputs.squeeze(-1)  # Now [batch_size, 2]\n",
    "        targets = output_seq\n",
    "\n",
    "    error = nn.MSELoss()(outputs, targets)\n",
    "    # print(f\"Test loss: {error}\")\n",
    "\n",
    "    mape = torch.sum(torch.abs((outputs - targets) / targets)) * 100\n",
    "    # print(f\"MAPE: {mape}\")\n",
    "    sum_mape += mape\n",
    "    sum_size += targets.shape[0]*targets.shape[1]\n",
    "    # plot_output(outputs.cpu(), targets.cpu(), output_len)\n",
    "\n",
    "print(f\"avg MAPE: {sum_mape/sum_size}\")\n"
   ]
  },
  {
   "cell_type": "markdown",
   "metadata": {},
   "source": [
    "Dataloader"
   ]
  },
  {
   "cell_type": "code",
   "execution_count": null,
   "metadata": {},
   "outputs": [],
   "source": [
    "\"\"\"\n",
    "TODO:\n",
    "\n",
    "1. Get rid of the head and tail of the data\n",
    "\n",
    "2. Debug invalid data when specifying the flight number\n",
    "\n",
    "3. By paper: 'We used a total of 114 training flights (4 hours and 4 minutes flight time), 38 validation flights \n",
    "(1 hour and 24 minutes flight time) and 37 test flights (1 hour and 23 minutes flight time).' Should we do the same?\n",
    "\n",
    "4. Decoder input (i.e., future trajectory as inputs)\n",
    "\n",
    "\"\"\""
   ]
  }
 ],
 "metadata": {
  "kernelspec": {
   "display_name": "venv",
   "language": "python",
   "name": "python3"
  },
  "language_info": {
   "codemirror_mode": {
    "name": "ipython",
    "version": 3
   },
   "file_extension": ".py",
   "mimetype": "text/x-python",
   "name": "python",
   "nbconvert_exporter": "python",
   "pygments_lexer": "ipython3",
   "version": "3.9.7"
  }
 },
 "nbformat": 4,
 "nbformat_minor": 2
}
