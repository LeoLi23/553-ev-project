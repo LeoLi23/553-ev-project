{
 "cells": [
  {
   "cell_type": "code",
   "execution_count": 2,
   "metadata": {},
   "outputs": [],
   "source": [
    "import sys\n",
    "sys.path.append(\"..\") \n",
    "import torch\n",
    "import torch.nn as nn\n",
    "from data_process import get_data_loaders, getFeatures\n",
    "from model.TCN import TemporalConvNet, TCN\n",
    "from tqdm import tqdm\n",
    "import pandas as pd\n",
    "import matplotlib.pyplot as plt"
   ]
  },
  {
   "cell_type": "code",
   "execution_count": 3,
   "metadata": {},
   "outputs": [],
   "source": [
    "input_len, output_len = 20, 10 "
   ]
  },
  {
   "cell_type": "code",
   "execution_count": 4,
   "metadata": {},
   "outputs": [
    {
     "name": "stdout",
     "output_type": "stream",
     "text": [
      "['payload', 'wind_speed', 'wind_angle', 'linear_acceleration_x', 'linear_acceleration_y', 'linear_acceleration_z', 'power']\n"
     ]
    }
   ],
   "source": [
    "data = pd.read_csv('../flights.csv') \n",
    "select_features = ['payload', 'wind_speed', 'wind_angle', 'linear_acceleration_x', 'linear_acceleration_y', 'linear_acceleration_z', 'power']\n",
    "data, train_loader, val_loader, test_loader, d_split = get_data_loaders(data, input_len, output_len, test_size=0.2, val_size=0.2, \n",
    "                                                                        features=select_features, covariates=False)\n",
    "# features = getFeatures()"
   ]
  },
  {
   "cell_type": "code",
   "execution_count": 40,
   "metadata": {},
   "outputs": [
    {
     "name": "stdout",
     "output_type": "stream",
     "text": [
      "torch.Size([64, 40, 7])\n",
      "torch.Size([64, 20])\n"
     ]
    }
   ],
   "source": [
    "for i, (x, y) in enumerate(train_loader):\n",
    "    print(x.shape)\n",
    "    print(y.shape)\n",
    "    break"
   ]
  },
  {
   "cell_type": "code",
   "execution_count": 21,
   "metadata": {},
   "outputs": [],
   "source": [
    "# build TCN-LSTM model\n",
    "\n",
    "class Encoder(nn.Module):\n",
    "    def __init__(self, input_size, seq_len, tcn_num_channels, lstm_num_hidden, tcn_kernel_size=2, tcn_dropout=0.2):\n",
    "        super(Encoder, self).__init__()\n",
    "        self.tcn = TemporalConvNet(input_size, tcn_num_channels, tcn_kernel_size, tcn_dropout)\n",
    "        self.fc_feature = nn.Linear(tcn_num_channels[-1], lstm_num_hidden)\n",
    "        self.fc_time = nn.Linear(seq_len, 1)\n",
    "        \n",
    "        self.lstm_num_hidden = lstm_num_hidden\n",
    "    \n",
    "    def forward(self, x):\n",
    "        output = self.tcn(x.transpose(1, 2)) # (batch_size, tcn_num_channels[-1], seq_len)\n",
    "        output = output.transpose(1, 2) # (batch_size, seq_len, tcn_num_channels[-1])\n",
    "        output = self.fc_feature(output) # (batch_size, seq_len, lstm_num_hidden)\n",
    "\n",
    "        h = output[:, -1, :] # (batch_size, lstm_num_hidden)\n",
    "\n",
    "        c = output.transpose(1, 2) # (batch_size, lstm_num_hidden, seq_len)\n",
    "        c = self.fc_time(c).squeeze(2) # (batch_size, lstm_num_hidden)\n",
    "        return h, c\n",
    "\n",
    "\n",
    "class Decoder(nn.Module):\n",
    "    def __init__(self, input_size, seq_len, hidden_size, num_layers=1):\n",
    "        super(Decoder, self).__init__()\n",
    "        self.lstm = nn.LSTM(input_size, hidden_size, num_layers, batch_first=True)\n",
    "        self.fc = nn.Linear(hidden_size, input_size)\n",
    "        self.num_layers = num_layers\n",
    "        self.seq_len = seq_len\n",
    "\n",
    "    def forward(self, x, hidden, cell):\n",
    "        # repeat the hidden states according to the number of layers\n",
    "        hidden = hidden.repeat(self.num_layers, 1, 1)\n",
    "        cell = cell.repeat(self.num_layers, 1, 1)\n",
    "        outputs = []\n",
    "        for _ in range(self.seq_len): \n",
    "            output, (hidden, cell) = self.lstm(x, (hidden, cell))\n",
    "            output = self.fc(output) \n",
    "            outputs.append(output[:, :, -1].unsqueeze(2))\n",
    "            x = output\n",
    "\n",
    "        outputs = torch.cat(outputs, dim=1)\n",
    "        return outputs\n",
    "\n",
    "\n",
    "class TCN_LSTM(nn.Module):\n",
    "    def __init__(self, input_size, input_len, output_len, tcn_num_channels, lstm_num_hidden, tcn_kernel_size=2, tcn_dropout=0.2, num_layers=1):\n",
    "        super(TCN_LSTM, self).__init__()\n",
    "        self.encoder = Encoder(input_size, input_len, tcn_num_channels, lstm_num_hidden, tcn_kernel_size, tcn_dropout)\n",
    "        self.decoder = Decoder(input_size, output_len, lstm_num_hidden, num_layers)\n",
    "\n",
    "    def forward(self, x):\n",
    "        # x: (batch_size, input_len, input_size)\n",
    "        h, c = self.encoder(x)\n",
    "        xt = x[:, -1, :].unsqueeze(1) # input the last time step of x into the decoder\n",
    "        outputs = self.decoder(xt, h, c) # (batch_size, output_len, 1)\n",
    "        return outputs"
   ]
  },
  {
   "cell_type": "code",
   "execution_count": 22,
   "metadata": {},
   "outputs": [
    {
     "name": "stdout",
     "output_type": "stream",
     "text": [
      "cuda\n"
     ]
    }
   ],
   "source": [
    "device = torch.device(\"cuda\" if torch.cuda.is_available() else \"cpu\")\n",
    "print(device)\n",
    "\n",
    "input_size = len(select_features)\n",
    "hidden_size = 32  \n",
    "num_layers = 1\n",
    "\n",
    "\n",
    "# encoder = Encoder(input_size, input_len, [64,64,64], hidden_size)\n",
    "# decoder = Decoder(hidden_size, output_len, hidden_size, num_layers=num_layers)\n",
    "seq2seq = TCN_LSTM(input_size, input_len, output_len, [32, 32], hidden_size, num_layers=num_layers).to(device)"
   ]
  },
  {
   "cell_type": "code",
   "execution_count": 23,
   "metadata": {},
   "outputs": [
    {
     "name": "stdout",
     "output_type": "stream",
     "text": [
      "The model has 13,660 trainable parameters\n"
     ]
    }
   ],
   "source": [
    "# get the number of trainable parameters\n",
    "def count_parameters(model):\n",
    "    return sum(p.numel() for p in model.parameters() if p.requires_grad)\n",
    "\n",
    "print(f'The model has {count_parameters(seq2seq):,} trainable parameters')"
   ]
  },
  {
   "cell_type": "code",
   "execution_count": 31,
   "metadata": {},
   "outputs": [],
   "source": [
    "class Encoder(nn.Module):\n",
    "    def __init__(self, input_size, seq_len, tcn_num_channels, lstm_num_hidden, tcn_kernel_size=2, tcn_dropout=0.2):\n",
    "        super(Encoder, self).__init__()\n",
    "        self.tcn = TemporalConvNet(input_size, tcn_num_channels, tcn_kernel_size, tcn_dropout)\n",
    "        self.fc_feature = nn.Linear(tcn_num_channels[-1], lstm_num_hidden)\n",
    "        self.fc_time = nn.Linear(seq_len, 1)\n",
    "        self.lstm_num_hidden = lstm_num_hidden\n",
    "    \n",
    "    def forward(self, x):\n",
    "        output = self.tcn(x.transpose(1, 2)) # (batch_size, tcn_num_channels[-1], seq_len)\n",
    "        output = output.transpose(1, 2) # (batch_size, seq_len, tcn_num_channels[-1])\n",
    "        output = self.fc_feature(output) # (batch_size, seq_len, lstm_num_hidden)\n",
    "\n",
    "        h = output[:, -1, :] # (batch_size, lstm_num_hidden)\n",
    "        c = output.transpose(1, 2) # (batch_size, lstm_num_hidden, seq_len)\n",
    "        c = self.fc_time(c).squeeze(2) # (batch_size, lstm_num_hidden)\n",
    "        return h, c\n",
    "\n",
    "\n",
    "class Decoder(nn.Module):\n",
    "    def __init__(self, input_size, seq_len, hidden_size, num_layers=1, covariate=False, covariate_size=0):\n",
    "        super(Decoder, self).__init__()\n",
    "        self.lstm = nn.LSTM(input_size, hidden_size, num_layers, batch_first=True)\n",
    "        if covariate:\n",
    "            self.fc = nn.Linear(hidden_size+covariate_size, input_size)\n",
    "        else:\n",
    "            self.fc = nn.Linear(hidden_size, input_size)\n",
    "        self.num_layers = num_layers\n",
    "        self.seq_len = seq_len\n",
    "        self.covariate = covariate\n",
    "\n",
    "    def forward(self, xt, hidden, cell, covariates=None):\n",
    "        # repeat the hidden states according to the number of layers\n",
    "        h = hidden.repeat(self.num_layers, 1, 1)\n",
    "        c = cell.repeat(self.num_layers, 1, 1)\n",
    "\n",
    "        outputs = []\n",
    "        for t in range(self.seq_len):\n",
    "            output, (h, c) = self.lstm(xt, (h, c))\n",
    "            if self.covariate:\n",
    "                output = torch.cat((output, covariates[:, t, :].unsqueeze(1)), dim=2)\n",
    "            output = self.fc(output)\n",
    "            outputs.append(output[:, :, -1].unsqueeze(2))\n",
    "            xt = output  # use the decoder output as the next input\n",
    "\n",
    "        outputs = torch.cat(outputs, dim=1)\n",
    "        return outputs\n",
    "\n",
    "\n",
    "class TCN_LSTM(nn.Module):\n",
    "    def __init__(self, encoder_input_size, decoder_input_size, input_len, output_len, tcn_num_channels, lstm_num_hidden, \n",
    "                 tcn_kernel_size=2, tcn_dropout=0.2, num_layers=1, covariate=False, covariate_size=0):\n",
    "        super(TCN_LSTM, self).__init__()\n",
    "        self.encoder = Encoder(encoder_input_size, input_len, tcn_num_channels, lstm_num_hidden, tcn_kernel_size, tcn_dropout)\n",
    "        self.decoder = Decoder(decoder_input_size, output_len, lstm_num_hidden, num_layers, covariate, covariate_size)\n",
    "        self.decoder_input_size = decoder_input_size\n",
    "\n",
    "    def forward(self, historic_inputs, covariates=None):\n",
    "        \"\"\"\n",
    "        By default, the last feature of the encoder input is the target feature.\n",
    "        And the decoder_input = encoder_input[-decoder_input_size:]\n",
    "        \"\"\"\n",
    "        # x: (batch_size, input_len, input_size)\n",
    "        h, c = self.encoder(historic_inputs)\n",
    "        xt = historic_inputs[:, -1, -self.decoder_input_size:].unsqueeze(1)\n",
    "        if self.decoder_input_size == 1:\n",
    "            xt = xt.unsqueeze(2)\n",
    "        outputs = self.decoder(xt, h, c, covariates) # (batch_size, output_len, 1)\n",
    "        return outputs"
   ]
  },
  {
   "cell_type": "code",
   "execution_count": 32,
   "metadata": {},
   "outputs": [
    {
     "name": "stdout",
     "output_type": "stream",
     "text": [
      "cuda\n"
     ]
    }
   ],
   "source": [
    "device = torch.device(\"cuda\" if torch.cuda.is_available() else \"cpu\")\n",
    "print(device)\n",
    "\n",
    "input_size = len(select_features)\n",
    "hidden_size = 32  \n",
    "num_layers = 1\n",
    "\n",
    "\n",
    "# encoder = Encoder(input_size, input_len, [64,64,64], hidden_size)\n",
    "# decoder = Decoder(hidden_size, output_len, hidden_size, num_layers=num_layers)\n",
    "seq2seq = TCN_LSTM(input_size, input_size, input_len, output_len, [32, 32], hidden_size, num_layers=num_layers).to(device)"
   ]
  },
  {
   "cell_type": "code",
   "execution_count": 43,
   "metadata": {},
   "outputs": [
    {
     "name": "stderr",
     "output_type": "stream",
     "text": [
      "Epoch 1/25 [TRAIN]: 100%|██████████| 2239/2239 [00:40<00:00, 54.90it/s, train_loss=0.0133] \n"
     ]
    },
    {
     "name": "stdout",
     "output_type": "stream",
     "text": [
      "Epoch 1/25, Average Training Loss: 0.008454\n"
     ]
    },
    {
     "name": "stderr",
     "output_type": "stream",
     "text": [
      "Epoch 1/25 [VAL]: 100%|██████████| 750/750 [00:09<00:00, 82.25it/s, val_loss=0.00412]\n"
     ]
    },
    {
     "name": "stdout",
     "output_type": "stream",
     "text": [
      "Epoch 1/25, Average Validation Loss: 0.005658\n"
     ]
    },
    {
     "name": "stderr",
     "output_type": "stream",
     "text": [
      "Epoch 2/25 [TRAIN]: 100%|██████████| 2239/2239 [00:39<00:00, 56.32it/s, train_loss=0.00549]\n"
     ]
    },
    {
     "name": "stdout",
     "output_type": "stream",
     "text": [
      "Epoch 2/25, Average Training Loss: 0.005428\n"
     ]
    },
    {
     "name": "stderr",
     "output_type": "stream",
     "text": [
      "Epoch 2/25 [VAL]: 100%|██████████| 750/750 [00:09<00:00, 81.59it/s, val_loss=0.004]  \n"
     ]
    },
    {
     "name": "stdout",
     "output_type": "stream",
     "text": [
      "Epoch 2/25, Average Validation Loss: 0.004924\n"
     ]
    },
    {
     "name": "stderr",
     "output_type": "stream",
     "text": [
      "Epoch 3/25 [TRAIN]: 100%|██████████| 2239/2239 [00:40<00:00, 55.97it/s, train_loss=0.00409]\n"
     ]
    },
    {
     "name": "stdout",
     "output_type": "stream",
     "text": [
      "Epoch 3/25, Average Training Loss: 0.004857\n"
     ]
    },
    {
     "name": "stderr",
     "output_type": "stream",
     "text": [
      "Epoch 3/25 [VAL]: 100%|██████████| 750/750 [00:08<00:00, 86.09it/s, val_loss=0.00343]\n"
     ]
    },
    {
     "name": "stdout",
     "output_type": "stream",
     "text": [
      "Epoch 3/25, Average Validation Loss: 0.004372\n"
     ]
    },
    {
     "name": "stderr",
     "output_type": "stream",
     "text": [
      "Epoch 4/25 [TRAIN]: 100%|██████████| 2239/2239 [00:39<00:00, 56.10it/s, train_loss=0.00394]\n"
     ]
    },
    {
     "name": "stdout",
     "output_type": "stream",
     "text": [
      "Epoch 4/25, Average Training Loss: 0.004539\n"
     ]
    },
    {
     "name": "stderr",
     "output_type": "stream",
     "text": [
      "Epoch 4/25 [VAL]: 100%|██████████| 750/750 [00:09<00:00, 78.98it/s, val_loss=0.00367]\n"
     ]
    },
    {
     "name": "stdout",
     "output_type": "stream",
     "text": [
      "Epoch 4/25, Average Validation Loss: 0.004201\n"
     ]
    },
    {
     "name": "stderr",
     "output_type": "stream",
     "text": [
      "Epoch 5/25 [TRAIN]: 100%|██████████| 2239/2239 [00:44<00:00, 50.81it/s, train_loss=0.00578]\n"
     ]
    },
    {
     "name": "stdout",
     "output_type": "stream",
     "text": [
      "Epoch 5/25, Average Training Loss: 0.004293\n"
     ]
    },
    {
     "name": "stderr",
     "output_type": "stream",
     "text": [
      "Epoch 5/25 [VAL]: 100%|██████████| 750/750 [00:11<00:00, 65.80it/s, val_loss=0.00367]\n"
     ]
    },
    {
     "name": "stdout",
     "output_type": "stream",
     "text": [
      "Epoch 5/25, Average Validation Loss: 0.004378\n"
     ]
    },
    {
     "name": "stderr",
     "output_type": "stream",
     "text": [
      "Epoch 6/25 [TRAIN]: 100%|██████████| 2239/2239 [00:50<00:00, 44.37it/s, train_loss=0.00538]\n"
     ]
    },
    {
     "name": "stdout",
     "output_type": "stream",
     "text": [
      "Epoch 6/25, Average Training Loss: 0.004190\n"
     ]
    },
    {
     "name": "stderr",
     "output_type": "stream",
     "text": [
      "Epoch 6/25 [VAL]: 100%|██████████| 750/750 [00:11<00:00, 66.60it/s, val_loss=0.0035] \n"
     ]
    },
    {
     "name": "stdout",
     "output_type": "stream",
     "text": [
      "Epoch 6/25, Average Validation Loss: 0.003925\n"
     ]
    },
    {
     "name": "stderr",
     "output_type": "stream",
     "text": [
      "Epoch 7/25 [TRAIN]: 100%|██████████| 2239/2239 [00:47<00:00, 47.03it/s, train_loss=0.00435]\n"
     ]
    },
    {
     "name": "stdout",
     "output_type": "stream",
     "text": [
      "Epoch 7/25, Average Training Loss: 0.004089\n"
     ]
    },
    {
     "name": "stderr",
     "output_type": "stream",
     "text": [
      "Epoch 7/25 [VAL]: 100%|██████████| 750/750 [00:11<00:00, 65.05it/s, val_loss=0.00332]\n"
     ]
    },
    {
     "name": "stdout",
     "output_type": "stream",
     "text": [
      "Epoch 7/25, Average Validation Loss: 0.003830\n"
     ]
    },
    {
     "name": "stderr",
     "output_type": "stream",
     "text": [
      "Epoch 8/25 [TRAIN]: 100%|██████████| 2239/2239 [00:48<00:00, 45.72it/s, train_loss=0.00378]\n"
     ]
    },
    {
     "name": "stdout",
     "output_type": "stream",
     "text": [
      "Epoch 8/25, Average Training Loss: 0.004010\n"
     ]
    },
    {
     "name": "stderr",
     "output_type": "stream",
     "text": [
      "Epoch 8/25 [VAL]: 100%|██████████| 750/750 [00:11<00:00, 67.10it/s, val_loss=0.00337]\n"
     ]
    },
    {
     "name": "stdout",
     "output_type": "stream",
     "text": [
      "Epoch 8/25, Average Validation Loss: 0.004002\n"
     ]
    },
    {
     "name": "stderr",
     "output_type": "stream",
     "text": [
      "Epoch 9/25 [TRAIN]: 100%|██████████| 2239/2239 [00:48<00:00, 46.49it/s, train_loss=0.00568]\n"
     ]
    },
    {
     "name": "stdout",
     "output_type": "stream",
     "text": [
      "Epoch 9/25, Average Training Loss: 0.003954\n"
     ]
    },
    {
     "name": "stderr",
     "output_type": "stream",
     "text": [
      "Epoch 9/25 [VAL]: 100%|██████████| 750/750 [00:11<00:00, 64.06it/s, val_loss=0.00376]\n"
     ]
    },
    {
     "name": "stdout",
     "output_type": "stream",
     "text": [
      "Epoch 9/25, Average Validation Loss: 0.004168\n"
     ]
    },
    {
     "name": "stderr",
     "output_type": "stream",
     "text": [
      "Epoch 10/25 [TRAIN]: 100%|██████████| 2239/2239 [00:48<00:00, 45.75it/s, train_loss=0.00333]\n"
     ]
    },
    {
     "name": "stdout",
     "output_type": "stream",
     "text": [
      "Epoch 10/25, Average Training Loss: 0.003893\n"
     ]
    },
    {
     "name": "stderr",
     "output_type": "stream",
     "text": [
      "Epoch 10/25 [VAL]: 100%|██████████| 750/750 [00:11<00:00, 63.01it/s, val_loss=0.00328]\n"
     ]
    },
    {
     "name": "stdout",
     "output_type": "stream",
     "text": [
      "Epoch 10/25, Average Validation Loss: 0.003884\n"
     ]
    },
    {
     "name": "stderr",
     "output_type": "stream",
     "text": [
      "Epoch 11/25 [TRAIN]: 100%|██████████| 2239/2239 [00:45<00:00, 48.76it/s, train_loss=0.00431]\n"
     ]
    },
    {
     "name": "stdout",
     "output_type": "stream",
     "text": [
      "Epoch 11/25, Average Training Loss: 0.003841\n"
     ]
    },
    {
     "name": "stderr",
     "output_type": "stream",
     "text": [
      "Epoch 11/25 [VAL]: 100%|██████████| 750/750 [00:10<00:00, 69.60it/s, val_loss=0.00313]\n"
     ]
    },
    {
     "name": "stdout",
     "output_type": "stream",
     "text": [
      "Epoch 11/25, Average Validation Loss: 0.003830\n"
     ]
    },
    {
     "name": "stderr",
     "output_type": "stream",
     "text": [
      "Epoch 12/25 [TRAIN]: 100%|██████████| 2239/2239 [00:45<00:00, 48.81it/s, train_loss=0.00318]\n"
     ]
    },
    {
     "name": "stdout",
     "output_type": "stream",
     "text": [
      "Epoch 12/25, Average Training Loss: 0.003801\n"
     ]
    },
    {
     "name": "stderr",
     "output_type": "stream",
     "text": [
      "Epoch 12/25 [VAL]: 100%|██████████| 750/750 [00:10<00:00, 69.19it/s, val_loss=0.00317]\n"
     ]
    },
    {
     "name": "stdout",
     "output_type": "stream",
     "text": [
      "Epoch 12/25, Average Validation Loss: 0.003852\n"
     ]
    },
    {
     "name": "stderr",
     "output_type": "stream",
     "text": [
      "Epoch 13/25 [TRAIN]: 100%|██████████| 2239/2239 [00:46<00:00, 48.55it/s, train_loss=0.00231]\n"
     ]
    },
    {
     "name": "stdout",
     "output_type": "stream",
     "text": [
      "Epoch 13/25, Average Training Loss: 0.003777\n"
     ]
    },
    {
     "name": "stderr",
     "output_type": "stream",
     "text": [
      "Epoch 13/25 [VAL]: 100%|██████████| 750/750 [00:10<00:00, 69.05it/s, val_loss=0.00308]\n"
     ]
    },
    {
     "name": "stdout",
     "output_type": "stream",
     "text": [
      "Epoch 13/25, Average Validation Loss: 0.003648\n"
     ]
    },
    {
     "name": "stderr",
     "output_type": "stream",
     "text": [
      "Epoch 14/25 [TRAIN]: 100%|██████████| 2239/2239 [00:46<00:00, 48.42it/s, train_loss=0.00298]\n"
     ]
    },
    {
     "name": "stdout",
     "output_type": "stream",
     "text": [
      "Epoch 14/25, Average Training Loss: 0.003732\n"
     ]
    },
    {
     "name": "stderr",
     "output_type": "stream",
     "text": [
      "Epoch 14/25 [VAL]: 100%|██████████| 750/750 [00:10<00:00, 69.14it/s, val_loss=0.00296]\n"
     ]
    },
    {
     "name": "stdout",
     "output_type": "stream",
     "text": [
      "Epoch 14/25, Average Validation Loss: 0.003780\n"
     ]
    },
    {
     "name": "stderr",
     "output_type": "stream",
     "text": [
      "Epoch 15/25 [TRAIN]: 100%|██████████| 2239/2239 [00:49<00:00, 44.82it/s, train_loss=0.0033] \n"
     ]
    },
    {
     "name": "stdout",
     "output_type": "stream",
     "text": [
      "Epoch 15/25, Average Training Loss: 0.003695\n"
     ]
    },
    {
     "name": "stderr",
     "output_type": "stream",
     "text": [
      "Epoch 15/25 [VAL]: 100%|██████████| 750/750 [00:12<00:00, 61.68it/s, val_loss=0.00312]\n"
     ]
    },
    {
     "name": "stdout",
     "output_type": "stream",
     "text": [
      "Epoch 15/25, Average Validation Loss: 0.003655\n"
     ]
    },
    {
     "name": "stderr",
     "output_type": "stream",
     "text": [
      "Epoch 16/25 [TRAIN]: 100%|██████████| 2239/2239 [00:47<00:00, 47.04it/s, train_loss=0.00268]\n"
     ]
    },
    {
     "name": "stdout",
     "output_type": "stream",
     "text": [
      "Epoch 16/25, Average Training Loss: 0.003673\n"
     ]
    },
    {
     "name": "stderr",
     "output_type": "stream",
     "text": [
      "Epoch 16/25 [VAL]: 100%|██████████| 750/750 [00:11<00:00, 67.20it/s, val_loss=0.00275]\n"
     ]
    },
    {
     "name": "stdout",
     "output_type": "stream",
     "text": [
      "Epoch 16/25, Average Validation Loss: 0.003614\n"
     ]
    },
    {
     "name": "stderr",
     "output_type": "stream",
     "text": [
      "Epoch 17/25 [TRAIN]: 100%|██████████| 2239/2239 [00:46<00:00, 48.48it/s, train_loss=0.00266]\n"
     ]
    },
    {
     "name": "stdout",
     "output_type": "stream",
     "text": [
      "Epoch 17/25, Average Training Loss: 0.003656\n"
     ]
    },
    {
     "name": "stderr",
     "output_type": "stream",
     "text": [
      "Epoch 17/25 [VAL]: 100%|██████████| 750/750 [00:11<00:00, 67.36it/s, val_loss=0.00285]\n"
     ]
    },
    {
     "name": "stdout",
     "output_type": "stream",
     "text": [
      "Epoch 17/25, Average Validation Loss: 0.003574\n"
     ]
    },
    {
     "name": "stderr",
     "output_type": "stream",
     "text": [
      "Epoch 18/25 [TRAIN]: 100%|██████████| 2239/2239 [00:48<00:00, 46.15it/s, train_loss=0.00511]\n"
     ]
    },
    {
     "name": "stdout",
     "output_type": "stream",
     "text": [
      "Epoch 18/25, Average Training Loss: 0.003636\n"
     ]
    },
    {
     "name": "stderr",
     "output_type": "stream",
     "text": [
      "Epoch 18/25 [VAL]: 100%|██████████| 750/750 [00:11<00:00, 65.05it/s, val_loss=0.00289]\n"
     ]
    },
    {
     "name": "stdout",
     "output_type": "stream",
     "text": [
      "Epoch 18/25, Average Validation Loss: 0.003782\n"
     ]
    },
    {
     "name": "stderr",
     "output_type": "stream",
     "text": [
      "Epoch 19/25 [TRAIN]: 100%|██████████| 2239/2239 [00:49<00:00, 45.67it/s, train_loss=0.00318]\n"
     ]
    },
    {
     "name": "stdout",
     "output_type": "stream",
     "text": [
      "Epoch 19/25, Average Training Loss: 0.003621\n"
     ]
    },
    {
     "name": "stderr",
     "output_type": "stream",
     "text": [
      "Epoch 19/25 [VAL]: 100%|██████████| 750/750 [00:10<00:00, 70.41it/s, val_loss=0.00269]\n"
     ]
    },
    {
     "name": "stdout",
     "output_type": "stream",
     "text": [
      "Epoch 19/25, Average Validation Loss: 0.003615\n"
     ]
    },
    {
     "name": "stderr",
     "output_type": "stream",
     "text": [
      "Epoch 20/25 [TRAIN]: 100%|██████████| 2239/2239 [00:46<00:00, 48.26it/s, train_loss=0.0037] \n"
     ]
    },
    {
     "name": "stdout",
     "output_type": "stream",
     "text": [
      "Epoch 20/25, Average Training Loss: 0.003609\n"
     ]
    },
    {
     "name": "stderr",
     "output_type": "stream",
     "text": [
      "Epoch 20/25 [VAL]: 100%|██████████| 750/750 [00:11<00:00, 63.07it/s, val_loss=0.00266]\n"
     ]
    },
    {
     "name": "stdout",
     "output_type": "stream",
     "text": [
      "Epoch 20/25, Average Validation Loss: 0.003554\n"
     ]
    },
    {
     "name": "stderr",
     "output_type": "stream",
     "text": [
      "Epoch 21/25 [TRAIN]: 100%|██████████| 2239/2239 [00:49<00:00, 45.29it/s, train_loss=0.00383]\n"
     ]
    },
    {
     "name": "stdout",
     "output_type": "stream",
     "text": [
      "Epoch 21/25, Average Training Loss: 0.003552\n"
     ]
    },
    {
     "name": "stderr",
     "output_type": "stream",
     "text": [
      "Epoch 21/25 [VAL]: 100%|██████████| 750/750 [00:11<00:00, 65.25it/s, val_loss=0.00301]\n"
     ]
    },
    {
     "name": "stdout",
     "output_type": "stream",
     "text": [
      "Epoch 21/25, Average Validation Loss: 0.003566\n"
     ]
    },
    {
     "name": "stderr",
     "output_type": "stream",
     "text": [
      "Epoch 22/25 [TRAIN]: 100%|██████████| 2239/2239 [00:48<00:00, 46.64it/s, train_loss=0.00334]\n"
     ]
    },
    {
     "name": "stdout",
     "output_type": "stream",
     "text": [
      "Epoch 22/25, Average Training Loss: 0.003560\n"
     ]
    },
    {
     "name": "stderr",
     "output_type": "stream",
     "text": [
      "Epoch 22/25 [VAL]: 100%|██████████| 750/750 [00:12<00:00, 58.44it/s, val_loss=0.00269]\n"
     ]
    },
    {
     "name": "stdout",
     "output_type": "stream",
     "text": [
      "Epoch 22/25, Average Validation Loss: 0.003628\n"
     ]
    },
    {
     "name": "stderr",
     "output_type": "stream",
     "text": [
      "Epoch 23/25 [TRAIN]: 100%|██████████| 2239/2239 [00:48<00:00, 46.29it/s, train_loss=0.00258]\n"
     ]
    },
    {
     "name": "stdout",
     "output_type": "stream",
     "text": [
      "Epoch 23/25, Average Training Loss: 0.003540\n"
     ]
    },
    {
     "name": "stderr",
     "output_type": "stream",
     "text": [
      "Epoch 23/25 [VAL]: 100%|██████████| 750/750 [00:11<00:00, 66.63it/s, val_loss=0.00265]\n"
     ]
    },
    {
     "name": "stdout",
     "output_type": "stream",
     "text": [
      "Epoch 23/25, Average Validation Loss: 0.003585\n"
     ]
    },
    {
     "name": "stderr",
     "output_type": "stream",
     "text": [
      "Epoch 24/25 [TRAIN]: 100%|██████████| 2239/2239 [00:47<00:00, 47.43it/s, train_loss=0.00653]\n"
     ]
    },
    {
     "name": "stdout",
     "output_type": "stream",
     "text": [
      "Epoch 24/25, Average Training Loss: 0.003526\n"
     ]
    },
    {
     "name": "stderr",
     "output_type": "stream",
     "text": [
      "Epoch 24/25 [VAL]: 100%|██████████| 750/750 [00:11<00:00, 64.98it/s, val_loss=0.00273]\n"
     ]
    },
    {
     "name": "stdout",
     "output_type": "stream",
     "text": [
      "Epoch 24/25, Average Validation Loss: 0.003601\n"
     ]
    },
    {
     "name": "stderr",
     "output_type": "stream",
     "text": [
      "Epoch 25/25 [TRAIN]: 100%|██████████| 2239/2239 [00:46<00:00, 47.89it/s, train_loss=0.00342]\n"
     ]
    },
    {
     "name": "stdout",
     "output_type": "stream",
     "text": [
      "Epoch 25/25, Average Training Loss: 0.003495\n"
     ]
    },
    {
     "name": "stderr",
     "output_type": "stream",
     "text": [
      "Epoch 25/25 [VAL]: 100%|██████████| 750/750 [00:11<00:00, 66.94it/s, val_loss=0.00275]"
     ]
    },
    {
     "name": "stdout",
     "output_type": "stream",
     "text": [
      "Epoch 25/25, Average Validation Loss: 0.003565\n"
     ]
    },
    {
     "name": "stderr",
     "output_type": "stream",
     "text": [
      "\n"
     ]
    }
   ],
   "source": [
    "# train the model\n",
    "# Loss and optimizer\n",
    "criterion = torch.nn.MSELoss()\n",
    "optimizer = torch.optim.Adam(seq2seq.parameters(), lr=0.002)\n",
    "\n",
    "# Training loop with validation and early stopping\n",
    "num_epochs = 25\n",
    "best_epoch = 0\n",
    "best_val_loss = float('inf')\n",
    "train_losses, val_losses = [], []\n",
    "\n",
    "for epoch in range(num_epochs):\n",
    "    # Training phase\n",
    "    seq2seq.train()\n",
    "    total_train_loss = 0\n",
    "    progress_bar = tqdm(train_loader, desc=f\"Epoch {epoch+1}/{num_epochs} [TRAIN]\")\n",
    "    for inputs, targets in progress_bar:\n",
    "        inputs, targets = inputs.to(device), targets.to(device)\n",
    "        optimizer.zero_grad()\n",
    "        outputs = seq2seq(inputs)  \n",
    "        outputs = outputs.squeeze(-1) # (batch_size, output_len)\n",
    "\n",
    "        loss = criterion(outputs, targets)\n",
    "        loss.backward()\n",
    "        optimizer.step()\n",
    "\n",
    "        total_train_loss += loss.item()\n",
    "        progress_bar.set_postfix({'train_loss': loss.item()})\n",
    "\n",
    "    average_train_loss = total_train_loss / len(train_loader)\n",
    "    train_losses.append(average_train_loss)\n",
    "    \n",
    "    print(f\"Epoch {epoch+1}/{num_epochs}, Average Training Loss: {average_train_loss:.6f}\")\n",
    "\n",
    "    # Validation phase\n",
    "    seq2seq.eval()\n",
    "    total_val_loss = 0\n",
    "    progress_bar = tqdm(val_loader, desc=f\"Epoch {epoch+1}/{num_epochs} [VAL]\")\n",
    "    for inputs, targets in progress_bar:\n",
    "        inputs, targets = inputs.to(device), targets.to(device)\n",
    "        outputs = seq2seq(inputs)  \n",
    "        outputs = outputs.squeeze(-1) # (batch_size, output_len)\n",
    "\n",
    "        with torch.no_grad():\n",
    "            outputs = seq2seq(inputs)  \n",
    "            outputs = outputs.squeeze(-1) # (batch_size, output_len)\n",
    "            loss = criterion(outputs, targets)\n",
    "\n",
    "        total_val_loss += loss.item()\n",
    "        progress_bar.set_postfix({'val_loss': loss.item()})\n",
    "    \n",
    "    average_val_loss = total_val_loss / len(val_loader)\n",
    "    val_losses.append(average_val_loss)\n",
    "    print(f\"Epoch {epoch+1}/{num_epochs}, Average Validation Loss: {average_val_loss:.6f}\")\n",
    "\n",
    "    # Save the model with least validation loss\n",
    "    if average_val_loss < best_val_loss:\n",
    "        best_epoch = epoch + 1\n",
    "        best_val_loss = average_val_loss\n",
    "        torch.save(seq2seq.state_dict(), f'TCN_LSTM_select2_best_model_{input_len}-{output_len}.pt')\n"
   ]
  },
  {
   "cell_type": "code",
   "execution_count": 51,
   "metadata": {},
   "outputs": [
    {
     "name": "stdout",
     "output_type": "stream",
     "text": [
      "Test loss: 0.002881963038817048\n",
      "MAPE: 15.52318000793457\n"
     ]
    },
    {
     "data": {
      "image/png": "[encoded data removed]",
      "text/plain": [
       "<Figure size 2000x500 with 1 Axes>"
      ]
     },
     "metadata": {},
     "output_type": "display_data"
    }
   ],
   "source": [
    "from data_process import create_sequences\n",
    "from utils import plot_output\n",
    "import random\n",
    "# Load the best model\n",
    "seq2seq.load_state_dict(torch.load(f'TCN_LSTM_select2_best_model_{input_len}-{output_len}.pt'))\n",
    "\n",
    "# Test the model\n",
    "seq2seq.eval()\n",
    "flight_num = 276 #random.randint(0, 100)\n",
    "flight_num = random.choice(d_split['test'])\n",
    "test_data = data[data['flight'] == flight_num]\n",
    "input_seq, output_seq = create_sequences(test_data[select_features].values, \n",
    "                                         test_data['power'].values,input_len,output_len)\n",
    "\n",
    "input_seq = torch.tensor(input_seq, dtype=torch.float32).to(device)\n",
    "output_seq = torch.tensor(output_seq, dtype=torch.float32).to(device)\n",
    "\n",
    "with torch.no_grad():\n",
    "    \n",
    "    outputs = seq2seq(input_seq)  # No need for target length\n",
    "    # Adjust the dimensions if necessary, based on your loss function requirements\n",
    "    # Example: If your outputs and targets are both [batch_size, 2, 1]\n",
    "    outputs = outputs.squeeze(-1)  # Now [batch_size, 2]\n",
    "    targets = output_seq\n",
    "\n",
    "    error = nn.MSELoss()(outputs, targets)\n",
    "    print(f\"Test loss: {error}\")\n",
    "\n",
    "    mape = torch.mean(torch.abs((outputs - targets) / targets)) * 100\n",
    "    print(f\"MAPE: {mape}\")\n",
    "    \n",
    "    plot_output(outputs.cpu(), targets.cpu(), output_len)\n"
   ]
  },
  {
   "cell_type": "code",
   "execution_count": 81,
   "metadata": {},
   "outputs": [
    {
     "name": "stdout",
     "output_type": "stream",
     "text": [
      "avg MAPE: 8.661397933959961\n"
     ]
    }
   ],
   "source": [
    "from data_process import create_sequences\n",
    "from utils import plot_output\n",
    "import random\n",
    "# Load the best model\n",
    "seq2seq.load_state_dict(torch.load(f'TCN_LSTM_select2_best_model_{input_len}-{output_len}.pt'))\n",
    "\n",
    "# Test the model\n",
    "seq2seq.eval()\n",
    "mape_list = []\n",
    "flights = d_split['test']\n",
    "# flights.remove(273)\n",
    "for flight_num in flights:\n",
    "    # flight_num = 276 #random.randint(0, 100)\n",
    "    test_data = data[(data['flight'] == flight_num) & (data['power'] > 0.05)]\n",
    "    input_seq, output_seq = create_sequences(test_data[select_features].values, \n",
    "                                            test_data['power'].values,input_len,output_len)\n",
    "\n",
    "    input_seq = torch.tensor(input_seq, dtype=torch.float32).to(device)\n",
    "    output_seq = torch.tensor(output_seq, dtype=torch.float32).to(device)\n",
    "\n",
    "\n",
    "    with torch.no_grad():\n",
    "        \n",
    "        outputs = seq2seq(input_seq)  # No need for target length\n",
    "        # Adjust the dimensions if necessary, based on your loss function requirements\n",
    "        # Example: If your outputs and targets are both [batch_size, 2, 1]\n",
    "        outputs = outputs.squeeze(-1)  # Now [batch_size, 2]\n",
    "        targets = output_seq\n",
    "\n",
    "        error = nn.MSELoss()(outputs, targets)\n",
    "        # print(f\"Test loss: {error}\")\n",
    "\n",
    "        mape = torch.mean(torch.abs((outputs - targets) / targets)) * 100\n",
    "        # print(f\"MAPE: {mape}\")\n",
    "        mape_list.append(mape)\n",
    "        # plot_output(outputs.cpu(), targets.cpu(), output_len)\n",
    "\n",
    "print(f\"avg MAPE: {sum(mape_list)/len(mape_list)}\")\n"
   ]
  },
  {
   "cell_type": "code",
   "execution_count": 69,
   "metadata": {},
   "outputs": [
    {
     "name": "stdout",
     "output_type": "stream",
     "text": [
      "avg worst MAPE: 27.943930572505742\n"
     ]
    }
   ],
   "source": [
    "from data_process import create_sequences\n",
    "from utils import plot_output\n",
    "import numpy as np\n",
    "\n",
    "mape_list = []\n",
    "for flight_num in flights:\n",
    "    test_data = data[(data['flight'] == flight_num)]\n",
    "    outputs = test_data['power'].mean()\n",
    "    test_data = test_data[data['power'] > 0.05]\n",
    "\n",
    "    # test_data.plot(x='time', y='power', figsize=(20, 5))\n",
    "\n",
    "    \n",
    "    targets = test_data['power'].values\n",
    "    mape = np.mean(np.abs((outputs - targets) / targets)) * 100\n",
    "    # print(f\"MAPE: {mape}\")\n",
    "    mape_list.append(mape)\n",
    "\n",
    "print(f\"avg worst MAPE: {sum(mape_list)/len(mape_list)}\")"
   ]
  },
  {
   "cell_type": "code",
   "execution_count": 7,
   "metadata": {},
   "outputs": [
    {
     "name": "stdout",
     "output_type": "stream",
     "text": [
      "Test MAPE: 16.68063735961914\n"
     ]
    }
   ],
   "source": [
    "from data_process import create_sequences\n",
    "from utils import plot_output\n",
    "import random\n",
    "# Load the best model\n",
    "seq2seq.load_state_dict(torch.load(f'TCN_LSTM_select2_best_model_{input_len}-{output_len}.pt'))\n",
    "\n",
    "# Test the model\n",
    "seq2seq.eval()\n",
    "test_nums = d_split['test']\n",
    "sum_mape = 0\n",
    "sum_size = 0\n",
    "for f_num in d_split['test']:\n",
    "    test_data = data[data['flight'] == f_num]\n",
    "    input_seq, output_seq = create_sequences(test_data[select_features].values, \n",
    "                                            test_data['power'].values,input_len,output_len)\n",
    "\n",
    "    input_seq = torch.tensor(input_seq, dtype=torch.float32).to(device)\n",
    "    output_seq = torch.tensor(output_seq, dtype=torch.float32).to(device)\n",
    "\n",
    "    # print(f\"Flight {f_num}:\")\n",
    "\n",
    "    with torch.no_grad():\n",
    "        \n",
    "        outputs = seq2seq(input_seq)  # No need for target length\n",
    "        # Adjust the dimensions if necessary, based on your loss function requirements\n",
    "        # Example: If your outputs and targets are both [batch_size, 2, 1]\n",
    "        outputs = outputs.squeeze(-1)  # Now [batch_size, 2]\n",
    "        targets = output_seq\n",
    "    \n",
    "        # error = nn.MSELoss()(outputs, targets)\n",
    "        # print(f\"Test loss: {error}\")\n",
    "\n",
    "        mape = torch.sum(torch.abs((outputs - targets) / targets)) * 100\n",
    "        sum_mape += mape\n",
    "        sum_size += targets.shape[0]*targets.shape[1]\n",
    "\n",
    "print(f\"Test MAPE: {sum_mape/sum_size}\")\n"
   ]
  },
  {
   "cell_type": "code",
   "execution_count": 6,
   "metadata": {},
   "outputs": [
    {
     "name": "stdout",
     "output_type": "stream",
     "text": [
      "Test MAPE: 16.692819595336914\n"
     ]
    }
   ],
   "source": [
    "from data_process import create_sequences\n",
    "from utils import plot_output\n",
    "import random\n",
    "# Load the best model\n",
    "seq2seq.load_state_dict(torch.load(f'TCN_LSTM_select2_best_model_{input_len}-{output_len}.pt'))\n",
    "\n",
    "# test the model\n",
    "seq2seq.eval()\n",
    "mape_list = []\n",
    "sum_mape = 0\n",
    "sum_size = 0\n",
    "for inputs, targets in test_loader:\n",
    "    inputs, targets = inputs.to(device), targets.to(device)\n",
    "    with torch.no_grad():\n",
    "        outputs = seq2seq(inputs)  \n",
    "        outputs = outputs.squeeze(-1)\n",
    "        \n",
    "    mape = torch.sum(torch.abs((outputs - targets) / targets)) * 100\n",
    "    sum_mape += mape\n",
    "    sum_size += targets.shape[0]*targets.shape[1]\n",
    "\n",
    "print(f\"Test MAPE: {sum_mape/sum_size}\")\n"
   ]
  },
  {
   "cell_type": "markdown",
   "metadata": {},
   "source": [
    "It seems LSTM-LSTM is better than current design of TCN-LSTM"
   ]
  }
 ],
 "metadata": {
  "kernelspec": {
   "display_name": ".venv",
   "language": "python",
   "name": "python3"
  },
  "language_info": {
   "codemirror_mode": {
    "name": "ipython",
    "version": 3
   },
   "file_extension": ".py",
   "mimetype": "text/x-python",
   "name": "python",
   "nbconvert_exporter": "python",
   "pygments_lexer": "ipython3",
   "version": "3.9.7"
  }
 },
 "nbformat": 4,
 "nbformat_minor": 2
}
