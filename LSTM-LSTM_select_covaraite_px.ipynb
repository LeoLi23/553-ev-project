{
 "cells": [
  {
   "cell_type": "code",
   "execution_count": 3,
   "metadata": {},
   "outputs": [],
   "source": [
    "import torch\n",
    "import torch.nn as nn\n",
    "from data_process import get_data_loaders, getFeatures\n",
    "from model.TCN import TemporalConvNet, TCN\n",
    "from tqdm import tqdm\n",
    "import pandas as pd\n",
    "import matplotlib.pyplot as plt"
   ]
  },
  {
   "cell_type": "code",
   "execution_count": 1,
   "metadata": {},
   "outputs": [],
   "source": [
    "input_len, output_len = 20, 10"
   ]
  },
  {
   "cell_type": "code",
   "execution_count": 4,
   "metadata": {},
   "outputs": [],
   "source": [
    "data = pd.read_csv('flights.csv') \n",
    "select_features = ['payload', 'wind_speed', 'wind_angle', 'linear_acceleration_x', 'linear_acceleration_y', 'linear_acceleration_z', 'power']\n",
    "data, train_loader, val_loader, test_loader, d_split = get_data_loaders(data, input_len, output_len, test_size=0.2, val_size=0.2, \n",
    "                                                                        features=select_features, covariates=True)\n",
    "# features = getFeatures()"
   ]
  },
  {
   "cell_type": "code",
   "execution_count": 5,
   "metadata": {},
   "outputs": [
    {
     "name": "stdout",
     "output_type": "stream",
     "text": [
      "torch.Size([64, 20, 13])\n",
      "torch.Size([64, 10])\n"
     ]
    }
   ],
   "source": [
    "for i, (x, y) in enumerate(train_loader):\n",
    "    print(x.shape)\n",
    "    print(y.shape)\n",
    "    break"
   ]
  },
  {
   "cell_type": "code",
   "execution_count": 4,
   "metadata": {},
   "outputs": [],
   "source": [
    "class LSTM_LSTM(nn.Module):\n",
    "    def __init__(self, hist_input_size, covariates_size, input_len, output_len, lstm_num_hidden, num_layers=1):\n",
    "        super(LSTM_LSTM, self).__init__()\n",
    "        self.encoder = nn.LSTM(hist_input_size, lstm_num_hidden, num_layers, batch_first=True)\n",
    "        self.decoder = nn.LSTM(covariates_size, lstm_num_hidden, num_layers, batch_first=True)\n",
    "        self.fc = nn.Linear(lstm_num_hidden, 1)\n",
    "        self.input_len = input_len\n",
    "        self.output_len = output_len\n",
    "\n",
    "    def forward(self, x_encoder, x_decoder):\n",
    "        # x: (batch_size, input_len, input_size)\n",
    "        _, (h, c) = self.encoder(x_encoder)\n",
    "        outputs = []\n",
    "        for t in range(self.output_len):\n",
    "            xt = x_decoder[:, t, :].unsqueeze(1)\n",
    "            output, (h, c) = self.decoder(xt, (h, c))\n",
    "            output = self.fc(output)\n",
    "            outputs.append(output)\n",
    "\n",
    "        outputs = torch.cat(outputs, dim=1)\n",
    "        return outputs"
   ]
  },
  {
   "cell_type": "code",
   "execution_count": 9,
   "metadata": {},
   "outputs": [],
   "source": [
    "class LSTM_LSTM(nn.Module):\n",
    "    def __init__(self, hist_input_size, covariates_size, input_len, output_len, lstm_num_hidden, num_layers=1):\n",
    "        super(LSTM_LSTM, self).__init__()\n",
    "        self.encoder = nn.LSTM(hist_input_size, lstm_num_hidden, num_layers, batch_first=True)\n",
    "        self.decoder = nn.LSTM(hist_input_size, lstm_num_hidden, num_layers, batch_first=True)\n",
    "        self.fc = nn.Linear(lstm_num_hidden + covariates_size, hist_input_size)\n",
    "        self.input_len = input_len\n",
    "        self.output_len = output_len\n",
    "\n",
    "    def forward(self, x_encoder, x_decoder):\n",
    "        # x: (batch_size, input_len, input_size)\n",
    "        _, (h, c) = self.encoder(x_encoder)\n",
    "        xt = x_encoder[:, -1, :].unsqueeze(1)\n",
    "        outputs = []\n",
    "        for t in range(self.output_len):\n",
    "            output, (h, c) = self.decoder(xt, (h, c))\n",
    "            covariate = x_decoder[:, t, :].unsqueeze(1)\n",
    "            output = torch.cat([covariate, output], dim=-1)\n",
    "            output = self.fc(output)\n",
    "            xt = output\n",
    "            outputs.append(output[:, :, -1].unsqueeze(2))\n",
    "\n",
    "        outputs = torch.cat(outputs, dim=1)\n",
    "        return outputs"
   ]
  },
  {
   "cell_type": "code",
   "execution_count": 10,
   "metadata": {},
   "outputs": [
    {
     "name": "stdout",
     "output_type": "stream",
     "text": [
      "cuda\n"
     ]
    }
   ],
   "source": [
    "device = torch.device(\"cuda\" if torch.cuda.is_available() else \"cpu\")\n",
    "print(device)\n",
    "\n",
    "hist_input_size = len(select_features)\n",
    "covariate_size = 6\n",
    "input_len = 20\n",
    "output_len = 10\n",
    "hidden_size = 32\n",
    "num_layers = 1\n",
    "\n",
    "# encoder = Encoder(input_size, input_len, [64,64,64], hidden_size)\n",
    "# decoder = Decoder(hidden_size, output_len, hidden_size, num_layers=num_layers)\n",
    "seq2seq = LSTM_LSTM(hist_input_size, covariate_size, \n",
    "                    input_len, output_len, hidden_size, num_layers=num_layers).to(device)"
   ]
  },
  {
   "cell_type": "code",
   "execution_count": 11,
   "metadata": {},
   "outputs": [
    {
     "name": "stderr",
     "output_type": "stream",
     "text": [
      "Epoch 1/20 [TRAIN]: 100%|██████████| 2258/2258 [00:25<00:00, 88.99it/s, train_loss=0.0023] \n"
     ]
    },
    {
     "name": "stdout",
     "output_type": "stream",
     "text": [
      "Epoch 1/20, Average Training Loss: 0.005758\n"
     ]
    },
    {
     "name": "stderr",
     "output_type": "stream",
     "text": [
      "Epoch 1/20 [VAL]: 100%|██████████| 756/756 [00:03<00:00, 208.68it/s, val_loss=0.00475]\n"
     ]
    },
    {
     "name": "stdout",
     "output_type": "stream",
     "text": [
      "Epoch 1/20, Average Validation Loss: 0.004179\n"
     ]
    },
    {
     "name": "stderr",
     "output_type": "stream",
     "text": [
      "Epoch 2/20 [TRAIN]: 100%|██████████| 2258/2258 [00:26<00:00, 85.34it/s, train_loss=0.00473]\n"
     ]
    },
    {
     "name": "stdout",
     "output_type": "stream",
     "text": [
      "Epoch 2/20, Average Training Loss: 0.003907\n"
     ]
    },
    {
     "name": "stderr",
     "output_type": "stream",
     "text": [
      "Epoch 2/20 [VAL]: 100%|██████████| 756/756 [00:03<00:00, 206.23it/s, val_loss=0.00435]\n"
     ]
    },
    {
     "name": "stdout",
     "output_type": "stream",
     "text": [
      "Epoch 2/20, Average Validation Loss: 0.003599\n"
     ]
    },
    {
     "name": "stderr",
     "output_type": "stream",
     "text": [
      "Epoch 3/20 [TRAIN]: 100%|██████████| 2258/2258 [00:27<00:00, 81.08it/s, train_loss=0.00129]\n"
     ]
    },
    {
     "name": "stdout",
     "output_type": "stream",
     "text": [
      "Epoch 3/20, Average Training Loss: 0.003647\n"
     ]
    },
    {
     "name": "stderr",
     "output_type": "stream",
     "text": [
      "Epoch 3/20 [VAL]: 100%|██████████| 756/756 [00:04<00:00, 187.76it/s, val_loss=0.00396]\n"
     ]
    },
    {
     "name": "stdout",
     "output_type": "stream",
     "text": [
      "Epoch 3/20, Average Validation Loss: 0.003309\n"
     ]
    },
    {
     "name": "stderr",
     "output_type": "stream",
     "text": [
      "Epoch 4/20 [TRAIN]: 100%|██████████| 2258/2258 [00:36<00:00, 61.85it/s, train_loss=0.00356]\n"
     ]
    },
    {
     "name": "stdout",
     "output_type": "stream",
     "text": [
      "Epoch 4/20, Average Training Loss: 0.003902\n"
     ]
    },
    {
     "name": "stderr",
     "output_type": "stream",
     "text": [
      "Epoch 4/20 [VAL]: 100%|██████████| 756/756 [00:07<00:00, 100.41it/s, val_loss=0.00465]\n"
     ]
    },
    {
     "name": "stdout",
     "output_type": "stream",
     "text": [
      "Epoch 4/20, Average Validation Loss: 0.004646\n"
     ]
    },
    {
     "name": "stderr",
     "output_type": "stream",
     "text": [
      "Epoch 5/20 [TRAIN]: 100%|██████████| 2258/2258 [00:42<00:00, 53.34it/s, train_loss=0.00384]\n"
     ]
    },
    {
     "name": "stdout",
     "output_type": "stream",
     "text": [
      "Epoch 5/20, Average Training Loss: 0.003487\n"
     ]
    },
    {
     "name": "stderr",
     "output_type": "stream",
     "text": [
      "Epoch 5/20 [VAL]: 100%|██████████| 756/756 [00:04<00:00, 166.50it/s, val_loss=0.0035] \n"
     ]
    },
    {
     "name": "stdout",
     "output_type": "stream",
     "text": [
      "Epoch 5/20, Average Validation Loss: 0.003293\n"
     ]
    },
    {
     "name": "stderr",
     "output_type": "stream",
     "text": [
      "Epoch 6/20 [TRAIN]: 100%|██████████| 2258/2258 [00:29<00:00, 77.29it/s, train_loss=0.00294]\n"
     ]
    },
    {
     "name": "stdout",
     "output_type": "stream",
     "text": [
      "Epoch 6/20, Average Training Loss: 0.003248\n"
     ]
    },
    {
     "name": "stderr",
     "output_type": "stream",
     "text": [
      "Epoch 6/20 [VAL]: 100%|██████████| 756/756 [00:04<00:00, 186.06it/s, val_loss=0.0036] \n"
     ]
    },
    {
     "name": "stdout",
     "output_type": "stream",
     "text": [
      "Epoch 6/20, Average Validation Loss: 0.003152\n"
     ]
    },
    {
     "name": "stderr",
     "output_type": "stream",
     "text": [
      "Epoch 7/20 [TRAIN]: 100%|██████████| 2258/2258 [00:28<00:00, 78.54it/s, train_loss=0.00194]\n"
     ]
    },
    {
     "name": "stdout",
     "output_type": "stream",
     "text": [
      "Epoch 7/20, Average Training Loss: 0.003169\n"
     ]
    },
    {
     "name": "stderr",
     "output_type": "stream",
     "text": [
      "Epoch 7/20 [VAL]: 100%|██████████| 756/756 [00:04<00:00, 173.84it/s, val_loss=0.00373]\n"
     ]
    },
    {
     "name": "stdout",
     "output_type": "stream",
     "text": [
      "Epoch 7/20, Average Validation Loss: 0.003051\n"
     ]
    },
    {
     "name": "stderr",
     "output_type": "stream",
     "text": [
      "Epoch 8/20 [TRAIN]: 100%|██████████| 2258/2258 [00:28<00:00, 78.34it/s, train_loss=0.005]  \n"
     ]
    },
    {
     "name": "stdout",
     "output_type": "stream",
     "text": [
      "Epoch 8/20, Average Training Loss: 0.003136\n"
     ]
    },
    {
     "name": "stderr",
     "output_type": "stream",
     "text": [
      "Epoch 8/20 [VAL]: 100%|██████████| 756/756 [00:04<00:00, 172.51it/s, val_loss=0.00366]\n"
     ]
    },
    {
     "name": "stdout",
     "output_type": "stream",
     "text": [
      "Epoch 8/20, Average Validation Loss: 0.003116\n"
     ]
    },
    {
     "name": "stderr",
     "output_type": "stream",
     "text": [
      "Epoch 9/20 [TRAIN]: 100%|██████████| 2258/2258 [00:28<00:00, 78.54it/s, train_loss=0.00303]\n"
     ]
    },
    {
     "name": "stdout",
     "output_type": "stream",
     "text": [
      "Epoch 9/20, Average Training Loss: 0.003031\n"
     ]
    },
    {
     "name": "stderr",
     "output_type": "stream",
     "text": [
      "Epoch 9/20 [VAL]: 100%|██████████| 756/756 [00:04<00:00, 159.36it/s, val_loss=0.00332]\n"
     ]
    },
    {
     "name": "stdout",
     "output_type": "stream",
     "text": [
      "Epoch 9/20, Average Validation Loss: 0.002938\n"
     ]
    },
    {
     "name": "stderr",
     "output_type": "stream",
     "text": [
      "Epoch 10/20 [TRAIN]: 100%|██████████| 2258/2258 [00:28<00:00, 79.13it/s, train_loss=0.00207]\n"
     ]
    },
    {
     "name": "stdout",
     "output_type": "stream",
     "text": [
      "Epoch 10/20, Average Training Loss: 0.003007\n"
     ]
    },
    {
     "name": "stderr",
     "output_type": "stream",
     "text": [
      "Epoch 10/20 [VAL]: 100%|██████████| 756/756 [00:03<00:00, 191.23it/s, val_loss=0.0029] \n"
     ]
    },
    {
     "name": "stdout",
     "output_type": "stream",
     "text": [
      "Epoch 10/20, Average Validation Loss: 0.002914\n"
     ]
    },
    {
     "name": "stderr",
     "output_type": "stream",
     "text": [
      "Epoch 11/20 [TRAIN]: 100%|██████████| 2258/2258 [00:28<00:00, 79.17it/s, train_loss=0.00184]\n"
     ]
    },
    {
     "name": "stdout",
     "output_type": "stream",
     "text": [
      "Epoch 11/20, Average Training Loss: 0.002924\n"
     ]
    },
    {
     "name": "stderr",
     "output_type": "stream",
     "text": [
      "Epoch 11/20 [VAL]: 100%|██████████| 756/756 [00:04<00:00, 182.03it/s, val_loss=0.0036] \n"
     ]
    },
    {
     "name": "stdout",
     "output_type": "stream",
     "text": [
      "Epoch 11/20, Average Validation Loss: 0.002844\n"
     ]
    },
    {
     "name": "stderr",
     "output_type": "stream",
     "text": [
      "Epoch 12/20 [TRAIN]: 100%|██████████| 2258/2258 [00:28<00:00, 78.63it/s, train_loss=0.00206]\n"
     ]
    },
    {
     "name": "stdout",
     "output_type": "stream",
     "text": [
      "Epoch 12/20, Average Training Loss: 0.002876\n"
     ]
    },
    {
     "name": "stderr",
     "output_type": "stream",
     "text": [
      "Epoch 12/20 [VAL]: 100%|██████████| 756/756 [00:04<00:00, 186.36it/s, val_loss=0.00374]\n"
     ]
    },
    {
     "name": "stdout",
     "output_type": "stream",
     "text": [
      "Epoch 12/20, Average Validation Loss: 0.002974\n"
     ]
    },
    {
     "name": "stderr",
     "output_type": "stream",
     "text": [
      "Epoch 13/20 [TRAIN]: 100%|██████████| 2258/2258 [00:28<00:00, 79.90it/s, train_loss=0.00329]\n"
     ]
    },
    {
     "name": "stdout",
     "output_type": "stream",
     "text": [
      "Epoch 13/20, Average Training Loss: 0.002836\n"
     ]
    },
    {
     "name": "stderr",
     "output_type": "stream",
     "text": [
      "Epoch 13/20 [VAL]: 100%|██████████| 756/756 [00:04<00:00, 188.03it/s, val_loss=0.00356]\n"
     ]
    },
    {
     "name": "stdout",
     "output_type": "stream",
     "text": [
      "Epoch 13/20, Average Validation Loss: 0.002932\n"
     ]
    },
    {
     "name": "stderr",
     "output_type": "stream",
     "text": [
      "Epoch 14/20 [TRAIN]: 100%|██████████| 2258/2258 [00:28<00:00, 79.92it/s, train_loss=0.00421]\n"
     ]
    },
    {
     "name": "stdout",
     "output_type": "stream",
     "text": [
      "Epoch 14/20, Average Training Loss: 0.002822\n"
     ]
    },
    {
     "name": "stderr",
     "output_type": "stream",
     "text": [
      "Epoch 14/20 [VAL]: 100%|██████████| 756/756 [00:04<00:00, 187.20it/s, val_loss=0.0041] \n"
     ]
    },
    {
     "name": "stdout",
     "output_type": "stream",
     "text": [
      "Epoch 14/20, Average Validation Loss: 0.003166\n"
     ]
    },
    {
     "name": "stderr",
     "output_type": "stream",
     "text": [
      "Epoch 15/20 [TRAIN]: 100%|██████████| 2258/2258 [00:28<00:00, 79.78it/s, train_loss=0.00327]\n"
     ]
    },
    {
     "name": "stdout",
     "output_type": "stream",
     "text": [
      "Epoch 15/20, Average Training Loss: 0.002813\n"
     ]
    },
    {
     "name": "stderr",
     "output_type": "stream",
     "text": [
      "Epoch 15/20 [VAL]: 100%|██████████| 756/756 [00:04<00:00, 186.99it/s, val_loss=0.00271]\n"
     ]
    },
    {
     "name": "stdout",
     "output_type": "stream",
     "text": [
      "Epoch 15/20, Average Validation Loss: 0.002866\n"
     ]
    },
    {
     "name": "stderr",
     "output_type": "stream",
     "text": [
      "Epoch 16/20 [TRAIN]: 100%|██████████| 2258/2258 [00:28<00:00, 79.21it/s, train_loss=0.00314]\n"
     ]
    },
    {
     "name": "stdout",
     "output_type": "stream",
     "text": [
      "Epoch 16/20, Average Training Loss: 0.002741\n"
     ]
    },
    {
     "name": "stderr",
     "output_type": "stream",
     "text": [
      "Epoch 16/20 [VAL]: 100%|██████████| 756/756 [00:04<00:00, 173.46it/s, val_loss=0.0027] \n"
     ]
    },
    {
     "name": "stdout",
     "output_type": "stream",
     "text": [
      "Epoch 16/20, Average Validation Loss: 0.002798\n"
     ]
    },
    {
     "name": "stderr",
     "output_type": "stream",
     "text": [
      "Epoch 17/20 [TRAIN]: 100%|██████████| 2258/2258 [00:28<00:00, 79.54it/s, train_loss=0.00209]\n"
     ]
    },
    {
     "name": "stdout",
     "output_type": "stream",
     "text": [
      "Epoch 17/20, Average Training Loss: 0.002726\n"
     ]
    },
    {
     "name": "stderr",
     "output_type": "stream",
     "text": [
      "Epoch 17/20 [VAL]: 100%|██████████| 756/756 [00:04<00:00, 186.54it/s, val_loss=0.00345]\n"
     ]
    },
    {
     "name": "stdout",
     "output_type": "stream",
     "text": [
      "Epoch 17/20, Average Validation Loss: 0.002912\n"
     ]
    },
    {
     "name": "stderr",
     "output_type": "stream",
     "text": [
      "Epoch 18/20 [TRAIN]: 100%|██████████| 2258/2258 [00:28<00:00, 79.14it/s, train_loss=0.00354]\n"
     ]
    },
    {
     "name": "stdout",
     "output_type": "stream",
     "text": [
      "Epoch 18/20, Average Training Loss: 0.002683\n"
     ]
    },
    {
     "name": "stderr",
     "output_type": "stream",
     "text": [
      "Epoch 18/20 [VAL]: 100%|██████████| 756/756 [00:04<00:00, 186.16it/s, val_loss=0.00303]\n"
     ]
    },
    {
     "name": "stdout",
     "output_type": "stream",
     "text": [
      "Epoch 18/20, Average Validation Loss: 0.002678\n"
     ]
    },
    {
     "name": "stderr",
     "output_type": "stream",
     "text": [
      "Epoch 19/20 [TRAIN]: 100%|██████████| 2258/2258 [00:28<00:00, 79.48it/s, train_loss=0.006]  \n"
     ]
    },
    {
     "name": "stdout",
     "output_type": "stream",
     "text": [
      "Epoch 19/20, Average Training Loss: 0.002712\n"
     ]
    },
    {
     "name": "stderr",
     "output_type": "stream",
     "text": [
      "Epoch 19/20 [VAL]: 100%|██████████| 756/756 [00:04<00:00, 187.43it/s, val_loss=0.00293]\n"
     ]
    },
    {
     "name": "stdout",
     "output_type": "stream",
     "text": [
      "Epoch 19/20, Average Validation Loss: 0.002665\n"
     ]
    },
    {
     "name": "stderr",
     "output_type": "stream",
     "text": [
      "Epoch 20/20 [TRAIN]: 100%|██████████| 2258/2258 [00:28<00:00, 79.51it/s, train_loss=0.00305]\n"
     ]
    },
    {
     "name": "stdout",
     "output_type": "stream",
     "text": [
      "Epoch 20/20, Average Training Loss: 0.002634\n"
     ]
    },
    {
     "name": "stderr",
     "output_type": "stream",
     "text": [
      "Epoch 20/20 [VAL]: 100%|██████████| 756/756 [00:04<00:00, 186.49it/s, val_loss=0.00293]"
     ]
    },
    {
     "name": "stdout",
     "output_type": "stream",
     "text": [
      "Epoch 20/20, Average Validation Loss: 0.002693\n"
     ]
    },
    {
     "name": "stderr",
     "output_type": "stream",
     "text": [
      "\n"
     ]
    }
   ],
   "source": [
    "# train the model\n",
    "# Loss and optimizer\n",
    "criterion = torch.nn.MSELoss()\n",
    "optimizer = torch.optim.Adam(seq2seq.parameters(), lr=0.002)\n",
    "\n",
    "# Training loop with validation and early stopping\n",
    "num_epochs = 20\n",
    "best_epoch = 0\n",
    "best_val_loss = float('inf')\n",
    "train_losses, val_losses = [], []\n",
    "\n",
    "for epoch in range(num_epochs):\n",
    "    # Training phase\n",
    "    seq2seq.train()\n",
    "    total_train_loss = 0\n",
    "    progress_bar = tqdm(train_loader, desc=f\"Epoch {epoch+1}/{num_epochs} [TRAIN]\")\n",
    "    for inputs, targets in progress_bar:\n",
    "        hist_inputs = inputs[:, :, :hist_input_size].to(device)\n",
    "        covariates = inputs[:, :output_len, hist_input_size:].to(device)\n",
    "        targets = targets.to(device)\n",
    "        optimizer.zero_grad()\n",
    "        outputs = seq2seq(hist_inputs, covariates)\n",
    "        outputs = outputs.squeeze(-1) # (batch_size, output_len)\n",
    "\n",
    "        loss = criterion(outputs, targets)\n",
    "        loss.backward()\n",
    "        optimizer.step()\n",
    "\n",
    "        total_train_loss += loss.item()\n",
    "        progress_bar.set_postfix({'train_loss': loss.item()})\n",
    "\n",
    "    average_train_loss = total_train_loss / len(train_loader)\n",
    "    train_losses.append(average_train_loss)\n",
    "    \n",
    "    print(f\"Epoch {epoch+1}/{num_epochs}, Average Training Loss: {average_train_loss:.6f}\")\n",
    "\n",
    "    # Validation phase\n",
    "    seq2seq.eval()\n",
    "    total_val_loss = 0\n",
    "    progress_bar = tqdm(val_loader, desc=f\"Epoch {epoch+1}/{num_epochs} [VAL]\")\n",
    "    for inputs, targets in progress_bar:\n",
    "        \n",
    "        hist_inputs = inputs[:, :, :hist_input_size].to(device)\n",
    "        covariates = inputs[:, :output_len, hist_input_size:].to(device)\n",
    "        targets = targets.to(device)\n",
    "        with torch.no_grad():\n",
    "            outputs = seq2seq(hist_inputs, covariates)\n",
    "            outputs = outputs.squeeze(-1) # (batch_size, output_len)\n",
    "            loss = criterion(outputs, targets)\n",
    "\n",
    "        total_val_loss += loss.item()\n",
    "        progress_bar.set_postfix({'val_loss': loss.item()})\n",
    "    \n",
    "    average_val_loss = total_val_loss / len(val_loader)\n",
    "    val_losses.append(average_val_loss)\n",
    "    print(f\"Epoch {epoch+1}/{num_epochs}, Average Validation Loss: {average_val_loss:.6f}\")\n",
    "\n",
    "    # Save the model with least validation loss\n",
    "    if average_val_loss < best_val_loss:\n",
    "        best_epoch = epoch + 1\n",
    "        best_val_loss = average_val_loss\n",
    "        torch.save(seq2seq.state_dict(), f'LSTM_LSTM_select_covariates_best_model_{input_len}-{output_len}.pt')\n"
   ]
  },
  {
   "cell_type": "code",
   "execution_count": 25,
   "metadata": {},
   "outputs": [],
   "source": [
    "features = getFeatures(covariates=True)"
   ]
  },
  {
   "cell_type": "code",
   "execution_count": 26,
   "metadata": {},
   "outputs": [
    {
     "name": "stdout",
     "output_type": "stream",
     "text": [
      "Test loss: 0.0024378756061196327\n",
      "MAPE: 21.5001163482666\n"
     ]
    },
    {
     "data": {
      "image/png": "[encoded data removed]",
      "text/plain": [
       "<Figure size 2000x500 with 1 Axes>"
      ]
     },
     "metadata": {},
     "output_type": "display_data"
    }
   ],
   "source": [
    "from data_process import create_sequences\n",
    "from utils import plot_output\n",
    "import random\n",
    "# Load the best model\n",
    "seq2seq.load_state_dict(torch.load(f'LSTM_LSTM_select_covariates_best_model_{input_len}-{output_len}.pt'))\n",
    "\n",
    "# Test the model\n",
    "seq2seq.eval()\n",
    "flight_num = 270 #random.randint(0, 100)\n",
    "test_data = data[data['flight'] == flight_num]\n",
    "input_seq, output_seq = create_sequences(test_data[select_features + features[-6:]].values, \n",
    "                                         test_data['power'].values, input_len, output_len)\n",
    "\n",
    "input_seq = torch.tensor(input_seq, dtype=torch.float32).to(device)\n",
    "output_seq = torch.tensor(output_seq, dtype=torch.float32).to(device)\n",
    "\n",
    "with torch.no_grad():\n",
    "    \n",
    "    hist_inputs = input_seq[:, :, :hist_input_size].to(device)\n",
    "    covariates = input_seq[:, :output_len, hist_input_size:].to(device)\n",
    "    targets = targets.to(device)\n",
    "    outputs = seq2seq(hist_inputs, covariates)\n",
    "\n",
    "    outputs = outputs.squeeze(-1)  # Now [batch_size, 2]\n",
    "    targets = output_seq\n",
    "\n",
    "    error = nn.MSELoss()(outputs, targets)\n",
    "    print(f\"Test loss: {error}\")\n",
    "\n",
    "    mape = torch.mean(torch.abs((outputs - targets) / targets)) * 100\n",
    "    # print(torch.mean(torch.abs((outputs - targets) / targets)*100,  axis=0))\n",
    "    print(f\"MAPE: {mape}\")\n",
    "\n",
    "    # print(outputs.shape)\n",
    "    # print(targets.shape)\n",
    "    \n",
    "    plot_output(outputs.cpu(), targets.cpu(), output_len)\n"
   ]
  },
  {
   "cell_type": "code",
   "execution_count": 17,
   "metadata": {},
   "outputs": [],
   "source": [
    "features = getFeatures(covariates=False)"
   ]
  },
  {
   "cell_type": "code",
   "execution_count": 27,
   "metadata": {},
   "outputs": [
    {
     "name": "stdout",
     "output_type": "stream",
     "text": [
      "Test MAPE: 16.979122375468176\n"
     ]
    }
   ],
   "source": [
    "from data_process import create_sequences\n",
    "from utils import plot_output\n",
    "\n",
    "# test the model\n",
    "seq2seq.eval()\n",
    "mape_list = []\n",
    "\n",
    "for inputs, targets in test_loader:\n",
    "    hist_inputs = inputs[:, :, :hist_input_size].to(device)\n",
    "    covariates = inputs[:, :output_len, hist_input_size:].to(device)\n",
    "    targets = targets.to(device)\n",
    "    with torch.no_grad():\n",
    "        outputs = seq2seq(hist_inputs, covariates)\n",
    "        outputs = outputs.squeeze(-1) # (batch_size, output_len)\n",
    "        loss = criterion(outputs, targets)\n",
    "        \n",
    "    mape = torch.mean(torch.abs((outputs - targets) / targets)) * 100\n",
    "    mape_list.append(mape.item())\n",
    "\n",
    "print(f\"Test MAPE: {sum(mape_list)/len(mape_list)}\")\n"
   ]
  },
  {
   "cell_type": "code",
   "execution_count": 28,
   "metadata": {},
   "outputs": [
    {
     "name": "stdout",
     "output_type": "stream",
     "text": [
      "Average MAPE: 8.408895492553711\n"
     ]
    }
   ],
   "source": [
    "from data_process import create_sequences\n",
    "from utils import plot_output\n",
    "\n",
    "# Test the model\n",
    "seq2seq.eval()\n",
    "mape_list = []\n",
    "flights = d_split['test']\n",
    "# flights.remove(273)\n",
    "for f_num in d_split['test']:\n",
    "    test_data = data[(data['flight'] == f_num) &  (data['power'] > 0.05)]\n",
    "    input_seq, output_seq = create_sequences(test_data[select_features+features[-covariate_size:]].values, \n",
    "                                            test_data['power'].values,input_len,output_len)\n",
    "\n",
    "    input_seq = torch.tensor(input_seq, dtype=torch.float32).to(device)\n",
    "    output_seq = torch.tensor(output_seq, dtype=torch.float32).to(device)\n",
    "\n",
    "    # print(f\"Flight {f_num}:\")\n",
    "\n",
    "    with torch.no_grad():\n",
    "        \n",
    "        hist_inputs = input_seq[:, :, :hist_input_size].to(device)\n",
    "        covariates = input_seq[:, :output_len, hist_input_size:].to(device)\n",
    "        targets = targets.to(device)\n",
    "        outputs = seq2seq(hist_inputs, covariates)\n",
    "\n",
    "        outputs = outputs.squeeze(-1)  # Now [batch_size, 2]\n",
    "        targets = output_seq\n",
    "    \n",
    "        # error = nn.MSELoss()(outputs, targets)\n",
    "        # print(f\"Test loss: {error}\")\n",
    "\n",
    "        mape = torch.mean(torch.abs((outputs - targets) / targets)) * 100\n",
    "        # print(f\"MAPE: {mape}\")\n",
    "\n",
    "        mape_list.append(mape)\n",
    "\n",
    "print(f\"Average MAPE: {torch.mean(torch.tensor(mape_list))}\")"
   ]
  },
  {
   "cell_type": "markdown",
   "metadata": {},
   "source": [
    "Dataloader"
   ]
  },
  {
   "cell_type": "code",
   "execution_count": null,
   "metadata": {},
   "outputs": [],
   "source": [
    "\"\"\"\n",
    "TODO:\n",
    "\n",
    "1. Get rid of the head and tail of the data\n",
    "\n",
    "2. Debug invalid data when specifying the flight number\n",
    "\n",
    "3. By paper: 'We used a total of 114 training flights (4 hours and 4 minutes flight time), 38 validation flights \n",
    "(1 hour and 24 minutes flight time) and 37 test flights (1 hour and 23 minutes flight time).' Should we do the same?\n",
    "\n",
    "4. Decoder input (i.e., future trajectory as inputs)\n",
    "\n",
    "\"\"\""
   ]
  }
 ],
 "metadata": {
  "kernelspec": {
   "display_name": ".venv",
   "language": "python",
   "name": "python3"
  },
  "language_info": {
   "codemirror_mode": {
    "name": "ipython",
    "version": 3
   },
   "file_extension": ".py",
   "mimetype": "text/x-python",
   "name": "python",
   "nbconvert_exporter": "python",
   "pygments_lexer": "ipython3",
   "version": "3.9.7"
  }
 },
 "nbformat": 4,
 "nbformat_minor": 2
}
