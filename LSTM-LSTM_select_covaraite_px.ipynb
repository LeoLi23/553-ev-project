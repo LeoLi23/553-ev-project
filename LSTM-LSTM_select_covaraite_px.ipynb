{
 "cells": [
  {
   "cell_type": "code",
   "execution_count": 1,
   "metadata": {},
   "outputs": [],
   "source": [
    "import torch\n",
    "import torch.nn as nn\n",
    "from data_process import get_data_loaders, getFeatures\n",
    "from model.TCN import TemporalConvNet, TCN\n",
    "from tqdm import tqdm\n",
    "import pandas as pd\n",
    "import matplotlib.pyplot as plt"
   ]
  },
  {
   "cell_type": "code",
   "execution_count": 2,
   "metadata": {},
   "outputs": [],
   "source": [
    "data = pd.read_csv('flights.csv') \n",
    "select_features = ['payload', 'wind_speed', 'wind_angle', 'linear_acceleration_x', 'linear_acceleration_y', 'linear_acceleration_z', 'power']\n",
    "data, train_loader, val_loader, test_loader, d_split = get_data_loaders(data, 24, 10, test_size=0.2, val_size=0.2, \n",
    "                                                                        features=select_features, covariates=True)\n",
    "# features = getFeatures()"
   ]
  },
  {
   "cell_type": "code",
   "execution_count": 3,
   "metadata": {},
   "outputs": [
    {
     "name": "stdout",
     "output_type": "stream",
     "text": [
      "torch.Size([64, 24, 13])\n",
      "torch.Size([64, 10])\n"
     ]
    }
   ],
   "source": [
    "for i, (x, y) in enumerate(train_loader):\n",
    "    print(x.shape)\n",
    "    print(y.shape)\n",
    "    break"
   ]
  },
  {
   "cell_type": "code",
   "execution_count": 4,
   "metadata": {},
   "outputs": [],
   "source": [
    "class LSTM_LSTM(nn.Module):\n",
    "    def __init__(self, hist_input_size, covariates_size, input_len, output_len, lstm_num_hidden, num_layers=1):\n",
    "        super(LSTM_LSTM, self).__init__()\n",
    "        self.encoder = nn.LSTM(hist_input_size, lstm_num_hidden, num_layers, batch_first=True)\n",
    "        self.decoder = nn.LSTM(covariates_size, lstm_num_hidden, num_layers, batch_first=True)\n",
    "        self.fc = nn.Linear(lstm_num_hidden, 1)\n",
    "        self.input_len = input_len\n",
    "        self.output_len = output_len\n",
    "\n",
    "    def forward(self, x_encoder, x_decoder):\n",
    "        # x: (batch_size, input_len, input_size)\n",
    "        _, (h, c) = self.encoder(x_encoder)\n",
    "        outputs = []\n",
    "        for t in range(self.output_len):\n",
    "            xt = x_decoder[:, t, :].unsqueeze(1)\n",
    "            output, (h, c) = self.decoder(xt, (h, c))\n",
    "            output = self.fc(output)\n",
    "            outputs.append(output)\n",
    "\n",
    "        outputs = torch.cat(outputs, dim=1)\n",
    "        return outputs"
   ]
  },
  {
   "cell_type": "code",
   "execution_count": 21,
   "metadata": {},
   "outputs": [
    {
     "name": "stdout",
     "output_type": "stream",
     "text": [
      "cuda\n",
      "7\n"
     ]
    }
   ],
   "source": [
    "device = torch.device(\"cuda\" if torch.cuda.is_available() else \"cpu\")\n",
    "print(device)\n",
    "\n",
    "hist_input_size = len(select_features)\n",
    "covariate_size = 6\n",
    "input_len = 20\n",
    "output_len = 10\n",
    "hidden_size = 32\n",
    "num_layers = 1\n",
    "\n",
    "# encoder = Encoder(input_size, input_len, [64,64,64], hidden_size)\n",
    "# decoder = Decoder(hidden_size, output_len, hidden_size, num_layers=num_layers)\n",
    "seq2seq = LSTM_LSTM(hist_input_size, covariate_size, \n",
    "                    input_len, output_len, hidden_size, num_layers=num_layers).to(device)"
   ]
  },
  {
   "cell_type": "code",
   "execution_count": 25,
   "metadata": {},
   "outputs": [
    {
     "data": {
      "text/html": [
       "<div>\n",
       "<style scoped>\n",
       "    .dataframe tbody tr th:only-of-type {\n",
       "        vertical-align: middle;\n",
       "    }\n",
       "\n",
       "    .dataframe tbody tr th {\n",
       "        vertical-align: top;\n",
       "    }\n",
       "\n",
       "    .dataframe thead th {\n",
       "        text-align: right;\n",
       "    }\n",
       "</style>\n",
       "<table border=\"1\" class=\"dataframe\">\n",
       "  <thead>\n",
       "    <tr style=\"text-align: right;\">\n",
       "      <th></th>\n",
       "      <th></th>\n",
       "      <th>flight</th>\n",
       "      <th>time</th>\n",
       "      <th>wind_speed</th>\n",
       "      <th>wind_angle</th>\n",
       "      <th>battery_voltage</th>\n",
       "      <th>battery_current</th>\n",
       "      <th>position_x</th>\n",
       "      <th>position_y</th>\n",
       "      <th>position_z</th>\n",
       "      <th>orientation_x</th>\n",
       "      <th>...</th>\n",
       "      <th>current_atm</th>\n",
       "      <th>energy_atm</th>\n",
       "      <th>current_consumed</th>\n",
       "      <th>energy_consumed</th>\n",
       "      <th>x_future</th>\n",
       "      <th>y_future</th>\n",
       "      <th>z_future</th>\n",
       "      <th>x_change</th>\n",
       "      <th>y_change</th>\n",
       "      <th>z_change</th>\n",
       "    </tr>\n",
       "    <tr>\n",
       "      <th>flight</th>\n",
       "      <th></th>\n",
       "      <th></th>\n",
       "      <th></th>\n",
       "      <th></th>\n",
       "      <th></th>\n",
       "      <th></th>\n",
       "      <th></th>\n",
       "      <th></th>\n",
       "      <th></th>\n",
       "      <th></th>\n",
       "      <th></th>\n",
       "      <th></th>\n",
       "      <th></th>\n",
       "      <th></th>\n",
       "      <th></th>\n",
       "      <th></th>\n",
       "      <th></th>\n",
       "      <th></th>\n",
       "      <th></th>\n",
       "      <th></th>\n",
       "      <th></th>\n",
       "      <th></th>\n",
       "    </tr>\n",
       "  </thead>\n",
       "  <tbody>\n",
       "    <tr>\n",
       "      <th rowspan=\"5\" valign=\"top\">1</th>\n",
       "      <th>0</th>\n",
       "      <td>1</td>\n",
       "      <td>0.0</td>\n",
       "      <td>0.005525</td>\n",
       "      <td>0.033426</td>\n",
       "      <td>24.222174</td>\n",
       "      <td>0.087470</td>\n",
       "      <td>-79.782396</td>\n",
       "      <td>40.458047</td>\n",
       "      <td>269.332402</td>\n",
       "      <td>0.001772</td>\n",
       "      <td>...</td>\n",
       "      <td>0.000000</td>\n",
       "      <td>0.000000</td>\n",
       "      <td>0.000000</td>\n",
       "      <td>0.000000</td>\n",
       "      <td>0.993124</td>\n",
       "      <td>0.899653</td>\n",
       "      <td>0.203843</td>\n",
       "      <td>0.319572</td>\n",
       "      <td>0.455911</td>\n",
       "      <td>0.643663</td>\n",
       "    </tr>\n",
       "    <tr>\n",
       "      <th>1</th>\n",
       "      <td>1</td>\n",
       "      <td>0.2</td>\n",
       "      <td>0.005525</td>\n",
       "      <td>0.008357</td>\n",
       "      <td>24.227180</td>\n",
       "      <td>0.095421</td>\n",
       "      <td>-79.782396</td>\n",
       "      <td>40.458047</td>\n",
       "      <td>269.332056</td>\n",
       "      <td>0.001768</td>\n",
       "      <td>...</td>\n",
       "      <td>0.019084</td>\n",
       "      <td>0.462358</td>\n",
       "      <td>0.019084</td>\n",
       "      <td>0.462358</td>\n",
       "      <td>0.993124</td>\n",
       "      <td>0.899653</td>\n",
       "      <td>0.203858</td>\n",
       "      <td>0.319057</td>\n",
       "      <td>0.455911</td>\n",
       "      <td>0.643691</td>\n",
       "    </tr>\n",
       "    <tr>\n",
       "      <th>2</th>\n",
       "      <td>1</td>\n",
       "      <td>0.3</td>\n",
       "      <td>0.005525</td>\n",
       "      <td>0.980501</td>\n",
       "      <td>24.225929</td>\n",
       "      <td>0.095421</td>\n",
       "      <td>-79.782396</td>\n",
       "      <td>40.458047</td>\n",
       "      <td>269.333081</td>\n",
       "      <td>0.001768</td>\n",
       "      <td>...</td>\n",
       "      <td>0.009542</td>\n",
       "      <td>0.231167</td>\n",
       "      <td>0.028626</td>\n",
       "      <td>0.693525</td>\n",
       "      <td>0.993124</td>\n",
       "      <td>0.899653</td>\n",
       "      <td>0.203871</td>\n",
       "      <td>0.319486</td>\n",
       "      <td>0.455911</td>\n",
       "      <td>0.643679</td>\n",
       "    </tr>\n",
       "    <tr>\n",
       "      <th>3</th>\n",
       "      <td>1</td>\n",
       "      <td>0.5</td>\n",
       "      <td>0.005525</td>\n",
       "      <td>0.986072</td>\n",
       "      <td>24.224678</td>\n",
       "      <td>0.095421</td>\n",
       "      <td>-79.782396</td>\n",
       "      <td>40.458047</td>\n",
       "      <td>269.334648</td>\n",
       "      <td>0.001775</td>\n",
       "      <td>...</td>\n",
       "      <td>0.019084</td>\n",
       "      <td>0.462310</td>\n",
       "      <td>0.047711</td>\n",
       "      <td>1.155835</td>\n",
       "      <td>0.993124</td>\n",
       "      <td>0.899653</td>\n",
       "      <td>0.203889</td>\n",
       "      <td>0.318971</td>\n",
       "      <td>0.455911</td>\n",
       "      <td>0.643738</td>\n",
       "    </tr>\n",
       "    <tr>\n",
       "      <th>4</th>\n",
       "      <td>1</td>\n",
       "      <td>0.6</td>\n",
       "      <td>0.005525</td>\n",
       "      <td>1.000000</td>\n",
       "      <td>24.210905</td>\n",
       "      <td>0.079518</td>\n",
       "      <td>-79.782396</td>\n",
       "      <td>40.458047</td>\n",
       "      <td>269.336178</td>\n",
       "      <td>0.001775</td>\n",
       "      <td>...</td>\n",
       "      <td>0.007952</td>\n",
       "      <td>0.192520</td>\n",
       "      <td>0.055662</td>\n",
       "      <td>1.348354</td>\n",
       "      <td>0.993123</td>\n",
       "      <td>0.899653</td>\n",
       "      <td>0.203894</td>\n",
       "      <td>0.319143</td>\n",
       "      <td>0.455911</td>\n",
       "      <td>0.643574</td>\n",
       "    </tr>\n",
       "  </tbody>\n",
       "</table>\n",
       "<p>5 rows × 40 columns</p>\n",
       "</div>"
      ],
      "text/plain": [
       "          flight  time  wind_speed  wind_angle  battery_voltage  \\\n",
       "flight                                                            \n",
       "1      0       1   0.0    0.005525    0.033426        24.222174   \n",
       "       1       1   0.2    0.005525    0.008357        24.227180   \n",
       "       2       1   0.3    0.005525    0.980501        24.225929   \n",
       "       3       1   0.5    0.005525    0.986072        24.224678   \n",
       "       4       1   0.6    0.005525    1.000000        24.210905   \n",
       "\n",
       "          battery_current  position_x  position_y  position_z  orientation_x  \\\n",
       "flight                                                                         \n",
       "1      0         0.087470  -79.782396   40.458047  269.332402       0.001772   \n",
       "       1         0.095421  -79.782396   40.458047  269.332056       0.001768   \n",
       "       2         0.095421  -79.782396   40.458047  269.333081       0.001768   \n",
       "       3         0.095421  -79.782396   40.458047  269.334648       0.001775   \n",
       "       4         0.079518  -79.782396   40.458047  269.336178       0.001775   \n",
       "\n",
       "          ...  current_atm  energy_atm  current_consumed  energy_consumed  \\\n",
       "flight    ...                                                               \n",
       "1      0  ...     0.000000    0.000000          0.000000         0.000000   \n",
       "       1  ...     0.019084    0.462358          0.019084         0.462358   \n",
       "       2  ...     0.009542    0.231167          0.028626         0.693525   \n",
       "       3  ...     0.019084    0.462310          0.047711         1.155835   \n",
       "       4  ...     0.007952    0.192520          0.055662         1.348354   \n",
       "\n",
       "          x_future  y_future  z_future  x_change  y_change  z_change  \n",
       "flight                                                                \n",
       "1      0  0.993124  0.899653  0.203843  0.319572  0.455911  0.643663  \n",
       "       1  0.993124  0.899653  0.203858  0.319057  0.455911  0.643691  \n",
       "       2  0.993124  0.899653  0.203871  0.319486  0.455911  0.643679  \n",
       "       3  0.993124  0.899653  0.203889  0.318971  0.455911  0.643738  \n",
       "       4  0.993123  0.899653  0.203894  0.319143  0.455911  0.643574  \n",
       "\n",
       "[5 rows x 40 columns]"
      ]
     },
     "execution_count": 25,
     "metadata": {},
     "output_type": "execute_result"
    }
   ],
   "source": [
    "data.head()"
   ]
  },
  {
   "cell_type": "code",
   "execution_count": 15,
   "metadata": {},
   "outputs": [
    {
     "name": "stderr",
     "output_type": "stream",
     "text": [
      "Epoch 1/20 [TRAIN]: 100%|██████████| 2243/2243 [00:25<00:00, 87.77it/s, train_loss=0.00257]\n"
     ]
    },
    {
     "name": "stdout",
     "output_type": "stream",
     "text": [
      "Epoch 1/20, Average Training Loss: 0.003403\n"
     ]
    },
    {
     "name": "stderr",
     "output_type": "stream",
     "text": [
      "Epoch 1/20 [VAL]: 100%|██████████| 751/751 [00:03<00:00, 202.27it/s, val_loss=0.00349]\n"
     ]
    },
    {
     "name": "stdout",
     "output_type": "stream",
     "text": [
      "Epoch 1/20, Average Validation Loss: 0.003327\n"
     ]
    },
    {
     "name": "stderr",
     "output_type": "stream",
     "text": [
      "Epoch 2/20 [TRAIN]: 100%|██████████| 2243/2243 [00:26<00:00, 85.73it/s, train_loss=0.00187]\n"
     ]
    },
    {
     "name": "stdout",
     "output_type": "stream",
     "text": [
      "Epoch 2/20, Average Training Loss: 0.003300\n"
     ]
    },
    {
     "name": "stderr",
     "output_type": "stream",
     "text": [
      "Epoch 2/20 [VAL]: 100%|██████████| 751/751 [00:03<00:00, 203.64it/s, val_loss=0.00339]\n"
     ]
    },
    {
     "name": "stdout",
     "output_type": "stream",
     "text": [
      "Epoch 2/20, Average Validation Loss: 0.003037\n"
     ]
    },
    {
     "name": "stderr",
     "output_type": "stream",
     "text": [
      "Epoch 3/20 [TRAIN]: 100%|██████████| 2243/2243 [00:23<00:00, 94.33it/s, train_loss=0.0047] \n"
     ]
    },
    {
     "name": "stdout",
     "output_type": "stream",
     "text": [
      "Epoch 3/20, Average Training Loss: 0.003132\n"
     ]
    },
    {
     "name": "stderr",
     "output_type": "stream",
     "text": [
      "Epoch 3/20 [VAL]: 100%|██████████| 751/751 [00:03<00:00, 201.95it/s, val_loss=0.0038] \n"
     ]
    },
    {
     "name": "stdout",
     "output_type": "stream",
     "text": [
      "Epoch 3/20, Average Validation Loss: 0.003381\n"
     ]
    },
    {
     "name": "stderr",
     "output_type": "stream",
     "text": [
      "Epoch 4/20 [TRAIN]: 100%|██████████| 2243/2243 [00:24<00:00, 92.69it/s, train_loss=0.00196]\n"
     ]
    },
    {
     "name": "stdout",
     "output_type": "stream",
     "text": [
      "Epoch 4/20, Average Training Loss: 0.003077\n"
     ]
    },
    {
     "name": "stderr",
     "output_type": "stream",
     "text": [
      "Epoch 4/20 [VAL]: 100%|██████████| 751/751 [00:03<00:00, 198.79it/s, val_loss=0.00356]\n"
     ]
    },
    {
     "name": "stdout",
     "output_type": "stream",
     "text": [
      "Epoch 4/20, Average Validation Loss: 0.003009\n"
     ]
    },
    {
     "name": "stderr",
     "output_type": "stream",
     "text": [
      "Epoch 5/20 [TRAIN]: 100%|██████████| 2243/2243 [00:25<00:00, 89.04it/s, train_loss=0.00338]\n"
     ]
    },
    {
     "name": "stdout",
     "output_type": "stream",
     "text": [
      "Epoch 5/20, Average Training Loss: 0.003017\n"
     ]
    },
    {
     "name": "stderr",
     "output_type": "stream",
     "text": [
      "Epoch 5/20 [VAL]: 100%|██████████| 751/751 [00:04<00:00, 181.93it/s, val_loss=0.0033] \n"
     ]
    },
    {
     "name": "stdout",
     "output_type": "stream",
     "text": [
      "Epoch 5/20, Average Validation Loss: 0.002954\n"
     ]
    },
    {
     "name": "stderr",
     "output_type": "stream",
     "text": [
      "Epoch 6/20 [TRAIN]: 100%|██████████| 2243/2243 [00:28<00:00, 77.56it/s, train_loss=0.0029] \n"
     ]
    },
    {
     "name": "stdout",
     "output_type": "stream",
     "text": [
      "Epoch 6/20, Average Training Loss: 0.002965\n"
     ]
    },
    {
     "name": "stderr",
     "output_type": "stream",
     "text": [
      "Epoch 6/20 [VAL]: 100%|██████████| 751/751 [00:04<00:00, 172.72it/s, val_loss=0.0035] \n"
     ]
    },
    {
     "name": "stdout",
     "output_type": "stream",
     "text": [
      "Epoch 6/20, Average Validation Loss: 0.003070\n"
     ]
    },
    {
     "name": "stderr",
     "output_type": "stream",
     "text": [
      "Epoch 7/20 [TRAIN]: 100%|██████████| 2243/2243 [00:29<00:00, 76.02it/s, train_loss=0.00291]\n"
     ]
    },
    {
     "name": "stdout",
     "output_type": "stream",
     "text": [
      "Epoch 7/20, Average Training Loss: 0.002996\n"
     ]
    },
    {
     "name": "stderr",
     "output_type": "stream",
     "text": [
      "Epoch 7/20 [VAL]: 100%|██████████| 751/751 [00:04<00:00, 173.72it/s, val_loss=0.00353]\n"
     ]
    },
    {
     "name": "stdout",
     "output_type": "stream",
     "text": [
      "Epoch 7/20, Average Validation Loss: 0.003072\n"
     ]
    },
    {
     "name": "stderr",
     "output_type": "stream",
     "text": [
      "Epoch 8/20 [TRAIN]: 100%|██████████| 2243/2243 [00:28<00:00, 77.73it/s, train_loss=0.00136]\n"
     ]
    },
    {
     "name": "stdout",
     "output_type": "stream",
     "text": [
      "Epoch 8/20, Average Training Loss: 0.002854\n"
     ]
    },
    {
     "name": "stderr",
     "output_type": "stream",
     "text": [
      "Epoch 8/20 [VAL]: 100%|██████████| 751/751 [00:04<00:00, 159.48it/s, val_loss=0.00323]\n"
     ]
    },
    {
     "name": "stdout",
     "output_type": "stream",
     "text": [
      "Epoch 8/20, Average Validation Loss: 0.002949\n"
     ]
    },
    {
     "name": "stderr",
     "output_type": "stream",
     "text": [
      "Epoch 9/20 [TRAIN]: 100%|██████████| 2243/2243 [00:27<00:00, 80.41it/s, train_loss=0.00199]\n"
     ]
    },
    {
     "name": "stdout",
     "output_type": "stream",
     "text": [
      "Epoch 9/20, Average Training Loss: 0.002837\n"
     ]
    },
    {
     "name": "stderr",
     "output_type": "stream",
     "text": [
      "Epoch 9/20 [VAL]: 100%|██████████| 751/751 [00:04<00:00, 182.11it/s, val_loss=0.00346]\n"
     ]
    },
    {
     "name": "stdout",
     "output_type": "stream",
     "text": [
      "Epoch 9/20, Average Validation Loss: 0.002901\n"
     ]
    },
    {
     "name": "stderr",
     "output_type": "stream",
     "text": [
      "Epoch 10/20 [TRAIN]: 100%|██████████| 2243/2243 [00:26<00:00, 85.95it/s, train_loss=0.00228]\n"
     ]
    },
    {
     "name": "stdout",
     "output_type": "stream",
     "text": [
      "Epoch 10/20, Average Training Loss: 0.002816\n"
     ]
    },
    {
     "name": "stderr",
     "output_type": "stream",
     "text": [
      "Epoch 10/20 [VAL]: 100%|██████████| 751/751 [00:04<00:00, 181.23it/s, val_loss=0.00346]\n"
     ]
    },
    {
     "name": "stdout",
     "output_type": "stream",
     "text": [
      "Epoch 10/20, Average Validation Loss: 0.002820\n"
     ]
    },
    {
     "name": "stderr",
     "output_type": "stream",
     "text": [
      "Epoch 11/20 [TRAIN]: 100%|██████████| 2243/2243 [00:28<00:00, 78.91it/s, train_loss=0.00303]\n"
     ]
    },
    {
     "name": "stdout",
     "output_type": "stream",
     "text": [
      "Epoch 11/20, Average Training Loss: 0.002732\n"
     ]
    },
    {
     "name": "stderr",
     "output_type": "stream",
     "text": [
      "Epoch 11/20 [VAL]: 100%|██████████| 751/751 [00:04<00:00, 168.50it/s, val_loss=0.00319]\n"
     ]
    },
    {
     "name": "stdout",
     "output_type": "stream",
     "text": [
      "Epoch 11/20, Average Validation Loss: 0.002743\n"
     ]
    },
    {
     "name": "stderr",
     "output_type": "stream",
     "text": [
      "Epoch 12/20 [TRAIN]: 100%|██████████| 2243/2243 [00:31<00:00, 71.29it/s, train_loss=0.00308]\n"
     ]
    },
    {
     "name": "stdout",
     "output_type": "stream",
     "text": [
      "Epoch 12/20, Average Training Loss: 0.002708\n"
     ]
    },
    {
     "name": "stderr",
     "output_type": "stream",
     "text": [
      "Epoch 12/20 [VAL]: 100%|██████████| 751/751 [00:04<00:00, 168.95it/s, val_loss=0.00301]\n"
     ]
    },
    {
     "name": "stdout",
     "output_type": "stream",
     "text": [
      "Epoch 12/20, Average Validation Loss: 0.002723\n"
     ]
    },
    {
     "name": "stderr",
     "output_type": "stream",
     "text": [
      "Epoch 13/20 [TRAIN]: 100%|██████████| 2243/2243 [00:30<00:00, 72.75it/s, train_loss=0.00178]\n"
     ]
    },
    {
     "name": "stdout",
     "output_type": "stream",
     "text": [
      "Epoch 13/20, Average Training Loss: 0.002675\n"
     ]
    },
    {
     "name": "stderr",
     "output_type": "stream",
     "text": [
      "Epoch 13/20 [VAL]: 100%|██████████| 751/751 [00:04<00:00, 171.50it/s, val_loss=0.00302]\n"
     ]
    },
    {
     "name": "stdout",
     "output_type": "stream",
     "text": [
      "Epoch 13/20, Average Validation Loss: 0.002755\n"
     ]
    },
    {
     "name": "stderr",
     "output_type": "stream",
     "text": [
      "Epoch 14/20 [TRAIN]: 100%|██████████| 2243/2243 [00:28<00:00, 77.52it/s, train_loss=0.00234]\n"
     ]
    },
    {
     "name": "stdout",
     "output_type": "stream",
     "text": [
      "Epoch 14/20, Average Training Loss: 0.002649\n"
     ]
    },
    {
     "name": "stderr",
     "output_type": "stream",
     "text": [
      "Epoch 14/20 [VAL]: 100%|██████████| 751/751 [00:04<00:00, 166.46it/s, val_loss=0.003]  \n"
     ]
    },
    {
     "name": "stdout",
     "output_type": "stream",
     "text": [
      "Epoch 14/20, Average Validation Loss: 0.002679\n"
     ]
    },
    {
     "name": "stderr",
     "output_type": "stream",
     "text": [
      "Epoch 15/20 [TRAIN]: 100%|██████████| 2243/2243 [00:30<00:00, 74.30it/s, train_loss=0.00219]\n"
     ]
    },
    {
     "name": "stdout",
     "output_type": "stream",
     "text": [
      "Epoch 15/20, Average Training Loss: 0.002648\n"
     ]
    },
    {
     "name": "stderr",
     "output_type": "stream",
     "text": [
      "Epoch 15/20 [VAL]: 100%|██████████| 751/751 [00:04<00:00, 174.77it/s, val_loss=0.00299]\n"
     ]
    },
    {
     "name": "stdout",
     "output_type": "stream",
     "text": [
      "Epoch 15/20, Average Validation Loss: 0.002660\n"
     ]
    },
    {
     "name": "stderr",
     "output_type": "stream",
     "text": [
      "Epoch 16/20 [TRAIN]: 100%|██████████| 2243/2243 [00:28<00:00, 77.44it/s, train_loss=0.00277]\n"
     ]
    },
    {
     "name": "stdout",
     "output_type": "stream",
     "text": [
      "Epoch 16/20, Average Training Loss: 0.002592\n"
     ]
    },
    {
     "name": "stderr",
     "output_type": "stream",
     "text": [
      "Epoch 16/20 [VAL]: 100%|██████████| 751/751 [00:04<00:00, 169.79it/s, val_loss=0.00288]\n"
     ]
    },
    {
     "name": "stdout",
     "output_type": "stream",
     "text": [
      "Epoch 16/20, Average Validation Loss: 0.002645\n"
     ]
    },
    {
     "name": "stderr",
     "output_type": "stream",
     "text": [
      "Epoch 17/20 [TRAIN]: 100%|██████████| 2243/2243 [00:29<00:00, 76.55it/s, train_loss=0.00261]\n"
     ]
    },
    {
     "name": "stdout",
     "output_type": "stream",
     "text": [
      "Epoch 17/20, Average Training Loss: 0.002592\n"
     ]
    },
    {
     "name": "stderr",
     "output_type": "stream",
     "text": [
      "Epoch 17/20 [VAL]: 100%|██████████| 751/751 [00:04<00:00, 176.00it/s, val_loss=0.00292]\n"
     ]
    },
    {
     "name": "stdout",
     "output_type": "stream",
     "text": [
      "Epoch 17/20, Average Validation Loss: 0.002678\n"
     ]
    },
    {
     "name": "stderr",
     "output_type": "stream",
     "text": [
      "Epoch 18/20 [TRAIN]: 100%|██████████| 2243/2243 [00:28<00:00, 77.95it/s, train_loss=0.00301]\n"
     ]
    },
    {
     "name": "stdout",
     "output_type": "stream",
     "text": [
      "Epoch 18/20, Average Training Loss: 0.002552\n"
     ]
    },
    {
     "name": "stderr",
     "output_type": "stream",
     "text": [
      "Epoch 18/20 [VAL]: 100%|██████████| 751/751 [00:04<00:00, 176.83it/s, val_loss=0.00292]\n"
     ]
    },
    {
     "name": "stdout",
     "output_type": "stream",
     "text": [
      "Epoch 18/20, Average Validation Loss: 0.002699\n"
     ]
    },
    {
     "name": "stderr",
     "output_type": "stream",
     "text": [
      "Epoch 19/20 [TRAIN]: 100%|██████████| 2243/2243 [00:28<00:00, 79.76it/s, train_loss=0.0016] \n"
     ]
    },
    {
     "name": "stdout",
     "output_type": "stream",
     "text": [
      "Epoch 19/20, Average Training Loss: 0.002540\n"
     ]
    },
    {
     "name": "stderr",
     "output_type": "stream",
     "text": [
      "Epoch 19/20 [VAL]: 100%|██████████| 751/751 [00:04<00:00, 181.14it/s, val_loss=0.00308]\n"
     ]
    },
    {
     "name": "stdout",
     "output_type": "stream",
     "text": [
      "Epoch 19/20, Average Validation Loss: 0.002672\n"
     ]
    },
    {
     "name": "stderr",
     "output_type": "stream",
     "text": [
      "Epoch 20/20 [TRAIN]: 100%|██████████| 2243/2243 [00:27<00:00, 82.83it/s, train_loss=0.00305]\n"
     ]
    },
    {
     "name": "stdout",
     "output_type": "stream",
     "text": [
      "Epoch 20/20, Average Training Loss: 0.002510\n"
     ]
    },
    {
     "name": "stderr",
     "output_type": "stream",
     "text": [
      "Epoch 20/20 [VAL]: 100%|██████████| 751/751 [00:04<00:00, 181.23it/s, val_loss=0.00292]"
     ]
    },
    {
     "name": "stdout",
     "output_type": "stream",
     "text": [
      "Epoch 20/20, Average Validation Loss: 0.002626\n"
     ]
    },
    {
     "name": "stderr",
     "output_type": "stream",
     "text": [
      "\n"
     ]
    }
   ],
   "source": [
    "# train the model\n",
    "# Loss and optimizer\n",
    "criterion = torch.nn.MSELoss()\n",
    "optimizer = torch.optim.Adam(seq2seq.parameters(), lr=0.002)\n",
    "\n",
    "# Training loop with validation and early stopping\n",
    "num_epochs = 20\n",
    "best_epoch = 0\n",
    "best_val_loss = float('inf')\n",
    "train_losses, val_losses = [], []\n",
    "\n",
    "for epoch in range(num_epochs):\n",
    "    # Training phase\n",
    "    seq2seq.train()\n",
    "    total_train_loss = 0\n",
    "    progress_bar = tqdm(train_loader, desc=f\"Epoch {epoch+1}/{num_epochs} [TRAIN]\")\n",
    "    for inputs, targets in progress_bar:\n",
    "        hist_inputs = inputs[:, :, :hist_input_size].to(device)\n",
    "        covariates = inputs[:, :output_len, hist_input_size:].to(device)\n",
    "        targets = targets.to(device)\n",
    "        optimizer.zero_grad()\n",
    "        outputs = seq2seq(hist_inputs, covariates)\n",
    "        outputs = outputs.squeeze(-1) # (batch_size, output_len)\n",
    "\n",
    "        loss = criterion(outputs, targets)\n",
    "        loss.backward()\n",
    "        optimizer.step()\n",
    "\n",
    "        total_train_loss += loss.item()\n",
    "        progress_bar.set_postfix({'train_loss': loss.item()})\n",
    "\n",
    "    average_train_loss = total_train_loss / len(train_loader)\n",
    "    train_losses.append(average_train_loss)\n",
    "    \n",
    "    print(f\"Epoch {epoch+1}/{num_epochs}, Average Training Loss: {average_train_loss:.6f}\")\n",
    "\n",
    "    # Validation phase\n",
    "    seq2seq.eval()\n",
    "    total_val_loss = 0\n",
    "    progress_bar = tqdm(val_loader, desc=f\"Epoch {epoch+1}/{num_epochs} [VAL]\")\n",
    "    for inputs, targets in progress_bar:\n",
    "        \n",
    "        hist_inputs = inputs[:, :, :hist_input_size].to(device)\n",
    "        covariates = inputs[:, :output_len, hist_input_size:].to(device)\n",
    "        targets = targets.to(device)\n",
    "        with torch.no_grad():\n",
    "            outputs = seq2seq(hist_inputs, covariates)\n",
    "            outputs = outputs.squeeze(-1) # (batch_size, output_len)\n",
    "            loss = criterion(outputs, targets)\n",
    "\n",
    "        total_val_loss += loss.item()\n",
    "        progress_bar.set_postfix({'val_loss': loss.item()})\n",
    "    \n",
    "    average_val_loss = total_val_loss / len(val_loader)\n",
    "    val_losses.append(average_val_loss)\n",
    "    print(f\"Epoch {epoch+1}/{num_epochs}, Average Validation Loss: {average_val_loss:.6f}\")\n",
    "\n",
    "    # Save the model with least validation loss\n",
    "    if average_val_loss < best_val_loss:\n",
    "        best_epoch = epoch + 1\n",
    "        best_val_loss = average_val_loss\n",
    "        torch.save(seq2seq.state_dict(), f'LSTM_LSTM_select_covariates_best_model_{input_len}-{output_len}.pt')\n"
   ]
  },
  {
   "cell_type": "code",
   "execution_count": 20,
   "metadata": {},
   "outputs": [
    {
     "data": {
      "text/plain": [
       "['x_future', 'y_future', 'z_future', 'x_change', 'y_change', 'z_change']"
      ]
     },
     "execution_count": 20,
     "metadata": {},
     "output_type": "execute_result"
    }
   ],
   "source": [
    "features = getFeatures(covariates=True)\n",
    "features[-6:]"
   ]
  },
  {
   "cell_type": "code",
   "execution_count": 42,
   "metadata": {},
   "outputs": [
    {
     "name": "stdout",
     "output_type": "stream",
     "text": [
      "Test loss: 0.0023675060365349054\n",
      "torch.Size([1412, 10])\n",
      "torch.Size([1412, 10])\n",
      "tensor([15.1720, 15.3821, 13.9269, 13.8731, 14.2865, 14.4783, 14.0160, 13.8090,\n",
      "        14.5845, 15.6976], device='cuda:0')\n",
      "MAPE: 14.522579193115234\n"
     ]
    },
    {
     "data": {
      "image/png": "[encoded data removed]",
      "text/plain": [
       "<Figure size 2000x500 with 1 Axes>"
      ]
     },
     "metadata": {},
     "output_type": "display_data"
    }
   ],
   "source": [
    "from data_process import create_sequences\n",
    "from utils import plot_output\n",
    "import random\n",
    "# Load the best model\n",
    "seq2seq.load_state_dict(torch.load(f'LSTM_LSTM_select_covariates_best_model_{input_len}-{output_len}.pt'))\n",
    "\n",
    "# Test the model\n",
    "seq2seq.eval()\n",
    "flight_num = 270 #random.randint(0, 100)\n",
    "test_data = data[data['flight'] == flight_num]\n",
    "input_seq, output_seq = create_sequences(test_data[select_features + features[-6:]].values, \n",
    "                                         test_data['power'].values, input_len, output_len)\n",
    "\n",
    "input_seq = torch.tensor(input_seq, dtype=torch.float32).to(device)\n",
    "output_seq = torch.tensor(output_seq, dtype=torch.float32).to(device)\n",
    "\n",
    "with torch.no_grad():\n",
    "    \n",
    "    hist_inputs = input_seq[:, :, :hist_input_size].to(device)\n",
    "    covariates = input_seq[:, :output_len, hist_input_size:].to(device)\n",
    "    targets = targets.to(device)\n",
    "    outputs = seq2seq(hist_inputs, covariates)\n",
    "\n",
    "    outputs = outputs.squeeze(-1)  # Now [batch_size, 2]\n",
    "    targets = output_seq\n",
    "\n",
    "    error = nn.MSELoss()(outputs, targets)\n",
    "    print(f\"Test loss: {error}\")\n",
    "\n",
    "    mape = torch.mean(torch.abs((outputs - targets) / targets)) * 100\n",
    "    print(torch.mean(torch.abs((outputs - targets) / targets)*100,  axis=0))\n",
    "    print(f\"MAPE: {mape}\")\n",
    "\n",
    "    # print(outputs.shape)\n",
    "    # print(targets.shape)\n",
    "    \n",
    "    plot_output(outputs.cpu(), targets.cpu(), output_len)\n"
   ]
  },
  {
   "cell_type": "code",
   "execution_count": 45,
   "metadata": {},
   "outputs": [
    {
     "name": "stdout",
     "output_type": "stream",
     "text": [
      "Test MAPE: 15.818809693568461\n"
     ]
    }
   ],
   "source": [
    "# test the model\n",
    "seq2seq.eval()\n",
    "mape_list = []\n",
    "\n",
    "for inputs, targets in test_loader:\n",
    "    hist_inputs = inputs[:, :, :hist_input_size].to(device)\n",
    "    covariates = inputs[:, :output_len, hist_input_size:].to(device)\n",
    "    targets = targets.to(device)\n",
    "    with torch.no_grad():\n",
    "        outputs = seq2seq(hist_inputs, covariates)\n",
    "        outputs = outputs.squeeze(-1) # (batch_size, output_len)\n",
    "        loss = criterion(outputs, targets)\n",
    "        \n",
    "    mape = torch.mean(torch.abs((outputs - targets) / targets)) * 100\n",
    "    mape_list.append(mape.item())\n",
    "\n",
    "print(f\"Test MAPE: {sum(mape_list)/len(mape_list)}\")\n"
   ]
  },
  {
   "cell_type": "code",
   "execution_count": null,
   "metadata": {},
   "outputs": [],
   "source": []
  },
  {
   "cell_type": "markdown",
   "metadata": {},
   "source": [
    "Dataloader"
   ]
  },
  {
   "cell_type": "code",
   "execution_count": null,
   "metadata": {},
   "outputs": [],
   "source": [
    "\"\"\"\n",
    "TODO:\n",
    "\n",
    "1. Get rid of the head and tail of the data\n",
    "\n",
    "2. Debug invalid data when specifying the flight number\n",
    "\n",
    "3. By paper: 'We used a total of 114 training flights (4 hours and 4 minutes flight time), 38 validation flights \n",
    "(1 hour and 24 minutes flight time) and 37 test flights (1 hour and 23 minutes flight time).' Should we do the same?\n",
    "\n",
    "4. Decoder input (i.e., future trajectory as inputs)\n",
    "\n",
    "\"\"\""
   ]
  }
 ],
 "metadata": {
  "kernelspec": {
   "display_name": ".venv",
   "language": "python",
   "name": "python3"
  },
  "language_info": {
   "codemirror_mode": {
    "name": "ipython",
    "version": 3
   },
   "file_extension": ".py",
   "mimetype": "text/x-python",
   "name": "python",
   "nbconvert_exporter": "python",
   "pygments_lexer": "ipython3",
   "version": "3.9.7"
  }
 },
 "nbformat": 4,
 "nbformat_minor": 2
}
