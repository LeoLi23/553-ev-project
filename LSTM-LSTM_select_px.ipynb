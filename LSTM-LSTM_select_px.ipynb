{
 "cells": [
  {
   "cell_type": "code",
   "execution_count": 2,
   "metadata": {},
   "outputs": [],
   "source": [
    "import torch\n",
    "import torch.nn as nn\n",
    "from data_process import get_data_loaders, getFeatures\n",
    "from model.TCN import TemporalConvNet, TCN\n",
    "from tqdm import tqdm\n",
    "import pandas as pd\n",
    "import matplotlib.pyplot as plt"
   ]
  },
  {
   "cell_type": "code",
   "execution_count": 3,
   "metadata": {},
   "outputs": [],
   "source": [
    "data = pd.read_csv('flights.csv') \n",
    "select_features = ['payload', 'wind_speed', 'wind_angle', 'linear_acceleration_x', 'linear_acceleration_y', 'linear_acceleration_z', 'power']\n",
    "data, train_loader, val_loader, test_loader, d_split = get_data_loaders(data, 24, 10, test_size=0.2, val_size=0.2, \n",
    "                                                                        features=select_features, covariates=False)\n",
    "# features = getFeatures()"
   ]
  },
  {
   "cell_type": "code",
   "execution_count": 7,
   "metadata": {},
   "outputs": [
    {
     "name": "stdout",
     "output_type": "stream",
     "text": [
      "torch.Size([64, 24, 7])\n",
      "torch.Size([64, 10])\n"
     ]
    }
   ],
   "source": [
    "for i, (x, y) in enumerate(train_loader):\n",
    "    print(x.shape)\n",
    "    print(y.shape)\n",
    "    break"
   ]
  },
  {
   "cell_type": "code",
   "execution_count": 5,
   "metadata": {},
   "outputs": [],
   "source": [
    "class LSTM_LSTM(nn.Module):\n",
    "    def __init__(self, input_size, output_size, input_len, output_len, lstm_num_hidden, num_layers=1):\n",
    "        super(LSTM_LSTM, self).__init__()\n",
    "        self.encoder = nn.LSTM(input_size, lstm_num_hidden, num_layers, batch_first=True)\n",
    "        self.decoder = nn.LSTM(output_size, lstm_num_hidden, num_layers, batch_first=True)\n",
    "        self.fc = nn.Linear(lstm_num_hidden, output_size)\n",
    "        self.input_len = input_len\n",
    "        self.output_len = output_len\n",
    "\n",
    "    def forward(self, x):\n",
    "        # x: (batch_size, input_len, input_size)\n",
    "        _, (h, c) = self.encoder(x)\n",
    "        xt = x[:, -1, -1].unsqueeze(1).unsqueeze(2)  # input the last time step of x into the decoder\n",
    "        outputs = []\n",
    "        for _ in range(self.output_len):\n",
    "            output, (h, c) = self.decoder(xt, (h, c))\n",
    "            output = self.fc(output)\n",
    "            outputs.append(output)\n",
    "            xt = output  # use the decoder output as the next input\n",
    "\n",
    "        outputs = torch.cat(outputs, dim=1)\n",
    "        return outputs"
   ]
  },
  {
   "cell_type": "code",
   "execution_count": 6,
   "metadata": {},
   "outputs": [
    {
     "name": "stdout",
     "output_type": "stream",
     "text": [
      "cuda\n"
     ]
    }
   ],
   "source": [
    "device = torch.device(\"cuda\" if torch.cuda.is_available() else \"cpu\")\n",
    "print(device)\n",
    "\n",
    "input_size = len(select_features)\n",
    "output_size = 1\n",
    "input_len = 20\n",
    "output_len = 10\n",
    "hidden_size = 32  \n",
    "num_layers = 1\n",
    "\n",
    "# encoder = Encoder(input_size, input_len, [64,64,64], hidden_size)\n",
    "# decoder = Decoder(hidden_size, output_len, hidden_size, num_layers=num_layers)\n",
    "seq2seq = LSTM_LSTM(input_size, output_size, input_len, output_len, hidden_size, num_layers=num_layers).to(device)"
   ]
  },
  {
   "cell_type": "code",
   "execution_count": 14,
   "metadata": {},
   "outputs": [
    {
     "name": "stderr",
     "output_type": "stream",
     "text": [
      "Epoch 1/20 [TRAIN]: 100%|██████████| 2288/2288 [00:25<00:00, 88.30it/s, train_loss=0.00241]\n"
     ]
    },
    {
     "name": "stdout",
     "output_type": "stream",
     "text": [
      "Epoch 1/20, Average Training Loss: 0.006120\n"
     ]
    },
    {
     "name": "stderr",
     "output_type": "stream",
     "text": [
      "Epoch 1/20 [VAL]: 100%|██████████| 766/766 [00:04<00:00, 191.06it/s, val_loss=0.00641]\n"
     ]
    },
    {
     "name": "stdout",
     "output_type": "stream",
     "text": [
      "Epoch 1/20, Average Validation Loss: 0.004262\n"
     ]
    },
    {
     "name": "stderr",
     "output_type": "stream",
     "text": [
      "Epoch 2/20 [TRAIN]: 100%|██████████| 2288/2288 [00:25<00:00, 90.29it/s, train_loss=0.00226]\n"
     ]
    },
    {
     "name": "stdout",
     "output_type": "stream",
     "text": [
      "Epoch 2/20, Average Training Loss: 0.003977\n"
     ]
    },
    {
     "name": "stderr",
     "output_type": "stream",
     "text": [
      "Epoch 2/20 [VAL]: 100%|██████████| 766/766 [00:03<00:00, 196.45it/s, val_loss=0.00602]\n"
     ]
    },
    {
     "name": "stdout",
     "output_type": "stream",
     "text": [
      "Epoch 2/20, Average Validation Loss: 0.003699\n"
     ]
    },
    {
     "name": "stderr",
     "output_type": "stream",
     "text": [
      "Epoch 3/20 [TRAIN]: 100%|██████████| 2288/2288 [00:24<00:00, 92.99it/s, train_loss=0.00265] \n"
     ]
    },
    {
     "name": "stdout",
     "output_type": "stream",
     "text": [
      "Epoch 3/20, Average Training Loss: 0.003716\n"
     ]
    },
    {
     "name": "stderr",
     "output_type": "stream",
     "text": [
      "Epoch 3/20 [VAL]: 100%|██████████| 766/766 [00:04<00:00, 189.77it/s, val_loss=0.00474]\n"
     ]
    },
    {
     "name": "stdout",
     "output_type": "stream",
     "text": [
      "Epoch 3/20, Average Validation Loss: 0.003334\n"
     ]
    },
    {
     "name": "stderr",
     "output_type": "stream",
     "text": [
      "Epoch 4/20 [TRAIN]: 100%|██████████| 2288/2288 [00:25<00:00, 88.25it/s, train_loss=0.00269] \n"
     ]
    },
    {
     "name": "stdout",
     "output_type": "stream",
     "text": [
      "Epoch 4/20, Average Training Loss: 0.003333\n"
     ]
    },
    {
     "name": "stderr",
     "output_type": "stream",
     "text": [
      "Epoch 4/20 [VAL]: 100%|██████████| 766/766 [00:04<00:00, 167.25it/s, val_loss=0.00433]\n"
     ]
    },
    {
     "name": "stdout",
     "output_type": "stream",
     "text": [
      "Epoch 4/20, Average Validation Loss: 0.003410\n"
     ]
    },
    {
     "name": "stderr",
     "output_type": "stream",
     "text": [
      "Epoch 5/20 [TRAIN]: 100%|██████████| 2288/2288 [00:27<00:00, 82.44it/s, train_loss=0.00385]\n"
     ]
    },
    {
     "name": "stdout",
     "output_type": "stream",
     "text": [
      "Epoch 5/20, Average Training Loss: 0.003265\n"
     ]
    },
    {
     "name": "stderr",
     "output_type": "stream",
     "text": [
      "Epoch 5/20 [VAL]: 100%|██████████| 766/766 [00:04<00:00, 173.54it/s, val_loss=0.00389]\n"
     ]
    },
    {
     "name": "stdout",
     "output_type": "stream",
     "text": [
      "Epoch 5/20, Average Validation Loss: 0.003098\n"
     ]
    },
    {
     "name": "stderr",
     "output_type": "stream",
     "text": [
      "Epoch 6/20 [TRAIN]: 100%|██████████| 2288/2288 [00:27<00:00, 84.22it/s, train_loss=0.00473]\n"
     ]
    },
    {
     "name": "stdout",
     "output_type": "stream",
     "text": [
      "Epoch 6/20, Average Training Loss: 0.003163\n"
     ]
    },
    {
     "name": "stderr",
     "output_type": "stream",
     "text": [
      "Epoch 6/20 [VAL]: 100%|██████████| 766/766 [00:04<00:00, 166.81it/s, val_loss=0.0035] \n"
     ]
    },
    {
     "name": "stdout",
     "output_type": "stream",
     "text": [
      "Epoch 6/20, Average Validation Loss: 0.003076\n"
     ]
    },
    {
     "name": "stderr",
     "output_type": "stream",
     "text": [
      "Epoch 7/20 [TRAIN]: 100%|██████████| 2288/2288 [00:28<00:00, 81.57it/s, train_loss=0.00289]\n"
     ]
    },
    {
     "name": "stdout",
     "output_type": "stream",
     "text": [
      "Epoch 7/20, Average Training Loss: 0.003087\n"
     ]
    },
    {
     "name": "stderr",
     "output_type": "stream",
     "text": [
      "Epoch 7/20 [VAL]: 100%|██████████| 766/766 [00:04<00:00, 168.96it/s, val_loss=0.00385]\n"
     ]
    },
    {
     "name": "stdout",
     "output_type": "stream",
     "text": [
      "Epoch 7/20, Average Validation Loss: 0.003076\n"
     ]
    },
    {
     "name": "stderr",
     "output_type": "stream",
     "text": [
      "Epoch 8/20 [TRAIN]: 100%|██████████| 2288/2288 [00:28<00:00, 80.32it/s, train_loss=0.0015] \n"
     ]
    },
    {
     "name": "stdout",
     "output_type": "stream",
     "text": [
      "Epoch 8/20, Average Training Loss: 0.003020\n"
     ]
    },
    {
     "name": "stderr",
     "output_type": "stream",
     "text": [
      "Epoch 8/20 [VAL]: 100%|██████████| 766/766 [00:04<00:00, 160.14it/s, val_loss=0.00401]\n"
     ]
    },
    {
     "name": "stdout",
     "output_type": "stream",
     "text": [
      "Epoch 8/20, Average Validation Loss: 0.003047\n"
     ]
    },
    {
     "name": "stderr",
     "output_type": "stream",
     "text": [
      "Epoch 9/20 [TRAIN]: 100%|██████████| 2288/2288 [00:29<00:00, 76.62it/s, train_loss=0.00259]\n"
     ]
    },
    {
     "name": "stdout",
     "output_type": "stream",
     "text": [
      "Epoch 9/20, Average Training Loss: 0.002988\n"
     ]
    },
    {
     "name": "stderr",
     "output_type": "stream",
     "text": [
      "Epoch 9/20 [VAL]: 100%|██████████| 766/766 [00:05<00:00, 151.63it/s, val_loss=0.0035] \n"
     ]
    },
    {
     "name": "stdout",
     "output_type": "stream",
     "text": [
      "Epoch 9/20, Average Validation Loss: 0.002898\n"
     ]
    },
    {
     "name": "stderr",
     "output_type": "stream",
     "text": [
      "Epoch 10/20 [TRAIN]: 100%|██████████| 2288/2288 [00:30<00:00, 75.21it/s, train_loss=0.00318]\n"
     ]
    },
    {
     "name": "stdout",
     "output_type": "stream",
     "text": [
      "Epoch 10/20, Average Training Loss: 0.002925\n"
     ]
    },
    {
     "name": "stderr",
     "output_type": "stream",
     "text": [
      "Epoch 10/20 [VAL]: 100%|██████████| 766/766 [00:05<00:00, 149.94it/s, val_loss=0.00364]\n"
     ]
    },
    {
     "name": "stdout",
     "output_type": "stream",
     "text": [
      "Epoch 10/20, Average Validation Loss: 0.002863\n"
     ]
    },
    {
     "name": "stderr",
     "output_type": "stream",
     "text": [
      "Epoch 11/20 [TRAIN]: 100%|██████████| 2288/2288 [00:28<00:00, 80.86it/s, train_loss=0.00258]\n"
     ]
    },
    {
     "name": "stdout",
     "output_type": "stream",
     "text": [
      "Epoch 11/20, Average Training Loss: 0.002876\n"
     ]
    },
    {
     "name": "stderr",
     "output_type": "stream",
     "text": [
      "Epoch 11/20 [VAL]: 100%|██████████| 766/766 [00:04<00:00, 183.18it/s, val_loss=0.00417]\n"
     ]
    },
    {
     "name": "stdout",
     "output_type": "stream",
     "text": [
      "Epoch 11/20, Average Validation Loss: 0.003181\n"
     ]
    },
    {
     "name": "stderr",
     "output_type": "stream",
     "text": [
      "Epoch 12/20 [TRAIN]: 100%|██████████| 2288/2288 [00:27<00:00, 82.45it/s, train_loss=0.00262]\n"
     ]
    },
    {
     "name": "stdout",
     "output_type": "stream",
     "text": [
      "Epoch 12/20, Average Training Loss: 0.002867\n"
     ]
    },
    {
     "name": "stderr",
     "output_type": "stream",
     "text": [
      "Epoch 12/20 [VAL]: 100%|██████████| 766/766 [00:04<00:00, 180.43it/s, val_loss=0.00372]\n"
     ]
    },
    {
     "name": "stdout",
     "output_type": "stream",
     "text": [
      "Epoch 12/20, Average Validation Loss: 0.002915\n"
     ]
    },
    {
     "name": "stderr",
     "output_type": "stream",
     "text": [
      "Epoch 13/20 [TRAIN]: 100%|██████████| 2288/2288 [00:25<00:00, 88.27it/s, train_loss=0.00227]\n"
     ]
    },
    {
     "name": "stdout",
     "output_type": "stream",
     "text": [
      "Epoch 13/20, Average Training Loss: 0.002821\n"
     ]
    },
    {
     "name": "stderr",
     "output_type": "stream",
     "text": [
      "Epoch 13/20 [VAL]: 100%|██████████| 766/766 [00:04<00:00, 183.57it/s, val_loss=0.0034] \n"
     ]
    },
    {
     "name": "stdout",
     "output_type": "stream",
     "text": [
      "Epoch 13/20, Average Validation Loss: 0.002785\n"
     ]
    },
    {
     "name": "stderr",
     "output_type": "stream",
     "text": [
      "Epoch 14/20 [TRAIN]: 100%|██████████| 2288/2288 [00:26<00:00, 86.48it/s, train_loss=0.00169]\n"
     ]
    },
    {
     "name": "stdout",
     "output_type": "stream",
     "text": [
      "Epoch 14/20, Average Training Loss: 0.002787\n"
     ]
    },
    {
     "name": "stderr",
     "output_type": "stream",
     "text": [
      "Epoch 14/20 [VAL]: 100%|██████████| 766/766 [00:04<00:00, 183.57it/s, val_loss=0.00333]\n"
     ]
    },
    {
     "name": "stdout",
     "output_type": "stream",
     "text": [
      "Epoch 14/20, Average Validation Loss: 0.002789\n"
     ]
    },
    {
     "name": "stderr",
     "output_type": "stream",
     "text": [
      "Epoch 15/20 [TRAIN]: 100%|██████████| 2288/2288 [00:25<00:00, 88.78it/s, train_loss=0.0052] \n"
     ]
    },
    {
     "name": "stdout",
     "output_type": "stream",
     "text": [
      "Epoch 15/20, Average Training Loss: 0.002752\n"
     ]
    },
    {
     "name": "stderr",
     "output_type": "stream",
     "text": [
      "Epoch 15/20 [VAL]: 100%|██████████| 766/766 [00:04<00:00, 185.17it/s, val_loss=0.00422]\n"
     ]
    },
    {
     "name": "stdout",
     "output_type": "stream",
     "text": [
      "Epoch 15/20, Average Validation Loss: 0.002836\n"
     ]
    },
    {
     "name": "stderr",
     "output_type": "stream",
     "text": [
      "Epoch 16/20 [TRAIN]: 100%|██████████| 2288/2288 [00:25<00:00, 89.77it/s, train_loss=0.00207]\n"
     ]
    },
    {
     "name": "stdout",
     "output_type": "stream",
     "text": [
      "Epoch 16/20, Average Training Loss: 0.002731\n"
     ]
    },
    {
     "name": "stderr",
     "output_type": "stream",
     "text": [
      "Epoch 16/20 [VAL]: 100%|██████████| 766/766 [00:04<00:00, 181.28it/s, val_loss=0.00332]\n"
     ]
    },
    {
     "name": "stdout",
     "output_type": "stream",
     "text": [
      "Epoch 16/20, Average Validation Loss: 0.002841\n"
     ]
    },
    {
     "name": "stderr",
     "output_type": "stream",
     "text": [
      "Epoch 17/20 [TRAIN]: 100%|██████████| 2288/2288 [00:25<00:00, 90.30it/s, train_loss=0.00302]\n"
     ]
    },
    {
     "name": "stdout",
     "output_type": "stream",
     "text": [
      "Epoch 17/20, Average Training Loss: 0.002726\n"
     ]
    },
    {
     "name": "stderr",
     "output_type": "stream",
     "text": [
      "Epoch 17/20 [VAL]: 100%|██████████| 766/766 [00:04<00:00, 188.33it/s, val_loss=0.00342]\n"
     ]
    },
    {
     "name": "stdout",
     "output_type": "stream",
     "text": [
      "Epoch 17/20, Average Validation Loss: 0.002755\n"
     ]
    },
    {
     "name": "stderr",
     "output_type": "stream",
     "text": [
      "Epoch 18/20 [TRAIN]: 100%|██████████| 2288/2288 [00:24<00:00, 91.61it/s, train_loss=0.00141]\n"
     ]
    },
    {
     "name": "stdout",
     "output_type": "stream",
     "text": [
      "Epoch 18/20, Average Training Loss: 0.002698\n"
     ]
    },
    {
     "name": "stderr",
     "output_type": "stream",
     "text": [
      "Epoch 18/20 [VAL]: 100%|██████████| 766/766 [00:04<00:00, 189.77it/s, val_loss=0.00363]\n"
     ]
    },
    {
     "name": "stdout",
     "output_type": "stream",
     "text": [
      "Epoch 18/20, Average Validation Loss: 0.002729\n"
     ]
    },
    {
     "name": "stderr",
     "output_type": "stream",
     "text": [
      "Epoch 19/20 [TRAIN]: 100%|██████████| 2288/2288 [00:25<00:00, 89.72it/s, train_loss=0.00279]\n"
     ]
    },
    {
     "name": "stdout",
     "output_type": "stream",
     "text": [
      "Epoch 19/20, Average Training Loss: 0.002670\n"
     ]
    },
    {
     "name": "stderr",
     "output_type": "stream",
     "text": [
      "Epoch 19/20 [VAL]: 100%|██████████| 766/766 [00:04<00:00, 189.77it/s, val_loss=0.00343]\n"
     ]
    },
    {
     "name": "stdout",
     "output_type": "stream",
     "text": [
      "Epoch 19/20, Average Validation Loss: 0.002699\n"
     ]
    },
    {
     "name": "stderr",
     "output_type": "stream",
     "text": [
      "Epoch 20/20 [TRAIN]: 100%|██████████| 2288/2288 [00:25<00:00, 90.01it/s, train_loss=0.00186]\n"
     ]
    },
    {
     "name": "stdout",
     "output_type": "stream",
     "text": [
      "Epoch 20/20, Average Training Loss: 0.002637\n"
     ]
    },
    {
     "name": "stderr",
     "output_type": "stream",
     "text": [
      "Epoch 20/20 [VAL]: 100%|██████████| 766/766 [00:03<00:00, 192.65it/s, val_loss=0.00326]"
     ]
    },
    {
     "name": "stdout",
     "output_type": "stream",
     "text": [
      "Epoch 20/20, Average Validation Loss: 0.002734\n"
     ]
    },
    {
     "name": "stderr",
     "output_type": "stream",
     "text": [
      "\n"
     ]
    }
   ],
   "source": [
    "# train the model\n",
    "# Loss and optimizer\n",
    "criterion = torch.nn.MSELoss()\n",
    "optimizer = torch.optim.Adam(seq2seq.parameters(), lr=0.002)\n",
    "\n",
    "# Training loop with validation and early stopping\n",
    "num_epochs = 20\n",
    "best_epoch = 0\n",
    "best_val_loss = float('inf')\n",
    "train_losses, val_losses = [], []\n",
    "\n",
    "for epoch in range(num_epochs):\n",
    "    # Training phase\n",
    "    seq2seq.train()\n",
    "    total_train_loss = 0\n",
    "    progress_bar = tqdm(train_loader, desc=f\"Epoch {epoch+1}/{num_epochs} [TRAIN]\")\n",
    "    for inputs, targets in progress_bar:\n",
    "        inputs, targets = inputs.to(device), targets.to(device)\n",
    "        optimizer.zero_grad()\n",
    "        outputs = seq2seq(inputs)  \n",
    "        outputs = outputs.squeeze(-1) # (batch_size, output_len)\n",
    "\n",
    "        loss = criterion(outputs, targets)\n",
    "        loss.backward()\n",
    "        optimizer.step()\n",
    "\n",
    "        total_train_loss += loss.item()\n",
    "        progress_bar.set_postfix({'train_loss': loss.item()})\n",
    "\n",
    "    average_train_loss = total_train_loss / len(train_loader)\n",
    "    train_losses.append(average_train_loss)\n",
    "    \n",
    "    print(f\"Epoch {epoch+1}/{num_epochs}, Average Training Loss: {average_train_loss:.6f}\")\n",
    "\n",
    "    # Validation phase\n",
    "    seq2seq.eval()\n",
    "    total_val_loss = 0\n",
    "    progress_bar = tqdm(val_loader, desc=f\"Epoch {epoch+1}/{num_epochs} [VAL]\")\n",
    "    for inputs, targets in progress_bar:\n",
    "        inputs, targets = inputs.to(device), targets.to(device)\n",
    "        outputs = seq2seq(inputs)  \n",
    "        outputs = outputs.squeeze(-1) # (batch_size, output_len)\n",
    "\n",
    "        loss = criterion(outputs, targets)\n",
    "\n",
    "        total_val_loss += loss.item()\n",
    "        progress_bar.set_postfix({'val_loss': loss.item()})\n",
    "    \n",
    "    average_val_loss = total_val_loss / len(val_loader)\n",
    "    val_losses.append(average_val_loss)\n",
    "    print(f\"Epoch {epoch+1}/{num_epochs}, Average Validation Loss: {average_val_loss:.6f}\")\n",
    "\n",
    "    # Save the model with least validation loss\n",
    "    if average_val_loss < best_val_loss:\n",
    "        best_epoch = epoch + 1\n",
    "        best_val_loss = average_val_loss\n",
    "        torch.save(seq2seq.state_dict(), f'LSTM_LSTM_select_best_model_{input_len}-{output_len}.pt')\n"
   ]
  },
  {
   "cell_type": "code",
   "execution_count": 7,
   "metadata": {},
   "outputs": [
    {
     "name": "stdout",
     "output_type": "stream",
     "text": [
      "Test loss: 0.0023562288843095303\n",
      "MAPE: 13.099225044250488\n"
     ]
    },
    {
     "data": {
      "image/png": "[encoded data removed]",
      "text/plain": [
       "<Figure size 2000x500 with 1 Axes>"
      ]
     },
     "metadata": {},
     "output_type": "display_data"
    }
   ],
   "source": [
    "from data_process import create_sequences\n",
    "from utils import plot_output\n",
    "import random\n",
    "# Load the best model\n",
    "seq2seq.load_state_dict(torch.load(f'LSTM_LSTM_select_best_model_{input_len}-{output_len}.pt'))\n",
    "\n",
    "# Test the model\n",
    "seq2seq.eval()\n",
    "flight_num = 276 #random.randint(0, 100)\n",
    "test_data = data[data['flight'] == flight_num]\n",
    "input_seq, output_seq = create_sequences(test_data[select_features].values, \n",
    "                                         test_data['power'].values, input_len, output_len)\n",
    "\n",
    "input_seq = torch.tensor(input_seq, dtype=torch.float32).to(device)\n",
    "output_seq = torch.tensor(output_seq, dtype=torch.float32).to(device)\n",
    "\n",
    "with torch.no_grad():\n",
    "    \n",
    "    outputs = seq2seq(input_seq)  # No need for target length\n",
    "    # Adjust the dimensions if necessary, based on your loss function requirements\n",
    "    # Example: If your outputs and targets are both [batch_size, 2, 1]\n",
    "    outputs = outputs.squeeze(-1)  # Now [batch_size, 2]\n",
    "    targets = output_seq\n",
    "\n",
    "    error = nn.MSELoss()(outputs, targets)\n",
    "    print(f\"Test loss: {error}\")\n",
    "\n",
    "    mape = torch.mean(torch.abs((outputs - targets) / targets)) * 100\n",
    "    print(f\"MAPE: {mape}\")\n",
    "    \n",
    "    plot_output(outputs.cpu(), targets.cpu(), output_len)\n"
   ]
  },
  {
   "cell_type": "code",
   "execution_count": 8,
   "metadata": {},
   "outputs": [
    {
     "name": "stdout",
     "output_type": "stream",
     "text": [
      "Test MAPE: 16.72175439978784\n"
     ]
    }
   ],
   "source": [
    "# test the model\n",
    "seq2seq.eval()\n",
    "mape_list = []\n",
    "\n",
    "for inputs, targets in test_loader:\n",
    "    inputs, targets = inputs.to(device), targets.to(device)\n",
    "    with torch.no_grad():\n",
    "        outputs = seq2seq(inputs)  \n",
    "        outputs = outputs.squeeze(-1)\n",
    "        \n",
    "    mape = torch.mean(torch.abs((outputs - targets) / targets)) * 100\n",
    "    mape_list.append(mape.item())\n",
    "\n",
    "print(f\"Test MAPE: {sum(mape_list)/len(mape_list)}\")\n"
   ]
  },
  {
   "cell_type": "markdown",
   "metadata": {},
   "source": [
    "Dataloader"
   ]
  },
  {
   "cell_type": "code",
   "execution_count": null,
   "metadata": {},
   "outputs": [],
   "source": [
    "\"\"\"\n",
    "TODO:\n",
    "\n",
    "1. Get rid of the head and tail of the data\n",
    "\n",
    "2. Debug invalid data when specifying the flight number\n",
    "\n",
    "3. By paper: 'We used a total of 114 training flights (4 hours and 4 minutes flight time), 38 validation flights \n",
    "(1 hour and 24 minutes flight time) and 37 test flights (1 hour and 23 minutes flight time).' Should we do the same?\n",
    "\n",
    "4. Decoder input (i.e., future trajectory as inputs)\n",
    "\n",
    "\"\"\""
   ]
  }
 ],
 "metadata": {
  "kernelspec": {
   "display_name": "pytorch",
   "language": "python",
   "name": "pytorch"
  },
  "language_info": {
   "codemirror_mode": {
    "name": "ipython",
    "version": 3
   },
   "file_extension": ".py",
   "mimetype": "text/x-python",
   "name": "python",
   "nbconvert_exporter": "python",
   "pygments_lexer": "ipython3",
   "version": "3.10.6"
  }
 },
 "nbformat": 4,
 "nbformat_minor": 2
}
