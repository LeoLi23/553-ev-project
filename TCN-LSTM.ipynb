{
 "cells": [
  {
   "cell_type": "code",
   "execution_count": 9,
   "metadata": {},
   "outputs": [],
   "source": [
    "import torch\n",
    "import torch.nn as nn\n",
    "from data_process import get_data_loaders, getFeatures\n",
    "from model.TCN import TemporalConvNet, TCN\n",
    "from tqdm import tqdm\n",
    "import pandas as pd"
   ]
  },
  {
   "cell_type": "code",
   "execution_count": 42,
   "metadata": {},
   "outputs": [],
   "source": [
    "data = pd.read_csv('flights.csv') \n",
    "data, train_loader, val_loader, test_loader = get_data_loaders(data, 20, 10)\n",
    "features = getFeatures()"
   ]
  },
  {
   "cell_type": "code",
   "execution_count": 43,
   "metadata": {},
   "outputs": [
    {
     "name": "stdout",
     "output_type": "stream",
     "text": [
      "torch.Size([64, 20, 32])\n",
      "torch.Size([64, 10])\n"
     ]
    }
   ],
   "source": [
    "for i, (x, y) in enumerate(train_loader):\n",
    "    print(x.shape)\n",
    "    print(y.shape)\n",
    "    break"
   ]
  },
  {
   "cell_type": "code",
   "execution_count": 44,
   "metadata": {},
   "outputs": [],
   "source": [
    "# build TCN-LSTM model\n",
    "\n",
    "class Encoder(nn.Module):\n",
    "    def __init__(self, input_size, seq_len, tcn_num_channels, lstm_num_hidden, tcn_kernel_size=2, tcn_dropout=0.2):\n",
    "        super(Encoder, self).__init__()\n",
    "        self.tcn = TemporalConvNet(input_size, tcn_num_channels, tcn_kernel_size, tcn_dropout)\n",
    "        self.fc_feature = nn.Linear(tcn_num_channels[-1], lstm_num_hidden)\n",
    "        self.fc_time = nn.Linear(seq_len, 1)\n",
    "        \n",
    "        self.lstm_num_hidden = lstm_num_hidden\n",
    "    \n",
    "    def forward(self, x):\n",
    "        output = self.tcn(x.transpose(1, 2)) # (batch_size, tcn_num_channels[-1], seq_len)\n",
    "        output = output.transpose(1, 2) # (batch_size, seq_len, tcn_num_channels[-1])\n",
    "        output = self.fc_feature(output) # (batch_size, seq_len, lstm_num_hidden)\n",
    "\n",
    "        h = output[:, -1, :] # (batch_size, lstm_num_hidden)\n",
    "\n",
    "        c = output.transpose(1, 2) # (batch_size, lstm_num_hidden, seq_len)\n",
    "        c = self.fc_time(c).squeeze(2) # (batch_size, lstm_num_hidden)\n",
    "        \n",
    "        return h, c\n",
    "\n",
    "\n",
    "class Decoder(nn.Module):\n",
    "    def __init__(self, input_size, seq_len, hidden_size, num_layers=1):\n",
    "        super(Decoder, self).__init__()\n",
    "        self.lstm = nn.LSTM(input_size, hidden_size, num_layers, batch_first=True)\n",
    "        self.fc = nn.Linear(hidden_size, 1)\n",
    "        self.num_layers = num_layers\n",
    "        self.seq_len = seq_len\n",
    "\n",
    "    def forward(self, x, hidden, cell):\n",
    "        if self.num_layers > 1:\n",
    "            # repeat the hidden states according to the number of layers\n",
    "            hidden = hidden.repeat(self.num_layers, 1, 1)\n",
    "            cell = cell.repeat(self.num_layers, 1, 1)\n",
    "\n",
    "        outputs = []\n",
    "        for _ in range(self.seq_len): \n",
    "            output, (hidden, cell) = self.lstm(x, (hidden, cell))\n",
    "            output = self.fc(output) \n",
    "            outputs.append(output)\n",
    "\n",
    "        outputs = torch.cat(outputs, dim=1)\n",
    "        return outputs\n",
    "\n",
    "\n",
    "class TCN_LSTM(nn.Module):\n",
    "    def __init__(self, input_size, input_len, output_len, tcn_num_channels, lstm_num_hidden, tcn_kernel_size=2, tcn_dropout=0.2, num_layers=1):\n",
    "        super(TCN_LSTM, self).__init__()\n",
    "        self.encoder = Encoder(input_size, input_len, tcn_num_channels, lstm_num_hidden, tcn_kernel_size, tcn_dropout)\n",
    "        self.decoder = Decoder(lstm_num_hidden, output_len, lstm_num_hidden, num_layers)\n",
    "\n",
    "    def forward(self, x):\n",
    "        # x: (batch_size, input_len, input_size)\n",
    "        h, c = self.encoder(x)\n",
    "        xt = x[:, -1, :].unsqueeze(1) # assume the last feature is the time feature\n",
    "        outputs = self.decoder(xt, h, c) # (batch_size, output_len, 1)\n",
    "        return outputs"
   ]
  },
  {
   "cell_type": "code",
   "execution_count": 47,
   "metadata": {},
   "outputs": [],
   "source": [
    "\n",
    "input_size = len(features)\n",
    "input_len = 20\n",
    "output_len = 10\n",
    "hidden_size = 32  \n",
    "num_layers = 3\n",
    "\n",
    "# encoder = Encoder(input_size, input_len, [64,64,64], hidden_size)\n",
    "# decoder = Decoder(hidden_size, output_len, hidden_size, num_layers=num_layers)\n",
    "seq2seq = TCN_LSTM(input_size, input_len, output_len, [64,64,64], hidden_size, num_layers=num_layers)\n"
   ]
  },
  {
   "cell_type": "code",
   "execution_count": 48,
   "metadata": {},
   "outputs": [
    {
     "name": "stderr",
     "output_type": "stream",
     "text": [
      "Epoch 1/10 [TRAIN]: 100%|██████████| 2418/2418 [01:25<00:00, 28.19it/s, train_loss=0.00037] \n"
     ]
    },
    {
     "name": "stdout",
     "output_type": "stream",
     "text": [
      "Epoch 1/10, Average Training Loss: 0.0076\n"
     ]
    },
    {
     "name": "stderr",
     "output_type": "stream",
     "text": [
      "Epoch 1/10 [VAL]: 100%|██████████| 806/806 [00:10<00:00, 76.77it/s, val_loss=0.000164]\n"
     ]
    },
    {
     "name": "stdout",
     "output_type": "stream",
     "text": [
      "Epoch 1/10, Average Validation Loss: 0.0017\n"
     ]
    },
    {
     "name": "stderr",
     "output_type": "stream",
     "text": [
      "Epoch 2/10 [TRAIN]: 100%|██████████| 2418/2418 [1:31:05<00:00,  2.26s/it, train_loss=0.000159]    \n"
     ]
    },
    {
     "name": "stdout",
     "output_type": "stream",
     "text": [
      "Epoch 2/10, Average Training Loss: 0.0016\n"
     ]
    },
    {
     "name": "stderr",
     "output_type": "stream",
     "text": [
      "Epoch 2/10 [VAL]: 100%|██████████| 806/806 [00:20<00:00, 39.32it/s, val_loss=9.55e-5] \n"
     ]
    },
    {
     "name": "stdout",
     "output_type": "stream",
     "text": [
      "Epoch 2/10, Average Validation Loss: 0.0015\n"
     ]
    },
    {
     "name": "stderr",
     "output_type": "stream",
     "text": [
      "Epoch 3/10 [TRAIN]: 100%|██████████| 2418/2418 [01:33<00:00, 25.97it/s, train_loss=6.6e-5]  \n"
     ]
    },
    {
     "name": "stdout",
     "output_type": "stream",
     "text": [
      "Epoch 3/10, Average Training Loss: 0.0014\n"
     ]
    },
    {
     "name": "stderr",
     "output_type": "stream",
     "text": [
      "Epoch 3/10 [VAL]: 100%|██████████| 806/806 [00:10<00:00, 79.85it/s, val_loss=9.35e-5] \n"
     ]
    },
    {
     "name": "stdout",
     "output_type": "stream",
     "text": [
      "Epoch 3/10, Average Validation Loss: 0.0015\n"
     ]
    },
    {
     "name": "stderr",
     "output_type": "stream",
     "text": [
      "Epoch 4/10 [TRAIN]: 100%|██████████| 2418/2418 [01:27<00:00, 27.73it/s, train_loss=0.000154]\n"
     ]
    },
    {
     "name": "stdout",
     "output_type": "stream",
     "text": [
      "Epoch 4/10, Average Training Loss: 0.0014\n"
     ]
    },
    {
     "name": "stderr",
     "output_type": "stream",
     "text": [
      "Epoch 4/10 [VAL]: 100%|██████████| 806/806 [00:11<00:00, 72.66it/s, val_loss=8.88e-5] \n"
     ]
    },
    {
     "name": "stdout",
     "output_type": "stream",
     "text": [
      "Epoch 4/10, Average Validation Loss: 0.0015\n"
     ]
    },
    {
     "name": "stderr",
     "output_type": "stream",
     "text": [
      "Epoch 5/10 [TRAIN]: 100%|██████████| 2418/2418 [01:28<00:00, 27.23it/s, train_loss=7.81e-5] \n"
     ]
    },
    {
     "name": "stdout",
     "output_type": "stream",
     "text": [
      "Epoch 5/10, Average Training Loss: 0.0014\n"
     ]
    },
    {
     "name": "stderr",
     "output_type": "stream",
     "text": [
      "Epoch 5/10 [VAL]: 100%|██████████| 806/806 [00:11<00:00, 71.12it/s, val_loss=6.88e-5] \n"
     ]
    },
    {
     "name": "stdout",
     "output_type": "stream",
     "text": [
      "Epoch 5/10, Average Validation Loss: 0.0014\n"
     ]
    },
    {
     "name": "stderr",
     "output_type": "stream",
     "text": [
      "Epoch 6/10 [TRAIN]: 100%|██████████| 2418/2418 [01:31<00:00, 26.48it/s, train_loss=8.41e-5] \n"
     ]
    },
    {
     "name": "stdout",
     "output_type": "stream",
     "text": [
      "Epoch 6/10, Average Training Loss: 0.0014\n"
     ]
    },
    {
     "name": "stderr",
     "output_type": "stream",
     "text": [
      "Epoch 6/10 [VAL]: 100%|██████████| 806/806 [00:11<00:00, 72.62it/s, val_loss=5.6e-5]  \n"
     ]
    },
    {
     "name": "stdout",
     "output_type": "stream",
     "text": [
      "Epoch 6/10, Average Validation Loss: 0.0014\n"
     ]
    },
    {
     "name": "stderr",
     "output_type": "stream",
     "text": [
      "Epoch 7/10 [TRAIN]: 100%|██████████| 2418/2418 [01:30<00:00, 26.63it/s, train_loss=0.0086]  \n"
     ]
    },
    {
     "name": "stdout",
     "output_type": "stream",
     "text": [
      "Epoch 7/10, Average Training Loss: 0.0013\n"
     ]
    },
    {
     "name": "stderr",
     "output_type": "stream",
     "text": [
      "Epoch 7/10 [VAL]: 100%|██████████| 806/806 [00:11<00:00, 68.27it/s, val_loss=2.24e-5] \n"
     ]
    },
    {
     "name": "stdout",
     "output_type": "stream",
     "text": [
      "Epoch 7/10, Average Validation Loss: 0.0014\n"
     ]
    },
    {
     "name": "stderr",
     "output_type": "stream",
     "text": [
      "Epoch 8/10 [TRAIN]: 100%|██████████| 2418/2418 [01:32<00:00, 26.10it/s, train_loss=0.00317] \n"
     ]
    },
    {
     "name": "stdout",
     "output_type": "stream",
     "text": [
      "Epoch 8/10, Average Training Loss: 0.0013\n"
     ]
    },
    {
     "name": "stderr",
     "output_type": "stream",
     "text": [
      "Epoch 8/10 [VAL]: 100%|██████████| 806/806 [00:12<00:00, 65.75it/s, val_loss=5.23e-5] \n"
     ]
    },
    {
     "name": "stdout",
     "output_type": "stream",
     "text": [
      "Epoch 8/10, Average Validation Loss: 0.0014\n"
     ]
    },
    {
     "name": "stderr",
     "output_type": "stream",
     "text": [
      "Epoch 9/10 [TRAIN]: 100%|██████████| 2418/2418 [01:33<00:00, 25.74it/s, train_loss=0.00099] \n"
     ]
    },
    {
     "name": "stdout",
     "output_type": "stream",
     "text": [
      "Epoch 9/10, Average Training Loss: 0.0013\n"
     ]
    },
    {
     "name": "stderr",
     "output_type": "stream",
     "text": [
      "Epoch 9/10 [VAL]: 100%|██████████| 806/806 [00:12<00:00, 67.07it/s, val_loss=6.5e-5]  \n"
     ]
    },
    {
     "name": "stdout",
     "output_type": "stream",
     "text": [
      "Epoch 9/10, Average Validation Loss: 0.0014\n"
     ]
    },
    {
     "name": "stderr",
     "output_type": "stream",
     "text": [
      "Epoch 10/10 [TRAIN]: 100%|██████████| 2418/2418 [01:34<00:00, 25.57it/s, train_loss=0.000221]\n"
     ]
    },
    {
     "name": "stdout",
     "output_type": "stream",
     "text": [
      "Epoch 10/10, Average Training Loss: 0.0013\n"
     ]
    },
    {
     "name": "stderr",
     "output_type": "stream",
     "text": [
      "Epoch 10/10 [VAL]: 100%|██████████| 806/806 [00:12<00:00, 65.77it/s, val_loss=7.21e-5] "
     ]
    },
    {
     "name": "stdout",
     "output_type": "stream",
     "text": [
      "Epoch 10/10, Average Validation Loss: 0.0015\n"
     ]
    },
    {
     "name": "stderr",
     "output_type": "stream",
     "text": [
      "\n"
     ]
    }
   ],
   "source": [
    "\n",
    "# train the model\n",
    "# Loss and optimizer\n",
    "criterion = torch.nn.MSELoss()\n",
    "optimizer = torch.optim.Adam(seq2seq.parameters(), lr=0.0001)\n",
    "\n",
    "# Training loop with validation and early stopping\n",
    "num_epochs = 20\n",
    "best_epoch = 0\n",
    "best_val_loss = float('inf')\n",
    "train_losses, val_losses = [], []\n",
    "\n",
    "for epoch in range(num_epochs):\n",
    "    # Training phase\n",
    "    seq2seq.train()\n",
    "    total_train_loss = 0\n",
    "    progress_bar = tqdm(train_loader, desc=f\"Epoch {epoch+1}/{num_epochs} [TRAIN]\")\n",
    "    for inputs, targets in progress_bar:\n",
    "        optimizer.zero_grad()\n",
    "        outputs = seq2seq(inputs)  \n",
    "        outputs = outputs.squeeze(-1) # (batch_size, output_len)\n",
    "\n",
    "        loss = criterion(outputs, targets)\n",
    "        loss.backward()\n",
    "        optimizer.step()\n",
    "\n",
    "        total_train_loss += loss.item()\n",
    "        progress_bar.set_postfix({'train_loss': loss.item()})\n",
    "\n",
    "    average_train_loss = total_train_loss / len(train_loader)\n",
    "    train_losses.append(average_train_loss)\n",
    "    \n",
    "    print(f\"Epoch {epoch+1}/{num_epochs}, Average Training Loss: {average_train_loss:.4f}\")\n",
    "\n",
    "    # Validation phase\n",
    "    seq2seq.eval()\n",
    "    total_val_loss = 0\n",
    "    progress_bar = tqdm(val_loader, desc=f\"Epoch {epoch+1}/{num_epochs} [VAL]\")\n",
    "    for inputs, targets in progress_bar:\n",
    "        outputs = seq2seq(inputs)  \n",
    "        outputs = outputs.squeeze(-1) # (batch_size, output_len)\n",
    "\n",
    "        loss = criterion(outputs, targets)\n",
    "\n",
    "        total_val_loss += loss.item()\n",
    "        progress_bar.set_postfix({'val_loss': loss.item()})\n",
    "    \n",
    "    average_val_loss = total_val_loss / len(val_loader)\n",
    "    val_losses.append(average_val_loss)\n",
    "    print(f\"Epoch {epoch+1}/{num_epochs}, Average Validation Loss: {average_val_loss:.4f}\")\n",
    "\n",
    "    # Save the model with least validation loss\n",
    "    if average_val_loss < best_val_loss:\n",
    "        best_epoch = epoch + 1\n",
    "        best_val_loss = average_val_loss\n",
    "        torch.save(seq2seq.state_dict(), f'TCN_LSTM_best_model_{input_len}-{output_len}.pt')\n",
    "        \n"
   ]
  },
  {
   "cell_type": "code",
   "execution_count": 54,
   "metadata": {},
   "outputs": [
    {
     "ename": "IndexError",
     "evalue": "Dimension out of range (expected to be in range of [-1, 0], but got 1)",
     "output_type": "error",
     "traceback": [
      "\u001b[1;31m---------------------------------------------------------------------------\u001b[0m",
      "\u001b[1;31mIndexError\u001b[0m                                Traceback (most recent call last)",
      "\u001b[1;32md:\\Fall 2023\\EECS 553 ML\\Project\\553-ev-project\\TCN-LSTM.ipynb Cell 7\u001b[0m line \u001b[0;36m1\n\u001b[0;32m     <a href='vscode-notebook-cell:/d%3A/Fall%202023/EECS%20553%20ML/Project/553-ev-project/TCN-LSTM.ipynb#X10sZmlsZQ%3D%3D?line=14'>15</a>\u001b[0m output_seq \u001b[39m=\u001b[39m torch\u001b[39m.\u001b[39mtensor(output_seq, dtype\u001b[39m=\u001b[39mtorch\u001b[39m.\u001b[39mfloat32)\n\u001b[0;32m     <a href='vscode-notebook-cell:/d%3A/Fall%202023/EECS%20553%20ML/Project/553-ev-project/TCN-LSTM.ipynb#X10sZmlsZQ%3D%3D?line=16'>17</a>\u001b[0m \u001b[39mwith\u001b[39;00m torch\u001b[39m.\u001b[39mno_grad():\n\u001b[1;32m---> <a href='vscode-notebook-cell:/d%3A/Fall%202023/EECS%20553%20ML/Project/553-ev-project/TCN-LSTM.ipynb#X10sZmlsZQ%3D%3D?line=18'>19</a>\u001b[0m     outputs \u001b[39m=\u001b[39m seq2seq(input_seq)  \u001b[39m# No need for target length\u001b[39;00m\n\u001b[0;32m     <a href='vscode-notebook-cell:/d%3A/Fall%202023/EECS%20553%20ML/Project/553-ev-project/TCN-LSTM.ipynb#X10sZmlsZQ%3D%3D?line=19'>20</a>\u001b[0m     \u001b[39m# Adjust the dimensions if necessary, based on your loss function requirements\u001b[39;00m\n\u001b[0;32m     <a href='vscode-notebook-cell:/d%3A/Fall%202023/EECS%20553%20ML/Project/553-ev-project/TCN-LSTM.ipynb#X10sZmlsZQ%3D%3D?line=20'>21</a>\u001b[0m     \u001b[39m# Example: If your outputs and targets are both [batch_size, 2, 1]\u001b[39;00m\n\u001b[0;32m     <a href='vscode-notebook-cell:/d%3A/Fall%202023/EECS%20553%20ML/Project/553-ev-project/TCN-LSTM.ipynb#X10sZmlsZQ%3D%3D?line=21'>22</a>\u001b[0m     outputs \u001b[39m=\u001b[39m outputs\u001b[39m.\u001b[39msqueeze(\u001b[39m-\u001b[39m\u001b[39m1\u001b[39m)  \u001b[39m# Now [batch_size, 2]\u001b[39;00m\n",
      "File \u001b[1;32mc:\\Users\\peks\\anaconda3\\envs\\pytorch\\lib\\site-packages\\torch\\nn\\modules\\module.py:1110\u001b[0m, in \u001b[0;36mModule._call_impl\u001b[1;34m(self, *input, **kwargs)\u001b[0m\n\u001b[0;32m   1106\u001b[0m \u001b[39m# If we don't have any hooks, we want to skip the rest of the logic in\u001b[39;00m\n\u001b[0;32m   1107\u001b[0m \u001b[39m# this function, and just call forward.\u001b[39;00m\n\u001b[0;32m   1108\u001b[0m \u001b[39mif\u001b[39;00m \u001b[39mnot\u001b[39;00m (\u001b[39mself\u001b[39m\u001b[39m.\u001b[39m_backward_hooks \u001b[39mor\u001b[39;00m \u001b[39mself\u001b[39m\u001b[39m.\u001b[39m_forward_hooks \u001b[39mor\u001b[39;00m \u001b[39mself\u001b[39m\u001b[39m.\u001b[39m_forward_pre_hooks \u001b[39mor\u001b[39;00m _global_backward_hooks\n\u001b[0;32m   1109\u001b[0m         \u001b[39mor\u001b[39;00m _global_forward_hooks \u001b[39mor\u001b[39;00m _global_forward_pre_hooks):\n\u001b[1;32m-> 1110\u001b[0m     \u001b[39mreturn\u001b[39;00m forward_call(\u001b[39m*\u001b[39m\u001b[39minput\u001b[39m, \u001b[39m*\u001b[39m\u001b[39m*\u001b[39mkwargs)\n\u001b[0;32m   1111\u001b[0m \u001b[39m# Do not call functions when jit is used\u001b[39;00m\n\u001b[0;32m   1112\u001b[0m full_backward_hooks, non_full_backward_hooks \u001b[39m=\u001b[39m [], []\n",
      "\u001b[1;32md:\\Fall 2023\\EECS 553 ML\\Project\\553-ev-project\\TCN-LSTM.ipynb Cell 7\u001b[0m line \u001b[0;36m5\n\u001b[0;32m     <a href='vscode-notebook-cell:/d%3A/Fall%202023/EECS%20553%20ML/Project/553-ev-project/TCN-LSTM.ipynb#X10sZmlsZQ%3D%3D?line=54'>55</a>\u001b[0m \u001b[39mdef\u001b[39;00m \u001b[39mforward\u001b[39m(\u001b[39mself\u001b[39m, x):\n\u001b[0;32m     <a href='vscode-notebook-cell:/d%3A/Fall%202023/EECS%20553%20ML/Project/553-ev-project/TCN-LSTM.ipynb#X10sZmlsZQ%3D%3D?line=55'>56</a>\u001b[0m     \u001b[39m# x: (batch_size, input_len, input_size)\u001b[39;00m\n\u001b[1;32m---> <a href='vscode-notebook-cell:/d%3A/Fall%202023/EECS%20553%20ML/Project/553-ev-project/TCN-LSTM.ipynb#X10sZmlsZQ%3D%3D?line=56'>57</a>\u001b[0m     h, c \u001b[39m=\u001b[39m \u001b[39mself\u001b[39;49m\u001b[39m.\u001b[39;49mencoder(x)\n\u001b[0;32m     <a href='vscode-notebook-cell:/d%3A/Fall%202023/EECS%20553%20ML/Project/553-ev-project/TCN-LSTM.ipynb#X10sZmlsZQ%3D%3D?line=57'>58</a>\u001b[0m     xt \u001b[39m=\u001b[39m x[:, \u001b[39m-\u001b[39m\u001b[39m1\u001b[39m, :]\u001b[39m.\u001b[39munsqueeze(\u001b[39m1\u001b[39m) \u001b[39m# assume the last feature is the time feature\u001b[39;00m\n\u001b[0;32m     <a href='vscode-notebook-cell:/d%3A/Fall%202023/EECS%20553%20ML/Project/553-ev-project/TCN-LSTM.ipynb#X10sZmlsZQ%3D%3D?line=58'>59</a>\u001b[0m     outputs \u001b[39m=\u001b[39m \u001b[39mself\u001b[39m\u001b[39m.\u001b[39mdecoder(xt, h, c) \u001b[39m# (batch_size, output_len, 1)\u001b[39;00m\n",
      "File \u001b[1;32mc:\\Users\\peks\\anaconda3\\envs\\pytorch\\lib\\site-packages\\torch\\nn\\modules\\module.py:1110\u001b[0m, in \u001b[0;36mModule._call_impl\u001b[1;34m(self, *input, **kwargs)\u001b[0m\n\u001b[0;32m   1106\u001b[0m \u001b[39m# If we don't have any hooks, we want to skip the rest of the logic in\u001b[39;00m\n\u001b[0;32m   1107\u001b[0m \u001b[39m# this function, and just call forward.\u001b[39;00m\n\u001b[0;32m   1108\u001b[0m \u001b[39mif\u001b[39;00m \u001b[39mnot\u001b[39;00m (\u001b[39mself\u001b[39m\u001b[39m.\u001b[39m_backward_hooks \u001b[39mor\u001b[39;00m \u001b[39mself\u001b[39m\u001b[39m.\u001b[39m_forward_hooks \u001b[39mor\u001b[39;00m \u001b[39mself\u001b[39m\u001b[39m.\u001b[39m_forward_pre_hooks \u001b[39mor\u001b[39;00m _global_backward_hooks\n\u001b[0;32m   1109\u001b[0m         \u001b[39mor\u001b[39;00m _global_forward_hooks \u001b[39mor\u001b[39;00m _global_forward_pre_hooks):\n\u001b[1;32m-> 1110\u001b[0m     \u001b[39mreturn\u001b[39;00m forward_call(\u001b[39m*\u001b[39m\u001b[39minput\u001b[39m, \u001b[39m*\u001b[39m\u001b[39m*\u001b[39mkwargs)\n\u001b[0;32m   1111\u001b[0m \u001b[39m# Do not call functions when jit is used\u001b[39;00m\n\u001b[0;32m   1112\u001b[0m full_backward_hooks, non_full_backward_hooks \u001b[39m=\u001b[39m [], []\n",
      "\u001b[1;32md:\\Fall 2023\\EECS 553 ML\\Project\\553-ev-project\\TCN-LSTM.ipynb Cell 7\u001b[0m line \u001b[0;36m1\n\u001b[0;32m     <a href='vscode-notebook-cell:/d%3A/Fall%202023/EECS%20553%20ML/Project/553-ev-project/TCN-LSTM.ipynb#X10sZmlsZQ%3D%3D?line=11'>12</a>\u001b[0m \u001b[39mdef\u001b[39;00m \u001b[39mforward\u001b[39m(\u001b[39mself\u001b[39m, x):\n\u001b[1;32m---> <a href='vscode-notebook-cell:/d%3A/Fall%202023/EECS%20553%20ML/Project/553-ev-project/TCN-LSTM.ipynb#X10sZmlsZQ%3D%3D?line=12'>13</a>\u001b[0m     output \u001b[39m=\u001b[39m \u001b[39mself\u001b[39m\u001b[39m.\u001b[39mtcn(x\u001b[39m.\u001b[39;49mtranspose(\u001b[39m1\u001b[39;49m, \u001b[39m2\u001b[39;49m)) \u001b[39m# (batch_size, tcn_num_channels[-1], seq_len)\u001b[39;00m\n\u001b[0;32m     <a href='vscode-notebook-cell:/d%3A/Fall%202023/EECS%20553%20ML/Project/553-ev-project/TCN-LSTM.ipynb#X10sZmlsZQ%3D%3D?line=13'>14</a>\u001b[0m     output \u001b[39m=\u001b[39m output\u001b[39m.\u001b[39mtranspose(\u001b[39m1\u001b[39m, \u001b[39m2\u001b[39m) \u001b[39m# (batch_size, seq_len, tcn_num_channels[-1])\u001b[39;00m\n\u001b[0;32m     <a href='vscode-notebook-cell:/d%3A/Fall%202023/EECS%20553%20ML/Project/553-ev-project/TCN-LSTM.ipynb#X10sZmlsZQ%3D%3D?line=14'>15</a>\u001b[0m     output \u001b[39m=\u001b[39m \u001b[39mself\u001b[39m\u001b[39m.\u001b[39mfc_feature(output) \u001b[39m# (batch_size, seq_len, lstm_num_hidden)\u001b[39;00m\n",
      "\u001b[1;31mIndexError\u001b[0m: Dimension out of range (expected to be in range of [-1, 0], but got 1)"
     ]
    }
   ],
   "source": [
    "from data_process import create_sequences\n",
    "from utils import plot_output\n",
    "import random\n",
    "# Load the best model\n",
    "seq2seq.load_state_dict(torch.load('TCN_LSTM_best_model_20-10.pt'))\n",
    "\n",
    "# Test the model\n",
    "seq2seq.eval()\n",
    "flight_num = 64\n",
    "test_data = data[data['flight'] == flight_num]\n",
    "input_seq, output_seq = create_sequences(test_data[features].values, \n",
    "                                         test_data['energy_consumed'].values,20,10)\n",
    "\n",
    "input_seq = torch.tensor(input_seq, dtype=torch.float32)\n",
    "output_seq = torch.tensor(output_seq, dtype=torch.float32)\n",
    "\n",
    "with torch.no_grad():\n",
    "    \n",
    "    outputs = seq2seq(input_seq)  # No need for target length\n",
    "    # Adjust the dimensions if necessary, based on your loss function requirements\n",
    "    # Example: If your outputs and targets are both [batch_size, 2, 1]\n",
    "    outputs = outputs.squeeze(-1)  # Now [batch_size, 2]\n",
    "    targets = output_seq\n",
    "\n",
    "    error = nn.MSELoss()(outputs, targets)\n",
    "    print(f\"Test loss: {error}\")\n",
    "    \n",
    "    plot_output(outputs, targets, output_len)\n"
   ]
  },
  {
   "cell_type": "markdown",
   "metadata": {},
   "source": []
  },
  {
   "cell_type": "code",
   "execution_count": 13,
   "metadata": {},
   "outputs": [
    {
     "data": {
      "text/plain": [
       "numpy.ndarray"
      ]
     },
     "execution_count": 13,
     "metadata": {},
     "output_type": "execute_result"
    }
   ],
   "source": []
  }
 ],
 "metadata": {
  "kernelspec": {
   "display_name": "pytorch",
   "language": "python",
   "name": "pytorch"
  },
  "language_info": {
   "codemirror_mode": {
    "name": "ipython",
    "version": 3
   },
   "file_extension": ".py",
   "mimetype": "text/x-python",
   "name": "python",
   "nbconvert_exporter": "python",
   "pygments_lexer": "ipython3",
   "version": "3.10.6"
  }
 },
 "nbformat": 4,
 "nbformat_minor": 2
}
