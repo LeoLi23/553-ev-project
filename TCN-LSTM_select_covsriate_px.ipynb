{
 "cells": [
  {
   "cell_type": "code",
   "execution_count": 11,
   "metadata": {},
   "outputs": [],
   "source": [
    "import torch\n",
    "import torch.nn as nn\n",
    "from data_process import get_data_loaders, getFeatures\n",
    "from model.TCN import TemporalConvNet, TCN\n",
    "from tqdm import tqdm\n",
    "import pandas as pd\n",
    "import matplotlib.pyplot as plt"
   ]
  },
  {
   "cell_type": "code",
   "execution_count": 2,
   "metadata": {},
   "outputs": [],
   "source": [
    "data = pd.read_csv('flights.csv') \n",
    "select_features = ['payload', 'wind_speed', 'wind_angle', 'linear_acceleration_x', 'linear_acceleration_y', 'linear_acceleration_z', 'power']\n",
    "data, train_loader, val_loader, test_loader, d_split = get_data_loaders(data, 20, 10, test_size=0.2, val_size=0.2, \n",
    "                                                               features=select_features, covariates=False)\n",
    "# features = getFeatures()"
   ]
  },
  {
   "cell_type": "code",
   "execution_count": 3,
   "metadata": {},
   "outputs": [
    {
     "name": "stdout",
     "output_type": "stream",
     "text": [
      "torch.Size([64, 20, 7])\n",
      "torch.Size([64, 10])\n"
     ]
    }
   ],
   "source": [
    "for i, (x, y) in enumerate(train_loader):\n",
    "    print(x.shape)\n",
    "    print(y.shape)\n",
    "    break"
   ]
  },
  {
   "cell_type": "code",
   "execution_count": 4,
   "metadata": {},
   "outputs": [],
   "source": [
    "# build TCN-LSTM model\n",
    "\n",
    "class Encoder(nn.Module):\n",
    "    def __init__(self, input_size, seq_len, tcn_num_channels, lstm_num_hidden, tcn_kernel_size=2, tcn_dropout=0.2):\n",
    "        super(Encoder, self).__init__()\n",
    "        self.tcn = TemporalConvNet(input_size, tcn_num_channels, tcn_kernel_size, tcn_dropout)\n",
    "        self.fc_feature = nn.Linear(tcn_num_channels[-1], lstm_num_hidden)\n",
    "        self.fc_time = nn.Linear(seq_len, 1)\n",
    "        \n",
    "        self.lstm_num_hidden = lstm_num_hidden\n",
    "    \n",
    "    def forward(self, x):\n",
    "        # take out time invariant features\n",
    "        idx = select_features.index('payload')\n",
    "        # filter out the payload feature\n",
    "        x = torch.cat((x[:, :, :idx], x[:, :, idx+1:]), dim=2) # (batch_size, seq_len, input_size-1)\n",
    "        output = self.tcn(x.transpose(1, 2)) # (batch_size, tcn_num_channels[-1], seq_len)\n",
    "        output = output.transpose(1, 2) # (batch_size, seq_len, tcn_num_channels[-1])\n",
    "        output = self.fc_feature(output) # (batch_size, seq_len, lstm_num_hidden)\n",
    "\n",
    "        h = output[:, -1, :] # (batch_size, lstm_num_hidden)\n",
    "\n",
    "        c = output.transpose(1, 2) # (batch_size, lstm_num_hidden, seq_len)\n",
    "        c = self.fc_time(c).squeeze(2) # (batch_size, lstm_num_hidden)\n",
    "        return h, c, idx\n",
    "\n",
    "\n",
    "class Decoder(nn.Module):\n",
    "    def __init__(self, input_size, seq_len, hidden_size, num_fixed_inputs, num_layers=1):\n",
    "        super(Decoder, self).__init__()\n",
    "        self.lstm = nn.LSTM(input_size, hidden_size, num_layers, batch_first=True)\n",
    "        self.fc = nn.Linear(hidden_size + num_fixed_inputs, 1)\n",
    "        self.num_layers = num_layers\n",
    "        self.seq_len = seq_len\n",
    "\n",
    "    def forward(self, x, hidden, cell, fixed_inputs):\n",
    "        # repeat the hidden states according to the number of layers\n",
    "        hidden = hidden.repeat(self.num_layers, 1, 1)\n",
    "        cell = cell.repeat(self.num_layers, 1, 1)\n",
    "        outputs = []\n",
    "        for _ in range(self.seq_len): \n",
    "            output, (hidden, cell) = self.lstm(x, (hidden, cell))\n",
    "            output = torch.cat((output, fixed_inputs), dim=2)\n",
    "            output = self.fc(output) \n",
    "            outputs.append(output)\n",
    "\n",
    "        outputs = torch.cat(outputs, dim=1)\n",
    "        return outputs\n",
    "\n",
    "\n",
    "class TCN_LSTM(nn.Module):\n",
    "    def __init__(self, input_size, input_len, output_len, tcn_num_channels, lstm_num_hidden, num_fixed_inputs,\n",
    "                 tcn_kernel_size=2, tcn_dropout=0.2, num_layers=1):\n",
    "        super(TCN_LSTM, self).__init__()\n",
    "        self.encoder = Encoder(input_size, input_len, tcn_num_channels, lstm_num_hidden, tcn_kernel_size, tcn_dropout)\n",
    "        self.decoder = Decoder(input_size, output_len, lstm_num_hidden, num_fixed_inputs, num_layers)\n",
    "\n",
    "    def forward(self, x):\n",
    "        # x: (batch_size, input_len, input_size)\n",
    "        h, c, fixed_idx = self.encoder(x)\n",
    "        # TODO: assert number of fixed_idx = num_fixed_inputs\n",
    "        xt = x[:, -1, :].unsqueeze(1) # input the last time step of x into the decoder\n",
    "        xt = torch.cat((xt[:, :, :fixed_idx], xt[:, :, fixed_idx+1:]), dim=2)\n",
    "        fixed_inputs = x[:, 0, fixed_idx].unsqueeze(1).unsqueeze(2) # (batch_size, 1)\n",
    "        outputs = self.decoder(xt, h, c, fixed_inputs) # (batch_size, output_len, 1)\n",
    "        return outputs"
   ]
  },
  {
   "cell_type": "code",
   "execution_count": 5,
   "metadata": {},
   "outputs": [
    {
     "name": "stdout",
     "output_type": "stream",
     "text": [
      "cuda\n"
     ]
    }
   ],
   "source": [
    "device = torch.device(\"cuda\" if torch.cuda.is_available() else \"cpu\")\n",
    "print(device)\n",
    "\n",
    "num_fixed_inputs = 1\n",
    "input_size = len(select_features) - num_fixed_inputs\n",
    "input_len = 20\n",
    "output_len = 10\n",
    "hidden_size = 32  \n",
    "num_layers = 1\n",
    "\n",
    "\n",
    "# encoder = Encoder(input_size, input_len, [64,64,64], hidden_size)\n",
    "# decoder = Decoder(hidden_size, output_len, hidden_size, num_layers=num_layers)\n",
    "seq2seq = TCN_LSTM(input_size, input_len, output_len, [32, 32], hidden_size, num_fixed_inputs, num_layers=num_layers).to(device)"
   ]
  },
  {
   "cell_type": "code",
   "execution_count": 6,
   "metadata": {},
   "outputs": [
    {
     "name": "stderr",
     "output_type": "stream",
     "text": [
      "Epoch 1/27 [TRAIN]: 100%|██████████| 2296/2296 [00:30<00:00, 74.38it/s, train_loss=0.00291]\n"
     ]
    },
    {
     "name": "stdout",
     "output_type": "stream",
     "text": [
      "Epoch 1/27, Average Training Loss: 0.006305\n"
     ]
    },
    {
     "name": "stderr",
     "output_type": "stream",
     "text": [
      "Epoch 1/27 [VAL]: 100%|██████████| 769/769 [00:04<00:00, 183.59it/s, val_loss=0.00735]\n"
     ]
    },
    {
     "name": "stdout",
     "output_type": "stream",
     "text": [
      "Epoch 1/27, Average Validation Loss: 0.005332\n"
     ]
    },
    {
     "name": "stderr",
     "output_type": "stream",
     "text": [
      "Epoch 2/27 [TRAIN]: 100%|██████████| 2296/2296 [00:28<00:00, 81.10it/s, train_loss=0.0183] \n"
     ]
    },
    {
     "name": "stdout",
     "output_type": "stream",
     "text": [
      "Epoch 2/27, Average Training Loss: 0.004000\n"
     ]
    },
    {
     "name": "stderr",
     "output_type": "stream",
     "text": [
      "Epoch 2/27 [VAL]: 100%|██████████| 769/769 [00:04<00:00, 181.16it/s, val_loss=0.0111] \n"
     ]
    },
    {
     "name": "stdout",
     "output_type": "stream",
     "text": [
      "Epoch 2/27, Average Validation Loss: 0.008130\n"
     ]
    },
    {
     "name": "stderr",
     "output_type": "stream",
     "text": [
      "Epoch 3/27 [TRAIN]: 100%|██████████| 2296/2296 [00:27<00:00, 82.25it/s, train_loss=0.000289]\n"
     ]
    },
    {
     "name": "stdout",
     "output_type": "stream",
     "text": [
      "Epoch 3/27, Average Training Loss: 0.003778\n"
     ]
    },
    {
     "name": "stderr",
     "output_type": "stream",
     "text": [
      "Epoch 3/27 [VAL]: 100%|██████████| 769/769 [00:04<00:00, 157.32it/s, val_loss=0.00498]\n"
     ]
    },
    {
     "name": "stdout",
     "output_type": "stream",
     "text": [
      "Epoch 3/27, Average Validation Loss: 0.003701\n"
     ]
    },
    {
     "name": "stderr",
     "output_type": "stream",
     "text": [
      "Epoch 4/27 [TRAIN]: 100%|██████████| 2296/2296 [00:28<00:00, 81.90it/s, train_loss=0.000651]\n"
     ]
    },
    {
     "name": "stdout",
     "output_type": "stream",
     "text": [
      "Epoch 4/27, Average Training Loss: 0.003601\n"
     ]
    },
    {
     "name": "stderr",
     "output_type": "stream",
     "text": [
      "Epoch 4/27 [VAL]: 100%|██████████| 769/769 [00:04<00:00, 159.75it/s, val_loss=0.00396]\n"
     ]
    },
    {
     "name": "stdout",
     "output_type": "stream",
     "text": [
      "Epoch 4/27, Average Validation Loss: 0.003408\n"
     ]
    },
    {
     "name": "stderr",
     "output_type": "stream",
     "text": [
      "Epoch 5/27 [TRAIN]: 100%|██████████| 2296/2296 [00:28<00:00, 80.87it/s, train_loss=6.64e-5]\n"
     ]
    },
    {
     "name": "stdout",
     "output_type": "stream",
     "text": [
      "Epoch 5/27, Average Training Loss: 0.003424\n"
     ]
    },
    {
     "name": "stderr",
     "output_type": "stream",
     "text": [
      "Epoch 5/27 [VAL]: 100%|██████████| 769/769 [00:04<00:00, 178.90it/s, val_loss=0.00435]\n"
     ]
    },
    {
     "name": "stdout",
     "output_type": "stream",
     "text": [
      "Epoch 5/27, Average Validation Loss: 0.003423\n"
     ]
    },
    {
     "name": "stderr",
     "output_type": "stream",
     "text": [
      "Epoch 6/27 [TRAIN]: 100%|██████████| 2296/2296 [00:28<00:00, 81.97it/s, train_loss=0.0059] \n"
     ]
    },
    {
     "name": "stdout",
     "output_type": "stream",
     "text": [
      "Epoch 6/27, Average Training Loss: 0.003334\n"
     ]
    },
    {
     "name": "stderr",
     "output_type": "stream",
     "text": [
      "Epoch 6/27 [VAL]: 100%|██████████| 769/769 [00:04<00:00, 156.87it/s, val_loss=0.00412]\n"
     ]
    },
    {
     "name": "stdout",
     "output_type": "stream",
     "text": [
      "Epoch 6/27, Average Validation Loss: 0.004546\n"
     ]
    },
    {
     "name": "stderr",
     "output_type": "stream",
     "text": [
      "Epoch 7/27 [TRAIN]: 100%|██████████| 2296/2296 [00:27<00:00, 84.62it/s, train_loss=0.000462]\n"
     ]
    },
    {
     "name": "stdout",
     "output_type": "stream",
     "text": [
      "Epoch 7/27, Average Training Loss: 0.003271\n"
     ]
    },
    {
     "name": "stderr",
     "output_type": "stream",
     "text": [
      "Epoch 7/27 [VAL]: 100%|██████████| 769/769 [00:04<00:00, 182.89it/s, val_loss=0.00371]\n"
     ]
    },
    {
     "name": "stdout",
     "output_type": "stream",
     "text": [
      "Epoch 7/27, Average Validation Loss: 0.003157\n"
     ]
    },
    {
     "name": "stderr",
     "output_type": "stream",
     "text": [
      "Epoch 8/27 [TRAIN]: 100%|██████████| 2296/2296 [00:28<00:00, 81.47it/s, train_loss=0.022]  \n"
     ]
    },
    {
     "name": "stdout",
     "output_type": "stream",
     "text": [
      "Epoch 8/27, Average Training Loss: 0.003209\n"
     ]
    },
    {
     "name": "stderr",
     "output_type": "stream",
     "text": [
      "Epoch 8/27 [VAL]: 100%|██████████| 769/769 [00:04<00:00, 184.80it/s, val_loss=0.00515]\n"
     ]
    },
    {
     "name": "stdout",
     "output_type": "stream",
     "text": [
      "Epoch 8/27, Average Validation Loss: 0.003994\n"
     ]
    },
    {
     "name": "stderr",
     "output_type": "stream",
     "text": [
      "Epoch 9/27 [TRAIN]: 100%|██████████| 2296/2296 [00:28<00:00, 81.96it/s, train_loss=0.000962]\n"
     ]
    },
    {
     "name": "stdout",
     "output_type": "stream",
     "text": [
      "Epoch 9/27, Average Training Loss: 0.003163\n"
     ]
    },
    {
     "name": "stderr",
     "output_type": "stream",
     "text": [
      "Epoch 9/27 [VAL]: 100%|██████████| 769/769 [00:04<00:00, 178.63it/s, val_loss=0.0042] \n"
     ]
    },
    {
     "name": "stdout",
     "output_type": "stream",
     "text": [
      "Epoch 9/27, Average Validation Loss: 0.003043\n"
     ]
    },
    {
     "name": "stderr",
     "output_type": "stream",
     "text": [
      "Epoch 10/27 [TRAIN]: 100%|██████████| 2296/2296 [00:31<00:00, 73.94it/s, train_loss=0.00141]\n"
     ]
    },
    {
     "name": "stdout",
     "output_type": "stream",
     "text": [
      "Epoch 10/27, Average Training Loss: 0.003081\n"
     ]
    },
    {
     "name": "stderr",
     "output_type": "stream",
     "text": [
      "Epoch 10/27 [VAL]: 100%|██████████| 769/769 [00:05<00:00, 134.65it/s, val_loss=0.00403]\n"
     ]
    },
    {
     "name": "stdout",
     "output_type": "stream",
     "text": [
      "Epoch 10/27, Average Validation Loss: 0.003067\n"
     ]
    },
    {
     "name": "stderr",
     "output_type": "stream",
     "text": [
      "Epoch 11/27 [TRAIN]: 100%|██████████| 2296/2296 [00:33<00:00, 68.75it/s, train_loss=5.22e-5]\n"
     ]
    },
    {
     "name": "stdout",
     "output_type": "stream",
     "text": [
      "Epoch 11/27, Average Training Loss: 0.003058\n"
     ]
    },
    {
     "name": "stderr",
     "output_type": "stream",
     "text": [
      "Epoch 11/27 [VAL]: 100%|██████████| 769/769 [00:05<00:00, 142.28it/s, val_loss=0.00386]\n"
     ]
    },
    {
     "name": "stdout",
     "output_type": "stream",
     "text": [
      "Epoch 11/27, Average Validation Loss: 0.002906\n"
     ]
    },
    {
     "name": "stderr",
     "output_type": "stream",
     "text": [
      "Epoch 12/27 [TRAIN]: 100%|██████████| 2296/2296 [00:36<00:00, 63.54it/s, train_loss=0.000669]\n"
     ]
    },
    {
     "name": "stdout",
     "output_type": "stream",
     "text": [
      "Epoch 12/27, Average Training Loss: 0.003013\n"
     ]
    },
    {
     "name": "stderr",
     "output_type": "stream",
     "text": [
      "Epoch 12/27 [VAL]: 100%|██████████| 769/769 [00:06<00:00, 112.52it/s, val_loss=0.00417]\n"
     ]
    },
    {
     "name": "stdout",
     "output_type": "stream",
     "text": [
      "Epoch 12/27, Average Validation Loss: 0.002946\n"
     ]
    },
    {
     "name": "stderr",
     "output_type": "stream",
     "text": [
      "Epoch 13/27 [TRAIN]: 100%|██████████| 2296/2296 [00:35<00:00, 63.86it/s, train_loss=0.000461]\n"
     ]
    },
    {
     "name": "stdout",
     "output_type": "stream",
     "text": [
      "Epoch 13/27, Average Training Loss: 0.002979\n"
     ]
    },
    {
     "name": "stderr",
     "output_type": "stream",
     "text": [
      "Epoch 13/27 [VAL]: 100%|██████████| 769/769 [00:05<00:00, 129.16it/s, val_loss=0.00429]\n"
     ]
    },
    {
     "name": "stdout",
     "output_type": "stream",
     "text": [
      "Epoch 13/27, Average Validation Loss: 0.002879\n"
     ]
    },
    {
     "name": "stderr",
     "output_type": "stream",
     "text": [
      "Epoch 14/27 [TRAIN]: 100%|██████████| 2296/2296 [00:32<00:00, 70.08it/s, train_loss=2.51e-6]\n"
     ]
    },
    {
     "name": "stdout",
     "output_type": "stream",
     "text": [
      "Epoch 14/27, Average Training Loss: 0.002941\n"
     ]
    },
    {
     "name": "stderr",
     "output_type": "stream",
     "text": [
      "Epoch 14/27 [VAL]: 100%|██████████| 769/769 [00:04<00:00, 164.20it/s, val_loss=0.00415]\n"
     ]
    },
    {
     "name": "stdout",
     "output_type": "stream",
     "text": [
      "Epoch 14/27, Average Validation Loss: 0.002989\n"
     ]
    },
    {
     "name": "stderr",
     "output_type": "stream",
     "text": [
      "Epoch 15/27 [TRAIN]: 100%|██████████| 2296/2296 [00:41<00:00, 55.95it/s, train_loss=0.00704]\n"
     ]
    },
    {
     "name": "stdout",
     "output_type": "stream",
     "text": [
      "Epoch 15/27, Average Training Loss: 0.002932\n"
     ]
    },
    {
     "name": "stderr",
     "output_type": "stream",
     "text": [
      "Epoch 15/27 [VAL]: 100%|██████████| 769/769 [00:06<00:00, 123.88it/s, val_loss=0.00365]\n"
     ]
    },
    {
     "name": "stdout",
     "output_type": "stream",
     "text": [
      "Epoch 15/27, Average Validation Loss: 0.003115\n"
     ]
    },
    {
     "name": "stderr",
     "output_type": "stream",
     "text": [
      "Epoch 16/27 [TRAIN]: 100%|██████████| 2296/2296 [00:31<00:00, 72.07it/s, train_loss=0.000689]\n"
     ]
    },
    {
     "name": "stdout",
     "output_type": "stream",
     "text": [
      "Epoch 16/27, Average Training Loss: 0.002892\n"
     ]
    },
    {
     "name": "stderr",
     "output_type": "stream",
     "text": [
      "Epoch 16/27 [VAL]: 100%|██████████| 769/769 [00:04<00:00, 162.77it/s, val_loss=0.0036] \n"
     ]
    },
    {
     "name": "stdout",
     "output_type": "stream",
     "text": [
      "Epoch 16/27, Average Validation Loss: 0.002802\n"
     ]
    },
    {
     "name": "stderr",
     "output_type": "stream",
     "text": [
      "Epoch 17/27 [TRAIN]: 100%|██████████| 2296/2296 [00:31<00:00, 72.72it/s, train_loss=0.000895]\n"
     ]
    },
    {
     "name": "stdout",
     "output_type": "stream",
     "text": [
      "Epoch 17/27, Average Training Loss: 0.002878\n"
     ]
    },
    {
     "name": "stderr",
     "output_type": "stream",
     "text": [
      "Epoch 17/27 [VAL]: 100%|██████████| 769/769 [00:04<00:00, 185.61it/s, val_loss=0.00396]\n"
     ]
    },
    {
     "name": "stdout",
     "output_type": "stream",
     "text": [
      "Epoch 17/27, Average Validation Loss: 0.002873\n"
     ]
    },
    {
     "name": "stderr",
     "output_type": "stream",
     "text": [
      "Epoch 18/27 [TRAIN]: 100%|██████████| 2296/2296 [00:29<00:00, 78.53it/s, train_loss=0.000431]\n"
     ]
    },
    {
     "name": "stdout",
     "output_type": "stream",
     "text": [
      "Epoch 18/27, Average Training Loss: 0.002856\n"
     ]
    },
    {
     "name": "stderr",
     "output_type": "stream",
     "text": [
      "Epoch 18/27 [VAL]: 100%|██████████| 769/769 [00:04<00:00, 174.37it/s, val_loss=0.00325]\n"
     ]
    },
    {
     "name": "stdout",
     "output_type": "stream",
     "text": [
      "Epoch 18/27, Average Validation Loss: 0.003090\n"
     ]
    },
    {
     "name": "stderr",
     "output_type": "stream",
     "text": [
      "Epoch 19/27 [TRAIN]: 100%|██████████| 2296/2296 [00:27<00:00, 82.58it/s, train_loss=0.000967]\n"
     ]
    },
    {
     "name": "stdout",
     "output_type": "stream",
     "text": [
      "Epoch 19/27, Average Training Loss: 0.002833\n"
     ]
    },
    {
     "name": "stderr",
     "output_type": "stream",
     "text": [
      "Epoch 19/27 [VAL]: 100%|██████████| 769/769 [00:04<00:00, 173.58it/s, val_loss=0.00398]\n"
     ]
    },
    {
     "name": "stdout",
     "output_type": "stream",
     "text": [
      "Epoch 19/27, Average Validation Loss: 0.002972\n"
     ]
    },
    {
     "name": "stderr",
     "output_type": "stream",
     "text": [
      "Epoch 20/27 [TRAIN]: 100%|██████████| 2296/2296 [00:27<00:00, 82.17it/s, train_loss=0.00107]\n"
     ]
    },
    {
     "name": "stdout",
     "output_type": "stream",
     "text": [
      "Epoch 20/27, Average Training Loss: 0.002828\n"
     ]
    },
    {
     "name": "stderr",
     "output_type": "stream",
     "text": [
      "Epoch 20/27 [VAL]: 100%|██████████| 769/769 [00:04<00:00, 171.09it/s, val_loss=0.00395]\n"
     ]
    },
    {
     "name": "stdout",
     "output_type": "stream",
     "text": [
      "Epoch 20/27, Average Validation Loss: 0.002814\n"
     ]
    },
    {
     "name": "stderr",
     "output_type": "stream",
     "text": [
      "Epoch 21/27 [TRAIN]: 100%|██████████| 2296/2296 [00:27<00:00, 82.33it/s, train_loss=0.000591]\n"
     ]
    },
    {
     "name": "stdout",
     "output_type": "stream",
     "text": [
      "Epoch 21/27, Average Training Loss: 0.002814\n"
     ]
    },
    {
     "name": "stderr",
     "output_type": "stream",
     "text": [
      "Epoch 21/27 [VAL]: 100%|██████████| 769/769 [00:05<00:00, 150.38it/s, val_loss=0.004]  \n"
     ]
    },
    {
     "name": "stdout",
     "output_type": "stream",
     "text": [
      "Epoch 21/27, Average Validation Loss: 0.002730\n"
     ]
    },
    {
     "name": "stderr",
     "output_type": "stream",
     "text": [
      "Epoch 22/27 [TRAIN]: 100%|██████████| 2296/2296 [00:28<00:00, 82.00it/s, train_loss=0.00104]\n"
     ]
    },
    {
     "name": "stdout",
     "output_type": "stream",
     "text": [
      "Epoch 22/27, Average Training Loss: 0.002806\n"
     ]
    },
    {
     "name": "stderr",
     "output_type": "stream",
     "text": [
      "Epoch 22/27 [VAL]: 100%|██████████| 769/769 [00:05<00:00, 138.23it/s, val_loss=0.00431]\n"
     ]
    },
    {
     "name": "stdout",
     "output_type": "stream",
     "text": [
      "Epoch 22/27, Average Validation Loss: 0.002759\n"
     ]
    },
    {
     "name": "stderr",
     "output_type": "stream",
     "text": [
      "Epoch 23/27 [TRAIN]: 100%|██████████| 2296/2296 [00:36<00:00, 63.70it/s, train_loss=0.0028] \n"
     ]
    },
    {
     "name": "stdout",
     "output_type": "stream",
     "text": [
      "Epoch 23/27, Average Training Loss: 0.002771\n"
     ]
    },
    {
     "name": "stderr",
     "output_type": "stream",
     "text": [
      "Epoch 23/27 [VAL]: 100%|██████████| 769/769 [00:05<00:00, 135.10it/s, val_loss=0.0049] \n"
     ]
    },
    {
     "name": "stdout",
     "output_type": "stream",
     "text": [
      "Epoch 23/27, Average Validation Loss: 0.002947\n"
     ]
    },
    {
     "name": "stderr",
     "output_type": "stream",
     "text": [
      "Epoch 24/27 [TRAIN]: 100%|██████████| 2296/2296 [00:34<00:00, 65.63it/s, train_loss=6.11e-6]\n"
     ]
    },
    {
     "name": "stdout",
     "output_type": "stream",
     "text": [
      "Epoch 24/27, Average Training Loss: 0.002766\n"
     ]
    },
    {
     "name": "stderr",
     "output_type": "stream",
     "text": [
      "Epoch 24/27 [VAL]: 100%|██████████| 769/769 [00:05<00:00, 143.45it/s, val_loss=0.00396]\n"
     ]
    },
    {
     "name": "stdout",
     "output_type": "stream",
     "text": [
      "Epoch 24/27, Average Validation Loss: 0.002867\n"
     ]
    },
    {
     "name": "stderr",
     "output_type": "stream",
     "text": [
      "Epoch 25/27 [TRAIN]: 100%|██████████| 2296/2296 [00:36<00:00, 62.06it/s, train_loss=8.52e-6]\n"
     ]
    },
    {
     "name": "stdout",
     "output_type": "stream",
     "text": [
      "Epoch 25/27, Average Training Loss: 0.002744\n"
     ]
    },
    {
     "name": "stderr",
     "output_type": "stream",
     "text": [
      "Epoch 25/27 [VAL]: 100%|██████████| 769/769 [00:06<00:00, 113.74it/s, val_loss=0.00432]\n"
     ]
    },
    {
     "name": "stdout",
     "output_type": "stream",
     "text": [
      "Epoch 25/27, Average Validation Loss: 0.002740\n"
     ]
    },
    {
     "name": "stderr",
     "output_type": "stream",
     "text": [
      "Epoch 26/27 [TRAIN]: 100%|██████████| 2296/2296 [00:35<00:00, 64.35it/s, train_loss=0.0035] \n"
     ]
    },
    {
     "name": "stdout",
     "output_type": "stream",
     "text": [
      "Epoch 26/27, Average Training Loss: 0.002736\n"
     ]
    },
    {
     "name": "stderr",
     "output_type": "stream",
     "text": [
      "Epoch 26/27 [VAL]: 100%|██████████| 769/769 [00:05<00:00, 130.47it/s, val_loss=0.00357]\n"
     ]
    },
    {
     "name": "stdout",
     "output_type": "stream",
     "text": [
      "Epoch 26/27, Average Validation Loss: 0.002857\n"
     ]
    },
    {
     "name": "stderr",
     "output_type": "stream",
     "text": [
      "Epoch 27/27 [TRAIN]: 100%|██████████| 2296/2296 [00:35<00:00, 64.16it/s, train_loss=0.00135]\n"
     ]
    },
    {
     "name": "stdout",
     "output_type": "stream",
     "text": [
      "Epoch 27/27, Average Training Loss: 0.002725\n"
     ]
    },
    {
     "name": "stderr",
     "output_type": "stream",
     "text": [
      "Epoch 27/27 [VAL]: 100%|██████████| 769/769 [00:06<00:00, 127.60it/s, val_loss=0.00401]"
     ]
    },
    {
     "name": "stdout",
     "output_type": "stream",
     "text": [
      "Epoch 27/27, Average Validation Loss: 0.002833\n"
     ]
    },
    {
     "name": "stderr",
     "output_type": "stream",
     "text": [
      "\n"
     ]
    }
   ],
   "source": [
    "# train the model\n",
    "# Loss and optimizer\n",
    "criterion = torch.nn.MSELoss()\n",
    "optimizer = torch.optim.Adam(seq2seq.parameters(), lr=0.002)\n",
    "\n",
    "# Training loop with validation and early stopping\n",
    "num_epochs = 27\n",
    "best_epoch = 0\n",
    "best_val_loss = float('inf')\n",
    "train_losses, val_losses = [], []\n",
    "\n",
    "for epoch in range(num_epochs):\n",
    "    # Training phase\n",
    "    seq2seq.train()\n",
    "    total_train_loss = 0\n",
    "    progress_bar = tqdm(train_loader, desc=f\"Epoch {epoch+1}/{num_epochs} [TRAIN]\")\n",
    "    for inputs, targets in progress_bar:\n",
    "        inputs, targets = inputs.to(device), targets.to(device)\n",
    "        optimizer.zero_grad()\n",
    "        outputs = seq2seq(inputs)  \n",
    "        outputs = outputs.squeeze(-1) # (batch_size, output_len)\n",
    "\n",
    "        loss = criterion(outputs, targets)\n",
    "        loss.backward()\n",
    "        optimizer.step()\n",
    "\n",
    "        total_train_loss += loss.item()\n",
    "        progress_bar.set_postfix({'train_loss': loss.item()})\n",
    "\n",
    "    average_train_loss = total_train_loss / len(train_loader)\n",
    "    train_losses.append(average_train_loss)\n",
    "    \n",
    "    print(f\"Epoch {epoch+1}/{num_epochs}, Average Training Loss: {average_train_loss:.6f}\")\n",
    "\n",
    "    # Validation phase\n",
    "    seq2seq.eval()\n",
    "    total_val_loss = 0\n",
    "    progress_bar = tqdm(val_loader, desc=f\"Epoch {epoch+1}/{num_epochs} [VAL]\")\n",
    "    for inputs, targets in progress_bar:\n",
    "        inputs, targets = inputs.to(device), targets.to(device)\n",
    "        outputs = seq2seq(inputs)  \n",
    "        outputs = outputs.squeeze(-1) # (batch_size, output_len)\n",
    "\n",
    "        loss = criterion(outputs, targets)\n",
    "\n",
    "        total_val_loss += loss.item()\n",
    "        progress_bar.set_postfix({'val_loss': loss.item()})\n",
    "    \n",
    "    average_val_loss = total_val_loss / len(val_loader)\n",
    "    val_losses.append(average_val_loss)\n",
    "    print(f\"Epoch {epoch+1}/{num_epochs}, Average Validation Loss: {average_val_loss:.6f}\")\n",
    "\n",
    "    # Save the model with least validation loss\n",
    "    if average_val_loss < best_val_loss:\n",
    "        best_epoch = epoch + 1\n",
    "        best_val_loss = average_val_loss\n",
    "        torch.save(seq2seq.state_dict(), f'TCN_LSTM_select_best_model_{input_len}-{output_len}.pt')\n"
   ]
  },
  {
   "cell_type": "code",
   "execution_count": 12,
   "metadata": {},
   "outputs": [
    {
     "name": "stdout",
     "output_type": "stream",
     "text": [
      "Test loss: 0.0020501427352428436\n",
      "MAPE: 30.453359603881836\n"
     ]
    },
    {
     "data": {
      "image/png": "[encoded data removed]",
      "text/plain": [
       "<Figure size 2000x500 with 1 Axes>"
      ]
     },
     "metadata": {},
     "output_type": "display_data"
    }
   ],
   "source": [
    "from data_process import create_sequences\n",
    "from utils import plot_output\n",
    "import random\n",
    "# Load the best model\n",
    "seq2seq.load_state_dict(torch.load(f'TCN_LSTM_select_best_model_{input_len}-{output_len}.pt'))\n",
    "\n",
    "# Test the model\n",
    "seq2seq.eval()\n",
    "flight_num = 276 #random.randint(0, 100)\n",
    "test_data = data[data['flight'] == flight_num]\n",
    "input_seq, output_seq = create_sequences(test_data[select_features].values, \n",
    "                                         test_data['power'].values,input_len,output_len)\n",
    "\n",
    "input_seq = torch.tensor(input_seq, dtype=torch.float32).to(device)\n",
    "output_seq = torch.tensor(output_seq, dtype=torch.float32).to(device)\n",
    "\n",
    "with torch.no_grad():\n",
    "    \n",
    "    outputs = seq2seq(input_seq)  # No need for target length\n",
    "    # Adjust the dimensions if necessary, based on your loss function requirements\n",
    "    # Example: If your outputs and targets are both [batch_size, 2, 1]\n",
    "    outputs = outputs.squeeze(-1)  # Now [batch_size, 2]\n",
    "    targets = output_seq\n",
    "\n",
    "    error = nn.MSELoss()(outputs, targets)\n",
    "    print(f\"Test loss: {error}\")\n",
    "\n",
    "    mape = torch.mean(torch.abs((outputs - targets) / targets)) * 100\n",
    "    print(f\"MAPE: {mape}\")\n",
    "    \n",
    "    plot_output(outputs.cpu(), targets.cpu(), output_len)\n"
   ]
  },
  {
   "cell_type": "code",
   "execution_count": null,
   "metadata": {},
   "outputs": [
    {
     "name": "stdout",
     "output_type": "stream",
     "text": [
      "Flight 3:\n",
      "Test loss: 0.0029777002055197954\n",
      "MAPE: 20.976139068603516\n",
      "Flight 124:\n",
      "Test loss: 0.0030685586389154196\n",
      "MAPE: 23.235849380493164\n",
      "Flight 16:\n",
      "Test loss: 0.002526950789615512\n",
      "MAPE: 15.568193435668945\n",
      "Flight 262:\n",
      "Test loss: 0.0015653102891519666\n",
      "MAPE: 12.082917213439941\n",
      "Flight 221:\n",
      "Test loss: 0.000739866984076798\n",
      "MAPE: 4.631964206695557\n",
      "Flight 94:\n",
      "Test loss: 0.0017463592812418938\n",
      "MAPE: 30.918466567993164\n",
      "Flight 255:\n",
      "Test loss: 0.0023565231822431087\n",
      "MAPE: 50.98945617675781\n",
      "Flight 263:\n",
      "Test loss: 0.0007374652777798474\n",
      "MAPE: 10.856463432312012\n",
      "Flight 135:\n",
      "Test loss: 0.0024245651438832283\n",
      "MAPE: 14.360305786132812\n",
      "Flight 17:\n",
      "Test loss: 0.00281249126419425\n",
      "MAPE: 11.953807830810547\n",
      "Flight 233:\n",
      "Test loss: 0.00119493727106601\n",
      "MAPE: 11.382669448852539\n",
      "Flight 20:\n",
      "Test loss: 0.002853426383808255\n",
      "MAPE: 9.975415229797363\n",
      "Flight 228:\n",
      "Test loss: 0.003140621120110154\n",
      "MAPE: 43.71738815307617\n",
      "Flight 113:\n",
      "Test loss: 0.0036895377561450005\n",
      "MAPE: 25.253582000732422\n",
      "Flight 193:\n",
      "Test loss: 0.0015225546667352319\n",
      "MAPE: 41.73019027709961\n",
      "Flight 102:\n",
      "Test loss: 0.0023913378827273846\n",
      "MAPE: 27.908035278320312\n",
      "Flight 254:\n",
      "Test loss: 0.002715157810598612\n",
      "MAPE: 66.1380386352539\n",
      "Flight 100:\n",
      "Test loss: 0.0026554481592029333\n",
      "MAPE: 48.77058792114258\n",
      "Flight 6:\n",
      "Test loss: 0.0019845359493047\n",
      "MAPE: 15.826143264770508\n",
      "Flight 140:\n",
      "Test loss: 0.003667355515062809\n",
      "MAPE: 38.92009353637695\n",
      "Flight 237:\n",
      "Test loss: 0.0015532008837908506\n",
      "MAPE: 14.039685249328613\n",
      "Flight 138:\n",
      "Test loss: 0.0053263502195477486\n",
      "MAPE: 29.848215103149414\n",
      "Flight 209:\n",
      "Test loss: 0.001915468368679285\n",
      "MAPE: 34.67332077026367\n",
      "Flight 86:\n",
      "Test loss: 0.0028346951585263014\n",
      "MAPE: 13.694916725158691\n",
      "Flight 183:\n",
      "Test loss: 0.003352182684466243\n",
      "MAPE: 44.862548828125\n",
      "Flight 275:\n",
      "Test loss: 0.0019006335642188787\n",
      "MAPE: 38.882999420166016\n",
      "Flight 238:\n",
      "Test loss: 0.0034887734800577164\n",
      "MAPE: 34.49561309814453\n",
      "Flight 95:\n",
      "Test loss: 0.002774568274617195\n",
      "MAPE: 43.97214126586914\n",
      "Flight 4:\n",
      "Test loss: 0.003529718378558755\n",
      "MAPE: 17.8413143157959\n",
      "Flight 242:\n",
      "Test loss: 0.0021419695112854242\n",
      "MAPE: 82.11845397949219\n",
      "Flight 268:\n",
      "Test loss: 0.002493414096534252\n",
      "MAPE: 71.68010711669922\n",
      "Flight 269:\n",
      "Test loss: 0.003430970711633563\n",
      "MAPE: 116.08624267578125\n",
      "Flight 270:\n",
      "Test loss: 0.002126582432538271\n",
      "MAPE: 33.196876525878906\n",
      "Flight 271:\n",
      "Test loss: 0.00245688552968204\n",
      "MAPE: 14.958867073059082\n",
      "Flight 272:\n",
      "Test loss: 0.0016594205517321825\n",
      "MAPE: 64.5914306640625\n",
      "Flight 276:\n",
      "Test loss: 0.0022191170137375593\n",
      "MAPE: 37.145652770996094\n",
      "Flight 277:\n",
      "Test loss: 0.0024435329250991344\n",
      "MAPE: 33.78423309326172\n",
      "Flight 278:\n",
      "Test loss: 0.003542659105733037\n",
      "MAPE: 49.19562530517578\n",
      "Flight 279:\n",
      "Test loss: 0.0037717968225479126\n",
      "MAPE: 18.23124122619629\n"
     ]
    }
   ],
   "source": [
    "from data_process import create_sequences\n",
    "from utils import plot_output\n",
    "import random\n",
    "# Load the best model\n",
    "seq2seq.load_state_dict(torch.load(f'TCN_LSTM_select_best_model_{input_len}-{output_len}.pt'))\n",
    "\n",
    "# Test the model\n",
    "seq2seq.eval()\n",
    "test_nums = d_split['test']\n",
    "test_nums.remove(273)\n",
    "\n",
    "for f_num in d_split['test']:\n",
    "    test_data = data[data['flight'] == f_num]\n",
    "    input_seq, output_seq = create_sequences(test_data[select_features].values, \n",
    "                                            test_data['power'].values,input_len,output_len)\n",
    "\n",
    "    input_seq = torch.tensor(input_seq, dtype=torch.float32).to(device)\n",
    "    output_seq = torch.tensor(output_seq, dtype=torch.float32).to(device)\n",
    "\n",
    "    print(f\"Flight {f_num}:\")\n",
    "\n",
    "    with torch.no_grad():\n",
    "        \n",
    "        outputs = seq2seq(input_seq)  # No need for target length\n",
    "        # Adjust the dimensions if necessary, based on your loss function requirements\n",
    "        # Example: If your outputs and targets are both [batch_size, 2, 1]\n",
    "        outputs = outputs.squeeze(-1)  # Now [batch_size, 2]\n",
    "        targets = output_seq\n",
    "    \n",
    "        error = nn.MSELoss()(outputs, targets)\n",
    "        print(f\"Test loss: {error}\")\n",
    "\n",
    "        mape = torch.mean(torch.abs((outputs - targets) / targets)) * 100\n",
    "        print(f\"MAPE: {mape}\")"
   ]
  },
  {
   "cell_type": "code",
   "execution_count": 13,
   "metadata": {},
   "outputs": [
    {
     "name": "stdout",
     "output_type": "stream",
     "text": [
      "Test MAPE: 32.42445108471647\n"
     ]
    }
   ],
   "source": [
    "# test the model\n",
    "seq2seq.eval()\n",
    "mape_list = []\n",
    "\n",
    "for inputs, targets in test_loader:\n",
    "    inputs, targets = inputs.to(device), targets.to(device)\n",
    "    with torch.no_grad():\n",
    "        outputs = seq2seq(inputs)  \n",
    "        outputs = outputs.squeeze(-1)\n",
    "        \n",
    "    mape = torch.mean(torch.abs((outputs - targets) / targets)) * 100\n",
    "    mape_list.append(mape.item())\n",
    "\n",
    "print(f\"Test MAPE: {sum(mape_list)/len(mape_list)}\")\n"
   ]
  },
  {
   "cell_type": "markdown",
   "metadata": {},
   "source": [
    "It seems LSTM-LSTM is better than current design of TCN-LSTM"
   ]
  }
 ],
 "metadata": {
  "kernelspec": {
   "display_name": ".venv",
   "language": "python",
   "name": "python3"
  },
  "language_info": {
   "codemirror_mode": {
    "name": "ipython",
    "version": 3
   },
   "file_extension": ".py",
   "mimetype": "text/x-python",
   "name": "python",
   "nbconvert_exporter": "python",
   "pygments_lexer": "ipython3",
   "version": "3.9.7"
  }
 },
 "nbformat": 4,
 "nbformat_minor": 2
}
