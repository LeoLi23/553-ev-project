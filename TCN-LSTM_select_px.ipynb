{
 "cells": [
  {
   "cell_type": "code",
   "execution_count": 1,
   "metadata": {},
   "outputs": [],
   "source": [
    "import torch\n",
    "import torch.nn as nn\n",
    "from data_process import get_data_loaders, getFeatures\n",
    "from model.TCN import TemporalConvNet, TCN\n",
    "from tqdm import tqdm\n",
    "import pandas as pd\n",
    "import matplotlib.pyplot as plt"
   ]
  },
  {
   "cell_type": "code",
   "execution_count": 2,
   "metadata": {},
   "outputs": [],
   "source": [
    "data = pd.read_csv('flights.csv') \n",
    "select_features = ['payload', 'wind_speed', 'wind_angle', 'linear_acceleration_x', 'linear_acceleration_y', 'linear_acceleration_z', 'power']\n",
    "data, train_loader, val_loader, test_loader, d_split = get_data_loaders(data, 24, 10, test_size=0.2, val_size=0.2, \n",
    "                                                               features=select_features, covariates=False)\n",
    "# features = getFeatures()"
   ]
  },
  {
   "cell_type": "code",
   "execution_count": 3,
   "metadata": {},
   "outputs": [
    {
     "name": "stdout",
     "output_type": "stream",
     "text": [
      "torch.Size([64, 24, 7])\n",
      "torch.Size([64, 10])\n"
     ]
    }
   ],
   "source": [
    "for i, (x, y) in enumerate(train_loader):\n",
    "    print(x.shape)\n",
    "    print(y.shape)\n",
    "    break"
   ]
  },
  {
   "cell_type": "code",
   "execution_count": 22,
   "metadata": {},
   "outputs": [],
   "source": [
    "# build TCN-LSTM model\n",
    "\n",
    "class Encoder(nn.Module):\n",
    "    def __init__(self, input_size, seq_len, tcn_num_channels, lstm_num_hidden, tcn_kernel_size=2, tcn_dropout=0.2):\n",
    "        super(Encoder, self).__init__()\n",
    "        self.tcn = TemporalConvNet(input_size, tcn_num_channels, tcn_kernel_size, tcn_dropout)\n",
    "        self.fc_feature = nn.Linear(tcn_num_channels[-1], lstm_num_hidden)\n",
    "        self.fc_time = nn.Linear(seq_len, 1)\n",
    "        \n",
    "        self.lstm_num_hidden = lstm_num_hidden\n",
    "    \n",
    "    def forward(self, x):\n",
    "        # take out time invariant features\n",
    "        idx = select_features.index('payload')\n",
    "        # filter out the payload feature\n",
    "        x = torch.cat((x[:, :, :idx], x[:, :, idx+1:]), dim=2) # (batch_size, seq_len, input_size-1)\n",
    "        output = self.tcn(x.transpose(1, 2)) # (batch_size, tcn_num_channels[-1], seq_len)\n",
    "        output = output.transpose(1, 2) # (batch_size, seq_len, tcn_num_channels[-1])\n",
    "        output = self.fc_feature(output) # (batch_size, seq_len, lstm_num_hidden)\n",
    "\n",
    "        h = output[:, -1, :] # (batch_size, lstm_num_hidden)\n",
    "\n",
    "        c = output.transpose(1, 2) # (batch_size, lstm_num_hidden, seq_len)\n",
    "        c = self.fc_time(c).squeeze(2) # (batch_size, lstm_num_hidden)\n",
    "        return h, c, idx\n",
    "\n",
    "\n",
    "class Decoder(nn.Module):\n",
    "    def __init__(self, input_size, seq_len, hidden_size, num_fixed_inputs, num_layers=1):\n",
    "        super(Decoder, self).__init__()\n",
    "        self.lstm = nn.LSTM(input_size, hidden_size, num_layers, batch_first=True)\n",
    "        self.fc = nn.Linear(hidden_size + num_fixed_inputs, 1)\n",
    "        self.num_layers = num_layers\n",
    "        self.seq_len = seq_len\n",
    "\n",
    "    def forward(self, x, hidden, cell, fixed_inputs):\n",
    "        # repeat the hidden states according to the number of layers\n",
    "        hidden = hidden.repeat(self.num_layers, 1, 1)\n",
    "        cell = cell.repeat(self.num_layers, 1, 1)\n",
    "        outputs = []\n",
    "        for _ in range(self.seq_len): \n",
    "            output, (hidden, cell) = self.lstm(x, (hidden, cell))\n",
    "            output = torch.cat((output, fixed_inputs), dim=2)\n",
    "            output = self.fc(output) \n",
    "            outputs.append(output)\n",
    "\n",
    "        outputs = torch.cat(outputs, dim=1)\n",
    "        return outputs\n",
    "\n",
    "\n",
    "class TCN_LSTM(nn.Module):\n",
    "    def __init__(self, input_size, input_len, output_len, tcn_num_channels, lstm_num_hidden, num_fixed_inputs,\n",
    "                 tcn_kernel_size=2, tcn_dropout=0.2, num_layers=1):\n",
    "        super(TCN_LSTM, self).__init__()\n",
    "        self.encoder = Encoder(input_size, input_len, tcn_num_channels, lstm_num_hidden, tcn_kernel_size, tcn_dropout)\n",
    "        self.decoder = Decoder(input_size, output_len, lstm_num_hidden, num_fixed_inputs, num_layers)\n",
    "\n",
    "    def forward(self, x):\n",
    "        # x: (batch_size, input_len, input_size)\n",
    "        h, c, fixed_idx = self.encoder(x)\n",
    "        # TODO: assert number of fixed_idx = num_fixed_inputs\n",
    "        xt = x[:, -1, :].unsqueeze(1) # input the last time step of x into the decoder\n",
    "        xt = torch.cat((xt[:, :, :fixed_idx], xt[:, :, fixed_idx+1:]), dim=2)\n",
    "        fixed_inputs = x[:, 0, fixed_idx].unsqueeze(1).unsqueeze(2) # (batch_size, 1)\n",
    "        outputs = self.decoder(xt, h, c, fixed_inputs) # (batch_size, output_len, 1)\n",
    "        return outputs"
   ]
  },
  {
   "cell_type": "code",
   "execution_count": 23,
   "metadata": {},
   "outputs": [
    {
     "name": "stdout",
     "output_type": "stream",
     "text": [
      "cuda\n"
     ]
    }
   ],
   "source": [
    "device = torch.device(\"cuda\" if torch.cuda.is_available() else \"cpu\")\n",
    "print(device)\n",
    "\n",
    "num_fixed_inputs = 1\n",
    "input_size = len(select_features) - num_fixed_inputs\n",
    "input_len = 24\n",
    "output_len = 10\n",
    "hidden_size = 32  \n",
    "num_layers = 1\n",
    "\n",
    "\n",
    "# encoder = Encoder(input_size, input_len, [64,64,64], hidden_size)\n",
    "# decoder = Decoder(hidden_size, output_len, hidden_size, num_layers=num_layers)\n",
    "seq2seq = TCN_LSTM(input_size, input_len, output_len, [64,64,64,64], hidden_size, num_fixed_inputs, num_layers=num_layers).to(device)"
   ]
  },
  {
   "cell_type": "code",
   "execution_count": 13,
   "metadata": {},
   "outputs": [
    {
     "name": "stderr",
     "output_type": "stream",
     "text": [
      "Epoch 1/27 [TRAIN]: 100%|██████████| 2284/2284 [00:37<00:00, 60.52it/s, train_loss=0.00408]\n"
     ]
    },
    {
     "name": "stdout",
     "output_type": "stream",
     "text": [
      "Epoch 1/27, Average Training Loss: 0.005546\n"
     ]
    },
    {
     "name": "stderr",
     "output_type": "stream",
     "text": [
      "Epoch 1/27 [VAL]: 100%|██████████| 783/783 [00:04<00:00, 160.38it/s, val_loss=0.00689]\n"
     ]
    },
    {
     "name": "stdout",
     "output_type": "stream",
     "text": [
      "Epoch 1/27, Average Validation Loss: 0.003378\n"
     ]
    },
    {
     "name": "stderr",
     "output_type": "stream",
     "text": [
      "Epoch 2/27 [TRAIN]: 100%|██████████| 2284/2284 [00:41<00:00, 55.63it/s, train_loss=0.00367]\n"
     ]
    },
    {
     "name": "stdout",
     "output_type": "stream",
     "text": [
      "Epoch 2/27, Average Training Loss: 0.003647\n"
     ]
    },
    {
     "name": "stderr",
     "output_type": "stream",
     "text": [
      "Epoch 2/27 [VAL]: 100%|██████████| 783/783 [00:05<00:00, 145.70it/s, val_loss=0.00713]\n"
     ]
    },
    {
     "name": "stdout",
     "output_type": "stream",
     "text": [
      "Epoch 2/27, Average Validation Loss: 0.003061\n"
     ]
    },
    {
     "name": "stderr",
     "output_type": "stream",
     "text": [
      "Epoch 3/27 [TRAIN]: 100%|██████████| 2284/2284 [00:43<00:00, 52.54it/s, train_loss=0.00198]\n"
     ]
    },
    {
     "name": "stdout",
     "output_type": "stream",
     "text": [
      "Epoch 3/27, Average Training Loss: 0.003364\n"
     ]
    },
    {
     "name": "stderr",
     "output_type": "stream",
     "text": [
      "Epoch 3/27 [VAL]: 100%|██████████| 783/783 [00:05<00:00, 133.86it/s, val_loss=0.00507]\n"
     ]
    },
    {
     "name": "stdout",
     "output_type": "stream",
     "text": [
      "Epoch 3/27, Average Validation Loss: 0.003272\n"
     ]
    },
    {
     "name": "stderr",
     "output_type": "stream",
     "text": [
      "Epoch 4/27 [TRAIN]: 100%|██████████| 2284/2284 [00:42<00:00, 53.47it/s, train_loss=0.00302]\n"
     ]
    },
    {
     "name": "stdout",
     "output_type": "stream",
     "text": [
      "Epoch 4/27, Average Training Loss: 0.003224\n"
     ]
    },
    {
     "name": "stderr",
     "output_type": "stream",
     "text": [
      "Epoch 4/27 [VAL]: 100%|██████████| 783/783 [00:05<00:00, 137.27it/s, val_loss=0.00449]\n"
     ]
    },
    {
     "name": "stdout",
     "output_type": "stream",
     "text": [
      "Epoch 4/27, Average Validation Loss: 0.002801\n"
     ]
    },
    {
     "name": "stderr",
     "output_type": "stream",
     "text": [
      "Epoch 5/27 [TRAIN]: 100%|██████████| 2284/2284 [00:42<00:00, 54.21it/s, train_loss=0.0034] \n"
     ]
    },
    {
     "name": "stdout",
     "output_type": "stream",
     "text": [
      "Epoch 5/27, Average Training Loss: 0.003128\n"
     ]
    },
    {
     "name": "stderr",
     "output_type": "stream",
     "text": [
      "Epoch 5/27 [VAL]: 100%|██████████| 783/783 [00:05<00:00, 142.33it/s, val_loss=0.00456]\n"
     ]
    },
    {
     "name": "stdout",
     "output_type": "stream",
     "text": [
      "Epoch 5/27, Average Validation Loss: 0.002785\n"
     ]
    },
    {
     "name": "stderr",
     "output_type": "stream",
     "text": [
      "Epoch 6/27 [TRAIN]: 100%|██████████| 2284/2284 [00:42<00:00, 53.26it/s, train_loss=0.00226]\n"
     ]
    },
    {
     "name": "stdout",
     "output_type": "stream",
     "text": [
      "Epoch 6/27, Average Training Loss: 0.003046\n"
     ]
    },
    {
     "name": "stderr",
     "output_type": "stream",
     "text": [
      "Epoch 6/27 [VAL]: 100%|██████████| 783/783 [00:05<00:00, 141.38it/s, val_loss=0.00559]\n"
     ]
    },
    {
     "name": "stdout",
     "output_type": "stream",
     "text": [
      "Epoch 6/27, Average Validation Loss: 0.002749\n"
     ]
    },
    {
     "name": "stderr",
     "output_type": "stream",
     "text": [
      "Epoch 7/27 [TRAIN]: 100%|██████████| 2284/2284 [00:42<00:00, 53.88it/s, train_loss=0.00215]\n"
     ]
    },
    {
     "name": "stdout",
     "output_type": "stream",
     "text": [
      "Epoch 7/27, Average Training Loss: 0.002974\n"
     ]
    },
    {
     "name": "stderr",
     "output_type": "stream",
     "text": [
      "Epoch 7/27 [VAL]: 100%|██████████| 783/783 [00:05<00:00, 135.80it/s, val_loss=0.00432]\n"
     ]
    },
    {
     "name": "stdout",
     "output_type": "stream",
     "text": [
      "Epoch 7/27, Average Validation Loss: 0.002774\n"
     ]
    },
    {
     "name": "stderr",
     "output_type": "stream",
     "text": [
      "Epoch 8/27 [TRAIN]: 100%|██████████| 2284/2284 [00:41<00:00, 54.69it/s, train_loss=0.0023] \n"
     ]
    },
    {
     "name": "stdout",
     "output_type": "stream",
     "text": [
      "Epoch 8/27, Average Training Loss: 0.002924\n"
     ]
    },
    {
     "name": "stderr",
     "output_type": "stream",
     "text": [
      "Epoch 8/27 [VAL]: 100%|██████████| 783/783 [00:05<00:00, 142.74it/s, val_loss=0.00474]\n"
     ]
    },
    {
     "name": "stdout",
     "output_type": "stream",
     "text": [
      "Epoch 8/27, Average Validation Loss: 0.002767\n"
     ]
    },
    {
     "name": "stderr",
     "output_type": "stream",
     "text": [
      "Epoch 9/27 [TRAIN]: 100%|██████████| 2284/2284 [00:41<00:00, 55.06it/s, train_loss=0.00243]\n"
     ]
    },
    {
     "name": "stdout",
     "output_type": "stream",
     "text": [
      "Epoch 9/27, Average Training Loss: 0.002876\n"
     ]
    },
    {
     "name": "stderr",
     "output_type": "stream",
     "text": [
      "Epoch 9/27 [VAL]: 100%|██████████| 783/783 [00:05<00:00, 142.34it/s, val_loss=0.00445]\n"
     ]
    },
    {
     "name": "stdout",
     "output_type": "stream",
     "text": [
      "Epoch 9/27, Average Validation Loss: 0.002636\n"
     ]
    },
    {
     "name": "stderr",
     "output_type": "stream",
     "text": [
      "Epoch 10/27 [TRAIN]: 100%|██████████| 2284/2284 [00:43<00:00, 52.22it/s, train_loss=0.00291]\n"
     ]
    },
    {
     "name": "stdout",
     "output_type": "stream",
     "text": [
      "Epoch 10/27, Average Training Loss: 0.002838\n"
     ]
    },
    {
     "name": "stderr",
     "output_type": "stream",
     "text": [
      "Epoch 10/27 [VAL]: 100%|██████████| 783/783 [00:06<00:00, 126.99it/s, val_loss=0.00554]\n"
     ]
    },
    {
     "name": "stdout",
     "output_type": "stream",
     "text": [
      "Epoch 10/27, Average Validation Loss: 0.002625\n"
     ]
    },
    {
     "name": "stderr",
     "output_type": "stream",
     "text": [
      "Epoch 11/27 [TRAIN]: 100%|██████████| 2284/2284 [00:45<00:00, 49.89it/s, train_loss=0.00357]\n"
     ]
    },
    {
     "name": "stdout",
     "output_type": "stream",
     "text": [
      "Epoch 11/27, Average Training Loss: 0.002806\n"
     ]
    },
    {
     "name": "stderr",
     "output_type": "stream",
     "text": [
      "Epoch 11/27 [VAL]: 100%|██████████| 783/783 [00:06<00:00, 126.93it/s, val_loss=0.00435]\n"
     ]
    },
    {
     "name": "stdout",
     "output_type": "stream",
     "text": [
      "Epoch 11/27, Average Validation Loss: 0.002638\n"
     ]
    },
    {
     "name": "stderr",
     "output_type": "stream",
     "text": [
      "Epoch 12/27 [TRAIN]: 100%|██████████| 2284/2284 [00:45<00:00, 49.69it/s, train_loss=0.00191]\n"
     ]
    },
    {
     "name": "stdout",
     "output_type": "stream",
     "text": [
      "Epoch 12/27, Average Training Loss: 0.002778\n"
     ]
    },
    {
     "name": "stderr",
     "output_type": "stream",
     "text": [
      "Epoch 12/27 [VAL]: 100%|██████████| 783/783 [00:05<00:00, 133.24it/s, val_loss=0.0048] \n"
     ]
    },
    {
     "name": "stdout",
     "output_type": "stream",
     "text": [
      "Epoch 12/27, Average Validation Loss: 0.002614\n"
     ]
    },
    {
     "name": "stderr",
     "output_type": "stream",
     "text": [
      "Epoch 13/27 [TRAIN]: 100%|██████████| 2284/2284 [00:45<00:00, 50.27it/s, train_loss=0.00299]\n"
     ]
    },
    {
     "name": "stdout",
     "output_type": "stream",
     "text": [
      "Epoch 13/27, Average Training Loss: 0.002745\n"
     ]
    },
    {
     "name": "stderr",
     "output_type": "stream",
     "text": [
      "Epoch 13/27 [VAL]: 100%|██████████| 783/783 [00:06<00:00, 123.27it/s, val_loss=0.00404]\n"
     ]
    },
    {
     "name": "stdout",
     "output_type": "stream",
     "text": [
      "Epoch 13/27, Average Validation Loss: 0.002547\n"
     ]
    },
    {
     "name": "stderr",
     "output_type": "stream",
     "text": [
      "Epoch 14/27 [TRAIN]: 100%|██████████| 2284/2284 [00:42<00:00, 53.68it/s, train_loss=0.00155]\n"
     ]
    },
    {
     "name": "stdout",
     "output_type": "stream",
     "text": [
      "Epoch 14/27, Average Training Loss: 0.002723\n"
     ]
    },
    {
     "name": "stderr",
     "output_type": "stream",
     "text": [
      "Epoch 14/27 [VAL]: 100%|██████████| 783/783 [00:05<00:00, 133.76it/s, val_loss=0.00412]\n"
     ]
    },
    {
     "name": "stdout",
     "output_type": "stream",
     "text": [
      "Epoch 14/27, Average Validation Loss: 0.002557\n"
     ]
    },
    {
     "name": "stderr",
     "output_type": "stream",
     "text": [
      "Epoch 15/27 [TRAIN]: 100%|██████████| 2284/2284 [00:42<00:00, 53.51it/s, train_loss=0.00197]\n"
     ]
    },
    {
     "name": "stdout",
     "output_type": "stream",
     "text": [
      "Epoch 15/27, Average Training Loss: 0.002724\n"
     ]
    },
    {
     "name": "stderr",
     "output_type": "stream",
     "text": [
      "Epoch 15/27 [VAL]: 100%|██████████| 783/783 [00:05<00:00, 143.09it/s, val_loss=0.00437]\n"
     ]
    },
    {
     "name": "stdout",
     "output_type": "stream",
     "text": [
      "Epoch 15/27, Average Validation Loss: 0.002566\n"
     ]
    },
    {
     "name": "stderr",
     "output_type": "stream",
     "text": [
      "Epoch 16/27 [TRAIN]: 100%|██████████| 2284/2284 [00:43<00:00, 52.00it/s, train_loss=0.00316]\n"
     ]
    },
    {
     "name": "stdout",
     "output_type": "stream",
     "text": [
      "Epoch 16/27, Average Training Loss: 0.002684\n"
     ]
    },
    {
     "name": "stderr",
     "output_type": "stream",
     "text": [
      "Epoch 16/27 [VAL]: 100%|██████████| 783/783 [00:05<00:00, 134.33it/s, val_loss=0.00418]\n"
     ]
    },
    {
     "name": "stdout",
     "output_type": "stream",
     "text": [
      "Epoch 16/27, Average Validation Loss: 0.002549\n"
     ]
    },
    {
     "name": "stderr",
     "output_type": "stream",
     "text": [
      "Epoch 17/27 [TRAIN]: 100%|██████████| 2284/2284 [00:43<00:00, 52.41it/s, train_loss=0.00209]\n"
     ]
    },
    {
     "name": "stdout",
     "output_type": "stream",
     "text": [
      "Epoch 17/27, Average Training Loss: 0.002678\n"
     ]
    },
    {
     "name": "stderr",
     "output_type": "stream",
     "text": [
      "Epoch 17/27 [VAL]: 100%|██████████| 783/783 [00:05<00:00, 143.90it/s, val_loss=0.00429]\n"
     ]
    },
    {
     "name": "stdout",
     "output_type": "stream",
     "text": [
      "Epoch 17/27, Average Validation Loss: 0.002494\n"
     ]
    },
    {
     "name": "stderr",
     "output_type": "stream",
     "text": [
      "Epoch 18/27 [TRAIN]: 100%|██████████| 2284/2284 [00:40<00:00, 56.23it/s, train_loss=0.00196]\n"
     ]
    },
    {
     "name": "stdout",
     "output_type": "stream",
     "text": [
      "Epoch 18/27, Average Training Loss: 0.002648\n"
     ]
    },
    {
     "name": "stderr",
     "output_type": "stream",
     "text": [
      "Epoch 18/27 [VAL]: 100%|██████████| 783/783 [00:05<00:00, 140.67it/s, val_loss=0.00411]\n"
     ]
    },
    {
     "name": "stdout",
     "output_type": "stream",
     "text": [
      "Epoch 18/27, Average Validation Loss: 0.002613\n"
     ]
    },
    {
     "name": "stderr",
     "output_type": "stream",
     "text": [
      "Epoch 19/27 [TRAIN]: 100%|██████████| 2284/2284 [00:42<00:00, 54.10it/s, train_loss=0.00169]\n"
     ]
    },
    {
     "name": "stdout",
     "output_type": "stream",
     "text": [
      "Epoch 19/27, Average Training Loss: 0.002638\n"
     ]
    },
    {
     "name": "stderr",
     "output_type": "stream",
     "text": [
      "Epoch 19/27 [VAL]: 100%|██████████| 783/783 [00:06<00:00, 129.80it/s, val_loss=0.00416]\n"
     ]
    },
    {
     "name": "stdout",
     "output_type": "stream",
     "text": [
      "Epoch 19/27, Average Validation Loss: 0.002523\n"
     ]
    },
    {
     "name": "stderr",
     "output_type": "stream",
     "text": [
      "Epoch 20/27 [TRAIN]: 100%|██████████| 2284/2284 [00:42<00:00, 53.36it/s, train_loss=0.00235]\n"
     ]
    },
    {
     "name": "stdout",
     "output_type": "stream",
     "text": [
      "Epoch 20/27, Average Training Loss: 0.002622\n"
     ]
    },
    {
     "name": "stderr",
     "output_type": "stream",
     "text": [
      "Epoch 20/27 [VAL]: 100%|██████████| 783/783 [00:05<00:00, 137.70it/s, val_loss=0.0043] \n"
     ]
    },
    {
     "name": "stdout",
     "output_type": "stream",
     "text": [
      "Epoch 20/27, Average Validation Loss: 0.002550\n"
     ]
    },
    {
     "name": "stderr",
     "output_type": "stream",
     "text": [
      "Epoch 21/27 [TRAIN]: 100%|██████████| 2284/2284 [00:43<00:00, 52.53it/s, train_loss=0.00237] \n"
     ]
    },
    {
     "name": "stdout",
     "output_type": "stream",
     "text": [
      "Epoch 21/27, Average Training Loss: 0.002606\n"
     ]
    },
    {
     "name": "stderr",
     "output_type": "stream",
     "text": [
      "Epoch 21/27 [VAL]: 100%|██████████| 783/783 [00:05<00:00, 144.24it/s, val_loss=0.00447]\n"
     ]
    },
    {
     "name": "stdout",
     "output_type": "stream",
     "text": [
      "Epoch 21/27, Average Validation Loss: 0.002747\n"
     ]
    },
    {
     "name": "stderr",
     "output_type": "stream",
     "text": [
      "Epoch 22/27 [TRAIN]: 100%|██████████| 2284/2284 [00:41<00:00, 55.09it/s, train_loss=0.0037] \n"
     ]
    },
    {
     "name": "stdout",
     "output_type": "stream",
     "text": [
      "Epoch 22/27, Average Training Loss: 0.002600\n"
     ]
    },
    {
     "name": "stderr",
     "output_type": "stream",
     "text": [
      "Epoch 22/27 [VAL]: 100%|██████████| 783/783 [00:05<00:00, 143.62it/s, val_loss=0.00397]\n"
     ]
    },
    {
     "name": "stdout",
     "output_type": "stream",
     "text": [
      "Epoch 22/27, Average Validation Loss: 0.002458\n"
     ]
    },
    {
     "name": "stderr",
     "output_type": "stream",
     "text": [
      "Epoch 23/27 [TRAIN]: 100%|██████████| 2284/2284 [00:41<00:00, 55.32it/s, train_loss=0.00231]\n"
     ]
    },
    {
     "name": "stdout",
     "output_type": "stream",
     "text": [
      "Epoch 23/27, Average Training Loss: 0.002583\n"
     ]
    },
    {
     "name": "stderr",
     "output_type": "stream",
     "text": [
      "Epoch 23/27 [VAL]: 100%|██████████| 783/783 [00:05<00:00, 137.39it/s, val_loss=0.00397]\n"
     ]
    },
    {
     "name": "stdout",
     "output_type": "stream",
     "text": [
      "Epoch 23/27, Average Validation Loss: 0.002568\n"
     ]
    },
    {
     "name": "stderr",
     "output_type": "stream",
     "text": [
      "Epoch 24/27 [TRAIN]: 100%|██████████| 2284/2284 [00:43<00:00, 52.82it/s, train_loss=0.00259] \n"
     ]
    },
    {
     "name": "stdout",
     "output_type": "stream",
     "text": [
      "Epoch 24/27, Average Training Loss: 0.002569\n"
     ]
    },
    {
     "name": "stderr",
     "output_type": "stream",
     "text": [
      "Epoch 24/27 [VAL]: 100%|██████████| 783/783 [00:05<00:00, 137.54it/s, val_loss=0.00423]\n"
     ]
    },
    {
     "name": "stdout",
     "output_type": "stream",
     "text": [
      "Epoch 24/27, Average Validation Loss: 0.002504\n"
     ]
    },
    {
     "name": "stderr",
     "output_type": "stream",
     "text": [
      "Epoch 25/27 [TRAIN]: 100%|██████████| 2284/2284 [00:42<00:00, 53.17it/s, train_loss=0.00225]\n"
     ]
    },
    {
     "name": "stdout",
     "output_type": "stream",
     "text": [
      "Epoch 25/27, Average Training Loss: 0.002565\n"
     ]
    },
    {
     "name": "stderr",
     "output_type": "stream",
     "text": [
      "Epoch 25/27 [VAL]: 100%|██████████| 783/783 [00:06<00:00, 129.58it/s, val_loss=0.00413]\n"
     ]
    },
    {
     "name": "stdout",
     "output_type": "stream",
     "text": [
      "Epoch 25/27, Average Validation Loss: 0.002442\n"
     ]
    },
    {
     "name": "stderr",
     "output_type": "stream",
     "text": [
      "Epoch 26/27 [TRAIN]: 100%|██████████| 2284/2284 [00:45<00:00, 50.16it/s, train_loss=0.00321]\n"
     ]
    },
    {
     "name": "stdout",
     "output_type": "stream",
     "text": [
      "Epoch 26/27, Average Training Loss: 0.002539\n"
     ]
    },
    {
     "name": "stderr",
     "output_type": "stream",
     "text": [
      "Epoch 26/27 [VAL]: 100%|██████████| 783/783 [00:06<00:00, 126.81it/s, val_loss=0.00413]\n"
     ]
    },
    {
     "name": "stdout",
     "output_type": "stream",
     "text": [
      "Epoch 26/27, Average Validation Loss: 0.002455\n"
     ]
    },
    {
     "name": "stderr",
     "output_type": "stream",
     "text": [
      "Epoch 27/27 [TRAIN]: 100%|██████████| 2284/2284 [00:43<00:00, 52.73it/s, train_loss=0.00283]\n"
     ]
    },
    {
     "name": "stdout",
     "output_type": "stream",
     "text": [
      "Epoch 27/27, Average Training Loss: 0.002529\n"
     ]
    },
    {
     "name": "stderr",
     "output_type": "stream",
     "text": [
      "Epoch 27/27 [VAL]: 100%|██████████| 783/783 [00:05<00:00, 135.92it/s, val_loss=0.00417]"
     ]
    },
    {
     "name": "stdout",
     "output_type": "stream",
     "text": [
      "Epoch 27/27, Average Validation Loss: 0.002462\n"
     ]
    },
    {
     "name": "stderr",
     "output_type": "stream",
     "text": [
      "\n"
     ]
    }
   ],
   "source": [
    "# train the model\n",
    "# Loss and optimizer\n",
    "criterion = torch.nn.MSELoss()\n",
    "optimizer = torch.optim.Adam(seq2seq.parameters(), lr=0.002)\n",
    "\n",
    "# Training loop with validation and early stopping\n",
    "num_epochs = 27\n",
    "best_epoch = 0\n",
    "best_val_loss = float('inf')\n",
    "train_losses, val_losses = [], []\n",
    "\n",
    "for epoch in range(num_epochs):\n",
    "    # Training phase\n",
    "    seq2seq.train()\n",
    "    total_train_loss = 0\n",
    "    progress_bar = tqdm(train_loader, desc=f\"Epoch {epoch+1}/{num_epochs} [TRAIN]\")\n",
    "    for inputs, targets in progress_bar:\n",
    "        inputs, targets = inputs.to(device), targets.to(device)\n",
    "        optimizer.zero_grad()\n",
    "        outputs = seq2seq(inputs)  \n",
    "        outputs = outputs.squeeze(-1) # (batch_size, output_len)\n",
    "\n",
    "        loss = criterion(outputs, targets)\n",
    "        loss.backward()\n",
    "        optimizer.step()\n",
    "\n",
    "        total_train_loss += loss.item()\n",
    "        progress_bar.set_postfix({'train_loss': loss.item()})\n",
    "\n",
    "    average_train_loss = total_train_loss / len(train_loader)\n",
    "    train_losses.append(average_train_loss)\n",
    "    \n",
    "    print(f\"Epoch {epoch+1}/{num_epochs}, Average Training Loss: {average_train_loss:.6f}\")\n",
    "\n",
    "    # Validation phase\n",
    "    seq2seq.eval()\n",
    "    total_val_loss = 0\n",
    "    progress_bar = tqdm(val_loader, desc=f\"Epoch {epoch+1}/{num_epochs} [VAL]\")\n",
    "    for inputs, targets in progress_bar:\n",
    "        inputs, targets = inputs.to(device), targets.to(device)\n",
    "        outputs = seq2seq(inputs)  \n",
    "        outputs = outputs.squeeze(-1) # (batch_size, output_len)\n",
    "\n",
    "        loss = criterion(outputs, targets)\n",
    "\n",
    "        total_val_loss += loss.item()\n",
    "        progress_bar.set_postfix({'val_loss': loss.item()})\n",
    "    \n",
    "    average_val_loss = total_val_loss / len(val_loader)\n",
    "    val_losses.append(average_val_loss)\n",
    "    print(f\"Epoch {epoch+1}/{num_epochs}, Average Validation Loss: {average_val_loss:.6f}\")\n",
    "\n",
    "    # Save the model with least validation loss\n",
    "    if average_val_loss < best_val_loss:\n",
    "        best_epoch = epoch + 1\n",
    "        best_val_loss = average_val_loss\n",
    "        torch.save(seq2seq.state_dict(), f'TCN_LSTM_select_best_model_{input_len}-{output_len}.pt')\n"
   ]
  },
  {
   "cell_type": "code",
   "execution_count": 25,
   "metadata": {},
   "outputs": [
    {
     "name": "stdout",
     "output_type": "stream",
     "text": [
      "Test loss: 0.0022191170137375593\n",
      "MAPE: 37.145652770996094\n"
     ]
    },
    {
     "data": {
      "image/png": "[encoded data removed]",
      "text/plain": [
       "<Figure size 2000x500 with 1 Axes>"
      ]
     },
     "metadata": {},
     "output_type": "display_data"
    }
   ],
   "source": [
    "from data_process import create_sequences\n",
    "from utils import plot_output\n",
    "import random\n",
    "# Load the best model\n",
    "seq2seq.load_state_dict(torch.load('TCN_LSTM_select_best_model_24-10.pt'))\n",
    "\n",
    "# Test the model\n",
    "seq2seq.eval()\n",
    "flight_num = 276 #random.randint(0, 100)\n",
    "test_data = data[data['flight'] == flight_num]\n",
    "input_seq, output_seq = create_sequences(test_data[select_features].values, \n",
    "                                         test_data['power'].values,24,10)\n",
    "\n",
    "input_seq = torch.tensor(input_seq, dtype=torch.float32).to(device)\n",
    "output_seq = torch.tensor(output_seq, dtype=torch.float32).to(device)\n",
    "\n",
    "with torch.no_grad():\n",
    "    \n",
    "    outputs = seq2seq(input_seq)  # No need for target length\n",
    "    # Adjust the dimensions if necessary, based on your loss function requirements\n",
    "    # Example: If your outputs and targets are both [batch_size, 2, 1]\n",
    "    outputs = outputs.squeeze(-1)  # Now [batch_size, 2]\n",
    "    targets = output_seq\n",
    "\n",
    "    error = nn.MSELoss()(outputs, targets)\n",
    "    print(f\"Test loss: {error}\")\n",
    "\n",
    "    mape = torch.mean(torch.abs((outputs - targets) / targets)) * 100\n",
    "    print(f\"MAPE: {mape}\")\n",
    "    \n",
    "    plot_output(outputs.cpu(), targets.cpu(), output_len)\n"
   ]
  },
  {
   "cell_type": "code",
   "execution_count": 26,
   "metadata": {},
   "outputs": [
    {
     "name": "stdout",
     "output_type": "stream",
     "text": [
      "Flight 3:\n",
      "Test loss: 0.0029777002055197954\n",
      "MAPE: 20.976139068603516\n",
      "Flight 124:\n",
      "Test loss: 0.0030685586389154196\n",
      "MAPE: 23.235849380493164\n",
      "Flight 16:\n",
      "Test loss: 0.002526950789615512\n",
      "MAPE: 15.568193435668945\n",
      "Flight 262:\n",
      "Test loss: 0.0015653102891519666\n",
      "MAPE: 12.082917213439941\n",
      "Flight 221:\n",
      "Test loss: 0.000739866984076798\n",
      "MAPE: 4.631964206695557\n",
      "Flight 94:\n",
      "Test loss: 0.0017463592812418938\n",
      "MAPE: 30.918466567993164\n",
      "Flight 255:\n",
      "Test loss: 0.0023565231822431087\n",
      "MAPE: 50.98945617675781\n",
      "Flight 263:\n",
      "Test loss: 0.0007374652777798474\n",
      "MAPE: 10.856463432312012\n",
      "Flight 135:\n",
      "Test loss: 0.0024245651438832283\n",
      "MAPE: 14.360305786132812\n",
      "Flight 17:\n",
      "Test loss: 0.00281249126419425\n",
      "MAPE: 11.953807830810547\n",
      "Flight 233:\n",
      "Test loss: 0.00119493727106601\n",
      "MAPE: 11.382669448852539\n",
      "Flight 20:\n",
      "Test loss: 0.002853426383808255\n",
      "MAPE: 9.975415229797363\n",
      "Flight 228:\n",
      "Test loss: 0.003140621120110154\n",
      "MAPE: 43.71738815307617\n",
      "Flight 113:\n",
      "Test loss: 0.0036895377561450005\n",
      "MAPE: 25.253582000732422\n",
      "Flight 193:\n",
      "Test loss: 0.0015225546667352319\n",
      "MAPE: 41.73019027709961\n",
      "Flight 102:\n",
      "Test loss: 0.0023913378827273846\n",
      "MAPE: 27.908035278320312\n",
      "Flight 254:\n",
      "Test loss: 0.002715157810598612\n",
      "MAPE: 66.1380386352539\n",
      "Flight 100:\n",
      "Test loss: 0.0026554481592029333\n",
      "MAPE: 48.77058792114258\n",
      "Flight 6:\n",
      "Test loss: 0.0019845359493047\n",
      "MAPE: 15.826143264770508\n",
      "Flight 140:\n",
      "Test loss: 0.003667355515062809\n",
      "MAPE: 38.92009353637695\n",
      "Flight 237:\n",
      "Test loss: 0.0015532008837908506\n",
      "MAPE: 14.039685249328613\n",
      "Flight 138:\n",
      "Test loss: 0.0053263502195477486\n",
      "MAPE: 29.848215103149414\n",
      "Flight 209:\n",
      "Test loss: 0.001915468368679285\n",
      "MAPE: 34.67332077026367\n",
      "Flight 86:\n",
      "Test loss: 0.0028346951585263014\n",
      "MAPE: 13.694916725158691\n",
      "Flight 183:\n",
      "Test loss: 0.003352182684466243\n",
      "MAPE: 44.862548828125\n",
      "Flight 275:\n",
      "Test loss: 0.0019006335642188787\n",
      "MAPE: 38.882999420166016\n",
      "Flight 238:\n",
      "Test loss: 0.0034887734800577164\n",
      "MAPE: 34.49561309814453\n",
      "Flight 95:\n",
      "Test loss: 0.002774568274617195\n",
      "MAPE: 43.97214126586914\n",
      "Flight 4:\n",
      "Test loss: 0.003529718378558755\n",
      "MAPE: 17.8413143157959\n",
      "Flight 242:\n",
      "Test loss: 0.0021419695112854242\n",
      "MAPE: 82.11845397949219\n",
      "Flight 268:\n",
      "Test loss: 0.002493414096534252\n",
      "MAPE: 71.68010711669922\n",
      "Flight 269:\n",
      "Test loss: 0.003430970711633563\n",
      "MAPE: 116.08624267578125\n",
      "Flight 270:\n",
      "Test loss: 0.002126582432538271\n",
      "MAPE: 33.196876525878906\n",
      "Flight 271:\n",
      "Test loss: 0.00245688552968204\n",
      "MAPE: 14.958867073059082\n",
      "Flight 272:\n",
      "Test loss: 0.0016594205517321825\n",
      "MAPE: 64.5914306640625\n",
      "Flight 276:\n",
      "Test loss: 0.0022191170137375593\n",
      "MAPE: 37.145652770996094\n",
      "Flight 277:\n",
      "Test loss: 0.0024435329250991344\n",
      "MAPE: 33.78423309326172\n",
      "Flight 278:\n",
      "Test loss: 0.003542659105733037\n",
      "MAPE: 49.19562530517578\n",
      "Flight 279:\n",
      "Test loss: 0.0037717968225479126\n",
      "MAPE: 18.23124122619629\n"
     ]
    }
   ],
   "source": [
    "from data_process import create_sequences\n",
    "from utils import plot_output\n",
    "import random\n",
    "# Load the best model\n",
    "seq2seq.load_state_dict(torch.load('TCN_LSTM_select_best_model_24-10.pt'))\n",
    "\n",
    "# Test the model\n",
    "seq2seq.eval()\n",
    "test_nums = d_split['test']\n",
    "test_nums.remove(273)\n",
    "\n",
    "for f_num in d_split['test']:\n",
    "    test_data = data[data['flight'] == f_num]\n",
    "    input_seq, output_seq = create_sequences(test_data[select_features].values, \n",
    "                                            test_data['power'].values,24,10)\n",
    "\n",
    "    input_seq = torch.tensor(input_seq, dtype=torch.float32).to(device)\n",
    "    output_seq = torch.tensor(output_seq, dtype=torch.float32).to(device)\n",
    "\n",
    "    print(f\"Flight {f_num}:\")\n",
    "\n",
    "    with torch.no_grad():\n",
    "        \n",
    "        outputs = seq2seq(input_seq)  # No need for target length\n",
    "        # Adjust the dimensions if necessary, based on your loss function requirements\n",
    "        # Example: If your outputs and targets are both [batch_size, 2, 1]\n",
    "        outputs = outputs.squeeze(-1)  # Now [batch_size, 2]\n",
    "        targets = output_seq\n",
    "    \n",
    "        error = nn.MSELoss()(outputs, targets)\n",
    "        print(f\"Test loss: {error}\")\n",
    "\n",
    "        mape = torch.mean(torch.abs((outputs - targets) / targets)) * 100\n",
    "        print(f\"MAPE: {mape}\")"
   ]
  },
  {
   "cell_type": "code",
   "execution_count": 27,
   "metadata": {},
   "outputs": [
    {
     "name": "stdout",
     "output_type": "stream",
     "text": [
      "Test MAPE: 35.6116784779483\n"
     ]
    }
   ],
   "source": [
    "# test the model\n",
    "seq2seq.eval()\n",
    "mape_list = []\n",
    "\n",
    "for inputs, targets in test_loader:\n",
    "    inputs, targets = inputs.to(device), targets.to(device)\n",
    "    with torch.no_grad():\n",
    "        outputs = seq2seq(inputs)  \n",
    "        outputs = outputs.squeeze(-1)\n",
    "        \n",
    "    mape = torch.mean(torch.abs((outputs - targets) / targets)) * 100\n",
    "    mape_list.append(mape.item())\n",
    "\n",
    "print(f\"Test MAPE: {sum(mape_list)/len(mape_list)}\")\n"
   ]
  },
  {
   "cell_type": "markdown",
   "metadata": {},
   "source": [
    "Dataloader"
   ]
  },
  {
   "cell_type": "code",
   "execution_count": null,
   "metadata": {},
   "outputs": [],
   "source": [
    "\"\"\"\n",
    "TODO:\n",
    "\n",
    "1. Get rid of the head and tail of the data\n",
    "\n",
    "2. Debug invalid data when specifying the flight number\n",
    "\n",
    "3. By paper: 'We used a total of 114 training flights (4 hours and 4 minutes flight time), 38 validation flights \n",
    "(1 hour and 24 minutes flight time) and 37 test flights (1 hour and 23 minutes flight time).' Should we do the same?\n",
    "\n",
    "4. Decoder input (i.e., future trajectory as inputs)\n",
    "\n",
    "\"\"\""
   ]
  }
 ],
 "metadata": {
  "kernelspec": {
   "display_name": "pytorch",
   "language": "python",
   "name": "pytorch"
  },
  "language_info": {
   "codemirror_mode": {
    "name": "ipython",
    "version": 3
   },
   "file_extension": ".py",
   "mimetype": "text/x-python",
   "name": "python",
   "nbconvert_exporter": "python",
   "pygments_lexer": "ipython3",
   "version": "3.10.6"
  }
 },
 "nbformat": 4,
 "nbformat_minor": 2
}
