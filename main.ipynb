{
 "cells": [
  {
   "cell_type": "code",
   "execution_count": 1,
   "id": "be0dbaac-b9f5-4098-9a98-f0399b206369",
   "metadata": {},
   "outputs": [],
   "source": [
    "import pandas as pd\n",
    "import torch\n",
    "import torch.nn as nn\n",
    "import numpy as np\n",
    "from sklearn.model_selection import train_test_split\n",
    "from sklearn.preprocessing import MinMaxScaler"
   ]
  },
  {
   "cell_type": "code",
   "execution_count": 2,
   "id": "f740755a-cb65-453a-ab19-4460a3f0ca25",
   "metadata": {},
   "outputs": [
    {
     "name": "stderr",
     "output_type": "stream",
     "text": [
      "/var/folders/r8/0vdjjcz56wv3z64gytpzdyb80000gn/T/ipykernel_92427/229277682.py:1: DtypeWarning: Columns (24) have mixed types. Specify dtype option on import or set low_memory=False.\n",
      "  df = pd.read_csv(\"flights.csv\")\n"
     ]
    }
   ],
   "source": [
    "df = pd.read_csv(\"flights.csv\")\n",
    "parameters_data = pd.read_csv(\"parameters.csv\")\n",
    "flight_100 = pd.read_csv(\"flights/100.csv\")"
   ]
  },
  {
   "cell_type": "code",
   "execution_count": 3,
   "id": "d9b6c6cf-27a7-4f30-85b8-cce6be187328",
   "metadata": {},
   "outputs": [],
   "source": [
    "class Encoder(nn.Module):\n",
    "    def __init__(self, input_size, hidden_size, num_layers=1):\n",
    "        super(Encoder, self).__init__()\n",
    "        self.lstm = nn.LSTM(input_size, hidden_size, num_layers, batch_first=True)\n",
    "\n",
    "    def forward(self, x):\n",
    "        outputs, (hidden, cell) = self.lstm(x)\n",
    "        return hidden, cell\n",
    "\n",
    "class Decoder(nn.Module):\n",
    "    def __init__(self, input_size, hidden_size, num_layers=1):\n",
    "        super(Decoder, self).__init__()\n",
    "        self.lstm = nn.LSTM(input_size, hidden_size, num_layers, batch_first=True)\n",
    "        self.fc = nn.Linear(hidden_size, 1)\n",
    "\n",
    "    def forward(self, x, hidden, cell):\n",
    "        output, (hidden, cell) = self.lstm(x, (hidden, cell))\n",
    "        prediction = self.fc(output[:, -1, :])\n",
    "        return prediction, hidden, cell\n",
    "        \n",
    "class Seq2Seq(nn.Module):\n",
    "    def __init__(self, encoder, decoder):\n",
    "        super(Seq2Seq, self).__init__()\n",
    "        self.encoder = encoder\n",
    "        self.decoder = decoder\n",
    "\n",
    "    def forward(self, source, target_len):\n",
    "        batch_size = source.size(0)\n",
    "        hidden, cell = self.encoder(source)\n",
    "\n",
    "        decoder_input = torch.zeros(batch_size, 1, 1, device=source.device)  # Starting input for    decoder, we can use the last input in encoder as well\n",
    "        outputs = torch.zeros(batch_size, target_len, 1, device=source.device)\n",
    "\n",
    "        for t in range(target_len):\n",
    "            output, hidden, cell = self.decoder(decoder_input, hidden, cell)\n",
    "            outputs[:, t] = output.view(batch_size, 1)\n",
    "            decoder_input = output.view(batch_size, 1, 1)\n",
    "\n",
    "        return outputs"
   ]
  },
  {
   "cell_type": "code",
   "execution_count": 4,
   "id": "6e108e3f-27a2-4e0c-81bd-2a1877740f9c",
   "metadata": {},
   "outputs": [],
   "source": [
    "# Select relevant features\n",
    "features = ['battery_voltage', 'battery_current', 'wind_speed', 'wind_angle', 'altitude', 'payload', 'velocity_x', 'velocity_y', 'velocity_z']\n",
    "target = 'time'  # Replace with the actual target column name\n",
    "\n",
    "def parse_altitude(altitude_str):\n",
    "    altitude_str = str(altitude_str)\n",
    "    altitudes = [int(alt) for alt in altitude_str.split('-')]\n",
    "    max_altitude = max(altitudes)\n",
    "    min_altitude = min(altitudes)\n",
    "    mean_altitude = sum(altitudes) / len(altitudes)\n",
    "    return pd.Series([max_altitude, min_altitude, mean_altitude], index=['max_altitude', 'min_altitude', 'mean_altitude'])\n",
    "    \n",
    "# Function to create sequences \n",
    "def create_sequences(input_data, output_data, sequence_length):\n",
    "    sequences = []\n",
    "    output = []\n",
    "    for i in range(len(input_data) - sequence_length):\n",
    "        sequences.append(input_data[i:i+sequence_length])\n",
    "        output.append(output_data[i+sequence_length])\n",
    "    return np.array(sequences), np.array(output)\n",
    "\n",
    "\n",
    "# Apply the function to the altitude column and join with the original dataframe\n",
    "altitude_features = df['altitude'].apply(parse_altitude)\n",
    "df = df.join(altitude_features)\n",
    "\n",
    "# Now remove the original 'altitude' column as it's been replaced with numeric features\n",
    "df.drop('altitude', axis=1, inplace=True)\n",
    "\n",
    "# Select relevant features including the new altitude features\n",
    "features = ['battery_voltage', 'battery_current', 'wind_speed', 'wind_angle', 'max_altitude', 'min_altitude', 'mean_altitude', 'payload', 'velocity_x', 'velocity_y', 'velocity_z']\n",
    "\n",
    "# Apply MinMaxScaler to the numeric features only\n",
    "scaler = MinMaxScaler()\n",
    "df[features] = scaler.fit_transform(df[features])"
   ]
  },
  {
   "cell_type": "code",
   "execution_count": 5,
   "id": "8ae53448-dc00-441c-9add-1c13967396ef",
   "metadata": {},
   "outputs": [],
   "source": [
    "sequence_length = 50 \n",
    "input_sequences, output_sequences = create_sequences(df[features].values, df[target].values, sequence_length)\n",
    "\n",
    "# Split the data into training, validation, and test sets \n",
    "X_train, X_test, y_train, y_test = train_test_split(input_sequences, output_sequences, test_size=0.2, random_state=42)\n",
    "X_train, X_val, y_train, y_val = train_test_split(X_train, y_train, test_size=0.25, random_state=42)  # 0.25 x 0.8 = 0.2"
   ]
  },
  {
   "cell_type": "code",
   "execution_count": 6,
   "id": "5b6b4a89-f78d-4142-b8a5-1f03f6d3e04f",
   "metadata": {},
   "outputs": [],
   "source": [
    "# Convert to PyTorch tensors\n",
    "X_train = torch.tensor(X_train, dtype=torch.float32)\n",
    "y_train = torch.tensor(y_train, dtype=torch.float32)\n",
    "X_val = torch.tensor(X_val, dtype=torch.float32)\n",
    "y_val = torch.tensor(y_val, dtype=torch.float32)\n",
    "X_test = torch.tensor(X_test, dtype=torch.float32)\n",
    "y_test = torch.tensor(y_test, dtype=torch.float32)"
   ]
  },
  {
   "cell_type": "code",
   "execution_count": 9,
   "id": "e861d409-f6b5-4cc1-adf1-40f8e8c87edb",
   "metadata": {},
   "outputs": [],
   "source": [
    "# create dataloader\n",
    "from torch.utils.data import TensorDataset, DataLoader\n",
    "\n",
    "batch_size = 64  # Example batch size\n",
    "\n",
    "train_data = TensorDataset(X_train, y_train)\n",
    "train_loader = DataLoader(train_data, shuffle=True, batch_size=batch_size)\n",
    "\n",
    "val_data = TensorDataset(X_val, y_val)\n",
    "val_loader = DataLoader(val_data, batch_size=batch_size)\n",
    "\n",
    "test_data = TensorDataset(X_test, y_test)\n",
    "test_loader = DataLoader(test_data, batch_size=batch_size)"
   ]
  },
  {
   "cell_type": "code",
   "execution_count": 15,
   "id": "6af56c9e-de8c-468a-80d2-2c968978dfd2",
   "metadata": {},
   "outputs": [
    {
     "name": "stderr",
     "output_type": "stream",
     "text": [
      "Epoch 1/5 [TRAIN]: 100%|███| 2418/2418 [02:09<00:00, 18.65it/s, train_loss=55.4]\n"
     ]
    },
    {
     "name": "stdout",
     "output_type": "stream",
     "text": [
      "Epoch 1/5, Average Training Loss: 82.2091\n"
     ]
    },
    {
     "name": "stderr",
     "output_type": "stream",
     "text": [
      "Epoch 1/5 [VAL]: 100%|█████████| 806/806 [00:26<00:00, 30.01it/s, val_loss=80.8]\n"
     ]
    },
    {
     "name": "stdout",
     "output_type": "stream",
     "text": [
      "Epoch 1/5, Average Validation Loss: 73.3108\n",
      "Saved the new best model.\n"
     ]
    },
    {
     "name": "stderr",
     "output_type": "stream",
     "text": [
      "Epoch 2/5 [TRAIN]: 100%|███| 2418/2418 [02:09<00:00, 18.67it/s, train_loss=68.5]\n"
     ]
    },
    {
     "name": "stdout",
     "output_type": "stream",
     "text": [
      "Epoch 2/5, Average Training Loss: 66.9698\n"
     ]
    },
    {
     "name": "stderr",
     "output_type": "stream",
     "text": [
      "Epoch 2/5 [VAL]: 100%|█████████| 806/806 [00:25<00:00, 31.37it/s, val_loss=66.4]\n"
     ]
    },
    {
     "name": "stdout",
     "output_type": "stream",
     "text": [
      "Epoch 2/5, Average Validation Loss: 61.5494\n",
      "Saved the new best model.\n"
     ]
    },
    {
     "name": "stderr",
     "output_type": "stream",
     "text": [
      "Epoch 3/5 [TRAIN]: 100%|███| 2418/2418 [02:13<00:00, 18.18it/s, train_loss=54.1]\n"
     ]
    },
    {
     "name": "stdout",
     "output_type": "stream",
     "text": [
      "Epoch 3/5, Average Training Loss: 57.8259\n"
     ]
    },
    {
     "name": "stderr",
     "output_type": "stream",
     "text": [
      "Epoch 3/5 [VAL]: 100%|█████████| 806/806 [00:26<00:00, 30.34it/s, val_loss=56.9]\n"
     ]
    },
    {
     "name": "stdout",
     "output_type": "stream",
     "text": [
      "Epoch 3/5, Average Validation Loss: 54.7816\n",
      "Saved the new best model.\n"
     ]
    },
    {
     "name": "stderr",
     "output_type": "stream",
     "text": [
      "Epoch 4/5 [TRAIN]: 100%|███| 2418/2418 [02:14<00:00, 17.93it/s, train_loss=57.2]\n"
     ]
    },
    {
     "name": "stdout",
     "output_type": "stream",
     "text": [
      "Epoch 4/5, Average Training Loss: 53.1654\n"
     ]
    },
    {
     "name": "stderr",
     "output_type": "stream",
     "text": [
      "Epoch 4/5 [VAL]: 100%|█████████| 806/806 [00:25<00:00, 31.69it/s, val_loss=52.1]\n"
     ]
    },
    {
     "name": "stdout",
     "output_type": "stream",
     "text": [
      "Epoch 4/5, Average Validation Loss: 51.9501\n",
      "Saved the new best model.\n"
     ]
    },
    {
     "name": "stderr",
     "output_type": "stream",
     "text": [
      "Epoch 5/5 [TRAIN]: 100%|███| 2418/2418 [02:20<00:00, 17.27it/s, train_loss=44.3]\n"
     ]
    },
    {
     "name": "stdout",
     "output_type": "stream",
     "text": [
      "Epoch 5/5, Average Training Loss: 51.6331\n"
     ]
    },
    {
     "name": "stderr",
     "output_type": "stream",
     "text": [
      "Epoch 5/5 [VAL]: 100%|███████████| 806/806 [00:25<00:00, 31.79it/s, val_loss=51]"
     ]
    },
    {
     "name": "stdout",
     "output_type": "stream",
     "text": [
      "Epoch 5/5, Average Validation Loss: 51.3827\n",
      "Saved the new best model.\n"
     ]
    },
    {
     "name": "stderr",
     "output_type": "stream",
     "text": [
      "\n"
     ]
    }
   ],
   "source": [
    "# Train model \n",
    "# Assuming the model is already defined as per your provided classes\n",
    "from tqdm import tqdm\n",
    "\n",
    "input_size = len(features)\n",
    "hidden_size = 100  # Example size, adjust as needed\n",
    "num_layers = 3    # Example number of layers\n",
    "\n",
    "encoder = Encoder(input_size, hidden_size, num_layers)\n",
    "decoder = Decoder(1, hidden_size, num_layers)  # Decoder input size is 1 since we predict one step at a time\n",
    "seq2seq_model = Seq2Seq(encoder, decoder)\n",
    "\n",
    "# Loss and optimizer\n",
    "criterion = torch.nn.L1Loss()\n",
    "optimizer = torch.optim.Adam(seq2seq_model.parameters(), lr=0.0001)\n",
    "\n",
    "# Training loop with validation and early stopping\n",
    "num_epochs = 5  # Example epochs\n",
    "best_val_loss = float('inf')\n",
    "early_stopping_patience = 3  # Number of epochs to wait after last time validation loss improved.\n",
    "early_stopping_counter = 0  # Counter for early stopping\n",
    "\n",
    "for epoch in range(num_epochs):\n",
    "    # Training phase\n",
    "    seq2seq_model.train()\n",
    "    total_train_loss = 0\n",
    "    progress_bar = tqdm(train_loader, desc=f\"Epoch {epoch+1}/{num_epochs} [TRAIN]\")\n",
    "    for inputs, targets in progress_bar:\n",
    "        optimizer.zero_grad()\n",
    "        outputs = seq2seq_model(inputs, 1)  # Predict one step\n",
    "        outputs = outputs.squeeze(-1)  # Remove the singleton dimension\n",
    "        targets = targets.view_as(outputs)  # Make sure targets is the same shape\n",
    "        loss = criterion(outputs, targets)\n",
    "        loss.backward()\n",
    "        optimizer.step()\n",
    "\n",
    "        total_train_loss += loss.item()\n",
    "        progress_bar.set_postfix({'train_loss': loss.item()})\n",
    "\n",
    "    average_train_loss = total_train_loss / len(train_loader)\n",
    "    print(f\"Epoch {epoch+1}/{num_epochs}, Average Training Loss: {average_train_loss:.4f}\")\n",
    "\n",
    "    # Validation phase\n",
    "    seq2seq_model.eval()\n",
    "    total_val_loss = 0\n",
    "    with torch.no_grad():\n",
    "        progress_bar = tqdm(val_loader, desc=f\"Epoch {epoch+1}/{num_epochs} [VAL]\")\n",
    "        for inputs, targets in progress_bar:\n",
    "            outputs = seq2seq_model(inputs, 1)\n",
    "            outputs = outputs.squeeze(-1)\n",
    "            targets = targets.view_as(outputs)\n",
    "            loss = criterion(outputs, targets)\n",
    "\n",
    "            total_val_loss += loss.item()\n",
    "            progress_bar.set_postfix({'val_loss': loss.item()})\n",
    "\n",
    "    average_val_loss = total_val_loss / len(val_loader)\n",
    "    print(f\"Epoch {epoch+1}/{num_epochs}, Average Validation Loss: {average_val_loss:.4f}\")\n",
    "\n",
    "    # Check for early stopping\n",
    "    if average_val_loss < best_val_loss:\n",
    "        best_val_loss = average_val_loss\n",
    "        torch.save(seq2seq_model.state_dict(), 'best_model.pth')\n",
    "        print(\"Saved the new best model.\")\n",
    "        early_stopping_counter = 0  # reset counter if validation loss improves\n",
    "    else:\n",
    "        early_stopping_counter += 1\n",
    "        print(f\"Validation loss did not improve. Counter {early_stopping_counter}/{early_stopping_patience}\")\n",
    "        if early_stopping_counter >= early_stopping_patience:\n",
    "            print(\"Early stopping triggered.\")\n",
    "            break  # Stop training\n"
   ]
  },
  {
   "cell_type": "code",
   "execution_count": 16,
   "id": "fadaf63e-26f8-43e5-9851-86f1e792656e",
   "metadata": {},
   "outputs": [
    {
     "name": "stdout",
     "output_type": "stream",
     "text": [
      "Average test loss: 51.677054729414344\n"
     ]
    }
   ],
   "source": [
    "# Load the best model\n",
    "seq2seq_model.load_state_dict(torch.load('best_model.pth'))\n",
    "\n",
    "# Test the model\n",
    "seq2seq_model.eval()\n",
    "with torch.no_grad():\n",
    "    total_loss = 0\n",
    "    for inputs, targets in test_loader:\n",
    "        outputs = seq2seq_model(inputs, 1)\n",
    "        outputs = outputs.squeeze(-1)  # Make sure the output tensor has shape [batch_size]\n",
    "        targets = targets.view_as(outputs)  # Ensure targets tensor has the same shape as outputs\n",
    "        loss = criterion(outputs, targets)\n",
    "        total_loss += loss.item()\n",
    "    print(f\"Average test loss: {total_loss / len(test_loader)}\")"
   ]
  },
  {
   "cell_type": "code",
   "execution_count": null,
   "id": "57fb21f4-0b52-490f-a1d8-f4cae5b9e01b",
   "metadata": {},
   "outputs": [],
   "source": []
  },
  {
   "cell_type": "code",
   "execution_count": null,
   "id": "bb0b29ba-259c-4b2e-9861-f8f30245bbd6",
   "metadata": {},
   "outputs": [],
   "source": []
  }
 ],
 "metadata": {
  "kernelspec": {
   "display_name": "Python 3 (ipykernel)",
   "language": "python",
   "name": "python3"
  },
  "language_info": {
   "codemirror_mode": {
    "name": "ipython",
    "version": 3
   },
   "file_extension": ".py",
   "mimetype": "text/x-python",
   "name": "python",
   "nbconvert_exporter": "python",
   "pygments_lexer": "ipython3",
   "version": "3.10.1"
  }
 },
 "nbformat": 4,
 "nbformat_minor": 5
}
