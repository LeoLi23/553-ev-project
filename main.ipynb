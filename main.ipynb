{
 "cells": [
  {
   "cell_type": "code",
   "execution_count": 1,
   "id": "be0dbaac-b9f5-4098-9a98-f0399b206369",
   "metadata": {},
   "outputs": [],
   "source": [
    "import torch\n",
    "from data_process import get_data_loaders, getFeatures\n",
    "from lstm import Encoder, Decoder, Seq2Seq\n",
    "from utils import plot_losses, plot_column"
   ]
  },
  {
   "cell_type": "code",
   "execution_count": 2,
   "metadata": {},
   "outputs": [
    {
     "name": "stdout",
     "output_type": "stream",
     "text": [
      "[0.0041988  0.00420218 0.00420386 ... 0.41108662 0.41109065 0.41109251]\n"
     ]
    }
   ],
   "source": [
    "data, train_loader, val_loader, test_loader = get_data_loaders()\n",
    "features = getFeatures()"
   ]
  },
  {
   "cell_type": "code",
   "execution_count": 4,
   "metadata": {},
   "outputs": [
    {
     "data": {
      "text/html": [
       "<div>\n",
       "<style scoped>\n",
       "    .dataframe tbody tr th:only-of-type {\n",
       "        vertical-align: middle;\n",
       "    }\n",
       "\n",
       "    .dataframe tbody tr th {\n",
       "        vertical-align: top;\n",
       "    }\n",
       "\n",
       "    .dataframe thead th {\n",
       "        text-align: right;\n",
       "    }\n",
       "</style>\n",
       "<table border=\"1\" class=\"dataframe\">\n",
       "  <thead>\n",
       "    <tr style=\"text-align: right;\">\n",
       "      <th></th>\n",
       "      <th>flight</th>\n",
       "      <th>time</th>\n",
       "      <th>wind_speed</th>\n",
       "      <th>wind_angle</th>\n",
       "      <th>battery_voltage</th>\n",
       "      <th>battery_current</th>\n",
       "      <th>position_x</th>\n",
       "      <th>position_y</th>\n",
       "      <th>position_z</th>\n",
       "      <th>orientation_x</th>\n",
       "      <th>...</th>\n",
       "      <th>route</th>\n",
       "      <th>max_altitude</th>\n",
       "      <th>min_altitude</th>\n",
       "      <th>mean_altitude</th>\n",
       "      <th>power</th>\n",
       "      <th>time_diff</th>\n",
       "      <th>current_atm</th>\n",
       "      <th>energy_atm</th>\n",
       "      <th>current_consumed</th>\n",
       "      <th>energy_consumed</th>\n",
       "    </tr>\n",
       "  </thead>\n",
       "  <tbody>\n",
       "    <tr>\n",
       "      <th>0</th>\n",
       "      <td>1</td>\n",
       "      <td>0.00</td>\n",
       "      <td>0.005525</td>\n",
       "      <td>0.033426</td>\n",
       "      <td>0.763874</td>\n",
       "      <td>0.008701</td>\n",
       "      <td>0.002053</td>\n",
       "      <td>0.999960</td>\n",
       "      <td>0.715950</td>\n",
       "      <td>0.570210</td>\n",
       "      <td>...</td>\n",
       "      <td>0.4</td>\n",
       "      <td>0.25</td>\n",
       "      <td>0.25</td>\n",
       "      <td>0.25</td>\n",
       "      <td>0.010330</td>\n",
       "      <td>0.000000</td>\n",
       "      <td>0.002039</td>\n",
       "      <td>0.002267</td>\n",
       "      <td>0.003602</td>\n",
       "      <td>0.004199</td>\n",
       "    </tr>\n",
       "    <tr>\n",
       "      <th>1</th>\n",
       "      <td>1</td>\n",
       "      <td>0.20</td>\n",
       "      <td>0.005525</td>\n",
       "      <td>0.008357</td>\n",
       "      <td>0.764581</td>\n",
       "      <td>0.008869</td>\n",
       "      <td>0.002053</td>\n",
       "      <td>0.999960</td>\n",
       "      <td>0.715949</td>\n",
       "      <td>0.570205</td>\n",
       "      <td>...</td>\n",
       "      <td>0.4</td>\n",
       "      <td>0.25</td>\n",
       "      <td>0.25</td>\n",
       "      <td>0.25</td>\n",
       "      <td>0.010521</td>\n",
       "      <td>0.037879</td>\n",
       "      <td>0.002185</td>\n",
       "      <td>0.002432</td>\n",
       "      <td>0.003605</td>\n",
       "      <td>0.004202</td>\n",
       "    </tr>\n",
       "    <tr>\n",
       "      <th>2</th>\n",
       "      <td>1</td>\n",
       "      <td>0.30</td>\n",
       "      <td>0.005525</td>\n",
       "      <td>0.980501</td>\n",
       "      <td>0.764404</td>\n",
       "      <td>0.008869</td>\n",
       "      <td>0.002053</td>\n",
       "      <td>0.999960</td>\n",
       "      <td>0.715952</td>\n",
       "      <td>0.570205</td>\n",
       "      <td>...</td>\n",
       "      <td>0.4</td>\n",
       "      <td>0.25</td>\n",
       "      <td>0.25</td>\n",
       "      <td>0.25</td>\n",
       "      <td>0.010521</td>\n",
       "      <td>0.018939</td>\n",
       "      <td>0.002112</td>\n",
       "      <td>0.002349</td>\n",
       "      <td>0.003607</td>\n",
       "      <td>0.004204</td>\n",
       "    </tr>\n",
       "    <tr>\n",
       "      <th>3</th>\n",
       "      <td>1</td>\n",
       "      <td>0.50</td>\n",
       "      <td>0.005525</td>\n",
       "      <td>0.986072</td>\n",
       "      <td>0.764228</td>\n",
       "      <td>0.008869</td>\n",
       "      <td>0.002053</td>\n",
       "      <td>0.999960</td>\n",
       "      <td>0.715956</td>\n",
       "      <td>0.570213</td>\n",
       "      <td>...</td>\n",
       "      <td>0.4</td>\n",
       "      <td>0.25</td>\n",
       "      <td>0.25</td>\n",
       "      <td>0.25</td>\n",
       "      <td>0.010521</td>\n",
       "      <td>0.037879</td>\n",
       "      <td>0.002185</td>\n",
       "      <td>0.002432</td>\n",
       "      <td>0.003610</td>\n",
       "      <td>0.004207</td>\n",
       "    </tr>\n",
       "    <tr>\n",
       "      <th>4</th>\n",
       "      <td>1</td>\n",
       "      <td>0.60</td>\n",
       "      <td>0.005525</td>\n",
       "      <td>1.000000</td>\n",
       "      <td>0.762284</td>\n",
       "      <td>0.008534</td>\n",
       "      <td>0.002053</td>\n",
       "      <td>0.999960</td>\n",
       "      <td>0.715960</td>\n",
       "      <td>0.570213</td>\n",
       "      <td>...</td>\n",
       "      <td>0.4</td>\n",
       "      <td>0.25</td>\n",
       "      <td>0.25</td>\n",
       "      <td>0.25</td>\n",
       "      <td>0.010139</td>\n",
       "      <td>0.018939</td>\n",
       "      <td>0.002100</td>\n",
       "      <td>0.002336</td>\n",
       "      <td>0.003611</td>\n",
       "      <td>0.004209</td>\n",
       "    </tr>\n",
       "    <tr>\n",
       "      <th>...</th>\n",
       "      <td>...</td>\n",
       "      <td>...</td>\n",
       "      <td>...</td>\n",
       "      <td>...</td>\n",
       "      <td>...</td>\n",
       "      <td>...</td>\n",
       "      <td>...</td>\n",
       "      <td>...</td>\n",
       "      <td>...</td>\n",
       "      <td>...</td>\n",
       "      <td>...</td>\n",
       "      <td>...</td>\n",
       "      <td>...</td>\n",
       "      <td>...</td>\n",
       "      <td>...</td>\n",
       "      <td>...</td>\n",
       "      <td>...</td>\n",
       "      <td>...</td>\n",
       "      <td>...</td>\n",
       "      <td>...</td>\n",
       "      <td>...</td>\n",
       "    </tr>\n",
       "    <tr>\n",
       "      <th>257891</th>\n",
       "      <td>279</td>\n",
       "      <td>152.10</td>\n",
       "      <td>0.060773</td>\n",
       "      <td>0.551532</td>\n",
       "      <td>0.571226</td>\n",
       "      <td>0.008869</td>\n",
       "      <td>0.002048</td>\n",
       "      <td>0.999984</td>\n",
       "      <td>0.721872</td>\n",
       "      <td>0.590608</td>\n",
       "      <td>...</td>\n",
       "      <td>0.6</td>\n",
       "      <td>1.00</td>\n",
       "      <td>0.25</td>\n",
       "      <td>0.50</td>\n",
       "      <td>0.010392</td>\n",
       "      <td>0.018939</td>\n",
       "      <td>0.002112</td>\n",
       "      <td>0.002345</td>\n",
       "      <td>0.422761</td>\n",
       "      <td>0.411081</td>\n",
       "    </tr>\n",
       "    <tr>\n",
       "      <th>257892</th>\n",
       "      <td>279</td>\n",
       "      <td>152.20</td>\n",
       "      <td>0.060773</td>\n",
       "      <td>0.545961</td>\n",
       "      <td>0.569813</td>\n",
       "      <td>0.008869</td>\n",
       "      <td>0.002048</td>\n",
       "      <td>0.999984</td>\n",
       "      <td>0.721904</td>\n",
       "      <td>0.590608</td>\n",
       "      <td>...</td>\n",
       "      <td>0.6</td>\n",
       "      <td>1.00</td>\n",
       "      <td>0.25</td>\n",
       "      <td>0.50</td>\n",
       "      <td>0.010391</td>\n",
       "      <td>0.018939</td>\n",
       "      <td>0.002112</td>\n",
       "      <td>0.002345</td>\n",
       "      <td>0.422762</td>\n",
       "      <td>0.411083</td>\n",
       "    </tr>\n",
       "    <tr>\n",
       "      <th>257893</th>\n",
       "      <td>279</td>\n",
       "      <td>152.41</td>\n",
       "      <td>0.066298</td>\n",
       "      <td>0.526462</td>\n",
       "      <td>0.571050</td>\n",
       "      <td>0.009203</td>\n",
       "      <td>0.002048</td>\n",
       "      <td>0.999984</td>\n",
       "      <td>0.721937</td>\n",
       "      <td>0.590610</td>\n",
       "      <td>...</td>\n",
       "      <td>0.6</td>\n",
       "      <td>1.00</td>\n",
       "      <td>0.25</td>\n",
       "      <td>0.50</td>\n",
       "      <td>0.010751</td>\n",
       "      <td>0.039773</td>\n",
       "      <td>0.002218</td>\n",
       "      <td>0.002457</td>\n",
       "      <td>0.422766</td>\n",
       "      <td>0.411087</td>\n",
       "    </tr>\n",
       "    <tr>\n",
       "      <th>257894</th>\n",
       "      <td>279</td>\n",
       "      <td>152.60</td>\n",
       "      <td>0.060773</td>\n",
       "      <td>0.520891</td>\n",
       "      <td>0.570873</td>\n",
       "      <td>0.009538</td>\n",
       "      <td>0.002048</td>\n",
       "      <td>0.999984</td>\n",
       "      <td>0.721946</td>\n",
       "      <td>0.590619</td>\n",
       "      <td>...</td>\n",
       "      <td>0.6</td>\n",
       "      <td>1.00</td>\n",
       "      <td>0.25</td>\n",
       "      <td>0.50</td>\n",
       "      <td>0.011110</td>\n",
       "      <td>0.035985</td>\n",
       "      <td>0.002224</td>\n",
       "      <td>0.002464</td>\n",
       "      <td>0.422770</td>\n",
       "      <td>0.411091</td>\n",
       "    </tr>\n",
       "    <tr>\n",
       "      <th>257895</th>\n",
       "      <td>279</td>\n",
       "      <td>152.70</td>\n",
       "      <td>0.060773</td>\n",
       "      <td>0.512535</td>\n",
       "      <td>0.571757</td>\n",
       "      <td>0.009203</td>\n",
       "      <td>0.002048</td>\n",
       "      <td>0.999984</td>\n",
       "      <td>0.721980</td>\n",
       "      <td>0.590645</td>\n",
       "      <td>...</td>\n",
       "      <td>0.6</td>\n",
       "      <td>1.00</td>\n",
       "      <td>0.25</td>\n",
       "      <td>0.50</td>\n",
       "      <td>0.010751</td>\n",
       "      <td>0.018939</td>\n",
       "      <td>0.002124</td>\n",
       "      <td>0.002358</td>\n",
       "      <td>0.422772</td>\n",
       "      <td>0.411093</td>\n",
       "    </tr>\n",
       "  </tbody>\n",
       "</table>\n",
       "<p>257896 rows × 34 columns</p>\n",
       "</div>"
      ],
      "text/plain": [
       "        flight    time  wind_speed  wind_angle  battery_voltage  \\\n",
       "0            1    0.00    0.005525    0.033426         0.763874   \n",
       "1            1    0.20    0.005525    0.008357         0.764581   \n",
       "2            1    0.30    0.005525    0.980501         0.764404   \n",
       "3            1    0.50    0.005525    0.986072         0.764228   \n",
       "4            1    0.60    0.005525    1.000000         0.762284   \n",
       "...        ...     ...         ...         ...              ...   \n",
       "257891     279  152.10    0.060773    0.551532         0.571226   \n",
       "257892     279  152.20    0.060773    0.545961         0.569813   \n",
       "257893     279  152.41    0.066298    0.526462         0.571050   \n",
       "257894     279  152.60    0.060773    0.520891         0.570873   \n",
       "257895     279  152.70    0.060773    0.512535         0.571757   \n",
       "\n",
       "        battery_current  position_x  position_y  position_z  orientation_x  \\\n",
       "0              0.008701    0.002053    0.999960    0.715950       0.570210   \n",
       "1              0.008869    0.002053    0.999960    0.715949       0.570205   \n",
       "2              0.008869    0.002053    0.999960    0.715952       0.570205   \n",
       "3              0.008869    0.002053    0.999960    0.715956       0.570213   \n",
       "4              0.008534    0.002053    0.999960    0.715960       0.570213   \n",
       "...                 ...         ...         ...         ...            ...   \n",
       "257891         0.008869    0.002048    0.999984    0.721872       0.590608   \n",
       "257892         0.008869    0.002048    0.999984    0.721904       0.590608   \n",
       "257893         0.009203    0.002048    0.999984    0.721937       0.590610   \n",
       "257894         0.009538    0.002048    0.999984    0.721946       0.590619   \n",
       "257895         0.009203    0.002048    0.999984    0.721980       0.590645   \n",
       "\n",
       "        ...  route  max_altitude  min_altitude  mean_altitude     power  \\\n",
       "0       ...    0.4          0.25          0.25           0.25  0.010330   \n",
       "1       ...    0.4          0.25          0.25           0.25  0.010521   \n",
       "2       ...    0.4          0.25          0.25           0.25  0.010521   \n",
       "3       ...    0.4          0.25          0.25           0.25  0.010521   \n",
       "4       ...    0.4          0.25          0.25           0.25  0.010139   \n",
       "...     ...    ...           ...           ...            ...       ...   \n",
       "257891  ...    0.6          1.00          0.25           0.50  0.010392   \n",
       "257892  ...    0.6          1.00          0.25           0.50  0.010391   \n",
       "257893  ...    0.6          1.00          0.25           0.50  0.010751   \n",
       "257894  ...    0.6          1.00          0.25           0.50  0.011110   \n",
       "257895  ...    0.6          1.00          0.25           0.50  0.010751   \n",
       "\n",
       "        time_diff  current_atm  energy_atm  current_consumed  energy_consumed  \n",
       "0        0.000000     0.002039    0.002267          0.003602         0.004199  \n",
       "1        0.037879     0.002185    0.002432          0.003605         0.004202  \n",
       "2        0.018939     0.002112    0.002349          0.003607         0.004204  \n",
       "3        0.037879     0.002185    0.002432          0.003610         0.004207  \n",
       "4        0.018939     0.002100    0.002336          0.003611         0.004209  \n",
       "...           ...          ...         ...               ...              ...  \n",
       "257891   0.018939     0.002112    0.002345          0.422761         0.411081  \n",
       "257892   0.018939     0.002112    0.002345          0.422762         0.411083  \n",
       "257893   0.039773     0.002218    0.002457          0.422766         0.411087  \n",
       "257894   0.035985     0.002224    0.002464          0.422770         0.411091  \n",
       "257895   0.018939     0.002124    0.002358          0.422772         0.411093  \n",
       "\n",
       "[257896 rows x 34 columns]"
      ]
     },
     "execution_count": 4,
     "metadata": {},
     "output_type": "execute_result"
    }
   ],
   "source": [
    "data"
   ]
  },
  {
   "cell_type": "code",
   "execution_count": 5,
   "metadata": {},
   "outputs": [
    {
     "data": {
      "image/png": "[encoded data removed]",
      "text/plain": [
       "<Figure size 1000x500 with 1 Axes>"
      ]
     },
     "metadata": {},
     "output_type": "display_data"
    }
   ],
   "source": [
    "plot_column(data[data[\"flight\"] == 1], \"energy_consumed\")"
   ]
  },
  {
   "cell_type": "code",
   "execution_count": 7,
   "id": "6af56c9e-de8c-468a-80d2-2c968978dfd2",
   "metadata": {},
   "outputs": [
    {
     "name": "stderr",
     "output_type": "stream",
     "text": [
      "Epoch 1/10 [TRAIN]: 100%|██████████| 2418/2418 [00:23<00:00, 102.27it/s, train_loss=8.18e-5] \n"
     ]
    },
    {
     "name": "stdout",
     "output_type": "stream",
     "text": [
      "Epoch 1/10, Average Training Loss: 0.0083\n"
     ]
    },
    {
     "name": "stderr",
     "output_type": "stream",
     "text": [
      "Epoch 1/10 [VAL]: 100%|██████████| 806/806 [00:03<00:00, 239.61it/s, val_loss=6.87e-5] \n"
     ]
    },
    {
     "name": "stdout",
     "output_type": "stream",
     "text": [
      "Epoch 1/10, Average Validation Loss: 0.0005\n",
      "Saved the new best model.\n"
     ]
    },
    {
     "name": "stderr",
     "output_type": "stream",
     "text": [
      "Epoch 2/10 [TRAIN]: 100%|██████████| 2418/2418 [00:20<00:00, 116.05it/s, train_loss=3.39e-5] \n"
     ]
    },
    {
     "name": "stdout",
     "output_type": "stream",
     "text": [
      "Epoch 2/10, Average Training Loss: 0.0005\n"
     ]
    },
    {
     "name": "stderr",
     "output_type": "stream",
     "text": [
      "Epoch 2/10 [VAL]: 100%|██████████| 806/806 [00:02<00:00, 272.76it/s, val_loss=4.76e-5] \n"
     ]
    },
    {
     "name": "stdout",
     "output_type": "stream",
     "text": [
      "Epoch 2/10, Average Validation Loss: 0.0005\n",
      "Saved the new best model.\n"
     ]
    },
    {
     "name": "stderr",
     "output_type": "stream",
     "text": [
      "Epoch 3/10 [TRAIN]: 100%|██████████| 2418/2418 [00:21<00:00, 114.53it/s, train_loss=2.07e-5] \n"
     ]
    },
    {
     "name": "stdout",
     "output_type": "stream",
     "text": [
      "Epoch 3/10, Average Training Loss: 0.0005\n"
     ]
    },
    {
     "name": "stderr",
     "output_type": "stream",
     "text": [
      "Epoch 3/10 [VAL]: 100%|██████████| 806/806 [00:02<00:00, 286.15it/s, val_loss=2.66e-5] \n"
     ]
    },
    {
     "name": "stdout",
     "output_type": "stream",
     "text": [
      "Epoch 3/10, Average Validation Loss: 0.0004\n",
      "Saved the new best model.\n"
     ]
    },
    {
     "name": "stderr",
     "output_type": "stream",
     "text": [
      "Epoch 4/10 [TRAIN]: 100%|██████████| 2418/2418 [00:21<00:00, 114.05it/s, train_loss=1.4e-5]  \n"
     ]
    },
    {
     "name": "stdout",
     "output_type": "stream",
     "text": [
      "Epoch 4/10, Average Training Loss: 0.0005\n"
     ]
    },
    {
     "name": "stderr",
     "output_type": "stream",
     "text": [
      "Epoch 4/10 [VAL]: 100%|██████████| 806/806 [00:03<00:00, 249.25it/s, val_loss=2.08e-5] \n"
     ]
    },
    {
     "name": "stdout",
     "output_type": "stream",
     "text": [
      "Epoch 4/10, Average Validation Loss: 0.0004\n",
      "Saved the new best model.\n"
     ]
    },
    {
     "name": "stderr",
     "output_type": "stream",
     "text": [
      "Epoch 5/10 [TRAIN]: 100%|██████████| 2418/2418 [00:21<00:00, 112.80it/s, train_loss=3.48e-5] \n"
     ]
    },
    {
     "name": "stdout",
     "output_type": "stream",
     "text": [
      "Epoch 5/10, Average Training Loss: 0.0004\n"
     ]
    },
    {
     "name": "stderr",
     "output_type": "stream",
     "text": [
      "Epoch 5/10 [VAL]: 100%|██████████| 806/806 [00:02<00:00, 281.70it/s, val_loss=9.5e-5]  \n"
     ]
    },
    {
     "name": "stdout",
     "output_type": "stream",
     "text": [
      "Epoch 5/10, Average Validation Loss: 0.0005\n",
      "Validation loss did not improve. Counter 1/3\n"
     ]
    },
    {
     "name": "stderr",
     "output_type": "stream",
     "text": [
      "Epoch 6/10 [TRAIN]: 100%|██████████| 2418/2418 [00:21<00:00, 114.28it/s, train_loss=8.3e-6]  \n"
     ]
    },
    {
     "name": "stdout",
     "output_type": "stream",
     "text": [
      "Epoch 6/10, Average Training Loss: 0.0004\n"
     ]
    },
    {
     "name": "stderr",
     "output_type": "stream",
     "text": [
      "Epoch 6/10 [VAL]: 100%|██████████| 806/806 [00:03<00:00, 257.57it/s, val_loss=1.55e-5] \n"
     ]
    },
    {
     "name": "stdout",
     "output_type": "stream",
     "text": [
      "Epoch 6/10, Average Validation Loss: 0.0004\n",
      "Saved the new best model.\n"
     ]
    },
    {
     "name": "stderr",
     "output_type": "stream",
     "text": [
      "Epoch 7/10 [TRAIN]: 100%|██████████| 2418/2418 [00:20<00:00, 117.30it/s, train_loss=7.02e-6] \n"
     ]
    },
    {
     "name": "stdout",
     "output_type": "stream",
     "text": [
      "Epoch 7/10, Average Training Loss: 0.0004\n"
     ]
    },
    {
     "name": "stderr",
     "output_type": "stream",
     "text": [
      "Epoch 7/10 [VAL]: 100%|██████████| 806/806 [00:02<00:00, 299.33it/s, val_loss=1.62e-5] \n"
     ]
    },
    {
     "name": "stdout",
     "output_type": "stream",
     "text": [
      "Epoch 7/10, Average Validation Loss: 0.0004\n",
      "Saved the new best model.\n"
     ]
    },
    {
     "name": "stderr",
     "output_type": "stream",
     "text": [
      "Epoch 8/10 [TRAIN]: 100%|██████████| 2418/2418 [00:20<00:00, 120.50it/s, train_loss=1.33e-5] \n"
     ]
    },
    {
     "name": "stdout",
     "output_type": "stream",
     "text": [
      "Epoch 8/10, Average Training Loss: 0.0004\n"
     ]
    },
    {
     "name": "stderr",
     "output_type": "stream",
     "text": [
      "Epoch 8/10 [VAL]: 100%|██████████| 806/806 [00:02<00:00, 293.86it/s, val_loss=9.52e-6] \n"
     ]
    },
    {
     "name": "stdout",
     "output_type": "stream",
     "text": [
      "Epoch 8/10, Average Validation Loss: 0.0004\n",
      "Saved the new best model.\n"
     ]
    },
    {
     "name": "stderr",
     "output_type": "stream",
     "text": [
      "Epoch 9/10 [TRAIN]: 100%|██████████| 2418/2418 [00:19<00:00, 122.34it/s, train_loss=2.66e-5] \n"
     ]
    },
    {
     "name": "stdout",
     "output_type": "stream",
     "text": [
      "Epoch 9/10, Average Training Loss: 0.0004\n"
     ]
    },
    {
     "name": "stderr",
     "output_type": "stream",
     "text": [
      "Epoch 9/10 [VAL]: 100%|██████████| 806/806 [00:02<00:00, 290.72it/s, val_loss=4.18e-5] \n"
     ]
    },
    {
     "name": "stdout",
     "output_type": "stream",
     "text": [
      "Epoch 9/10, Average Validation Loss: 0.0004\n",
      "Validation loss did not improve. Counter 1/3\n"
     ]
    },
    {
     "name": "stderr",
     "output_type": "stream",
     "text": [
      "Epoch 10/10 [TRAIN]: 100%|██████████| 2418/2418 [00:20<00:00, 120.34it/s, train_loss=2.32e-5] \n"
     ]
    },
    {
     "name": "stdout",
     "output_type": "stream",
     "text": [
      "Epoch 10/10, Average Training Loss: 0.0004\n"
     ]
    },
    {
     "name": "stderr",
     "output_type": "stream",
     "text": [
      "Epoch 10/10 [VAL]: 100%|██████████| 806/806 [00:02<00:00, 288.10it/s, val_loss=2.43e-5] "
     ]
    },
    {
     "name": "stdout",
     "output_type": "stream",
     "text": [
      "Epoch 10/10, Average Validation Loss: 0.0004\n",
      "Validation loss did not improve. Counter 2/3\n"
     ]
    },
    {
     "name": "stderr",
     "output_type": "stream",
     "text": [
      "\n"
     ]
    }
   ],
   "source": [
    "# Train model \n",
    "# Assuming the model is already defined as per your provided classes\n",
    "from tqdm import tqdm\n",
    "\n",
    "input_size = len(features)\n",
    "hidden_size = 100  \n",
    "num_layers = 3\n",
    "\n",
    "encoder = Encoder(input_size, hidden_size, num_layers)\n",
    "decoder = Decoder(1, hidden_size, num_layers)  # Decoder input size is 1 since we predict one step at a time\n",
    "seq2seq_model = Seq2Seq(encoder, decoder)\n",
    "output_seq_length = 2\n",
    "\n",
    "# Loss and optimizer\n",
    "criterion = torch.nn.MSELoss()\n",
    "optimizer = torch.optim.Adam(seq2seq_model.parameters(), lr=0.0001)\n",
    "\n",
    "# Training loop with validation and early stopping\n",
    "num_epochs = 10  # Example epochs\n",
    "best_val_loss = float('inf')\n",
    "early_stopping_patience = 3  # Number of epochs to wait after last time validation loss improved.\n",
    "early_stopping_counter = 0  # Counter for early stopping\n",
    "\n",
    "train_losses, val_losses = [], []\n",
    "\n",
    "for epoch in range(num_epochs):\n",
    "    # Training phase\n",
    "    seq2seq_model.train()\n",
    "    total_train_loss = 0\n",
    "    progress_bar = tqdm(train_loader, desc=f\"Epoch {epoch+1}/{num_epochs} [TRAIN]\")\n",
    "    for inputs, targets in progress_bar:\n",
    "        optimizer.zero_grad()\n",
    "        outputs = seq2seq_model(inputs)  # No need for target length\n",
    "        # Adjust the dimensions if necessary, based on your loss function requirements\n",
    "        # Example: If your outputs and targets are both [batch_size, 2, 1]\n",
    "        outputs = outputs.squeeze(-1)  # Now [batch_size, 2]\n",
    "        targets = targets[:, :output_seq_length]  # Ensuring targets are of the correct length\n",
    "\n",
    "        loss = criterion(outputs, targets)\n",
    "        loss.backward()\n",
    "        optimizer.step()\n",
    "\n",
    "        total_train_loss += loss.item()\n",
    "        progress_bar.set_postfix({'train_loss': loss.item()})\n",
    "\n",
    "    average_train_loss = total_train_loss / len(train_loader)\n",
    "    train_losses.append(average_train_loss)\n",
    "    \n",
    "    print(f\"Epoch {epoch+1}/{num_epochs}, Average Training Loss: {average_train_loss:.4f}\")\n",
    "\n",
    "    # Validation phase\n",
    "    seq2seq_model.eval()\n",
    "    total_val_loss = 0\n",
    "    with torch.no_grad():\n",
    "        progress_bar = tqdm(val_loader, desc=f\"Epoch {epoch+1}/{num_epochs} [VAL]\")\n",
    "        for inputs, targets in progress_bar:\n",
    "            outputs = seq2seq_model(inputs)  # No need for target length\n",
    "            # Adjust dimensions as in the training phase\n",
    "            outputs = outputs.squeeze(-1)\n",
    "            targets = targets[:, :output_seq_length]\n",
    "\n",
    "            loss = criterion(outputs, targets)\n",
    "\n",
    "            total_val_loss += loss.item()\n",
    "            progress_bar.set_postfix({'val_loss': loss.item()})\n",
    "\n",
    "    average_val_loss = total_val_loss / len(val_loader)\n",
    "    val_losses.append(average_val_loss)\n",
    "    print(f\"Epoch {epoch+1}/{num_epochs}, Average Validation Loss: {average_val_loss:.4f}\")\n",
    "\n",
    "    # Check for early stopping\n",
    "    if average_val_loss < best_val_loss:\n",
    "        best_val_loss = average_val_loss\n",
    "        torch.save(seq2seq_model.state_dict(), 'best_model.pth')\n",
    "        print(\"Saved the new best model.\")\n",
    "        early_stopping_counter = 0  # reset counter if validation loss improves\n",
    "    else:\n",
    "        early_stopping_counter += 1\n",
    "        print(f\"Validation loss did not improve. Counter {early_stopping_counter}/{early_stopping_patience}\")\n",
    "        if early_stopping_counter >= early_stopping_patience:\n",
    "            print(\"Early stopping triggered.\")\n",
    "            break  # Stop training\n"
   ]
  },
  {
   "cell_type": "code",
   "execution_count": 13,
   "metadata": {},
   "outputs": [
    {
     "data": {
      "image/png": "[encoded data removed]",
      "text/plain": [
       "<Figure size 1000x500 with 1 Axes>"
      ]
     },
     "metadata": {},
     "output_type": "display_data"
    }
   ],
   "source": [
    "plot_losses(train_losses=train_losses, val_losses=val_losses)"
   ]
  },
  {
   "cell_type": "code",
   "execution_count": 8,
   "id": "fadaf63e-26f8-43e5-9851-86f1e792656e",
   "metadata": {},
   "outputs": [
    {
     "name": "stdout",
     "output_type": "stream",
     "text": [
      "Average test loss: 0.00044739922954098574\n"
     ]
    }
   ],
   "source": [
    "# Load the best model\n",
    "seq2seq_model.load_state_dict(torch.load('best_model.pth'))\n",
    "\n",
    "# Test the model\n",
    "seq2seq_model.eval()\n",
    "with torch.no_grad():\n",
    "    total_loss = 0\n",
    "    for inputs, targets in test_loader:\n",
    "        outputs = seq2seq_model(inputs)  # No need for target length\n",
    "        # Adjust the dimensions if necessary, based on your loss function requirements\n",
    "        # Example: If your outputs and targets are both [batch_size, 2, 1]\n",
    "        outputs = outputs.squeeze(-1)  # Now [batch_size, 2]\n",
    "        targets = targets[:, :output_seq_length]  # Ensuring targets are of the correct length\n",
    "\n",
    "        loss = criterion(outputs, targets)\n",
    "        total_loss += loss.item()\n",
    "    print(f\"Average test loss: {total_loss / len(test_loader)}\")"
   ]
  },
  {
   "cell_type": "code",
   "execution_count": null,
   "id": "6fd22cb7-2bb1-4256-b85c-fa2fd75c5179",
   "metadata": {},
   "outputs": [],
   "source": []
  },
  {
   "cell_type": "code",
   "execution_count": null,
   "id": "57fb21f4-0b52-490f-a1d8-f4cae5b9e01b",
   "metadata": {},
   "outputs": [],
   "source": []
  },
  {
   "cell_type": "code",
   "execution_count": null,
   "id": "bb0b29ba-259c-4b2e-9861-f8f30245bbd6",
   "metadata": {},
   "outputs": [],
   "source": []
  }
 ],
 "metadata": {
  "kernelspec": {
   "display_name": "Python 3 (ipykernel)",
   "language": "python",
   "name": "python3"
  },
  "language_info": {
   "codemirror_mode": {
    "name": "ipython",
    "version": 3
   },
   "file_extension": ".py",
   "mimetype": "text/x-python",
   "name": "python",
   "nbconvert_exporter": "python",
   "pygments_lexer": "ipython3",
   "version": "3.10.1"
  }
 },
 "nbformat": 4,
 "nbformat_minor": 5
}
