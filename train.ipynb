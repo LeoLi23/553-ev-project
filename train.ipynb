{
 "cells": [
  {
   "cell_type": "code",
   "execution_count": 1,
   "metadata": {},
   "outputs": [],
   "source": [
    "import torch\n",
    "import torch.nn as nn\n",
    "import numpy as np\n",
    "from data_process import get_data_loaders, getFeatures\n",
    "from tqdm import tqdm\n",
    "import pandas as pd\n",
    "import matplotlib.pyplot as plt"
   ]
  },
  {
   "cell_type": "markdown",
   "metadata": {},
   "source": [
    "## Training Model Example"
   ]
  },
  {
   "cell_type": "code",
   "execution_count": 2,
   "metadata": {},
   "outputs": [
    {
     "name": "stdout",
     "output_type": "stream",
     "text": [
      "['payload', 'wind_speed', 'wind_angle', 'linear_acceleration_x', 'linear_acceleration_y', 'linear_acceleration_z', 'power']\n"
     ]
    }
   ],
   "source": [
    "# Data loader\n",
    "input_len, output_len = 40, 20\n",
    "all_features = getFeatures(covariates=False)\n",
    "select_features = ['payload', 'wind_speed', 'wind_angle', 'linear_acceleration_x', \n",
    "                   'linear_acceleration_y', 'linear_acceleration_z', 'power']\n",
    "\n",
    "data = pd.read_csv('flights.csv')\n",
    "data, train_loader, val_loader, test_loader, d_split, scaler = get_data_loaders(data, input_len, output_len, test_size=0.2, val_size=0.2, \n",
    "                                                                                features=select_features, covariates=False)\n"
   ]
  },
  {
   "cell_type": "code",
   "execution_count": 3,
   "metadata": {},
   "outputs": [
    {
     "name": "stdout",
     "output_type": "stream",
     "text": [
      "cuda\n"
     ]
    }
   ],
   "source": [
    "from model.LSTM_LSTM import LSTM_LSTM\n",
    "\n",
    "device = torch.device(\"cuda\" if torch.cuda.is_available() else \"cpu\")\n",
    "print(device)\n",
    "\n",
    "input_size = len(select_features)\n",
    "output_size = len(select_features)\n",
    "hidden_size = 32  \n",
    "num_layers = 1\n",
    "\n",
    "seq2seq = LSTM_LSTM(input_size, output_size, input_len, output_len, hidden_size, num_layers=num_layers).to(device)\n",
    "saved_model_name = f'training/LSTM_LSTM_select_trained_model_{input_len}-{output_len}.pt'"
   ]
  },
  {
   "cell_type": "code",
   "execution_count": 4,
   "metadata": {},
   "outputs": [
    {
     "name": "stdout",
     "output_type": "stream",
     "text": [
      "10727\n"
     ]
    }
   ],
   "source": [
    "# trainable parameters\n",
    "pytorch_total_params = sum(p.numel() for p in seq2seq.parameters() if p.requires_grad)\n",
    "print(pytorch_total_params)"
   ]
  },
  {
   "cell_type": "code",
   "execution_count": 5,
   "metadata": {},
   "outputs": [
    {
     "name": "stderr",
     "output_type": "stream",
     "text": [
      "Epoch 1/20 [TRAIN]: 100%|██████████| 2239/2239 [00:34<00:00, 64.37it/s, train_loss=0.00835]\n"
     ]
    },
    {
     "name": "stdout",
     "output_type": "stream",
     "text": [
      "Epoch 1/20, Average Training Loss: 0.007666\n"
     ]
    },
    {
     "name": "stderr",
     "output_type": "stream",
     "text": [
      "Epoch 1/20 [VAL]: 100%|██████████| 750/750 [00:04<00:00, 160.46it/s, val_loss=0.00876]\n"
     ]
    },
    {
     "name": "stdout",
     "output_type": "stream",
     "text": [
      "Epoch 1/20, Average Validation Loss: 0.006360\n"
     ]
    },
    {
     "name": "stderr",
     "output_type": "stream",
     "text": [
      "Epoch 2/20 [TRAIN]: 100%|██████████| 2239/2239 [00:34<00:00, 65.10it/s, train_loss=0.00594]\n"
     ]
    },
    {
     "name": "stdout",
     "output_type": "stream",
     "text": [
      "Epoch 2/20, Average Training Loss: 0.005771\n"
     ]
    },
    {
     "name": "stderr",
     "output_type": "stream",
     "text": [
      "Epoch 2/20 [VAL]: 100%|██████████| 750/750 [00:04<00:00, 159.74it/s, val_loss=0.00413]\n"
     ]
    },
    {
     "name": "stdout",
     "output_type": "stream",
     "text": [
      "Epoch 2/20, Average Validation Loss: 0.005179\n"
     ]
    },
    {
     "name": "stderr",
     "output_type": "stream",
     "text": [
      "Epoch 3/20 [TRAIN]: 100%|██████████| 2239/2239 [00:34<00:00, 64.75it/s, train_loss=0.0104] \n"
     ]
    },
    {
     "name": "stdout",
     "output_type": "stream",
     "text": [
      "Epoch 3/20, Average Training Loss: 0.005490\n"
     ]
    },
    {
     "name": "stderr",
     "output_type": "stream",
     "text": [
      "Epoch 3/20 [VAL]: 100%|██████████| 750/750 [00:04<00:00, 156.99it/s, val_loss=0.00351]\n"
     ]
    },
    {
     "name": "stdout",
     "output_type": "stream",
     "text": [
      "Epoch 3/20, Average Validation Loss: 0.004983\n"
     ]
    },
    {
     "name": "stderr",
     "output_type": "stream",
     "text": [
      "Epoch 4/20 [TRAIN]: 100%|██████████| 2239/2239 [00:34<00:00, 65.29it/s, train_loss=0.00315]\n"
     ]
    },
    {
     "name": "stdout",
     "output_type": "stream",
     "text": [
      "Epoch 4/20, Average Training Loss: 0.005136\n"
     ]
    },
    {
     "name": "stderr",
     "output_type": "stream",
     "text": [
      "Epoch 4/20 [VAL]: 100%|██████████| 750/750 [00:04<00:00, 162.53it/s, val_loss=0.00352]\n"
     ]
    },
    {
     "name": "stdout",
     "output_type": "stream",
     "text": [
      "Epoch 4/20, Average Validation Loss: 0.004290\n"
     ]
    },
    {
     "name": "stderr",
     "output_type": "stream",
     "text": [
      "Epoch 5/20 [TRAIN]: 100%|██████████| 2239/2239 [00:34<00:00, 65.23it/s, train_loss=0.00525]\n"
     ]
    },
    {
     "name": "stdout",
     "output_type": "stream",
     "text": [
      "Epoch 5/20, Average Training Loss: 0.004744\n"
     ]
    },
    {
     "name": "stderr",
     "output_type": "stream",
     "text": [
      "Epoch 5/20 [VAL]: 100%|██████████| 750/750 [00:04<00:00, 155.26it/s, val_loss=0.00355]\n"
     ]
    },
    {
     "name": "stdout",
     "output_type": "stream",
     "text": [
      "Epoch 5/20, Average Validation Loss: 0.004841\n"
     ]
    },
    {
     "name": "stderr",
     "output_type": "stream",
     "text": [
      "Epoch 6/20 [TRAIN]: 100%|██████████| 2239/2239 [00:38<00:00, 58.10it/s, train_loss=0.0023] \n"
     ]
    },
    {
     "name": "stdout",
     "output_type": "stream",
     "text": [
      "Epoch 6/20, Average Training Loss: 0.004504\n"
     ]
    },
    {
     "name": "stderr",
     "output_type": "stream",
     "text": [
      "Epoch 6/20 [VAL]: 100%|██████████| 750/750 [00:05<00:00, 144.28it/s, val_loss=0.00325]\n"
     ]
    },
    {
     "name": "stdout",
     "output_type": "stream",
     "text": [
      "Epoch 6/20, Average Validation Loss: 0.003976\n"
     ]
    },
    {
     "name": "stderr",
     "output_type": "stream",
     "text": [
      "Epoch 7/20 [TRAIN]: 100%|██████████| 2239/2239 [00:37<00:00, 59.20it/s, train_loss=0.00232]\n"
     ]
    },
    {
     "name": "stdout",
     "output_type": "stream",
     "text": [
      "Epoch 7/20, Average Training Loss: 0.004160\n"
     ]
    },
    {
     "name": "stderr",
     "output_type": "stream",
     "text": [
      "Epoch 7/20 [VAL]: 100%|██████████| 750/750 [00:05<00:00, 142.93it/s, val_loss=0.00341]\n"
     ]
    },
    {
     "name": "stdout",
     "output_type": "stream",
     "text": [
      "Epoch 7/20, Average Validation Loss: 0.004344\n"
     ]
    },
    {
     "name": "stderr",
     "output_type": "stream",
     "text": [
      "Epoch 8/20 [TRAIN]: 100%|██████████| 2239/2239 [00:36<00:00, 61.92it/s, train_loss=0.00499]\n"
     ]
    },
    {
     "name": "stdout",
     "output_type": "stream",
     "text": [
      "Epoch 8/20, Average Training Loss: 0.004094\n"
     ]
    },
    {
     "name": "stderr",
     "output_type": "stream",
     "text": [
      "Epoch 8/20 [VAL]: 100%|██████████| 750/750 [00:04<00:00, 161.65it/s, val_loss=0.00325]\n"
     ]
    },
    {
     "name": "stdout",
     "output_type": "stream",
     "text": [
      "Epoch 8/20, Average Validation Loss: 0.003882\n"
     ]
    },
    {
     "name": "stderr",
     "output_type": "stream",
     "text": [
      "Epoch 9/20 [TRAIN]: 100%|██████████| 2239/2239 [00:36<00:00, 61.11it/s, train_loss=0.00344]\n"
     ]
    },
    {
     "name": "stdout",
     "output_type": "stream",
     "text": [
      "Epoch 9/20, Average Training Loss: 0.003956\n"
     ]
    },
    {
     "name": "stderr",
     "output_type": "stream",
     "text": [
      "Epoch 9/20 [VAL]: 100%|██████████| 750/750 [00:04<00:00, 151.41it/s, val_loss=0.00339]\n"
     ]
    },
    {
     "name": "stdout",
     "output_type": "stream",
     "text": [
      "Epoch 9/20, Average Validation Loss: 0.003983\n"
     ]
    },
    {
     "name": "stderr",
     "output_type": "stream",
     "text": [
      "Epoch 10/20 [TRAIN]:  82%|████████▏ | 1834/2239 [00:31<00:08, 49.42it/s, train_loss=0.00625]"
     ]
    }
   ],
   "source": [
    "# train the model\n",
    "# Loss and optimizer\n",
    "criterion = torch.nn.MSELoss()\n",
    "optimizer = torch.optim.Adam(seq2seq.parameters(), lr=0.002)\n",
    "\n",
    "# Training loop with validation and early stopping\n",
    "num_epochs = 20\n",
    "best_epoch = 0\n",
    "best_val_loss = float('inf')\n",
    "train_losses, val_losses = [], []\n",
    "\n",
    "for epoch in range(num_epochs):\n",
    "    # Training phase\n",
    "    seq2seq.train()\n",
    "    total_train_loss = 0\n",
    "    progress_bar = tqdm(train_loader, desc=f\"Epoch {epoch+1}/{num_epochs} [TRAIN]\")\n",
    "    for inputs, targets in progress_bar:\n",
    "        inputs, targets = inputs.to(device), targets.to(device)\n",
    "        optimizer.zero_grad()\n",
    "        outputs = seq2seq(inputs)  \n",
    "        outputs = outputs.squeeze(-1) # (batch_size, output_len)\n",
    "\n",
    "        loss = criterion(outputs, targets)\n",
    "        loss.backward()\n",
    "        optimizer.step()\n",
    "\n",
    "        total_train_loss += loss.item()\n",
    "        progress_bar.set_postfix({'train_loss': loss.item()})\n",
    "\n",
    "    average_train_loss = total_train_loss / len(train_loader)\n",
    "    train_losses.append(average_train_loss)\n",
    "    \n",
    "    print(f\"Epoch {epoch+1}/{num_epochs}, Average Training Loss: {average_train_loss:.6f}\")\n",
    "\n",
    "    # Validation phase\n",
    "    seq2seq.eval()\n",
    "    total_val_loss = 0\n",
    "    progress_bar = tqdm(val_loader, desc=f\"Epoch {epoch+1}/{num_epochs} [VAL]\")\n",
    "    for inputs, targets in progress_bar:\n",
    "        inputs, targets = inputs.to(device), targets.to(device)\n",
    "        outputs = seq2seq(inputs)  \n",
    "        outputs = outputs.squeeze(-1) # (batch_size, output_len)\n",
    "\n",
    "        loss = criterion(outputs, targets)\n",
    "\n",
    "        total_val_loss += loss.item()\n",
    "        progress_bar.set_postfix({'val_loss': loss.item()})\n",
    "    \n",
    "    average_val_loss = total_val_loss / len(val_loader)\n",
    "    val_losses.append(average_val_loss)\n",
    "    print(f\"Epoch {epoch+1}/{num_epochs}, Average Validation Loss: {average_val_loss:.6f}\")\n",
    "\n",
    "    # Save the model with least validation loss\n",
    "    if average_val_loss < best_val_loss:\n",
    "        best_epoch = epoch + 1\n",
    "        best_val_loss = average_val_loss\n",
    "        torch.save(seq2seq.state_dict(), saved_model_name)"
   ]
  },
  {
   "cell_type": "code",
   "execution_count": null,
   "metadata": {},
   "outputs": [
    {
     "name": "stdout",
     "output_type": "stream",
     "text": [
      "LSTM_LSTM test MAPE: 35.13011169433594\n"
     ]
    }
   ],
   "source": [
    "# test the model\n",
    "seq2seq.eval()\n",
    "sum_mape = 0\n",
    "sum_size = 0\n",
    "for inputs, targets in test_loader:\n",
    "    inputs, targets = inputs.to(device), targets.to(device)\n",
    "    with torch.no_grad():\n",
    "        outputs = seq2seq(inputs)  \n",
    "        outputs = outputs.squeeze(-1)\n",
    "\n",
    "    # print(r2_score(targets.cpu().T, outputs.cpu().T, multioutput='raw_values').shape)\n",
    "\n",
    "    mape = torch.sum(torch.abs((outputs - targets) / targets)) * 100\n",
    "    sum_mape += mape\n",
    "    sum_size += targets.shape[0]*targets.shape[1]\n",
    "\n",
    "print(f\"{seq2seq.name} test MAPE: {sum_mape/sum_size}\")"
   ]
  }
 ],
 "metadata": {
  "kernelspec": {
   "display_name": ".venv",
   "language": "python",
   "name": "python3"
  },
  "language_info": {
   "codemirror_mode": {
    "name": "ipython",
    "version": 3
   },
   "file_extension": ".py",
   "mimetype": "text/x-python",
   "name": "python",
   "nbconvert_exporter": "python",
   "pygments_lexer": "ipython3",
   "version": "3.9.7"
  }
 },
 "nbformat": 4,
 "nbformat_minor": 2
}
